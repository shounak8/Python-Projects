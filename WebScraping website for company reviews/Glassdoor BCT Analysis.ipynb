{
 "cells": [
  {
   "cell_type": "code",
   "execution_count": 1,
   "metadata": {},
   "outputs": [],
   "source": [
    "import pandas as pd\n",
    "import os"
   ]
  },
  {
   "cell_type": "code",
   "execution_count": 2,
   "metadata": {},
   "outputs": [],
   "source": [
    "os.chdir(r'S:\\Coding\\PyCharm Projects\\BlueConch Reviews WebScraping')"
   ]
  },
  {
   "cell_type": "code",
   "execution_count": 3,
   "metadata": {},
   "outputs": [],
   "source": [
    "df5 = pd.read_csv(\"BCT reviews.csv\")"
   ]
  },
  {
   "cell_type": "code",
   "execution_count": 4,
   "metadata": {},
   "outputs": [],
   "source": [
    "df5.drop('Unnamed: 0', axis=1, inplace=True)"
   ]
  },
  {
   "cell_type": "code",
   "execution_count": 5,
   "metadata": {},
   "outputs": [],
   "source": [
    "emp_type_list = df5['emp type'].tolist()"
   ]
  },
  {
   "cell_type": "code",
   "execution_count": 6,
   "metadata": {},
   "outputs": [],
   "source": [
    "type_list = [e_type.split(',')[0] for e_type in emp_type_list]\n",
    "df5['emp type'] = type_list"
   ]
  },
  {
   "cell_type": "code",
   "execution_count": 7,
   "metadata": {},
   "outputs": [],
   "source": [
    "emp_exp_list = []\n",
    "\n",
    "for e_type in emp_type_list:\n",
    "    try:\n",
    "        emp_exp_list.append(e_type.split(',')[1])\n",
    "    except:\n",
    "        emp_exp_list.append(' more than 0 years')"
   ]
  },
  {
   "cell_type": "code",
   "execution_count": 8,
   "metadata": {},
   "outputs": [],
   "source": [
    "emp_exp_list = [int(element.split(' ')[3]) for element in emp_exp_list]"
   ]
  },
  {
   "cell_type": "code",
   "execution_count": 9,
   "metadata": {},
   "outputs": [],
   "source": [
    "df5['exp_years'] = emp_exp_list"
   ]
  },
  {
   "cell_type": "code",
   "execution_count": 10,
   "metadata": {},
   "outputs": [],
   "source": [
    "df5['star'] = pd.to_numeric(df5['star'])"
   ]
  },
  {
   "cell_type": "code",
   "execution_count": 11,
   "metadata": {},
   "outputs": [],
   "source": [
    "date_of_post = df5['designation'].tolist()\n",
    "date_of_post = [str(date).split('-')[0][:-1] for date in date_of_post]\n",
    "df5['date_of_post'] = date_of_post\n",
    "\n",
    "desg = df5['designation'].tolist()\n",
    "desig2 = []\n",
    "for i in desg:\n",
    "    try:\n",
    "        a = str(i).split('-')[1]\n",
    "        desig2.append(a)\n",
    "    except:\n",
    "        desig2.append(' Anonymous')\n",
    "        \n",
    "df5['designation'] = desig2"
   ]
  },
  {
   "cell_type": "code",
   "execution_count": 12,
   "metadata": {},
   "outputs": [],
   "source": [
    "df5['date_of_post'] = pd.to_datetime(df5['date_of_post'])"
   ]
  },
  {
   "cell_type": "code",
   "execution_count": 13,
   "metadata": {},
   "outputs": [
    {
     "name": "stderr",
     "output_type": "stream",
     "text": [
      "[nltk_data] Downloading package vader_lexicon to\n",
      "[nltk_data]     C:\\Users\\shoun\\AppData\\Roaming\\nltk_data...\n",
      "[nltk_data]   Package vader_lexicon is already up-to-date!\n"
     ]
    }
   ],
   "source": [
    "import nltk\n",
    "nltk.download('vader_lexicon')\n",
    "from nltk.sentiment.vader import SentimentIntensityAnalyzer\n",
    "\n",
    "sid = SentimentIntensityAnalyzer()"
   ]
  },
  {
   "cell_type": "code",
   "execution_count": 14,
   "metadata": {},
   "outputs": [
    {
     "data": {
      "text/plain": [
       "-0.6369"
      ]
     },
     "execution_count": 14,
     "metadata": {},
     "output_type": "execute_result"
    }
   ],
   "source": [
    "sid.polarity_scores('I hated the movie')['compound']"
   ]
  },
  {
   "cell_type": "code",
   "execution_count": 15,
   "metadata": {},
   "outputs": [],
   "source": [
    "def analyse(arg):\n",
    "    if arg > 0.34:\n",
    "        return 'positive'\n",
    "    elif arg < -0.35:\n",
    "        return 'negative'\n",
    "    else:\n",
    "        return 'neutral'"
   ]
  },
  {
   "cell_type": "code",
   "execution_count": 16,
   "metadata": {},
   "outputs": [],
   "source": [
    "reviews = df5['review title'].tolist()\n",
    "reviews_sentiment = [sid.polarity_scores(i)['compound'] for i in reviews]\n",
    "reviews_sentiment = [analyse(sent) for sent in reviews_sentiment]"
   ]
  },
  {
   "cell_type": "code",
   "execution_count": 17,
   "metadata": {},
   "outputs": [],
   "source": [
    "df5['review sentiment'] = reviews_sentiment"
   ]
  },
  {
   "cell_type": "code",
   "execution_count": 18,
   "metadata": {},
   "outputs": [],
   "source": [
    "year = df5['date_of_post'].tolist()\n",
    "year = [str(i) for i in year]\n",
    "year = [i[:4] for i in year]\n",
    "df5['year'] = year"
   ]
  },
  {
   "cell_type": "code",
   "execution_count": 19,
   "metadata": {},
   "outputs": [],
   "source": [
    "df_positive = df5[df5['review sentiment']=='positive']\n",
    "df_neutral = df5[df5['review sentiment']=='neutral']\n",
    "df_negative = df5[df5['review sentiment']=='negative']\n"
   ]
  },
  {
   "cell_type": "code",
   "execution_count": 20,
   "metadata": {},
   "outputs": [],
   "source": [
    "positive_years = dict(df_positive['year'].value_counts())\n",
    "years = list(range(2012,2022))\n",
    "years = [str(year) for year in years]\n",
    "review_years = [key for (key,value) in positive_years.items()]\n",
    "review_years\n",
    "missing_years = []\n",
    "for item in years:\n",
    "    if item not in review_years:\n",
    "        missing_years.append(item)\n",
    "\n",
    "for year in missing_years:\n",
    "    positive_years.update({year:0})\n",
    "    \n",
    "neutral_years = dict(df_neutral['year'].value_counts())\n",
    "years = list(range(2012,2022))\n",
    "years = [str(year) for year in years]\n",
    "review_years = [key for (key,value) in neutral_years.items()]\n",
    "review_years\n",
    "missing_years = []\n",
    "for item in years:\n",
    "    if item not in review_years:\n",
    "        missing_years.append(item)\n",
    "\n",
    "for year in missing_years:\n",
    "    neutral_years.update({year:0})\n",
    "    \n",
    "negative_years = dict(df_negative['year'].value_counts())\n",
    "years = list(range(2012,2022))\n",
    "years = [str(year) for year in years]\n",
    "review_years = [key for (key,value) in negative_years.items()]\n",
    "review_years\n",
    "missing_years = []\n",
    "for item in years:\n",
    "    if item not in review_years:\n",
    "        missing_years.append(item)\n",
    "\n",
    "for year in missing_years:\n",
    "    negative_years.update({year:0})"
   ]
  },
  {
   "cell_type": "code",
   "execution_count": 21,
   "metadata": {},
   "outputs": [
    {
     "data": {
      "text/html": [
       "        <script type=\"text/javascript\">\n",
       "        window.PlotlyConfig = {MathJaxConfig: 'local'};\n",
       "        if (window.MathJax) {MathJax.Hub.Config({SVG: {font: \"STIX-Web\"}});}\n",
       "        if (typeof require !== 'undefined') {\n",
       "        require.undef(\"plotly\");\n",
       "        requirejs.config({\n",
       "            paths: {\n",
       "                'plotly': ['https://cdn.plot.ly/plotly-latest.min']\n",
       "            }\n",
       "        });\n",
       "        require(['plotly'], function(Plotly) {\n",
       "            window._Plotly = Plotly;\n",
       "        });\n",
       "        }\n",
       "        </script>\n",
       "        "
      ]
     },
     "metadata": {},
     "output_type": "display_data"
    }
   ],
   "source": [
    "import plotly.graph_objs as go\n",
    "import plotly.offline as offline\n",
    "offline.init_notebook_mode(connected=True)\n",
    "import matplotlib.pyplot as plt"
   ]
  },
  {
   "cell_type": "code",
   "execution_count": 46,
   "metadata": {},
   "outputs": [
    {
     "data": {
      "application/vnd.plotly.v1+json": {
       "config": {
        "linkText": "Export to plot.ly",
        "plotlyServerURL": "https://plot.ly",
        "showLink": false
       },
       "data": [
        {
         "name": "positive",
         "text": [
          "4",
          "0",
          "4",
          "12",
          "13",
          "14",
          "20",
          "37",
          "25",
          "22"
         ],
         "textposition": "outside",
         "type": "bar",
         "x": [
          2012,
          2013,
          2014,
          2015,
          2016,
          2017,
          2018,
          2019,
          2020,
          2021
         ],
         "y": [
          4,
          0,
          4,
          12,
          13,
          14,
          20,
          37,
          25,
          22
         ]
        },
        {
         "name": "neutral",
         "text": [
          "0",
          "2",
          "4",
          "7",
          "4",
          "7",
          "8",
          "15",
          "11",
          "5"
         ],
         "textposition": "outside",
         "type": "bar",
         "x": [
          2012,
          2013,
          2014,
          2015,
          2016,
          2017,
          2018,
          2019,
          2020,
          2021
         ],
         "y": [
          0,
          2,
          4,
          7,
          4,
          7,
          8,
          15,
          11,
          5
         ]
        },
        {
         "name": "negative",
         "text": [
          "0",
          "0",
          "0",
          "1",
          "1",
          "4",
          "4",
          "5",
          "0",
          "1"
         ],
         "textposition": "outside",
         "type": "bar",
         "x": [
          2012,
          2013,
          2014,
          2015,
          2016,
          2017,
          2018,
          2019,
          2020,
          2021
         ],
         "y": [
          0,
          0,
          0,
          1,
          1,
          4,
          4,
          5,
          0,
          1
         ]
        }
       ],
       "layout": {
        "barmode": "group",
        "template": {
         "data": {
          "bar": [
           {
            "error_x": {
             "color": "#2a3f5f"
            },
            "error_y": {
             "color": "#2a3f5f"
            },
            "marker": {
             "line": {
              "color": "#E5ECF6",
              "width": 0.5
             }
            },
            "type": "bar"
           }
          ],
          "barpolar": [
           {
            "marker": {
             "line": {
              "color": "#E5ECF6",
              "width": 0.5
             }
            },
            "type": "barpolar"
           }
          ],
          "carpet": [
           {
            "aaxis": {
             "endlinecolor": "#2a3f5f",
             "gridcolor": "white",
             "linecolor": "white",
             "minorgridcolor": "white",
             "startlinecolor": "#2a3f5f"
            },
            "baxis": {
             "endlinecolor": "#2a3f5f",
             "gridcolor": "white",
             "linecolor": "white",
             "minorgridcolor": "white",
             "startlinecolor": "#2a3f5f"
            },
            "type": "carpet"
           }
          ],
          "choropleth": [
           {
            "colorbar": {
             "outlinewidth": 0,
             "ticks": ""
            },
            "type": "choropleth"
           }
          ],
          "contour": [
           {
            "colorbar": {
             "outlinewidth": 0,
             "ticks": ""
            },
            "colorscale": [
             [
              0,
              "#0d0887"
             ],
             [
              0.1111111111111111,
              "#46039f"
             ],
             [
              0.2222222222222222,
              "#7201a8"
             ],
             [
              0.3333333333333333,
              "#9c179e"
             ],
             [
              0.4444444444444444,
              "#bd3786"
             ],
             [
              0.5555555555555556,
              "#d8576b"
             ],
             [
              0.6666666666666666,
              "#ed7953"
             ],
             [
              0.7777777777777778,
              "#fb9f3a"
             ],
             [
              0.8888888888888888,
              "#fdca26"
             ],
             [
              1,
              "#f0f921"
             ]
            ],
            "type": "contour"
           }
          ],
          "contourcarpet": [
           {
            "colorbar": {
             "outlinewidth": 0,
             "ticks": ""
            },
            "type": "contourcarpet"
           }
          ],
          "heatmap": [
           {
            "colorbar": {
             "outlinewidth": 0,
             "ticks": ""
            },
            "colorscale": [
             [
              0,
              "#0d0887"
             ],
             [
              0.1111111111111111,
              "#46039f"
             ],
             [
              0.2222222222222222,
              "#7201a8"
             ],
             [
              0.3333333333333333,
              "#9c179e"
             ],
             [
              0.4444444444444444,
              "#bd3786"
             ],
             [
              0.5555555555555556,
              "#d8576b"
             ],
             [
              0.6666666666666666,
              "#ed7953"
             ],
             [
              0.7777777777777778,
              "#fb9f3a"
             ],
             [
              0.8888888888888888,
              "#fdca26"
             ],
             [
              1,
              "#f0f921"
             ]
            ],
            "type": "heatmap"
           }
          ],
          "heatmapgl": [
           {
            "colorbar": {
             "outlinewidth": 0,
             "ticks": ""
            },
            "colorscale": [
             [
              0,
              "#0d0887"
             ],
             [
              0.1111111111111111,
              "#46039f"
             ],
             [
              0.2222222222222222,
              "#7201a8"
             ],
             [
              0.3333333333333333,
              "#9c179e"
             ],
             [
              0.4444444444444444,
              "#bd3786"
             ],
             [
              0.5555555555555556,
              "#d8576b"
             ],
             [
              0.6666666666666666,
              "#ed7953"
             ],
             [
              0.7777777777777778,
              "#fb9f3a"
             ],
             [
              0.8888888888888888,
              "#fdca26"
             ],
             [
              1,
              "#f0f921"
             ]
            ],
            "type": "heatmapgl"
           }
          ],
          "histogram": [
           {
            "marker": {
             "colorbar": {
              "outlinewidth": 0,
              "ticks": ""
             }
            },
            "type": "histogram"
           }
          ],
          "histogram2d": [
           {
            "colorbar": {
             "outlinewidth": 0,
             "ticks": ""
            },
            "colorscale": [
             [
              0,
              "#0d0887"
             ],
             [
              0.1111111111111111,
              "#46039f"
             ],
             [
              0.2222222222222222,
              "#7201a8"
             ],
             [
              0.3333333333333333,
              "#9c179e"
             ],
             [
              0.4444444444444444,
              "#bd3786"
             ],
             [
              0.5555555555555556,
              "#d8576b"
             ],
             [
              0.6666666666666666,
              "#ed7953"
             ],
             [
              0.7777777777777778,
              "#fb9f3a"
             ],
             [
              0.8888888888888888,
              "#fdca26"
             ],
             [
              1,
              "#f0f921"
             ]
            ],
            "type": "histogram2d"
           }
          ],
          "histogram2dcontour": [
           {
            "colorbar": {
             "outlinewidth": 0,
             "ticks": ""
            },
            "colorscale": [
             [
              0,
              "#0d0887"
             ],
             [
              0.1111111111111111,
              "#46039f"
             ],
             [
              0.2222222222222222,
              "#7201a8"
             ],
             [
              0.3333333333333333,
              "#9c179e"
             ],
             [
              0.4444444444444444,
              "#bd3786"
             ],
             [
              0.5555555555555556,
              "#d8576b"
             ],
             [
              0.6666666666666666,
              "#ed7953"
             ],
             [
              0.7777777777777778,
              "#fb9f3a"
             ],
             [
              0.8888888888888888,
              "#fdca26"
             ],
             [
              1,
              "#f0f921"
             ]
            ],
            "type": "histogram2dcontour"
           }
          ],
          "mesh3d": [
           {
            "colorbar": {
             "outlinewidth": 0,
             "ticks": ""
            },
            "type": "mesh3d"
           }
          ],
          "parcoords": [
           {
            "line": {
             "colorbar": {
              "outlinewidth": 0,
              "ticks": ""
             }
            },
            "type": "parcoords"
           }
          ],
          "pie": [
           {
            "automargin": true,
            "type": "pie"
           }
          ],
          "scatter": [
           {
            "marker": {
             "colorbar": {
              "outlinewidth": 0,
              "ticks": ""
             }
            },
            "type": "scatter"
           }
          ],
          "scatter3d": [
           {
            "line": {
             "colorbar": {
              "outlinewidth": 0,
              "ticks": ""
             }
            },
            "marker": {
             "colorbar": {
              "outlinewidth": 0,
              "ticks": ""
             }
            },
            "type": "scatter3d"
           }
          ],
          "scattercarpet": [
           {
            "marker": {
             "colorbar": {
              "outlinewidth": 0,
              "ticks": ""
             }
            },
            "type": "scattercarpet"
           }
          ],
          "scattergeo": [
           {
            "marker": {
             "colorbar": {
              "outlinewidth": 0,
              "ticks": ""
             }
            },
            "type": "scattergeo"
           }
          ],
          "scattergl": [
           {
            "marker": {
             "colorbar": {
              "outlinewidth": 0,
              "ticks": ""
             }
            },
            "type": "scattergl"
           }
          ],
          "scattermapbox": [
           {
            "marker": {
             "colorbar": {
              "outlinewidth": 0,
              "ticks": ""
             }
            },
            "type": "scattermapbox"
           }
          ],
          "scatterpolar": [
           {
            "marker": {
             "colorbar": {
              "outlinewidth": 0,
              "ticks": ""
             }
            },
            "type": "scatterpolar"
           }
          ],
          "scatterpolargl": [
           {
            "marker": {
             "colorbar": {
              "outlinewidth": 0,
              "ticks": ""
             }
            },
            "type": "scatterpolargl"
           }
          ],
          "scatterternary": [
           {
            "marker": {
             "colorbar": {
              "outlinewidth": 0,
              "ticks": ""
             }
            },
            "type": "scatterternary"
           }
          ],
          "surface": [
           {
            "colorbar": {
             "outlinewidth": 0,
             "ticks": ""
            },
            "colorscale": [
             [
              0,
              "#0d0887"
             ],
             [
              0.1111111111111111,
              "#46039f"
             ],
             [
              0.2222222222222222,
              "#7201a8"
             ],
             [
              0.3333333333333333,
              "#9c179e"
             ],
             [
              0.4444444444444444,
              "#bd3786"
             ],
             [
              0.5555555555555556,
              "#d8576b"
             ],
             [
              0.6666666666666666,
              "#ed7953"
             ],
             [
              0.7777777777777778,
              "#fb9f3a"
             ],
             [
              0.8888888888888888,
              "#fdca26"
             ],
             [
              1,
              "#f0f921"
             ]
            ],
            "type": "surface"
           }
          ],
          "table": [
           {
            "cells": {
             "fill": {
              "color": "#EBF0F8"
             },
             "line": {
              "color": "white"
             }
            },
            "header": {
             "fill": {
              "color": "#C8D4E3"
             },
             "line": {
              "color": "white"
             }
            },
            "type": "table"
           }
          ]
         },
         "layout": {
          "annotationdefaults": {
           "arrowcolor": "#2a3f5f",
           "arrowhead": 0,
           "arrowwidth": 1
          },
          "autotypenumbers": "strict",
          "coloraxis": {
           "colorbar": {
            "outlinewidth": 0,
            "ticks": ""
           }
          },
          "colorscale": {
           "diverging": [
            [
             0,
             "#8e0152"
            ],
            [
             0.1,
             "#c51b7d"
            ],
            [
             0.2,
             "#de77ae"
            ],
            [
             0.3,
             "#f1b6da"
            ],
            [
             0.4,
             "#fde0ef"
            ],
            [
             0.5,
             "#f7f7f7"
            ],
            [
             0.6,
             "#e6f5d0"
            ],
            [
             0.7,
             "#b8e186"
            ],
            [
             0.8,
             "#7fbc41"
            ],
            [
             0.9,
             "#4d9221"
            ],
            [
             1,
             "#276419"
            ]
           ],
           "sequential": [
            [
             0,
             "#0d0887"
            ],
            [
             0.1111111111111111,
             "#46039f"
            ],
            [
             0.2222222222222222,
             "#7201a8"
            ],
            [
             0.3333333333333333,
             "#9c179e"
            ],
            [
             0.4444444444444444,
             "#bd3786"
            ],
            [
             0.5555555555555556,
             "#d8576b"
            ],
            [
             0.6666666666666666,
             "#ed7953"
            ],
            [
             0.7777777777777778,
             "#fb9f3a"
            ],
            [
             0.8888888888888888,
             "#fdca26"
            ],
            [
             1,
             "#f0f921"
            ]
           ],
           "sequentialminus": [
            [
             0,
             "#0d0887"
            ],
            [
             0.1111111111111111,
             "#46039f"
            ],
            [
             0.2222222222222222,
             "#7201a8"
            ],
            [
             0.3333333333333333,
             "#9c179e"
            ],
            [
             0.4444444444444444,
             "#bd3786"
            ],
            [
             0.5555555555555556,
             "#d8576b"
            ],
            [
             0.6666666666666666,
             "#ed7953"
            ],
            [
             0.7777777777777778,
             "#fb9f3a"
            ],
            [
             0.8888888888888888,
             "#fdca26"
            ],
            [
             1,
             "#f0f921"
            ]
           ]
          },
          "colorway": [
           "#636efa",
           "#EF553B",
           "#00cc96",
           "#ab63fa",
           "#FFA15A",
           "#19d3f3",
           "#FF6692",
           "#B6E880",
           "#FF97FF",
           "#FECB52"
          ],
          "font": {
           "color": "#2a3f5f"
          },
          "geo": {
           "bgcolor": "white",
           "lakecolor": "white",
           "landcolor": "#E5ECF6",
           "showlakes": true,
           "showland": true,
           "subunitcolor": "white"
          },
          "hoverlabel": {
           "align": "left"
          },
          "hovermode": "closest",
          "mapbox": {
           "style": "light"
          },
          "paper_bgcolor": "white",
          "plot_bgcolor": "#E5ECF6",
          "polar": {
           "angularaxis": {
            "gridcolor": "white",
            "linecolor": "white",
            "ticks": ""
           },
           "bgcolor": "#E5ECF6",
           "radialaxis": {
            "gridcolor": "white",
            "linecolor": "white",
            "ticks": ""
           }
          },
          "scene": {
           "xaxis": {
            "backgroundcolor": "#E5ECF6",
            "gridcolor": "white",
            "gridwidth": 2,
            "linecolor": "white",
            "showbackground": true,
            "ticks": "",
            "zerolinecolor": "white"
           },
           "yaxis": {
            "backgroundcolor": "#E5ECF6",
            "gridcolor": "white",
            "gridwidth": 2,
            "linecolor": "white",
            "showbackground": true,
            "ticks": "",
            "zerolinecolor": "white"
           },
           "zaxis": {
            "backgroundcolor": "#E5ECF6",
            "gridcolor": "white",
            "gridwidth": 2,
            "linecolor": "white",
            "showbackground": true,
            "ticks": "",
            "zerolinecolor": "white"
           }
          },
          "shapedefaults": {
           "line": {
            "color": "#2a3f5f"
           }
          },
          "ternary": {
           "aaxis": {
            "gridcolor": "white",
            "linecolor": "white",
            "ticks": ""
           },
           "baxis": {
            "gridcolor": "white",
            "linecolor": "white",
            "ticks": ""
           },
           "bgcolor": "#E5ECF6",
           "caxis": {
            "gridcolor": "white",
            "linecolor": "white",
            "ticks": ""
           }
          },
          "title": {
           "x": 0.05
          },
          "xaxis": {
           "automargin": true,
           "gridcolor": "white",
           "linecolor": "white",
           "ticks": "",
           "title": {
            "standoff": 15
           },
           "zerolinecolor": "white",
           "zerolinewidth": 2
          },
          "yaxis": {
           "automargin": true,
           "gridcolor": "white",
           "linecolor": "white",
           "ticks": "",
           "title": {
            "standoff": 15
           },
           "zerolinecolor": "white",
           "zerolinewidth": 2
          }
         }
        },
        "title": {
         "font": {
          "family": "Arial",
          "size": 35
         },
         "text": "Review Sentiments Year on Year"
        }
       }
      },
      "text/html": [
       "<div>                            <div id=\"3aacc4b0-3ad2-466d-a59d-7035d3b21acf\" class=\"plotly-graph-div\" style=\"height:525px; width:100%;\"></div>            <script type=\"text/javascript\">                require([\"plotly\"], function(Plotly) {                    window.PLOTLYENV=window.PLOTLYENV || {};                                    if (document.getElementById(\"3aacc4b0-3ad2-466d-a59d-7035d3b21acf\")) {                    Plotly.newPlot(                        \"3aacc4b0-3ad2-466d-a59d-7035d3b21acf\",                        [{\"name\": \"positive\", \"text\": [\"4\", \"0\", \"4\", \"12\", \"13\", \"14\", \"20\", \"37\", \"25\", \"22\"], \"textposition\": \"outside\", \"type\": \"bar\", \"x\": [2012, 2013, 2014, 2015, 2016, 2017, 2018, 2019, 2020, 2021], \"y\": [4, 0, 4, 12, 13, 14, 20, 37, 25, 22]}, {\"name\": \"neutral\", \"text\": [\"0\", \"2\", \"4\", \"7\", \"4\", \"7\", \"8\", \"15\", \"11\", \"5\"], \"textposition\": \"outside\", \"type\": \"bar\", \"x\": [2012, 2013, 2014, 2015, 2016, 2017, 2018, 2019, 2020, 2021], \"y\": [0, 2, 4, 7, 4, 7, 8, 15, 11, 5]}, {\"name\": \"negative\", \"text\": [\"0\", \"0\", \"0\", \"1\", \"1\", \"4\", \"4\", \"5\", \"0\", \"1\"], \"textposition\": \"outside\", \"type\": \"bar\", \"x\": [2012, 2013, 2014, 2015, 2016, 2017, 2018, 2019, 2020, 2021], \"y\": [0, 0, 0, 1, 1, 4, 4, 5, 0, 1]}],                        {\"barmode\": \"group\", \"template\": {\"data\": {\"bar\": [{\"error_x\": {\"color\": \"#2a3f5f\"}, \"error_y\": {\"color\": \"#2a3f5f\"}, \"marker\": {\"line\": {\"color\": \"#E5ECF6\", \"width\": 0.5}}, \"type\": \"bar\"}], \"barpolar\": [{\"marker\": {\"line\": {\"color\": \"#E5ECF6\", \"width\": 0.5}}, \"type\": \"barpolar\"}], \"carpet\": [{\"aaxis\": {\"endlinecolor\": \"#2a3f5f\", \"gridcolor\": \"white\", \"linecolor\": \"white\", \"minorgridcolor\": \"white\", \"startlinecolor\": \"#2a3f5f\"}, \"baxis\": {\"endlinecolor\": \"#2a3f5f\", \"gridcolor\": \"white\", \"linecolor\": \"white\", \"minorgridcolor\": \"white\", \"startlinecolor\": \"#2a3f5f\"}, \"type\": \"carpet\"}], \"choropleth\": [{\"colorbar\": {\"outlinewidth\": 0, \"ticks\": \"\"}, \"type\": \"choropleth\"}], \"contour\": [{\"colorbar\": {\"outlinewidth\": 0, \"ticks\": \"\"}, \"colorscale\": [[0.0, \"#0d0887\"], [0.1111111111111111, \"#46039f\"], [0.2222222222222222, \"#7201a8\"], [0.3333333333333333, \"#9c179e\"], [0.4444444444444444, \"#bd3786\"], [0.5555555555555556, \"#d8576b\"], [0.6666666666666666, \"#ed7953\"], [0.7777777777777778, \"#fb9f3a\"], [0.8888888888888888, \"#fdca26\"], [1.0, \"#f0f921\"]], \"type\": \"contour\"}], \"contourcarpet\": [{\"colorbar\": {\"outlinewidth\": 0, \"ticks\": \"\"}, \"type\": \"contourcarpet\"}], \"heatmap\": [{\"colorbar\": {\"outlinewidth\": 0, \"ticks\": \"\"}, \"colorscale\": [[0.0, \"#0d0887\"], [0.1111111111111111, \"#46039f\"], [0.2222222222222222, \"#7201a8\"], [0.3333333333333333, \"#9c179e\"], [0.4444444444444444, \"#bd3786\"], [0.5555555555555556, \"#d8576b\"], [0.6666666666666666, \"#ed7953\"], [0.7777777777777778, \"#fb9f3a\"], [0.8888888888888888, \"#fdca26\"], [1.0, \"#f0f921\"]], \"type\": \"heatmap\"}], \"heatmapgl\": [{\"colorbar\": {\"outlinewidth\": 0, \"ticks\": \"\"}, \"colorscale\": [[0.0, \"#0d0887\"], [0.1111111111111111, \"#46039f\"], [0.2222222222222222, \"#7201a8\"], [0.3333333333333333, \"#9c179e\"], [0.4444444444444444, \"#bd3786\"], [0.5555555555555556, \"#d8576b\"], [0.6666666666666666, \"#ed7953\"], [0.7777777777777778, \"#fb9f3a\"], [0.8888888888888888, \"#fdca26\"], [1.0, \"#f0f921\"]], \"type\": \"heatmapgl\"}], \"histogram\": [{\"marker\": {\"colorbar\": {\"outlinewidth\": 0, \"ticks\": \"\"}}, \"type\": \"histogram\"}], \"histogram2d\": [{\"colorbar\": {\"outlinewidth\": 0, \"ticks\": \"\"}, \"colorscale\": [[0.0, \"#0d0887\"], [0.1111111111111111, \"#46039f\"], [0.2222222222222222, \"#7201a8\"], [0.3333333333333333, \"#9c179e\"], [0.4444444444444444, \"#bd3786\"], [0.5555555555555556, \"#d8576b\"], [0.6666666666666666, \"#ed7953\"], [0.7777777777777778, \"#fb9f3a\"], [0.8888888888888888, \"#fdca26\"], [1.0, \"#f0f921\"]], \"type\": \"histogram2d\"}], \"histogram2dcontour\": [{\"colorbar\": {\"outlinewidth\": 0, \"ticks\": \"\"}, \"colorscale\": [[0.0, \"#0d0887\"], [0.1111111111111111, \"#46039f\"], [0.2222222222222222, \"#7201a8\"], [0.3333333333333333, \"#9c179e\"], [0.4444444444444444, \"#bd3786\"], [0.5555555555555556, \"#d8576b\"], [0.6666666666666666, \"#ed7953\"], [0.7777777777777778, \"#fb9f3a\"], [0.8888888888888888, \"#fdca26\"], [1.0, \"#f0f921\"]], \"type\": \"histogram2dcontour\"}], \"mesh3d\": [{\"colorbar\": {\"outlinewidth\": 0, \"ticks\": \"\"}, \"type\": \"mesh3d\"}], \"parcoords\": [{\"line\": {\"colorbar\": {\"outlinewidth\": 0, \"ticks\": \"\"}}, \"type\": \"parcoords\"}], \"pie\": [{\"automargin\": true, \"type\": \"pie\"}], \"scatter\": [{\"marker\": {\"colorbar\": {\"outlinewidth\": 0, \"ticks\": \"\"}}, \"type\": \"scatter\"}], \"scatter3d\": [{\"line\": {\"colorbar\": {\"outlinewidth\": 0, \"ticks\": \"\"}}, \"marker\": {\"colorbar\": {\"outlinewidth\": 0, \"ticks\": \"\"}}, \"type\": \"scatter3d\"}], \"scattercarpet\": [{\"marker\": {\"colorbar\": {\"outlinewidth\": 0, \"ticks\": \"\"}}, \"type\": \"scattercarpet\"}], \"scattergeo\": [{\"marker\": {\"colorbar\": {\"outlinewidth\": 0, \"ticks\": \"\"}}, \"type\": \"scattergeo\"}], \"scattergl\": [{\"marker\": {\"colorbar\": {\"outlinewidth\": 0, \"ticks\": \"\"}}, \"type\": \"scattergl\"}], \"scattermapbox\": [{\"marker\": {\"colorbar\": {\"outlinewidth\": 0, \"ticks\": \"\"}}, \"type\": \"scattermapbox\"}], \"scatterpolar\": [{\"marker\": {\"colorbar\": {\"outlinewidth\": 0, \"ticks\": \"\"}}, \"type\": \"scatterpolar\"}], \"scatterpolargl\": [{\"marker\": {\"colorbar\": {\"outlinewidth\": 0, \"ticks\": \"\"}}, \"type\": \"scatterpolargl\"}], \"scatterternary\": [{\"marker\": {\"colorbar\": {\"outlinewidth\": 0, \"ticks\": \"\"}}, \"type\": \"scatterternary\"}], \"surface\": [{\"colorbar\": {\"outlinewidth\": 0, \"ticks\": \"\"}, \"colorscale\": [[0.0, \"#0d0887\"], [0.1111111111111111, \"#46039f\"], [0.2222222222222222, \"#7201a8\"], [0.3333333333333333, \"#9c179e\"], [0.4444444444444444, \"#bd3786\"], [0.5555555555555556, \"#d8576b\"], [0.6666666666666666, \"#ed7953\"], [0.7777777777777778, \"#fb9f3a\"], [0.8888888888888888, \"#fdca26\"], [1.0, \"#f0f921\"]], \"type\": \"surface\"}], \"table\": [{\"cells\": {\"fill\": {\"color\": \"#EBF0F8\"}, \"line\": {\"color\": \"white\"}}, \"header\": {\"fill\": {\"color\": \"#C8D4E3\"}, \"line\": {\"color\": \"white\"}}, \"type\": \"table\"}]}, \"layout\": {\"annotationdefaults\": {\"arrowcolor\": \"#2a3f5f\", \"arrowhead\": 0, \"arrowwidth\": 1}, \"autotypenumbers\": \"strict\", \"coloraxis\": {\"colorbar\": {\"outlinewidth\": 0, \"ticks\": \"\"}}, \"colorscale\": {\"diverging\": [[0, \"#8e0152\"], [0.1, \"#c51b7d\"], [0.2, \"#de77ae\"], [0.3, \"#f1b6da\"], [0.4, \"#fde0ef\"], [0.5, \"#f7f7f7\"], [0.6, \"#e6f5d0\"], [0.7, \"#b8e186\"], [0.8, \"#7fbc41\"], [0.9, \"#4d9221\"], [1, \"#276419\"]], \"sequential\": [[0.0, \"#0d0887\"], [0.1111111111111111, \"#46039f\"], [0.2222222222222222, \"#7201a8\"], [0.3333333333333333, \"#9c179e\"], [0.4444444444444444, \"#bd3786\"], [0.5555555555555556, \"#d8576b\"], [0.6666666666666666, \"#ed7953\"], [0.7777777777777778, \"#fb9f3a\"], [0.8888888888888888, \"#fdca26\"], [1.0, \"#f0f921\"]], \"sequentialminus\": [[0.0, \"#0d0887\"], [0.1111111111111111, \"#46039f\"], [0.2222222222222222, \"#7201a8\"], [0.3333333333333333, \"#9c179e\"], [0.4444444444444444, \"#bd3786\"], [0.5555555555555556, \"#d8576b\"], [0.6666666666666666, \"#ed7953\"], [0.7777777777777778, \"#fb9f3a\"], [0.8888888888888888, \"#fdca26\"], [1.0, \"#f0f921\"]]}, \"colorway\": [\"#636efa\", \"#EF553B\", \"#00cc96\", \"#ab63fa\", \"#FFA15A\", \"#19d3f3\", \"#FF6692\", \"#B6E880\", \"#FF97FF\", \"#FECB52\"], \"font\": {\"color\": \"#2a3f5f\"}, \"geo\": {\"bgcolor\": \"white\", \"lakecolor\": \"white\", \"landcolor\": \"#E5ECF6\", \"showlakes\": true, \"showland\": true, \"subunitcolor\": \"white\"}, \"hoverlabel\": {\"align\": \"left\"}, \"hovermode\": \"closest\", \"mapbox\": {\"style\": \"light\"}, \"paper_bgcolor\": \"white\", \"plot_bgcolor\": \"#E5ECF6\", \"polar\": {\"angularaxis\": {\"gridcolor\": \"white\", \"linecolor\": \"white\", \"ticks\": \"\"}, \"bgcolor\": \"#E5ECF6\", \"radialaxis\": {\"gridcolor\": \"white\", \"linecolor\": \"white\", \"ticks\": \"\"}}, \"scene\": {\"xaxis\": {\"backgroundcolor\": \"#E5ECF6\", \"gridcolor\": \"white\", \"gridwidth\": 2, \"linecolor\": \"white\", \"showbackground\": true, \"ticks\": \"\", \"zerolinecolor\": \"white\"}, \"yaxis\": {\"backgroundcolor\": \"#E5ECF6\", \"gridcolor\": \"white\", \"gridwidth\": 2, \"linecolor\": \"white\", \"showbackground\": true, \"ticks\": \"\", \"zerolinecolor\": \"white\"}, \"zaxis\": {\"backgroundcolor\": \"#E5ECF6\", \"gridcolor\": \"white\", \"gridwidth\": 2, \"linecolor\": \"white\", \"showbackground\": true, \"ticks\": \"\", \"zerolinecolor\": \"white\"}}, \"shapedefaults\": {\"line\": {\"color\": \"#2a3f5f\"}}, \"ternary\": {\"aaxis\": {\"gridcolor\": \"white\", \"linecolor\": \"white\", \"ticks\": \"\"}, \"baxis\": {\"gridcolor\": \"white\", \"linecolor\": \"white\", \"ticks\": \"\"}, \"bgcolor\": \"#E5ECF6\", \"caxis\": {\"gridcolor\": \"white\", \"linecolor\": \"white\", \"ticks\": \"\"}}, \"title\": {\"x\": 0.05}, \"xaxis\": {\"automargin\": true, \"gridcolor\": \"white\", \"linecolor\": \"white\", \"ticks\": \"\", \"title\": {\"standoff\": 15}, \"zerolinecolor\": \"white\", \"zerolinewidth\": 2}, \"yaxis\": {\"automargin\": true, \"gridcolor\": \"white\", \"linecolor\": \"white\", \"ticks\": \"\", \"title\": {\"standoff\": 15}, \"zerolinecolor\": \"white\", \"zerolinewidth\": 2}}}, \"title\": {\"font\": {\"family\": \"Arial\", \"size\": 35}, \"text\": \"Review Sentiments Year on Year\"}},                        {\"responsive\": true}                    ).then(function(){\n",
       "                            \n",
       "var gd = document.getElementById('3aacc4b0-3ad2-466d-a59d-7035d3b21acf');\n",
       "var x = new MutationObserver(function (mutations, observer) {{\n",
       "        var display = window.getComputedStyle(gd).display;\n",
       "        if (!display || display === 'none') {{\n",
       "            console.log([gd, 'removed!']);\n",
       "            Plotly.purge(gd);\n",
       "            observer.disconnect();\n",
       "        }}\n",
       "}});\n",
       "\n",
       "// Listen for the removal of the full notebook cells\n",
       "var notebookContainer = gd.closest('#notebook-container');\n",
       "if (notebookContainer) {{\n",
       "    x.observe(notebookContainer, {childList: true});\n",
       "}}\n",
       "\n",
       "// Listen for the clearing of the current output cell\n",
       "var outputEl = gd.closest('.output');\n",
       "if (outputEl) {{\n",
       "    x.observe(outputEl, {childList: true});\n",
       "}}\n",
       "\n",
       "                        })                };                });            </script>        </div>"
      ]
     },
     "metadata": {},
     "output_type": "display_data"
    }
   ],
   "source": [
    "positive_years = {int(key):value for (key,value) in positive_years.items()}\n",
    "neutral_years = {int(key):value for (key,value) in neutral_years.items()}\n",
    "negative_years = {int(key):value for (key,value) in negative_years.items()}\n",
    "\n",
    "import collections\n",
    "positive_dict = dict(collections.OrderedDict(sorted(positive_years.items())))\n",
    "neutral_dict = dict(collections.OrderedDict(sorted(neutral_years.items())))\n",
    "negative_dict = dict(collections.OrderedDict(sorted(negative_years.items())))\n",
    "\n",
    "pos_x = [key for (key,value) in positive_dict.items()]\n",
    "pos_y = [value for (key,value) in positive_dict.items()]\n",
    "neu_x = [key for (key,value) in neutral_dict.items()]\n",
    "neu_y = [value for (key,value) in neutral_dict.items()]\n",
    "neg_x = [key for (key,value) in negative_dict.items()]\n",
    "neg_y = [value for (key,value) in negative_dict.items()]\n",
    "\n",
    "trace1 = go.Bar(x = pos_x, y = pos_y, name = 'positive', text = pos_y, textposition='outside')\n",
    "trace2 = go.Bar(x = neu_x, y = neu_y, name = 'neutral', text = neu_y, textposition='outside')\n",
    "trace3 = go.Bar(x = neg_x, y = neg_y, name = 'negative', text = neg_y, textposition='outside')\n",
    "\n",
    "data = [trace1, trace2, trace3]\n",
    "\n",
    "layout = go.Layout(title='Review Sentiments Year on Year', \n",
    "                   titlefont= dict(family='Arial', size=35),\n",
    "                   barmode='group')\n",
    "\n",
    "fig = go.Figure(data = data, layout=layout)\n",
    "\n",
    "offline.iplot(fig)"
   ]
  },
  {
   "cell_type": "code",
   "execution_count": 26,
   "metadata": {},
   "outputs": [
    {
     "data": {
      "text/plain": [
       "{1: 16, 2: 15, 3: 46, 4: 92, 5: 61}"
      ]
     },
     "execution_count": 26,
     "metadata": {},
     "output_type": "execute_result"
    }
   ],
   "source": [
    "star_rating = dict(df5['star'].value_counts())\n",
    "star_rating = dict(collections.OrderedDict(sorted(star_rating.items())))\n",
    "star_rating"
   ]
  },
  {
   "cell_type": "code",
   "execution_count": 27,
   "metadata": {},
   "outputs": [
    {
     "data": {
      "text/plain": [
       "['1 star', '2 star', '3 star', '4 star', '5 star']"
      ]
     },
     "execution_count": 27,
     "metadata": {},
     "output_type": "execute_result"
    }
   ],
   "source": [
    "label = [int(key) for key,value in star_rating.items()]\n",
    "values = [int(value) for key,value in star_rating.items()]\n",
    "label = [str(i)+' star' for i in label]\n",
    "label"
   ]
  },
  {
   "cell_type": "code",
   "execution_count": 28,
   "metadata": {},
   "outputs": [
    {
     "data": {
      "image/png": "[encoded data removed]",
      "text/plain": [
       "<Figure size 720x720 with 1 Axes>"
      ]
     },
     "metadata": {},
     "output_type": "display_data"
    }
   ],
   "source": [
    "import matplotlib.pyplot as plt\n",
    "import numpy as np\n",
    "plt.figure(figsize=(10,10))\n",
    "y = np.array(values)\n",
    "mylabels = label\n",
    "\n",
    "plt.pie(y, labels = mylabels, autopct = \"%0.2f%%\", textprops ={\"fontsize\":15})\n",
    "\n",
    "plt.legend()\n",
    "plt.title(\"Star Rating\")\n",
    "plt.savefig('pie.png')\n",
    "plt.show()"
   ]
  },
  {
   "cell_type": "code",
   "execution_count": 42,
   "metadata": {},
   "outputs": [
    {
     "data": {
      "text/plain": [
       "(['positive', 'neutral', 'negative'], [34, 30, 9])"
      ]
     },
     "execution_count": 42,
     "metadata": {},
     "output_type": "execute_result"
    }
   ],
   "source": [
    "current_emp_df = df5[df5['emp type'] == 'Current Employee']\n",
    "current_emp_df.head(2)\n",
    "current_review = dict(current_emp_df['review sentiment'].value_counts())\n",
    "cur_x = [key for key,value in current_review.items()]\n",
    "cur_y = [value for key,value in current_review.items()]\n",
    "\n",
    "former_emp_df = df5[df5['emp type'] == 'Former Employee']\n",
    "former_emp_df.head(2)\n",
    "former_review = dict(former_emp_df['review sentiment'].value_counts())\n",
    "for_x = [key for key,value in former_review.items()]\n",
    "for_y = [value for key,value in former_review.items()]"
   ]
  },
  {
   "cell_type": "code",
   "execution_count": 47,
   "metadata": {},
   "outputs": [
    {
     "data": {
      "application/vnd.plotly.v1+json": {
       "config": {
        "linkText": "Export to plot.ly",
        "plotlyServerURL": "https://plot.ly",
        "showLink": false
       },
       "data": [
        {
         "name": "current employees",
         "text": [
          "117",
          "33",
          "7"
         ],
         "textposition": "outside",
         "type": "bar",
         "x": [
          "positive",
          "neutral",
          "negative"
         ],
         "y": [
          117,
          33,
          7
         ]
        },
        {
         "name": "former employees",
         "text": [
          "34",
          "30",
          "9"
         ],
         "textposition": "outside",
         "type": "bar",
         "x": [
          "positive",
          "neutral",
          "negative"
         ],
         "y": [
          34,
          30,
          9
         ]
        }
       ],
       "layout": {
        "barmode": "group",
        "template": {
         "data": {
          "bar": [
           {
            "error_x": {
             "color": "#2a3f5f"
            },
            "error_y": {
             "color": "#2a3f5f"
            },
            "marker": {
             "line": {
              "color": "#E5ECF6",
              "width": 0.5
             }
            },
            "type": "bar"
           }
          ],
          "barpolar": [
           {
            "marker": {
             "line": {
              "color": "#E5ECF6",
              "width": 0.5
             }
            },
            "type": "barpolar"
           }
          ],
          "carpet": [
           {
            "aaxis": {
             "endlinecolor": "#2a3f5f",
             "gridcolor": "white",
             "linecolor": "white",
             "minorgridcolor": "white",
             "startlinecolor": "#2a3f5f"
            },
            "baxis": {
             "endlinecolor": "#2a3f5f",
             "gridcolor": "white",
             "linecolor": "white",
             "minorgridcolor": "white",
             "startlinecolor": "#2a3f5f"
            },
            "type": "carpet"
           }
          ],
          "choropleth": [
           {
            "colorbar": {
             "outlinewidth": 0,
             "ticks": ""
            },
            "type": "choropleth"
           }
          ],
          "contour": [
           {
            "colorbar": {
             "outlinewidth": 0,
             "ticks": ""
            },
            "colorscale": [
             [
              0,
              "#0d0887"
             ],
             [
              0.1111111111111111,
              "#46039f"
             ],
             [
              0.2222222222222222,
              "#7201a8"
             ],
             [
              0.3333333333333333,
              "#9c179e"
             ],
             [
              0.4444444444444444,
              "#bd3786"
             ],
             [
              0.5555555555555556,
              "#d8576b"
             ],
             [
              0.6666666666666666,
              "#ed7953"
             ],
             [
              0.7777777777777778,
              "#fb9f3a"
             ],
             [
              0.8888888888888888,
              "#fdca26"
             ],
             [
              1,
              "#f0f921"
             ]
            ],
            "type": "contour"
           }
          ],
          "contourcarpet": [
           {
            "colorbar": {
             "outlinewidth": 0,
             "ticks": ""
            },
            "type": "contourcarpet"
           }
          ],
          "heatmap": [
           {
            "colorbar": {
             "outlinewidth": 0,
             "ticks": ""
            },
            "colorscale": [
             [
              0,
              "#0d0887"
             ],
             [
              0.1111111111111111,
              "#46039f"
             ],
             [
              0.2222222222222222,
              "#7201a8"
             ],
             [
              0.3333333333333333,
              "#9c179e"
             ],
             [
              0.4444444444444444,
              "#bd3786"
             ],
             [
              0.5555555555555556,
              "#d8576b"
             ],
             [
              0.6666666666666666,
              "#ed7953"
             ],
             [
              0.7777777777777778,
              "#fb9f3a"
             ],
             [
              0.8888888888888888,
              "#fdca26"
             ],
             [
              1,
              "#f0f921"
             ]
            ],
            "type": "heatmap"
           }
          ],
          "heatmapgl": [
           {
            "colorbar": {
             "outlinewidth": 0,
             "ticks": ""
            },
            "colorscale": [
             [
              0,
              "#0d0887"
             ],
             [
              0.1111111111111111,
              "#46039f"
             ],
             [
              0.2222222222222222,
              "#7201a8"
             ],
             [
              0.3333333333333333,
              "#9c179e"
             ],
             [
              0.4444444444444444,
              "#bd3786"
             ],
             [
              0.5555555555555556,
              "#d8576b"
             ],
             [
              0.6666666666666666,
              "#ed7953"
             ],
             [
              0.7777777777777778,
              "#fb9f3a"
             ],
             [
              0.8888888888888888,
              "#fdca26"
             ],
             [
              1,
              "#f0f921"
             ]
            ],
            "type": "heatmapgl"
           }
          ],
          "histogram": [
           {
            "marker": {
             "colorbar": {
              "outlinewidth": 0,
              "ticks": ""
             }
            },
            "type": "histogram"
           }
          ],
          "histogram2d": [
           {
            "colorbar": {
             "outlinewidth": 0,
             "ticks": ""
            },
            "colorscale": [
             [
              0,
              "#0d0887"
             ],
             [
              0.1111111111111111,
              "#46039f"
             ],
             [
              0.2222222222222222,
              "#7201a8"
             ],
             [
              0.3333333333333333,
              "#9c179e"
             ],
             [
              0.4444444444444444,
              "#bd3786"
             ],
             [
              0.5555555555555556,
              "#d8576b"
             ],
             [
              0.6666666666666666,
              "#ed7953"
             ],
             [
              0.7777777777777778,
              "#fb9f3a"
             ],
             [
              0.8888888888888888,
              "#fdca26"
             ],
             [
              1,
              "#f0f921"
             ]
            ],
            "type": "histogram2d"
           }
          ],
          "histogram2dcontour": [
           {
            "colorbar": {
             "outlinewidth": 0,
             "ticks": ""
            },
            "colorscale": [
             [
              0,
              "#0d0887"
             ],
             [
              0.1111111111111111,
              "#46039f"
             ],
             [
              0.2222222222222222,
              "#7201a8"
             ],
             [
              0.3333333333333333,
              "#9c179e"
             ],
             [
              0.4444444444444444,
              "#bd3786"
             ],
             [
              0.5555555555555556,
              "#d8576b"
             ],
             [
              0.6666666666666666,
              "#ed7953"
             ],
             [
              0.7777777777777778,
              "#fb9f3a"
             ],
             [
              0.8888888888888888,
              "#fdca26"
             ],
             [
              1,
              "#f0f921"
             ]
            ],
            "type": "histogram2dcontour"
           }
          ],
          "mesh3d": [
           {
            "colorbar": {
             "outlinewidth": 0,
             "ticks": ""
            },
            "type": "mesh3d"
           }
          ],
          "parcoords": [
           {
            "line": {
             "colorbar": {
              "outlinewidth": 0,
              "ticks": ""
             }
            },
            "type": "parcoords"
           }
          ],
          "pie": [
           {
            "automargin": true,
            "type": "pie"
           }
          ],
          "scatter": [
           {
            "marker": {
             "colorbar": {
              "outlinewidth": 0,
              "ticks": ""
             }
            },
            "type": "scatter"
           }
          ],
          "scatter3d": [
           {
            "line": {
             "colorbar": {
              "outlinewidth": 0,
              "ticks": ""
             }
            },
            "marker": {
             "colorbar": {
              "outlinewidth": 0,
              "ticks": ""
             }
            },
            "type": "scatter3d"
           }
          ],
          "scattercarpet": [
           {
            "marker": {
             "colorbar": {
              "outlinewidth": 0,
              "ticks": ""
             }
            },
            "type": "scattercarpet"
           }
          ],
          "scattergeo": [
           {
            "marker": {
             "colorbar": {
              "outlinewidth": 0,
              "ticks": ""
             }
            },
            "type": "scattergeo"
           }
          ],
          "scattergl": [
           {
            "marker": {
             "colorbar": {
              "outlinewidth": 0,
              "ticks": ""
             }
            },
            "type": "scattergl"
           }
          ],
          "scattermapbox": [
           {
            "marker": {
             "colorbar": {
              "outlinewidth": 0,
              "ticks": ""
             }
            },
            "type": "scattermapbox"
           }
          ],
          "scatterpolar": [
           {
            "marker": {
             "colorbar": {
              "outlinewidth": 0,
              "ticks": ""
             }
            },
            "type": "scatterpolar"
           }
          ],
          "scatterpolargl": [
           {
            "marker": {
             "colorbar": {
              "outlinewidth": 0,
              "ticks": ""
             }
            },
            "type": "scatterpolargl"
           }
          ],
          "scatterternary": [
           {
            "marker": {
             "colorbar": {
              "outlinewidth": 0,
              "ticks": ""
             }
            },
            "type": "scatterternary"
           }
          ],
          "surface": [
           {
            "colorbar": {
             "outlinewidth": 0,
             "ticks": ""
            },
            "colorscale": [
             [
              0,
              "#0d0887"
             ],
             [
              0.1111111111111111,
              "#46039f"
             ],
             [
              0.2222222222222222,
              "#7201a8"
             ],
             [
              0.3333333333333333,
              "#9c179e"
             ],
             [
              0.4444444444444444,
              "#bd3786"
             ],
             [
              0.5555555555555556,
              "#d8576b"
             ],
             [
              0.6666666666666666,
              "#ed7953"
             ],
             [
              0.7777777777777778,
              "#fb9f3a"
             ],
             [
              0.8888888888888888,
              "#fdca26"
             ],
             [
              1,
              "#f0f921"
             ]
            ],
            "type": "surface"
           }
          ],
          "table": [
           {
            "cells": {
             "fill": {
              "color": "#EBF0F8"
             },
             "line": {
              "color": "white"
             }
            },
            "header": {
             "fill": {
              "color": "#C8D4E3"
             },
             "line": {
              "color": "white"
             }
            },
            "type": "table"
           }
          ]
         },
         "layout": {
          "annotationdefaults": {
           "arrowcolor": "#2a3f5f",
           "arrowhead": 0,
           "arrowwidth": 1
          },
          "autotypenumbers": "strict",
          "coloraxis": {
           "colorbar": {
            "outlinewidth": 0,
            "ticks": ""
           }
          },
          "colorscale": {
           "diverging": [
            [
             0,
             "#8e0152"
            ],
            [
             0.1,
             "#c51b7d"
            ],
            [
             0.2,
             "#de77ae"
            ],
            [
             0.3,
             "#f1b6da"
            ],
            [
             0.4,
             "#fde0ef"
            ],
            [
             0.5,
             "#f7f7f7"
            ],
            [
             0.6,
             "#e6f5d0"
            ],
            [
             0.7,
             "#b8e186"
            ],
            [
             0.8,
             "#7fbc41"
            ],
            [
             0.9,
             "#4d9221"
            ],
            [
             1,
             "#276419"
            ]
           ],
           "sequential": [
            [
             0,
             "#0d0887"
            ],
            [
             0.1111111111111111,
             "#46039f"
            ],
            [
             0.2222222222222222,
             "#7201a8"
            ],
            [
             0.3333333333333333,
             "#9c179e"
            ],
            [
             0.4444444444444444,
             "#bd3786"
            ],
            [
             0.5555555555555556,
             "#d8576b"
            ],
            [
             0.6666666666666666,
             "#ed7953"
            ],
            [
             0.7777777777777778,
             "#fb9f3a"
            ],
            [
             0.8888888888888888,
             "#fdca26"
            ],
            [
             1,
             "#f0f921"
            ]
           ],
           "sequentialminus": [
            [
             0,
             "#0d0887"
            ],
            [
             0.1111111111111111,
             "#46039f"
            ],
            [
             0.2222222222222222,
             "#7201a8"
            ],
            [
             0.3333333333333333,
             "#9c179e"
            ],
            [
             0.4444444444444444,
             "#bd3786"
            ],
            [
             0.5555555555555556,
             "#d8576b"
            ],
            [
             0.6666666666666666,
             "#ed7953"
            ],
            [
             0.7777777777777778,
             "#fb9f3a"
            ],
            [
             0.8888888888888888,
             "#fdca26"
            ],
            [
             1,
             "#f0f921"
            ]
           ]
          },
          "colorway": [
           "#636efa",
           "#EF553B",
           "#00cc96",
           "#ab63fa",
           "#FFA15A",
           "#19d3f3",
           "#FF6692",
           "#B6E880",
           "#FF97FF",
           "#FECB52"
          ],
          "font": {
           "color": "#2a3f5f"
          },
          "geo": {
           "bgcolor": "white",
           "lakecolor": "white",
           "landcolor": "#E5ECF6",
           "showlakes": true,
           "showland": true,
           "subunitcolor": "white"
          },
          "hoverlabel": {
           "align": "left"
          },
          "hovermode": "closest",
          "mapbox": {
           "style": "light"
          },
          "paper_bgcolor": "white",
          "plot_bgcolor": "#E5ECF6",
          "polar": {
           "angularaxis": {
            "gridcolor": "white",
            "linecolor": "white",
            "ticks": ""
           },
           "bgcolor": "#E5ECF6",
           "radialaxis": {
            "gridcolor": "white",
            "linecolor": "white",
            "ticks": ""
           }
          },
          "scene": {
           "xaxis": {
            "backgroundcolor": "#E5ECF6",
            "gridcolor": "white",
            "gridwidth": 2,
            "linecolor": "white",
            "showbackground": true,
            "ticks": "",
            "zerolinecolor": "white"
           },
           "yaxis": {
            "backgroundcolor": "#E5ECF6",
            "gridcolor": "white",
            "gridwidth": 2,
            "linecolor": "white",
            "showbackground": true,
            "ticks": "",
            "zerolinecolor": "white"
           },
           "zaxis": {
            "backgroundcolor": "#E5ECF6",
            "gridcolor": "white",
            "gridwidth": 2,
            "linecolor": "white",
            "showbackground": true,
            "ticks": "",
            "zerolinecolor": "white"
           }
          },
          "shapedefaults": {
           "line": {
            "color": "#2a3f5f"
           }
          },
          "ternary": {
           "aaxis": {
            "gridcolor": "white",
            "linecolor": "white",
            "ticks": ""
           },
           "baxis": {
            "gridcolor": "white",
            "linecolor": "white",
            "ticks": ""
           },
           "bgcolor": "#E5ECF6",
           "caxis": {
            "gridcolor": "white",
            "linecolor": "white",
            "ticks": ""
           }
          },
          "title": {
           "x": 0.05
          },
          "xaxis": {
           "automargin": true,
           "gridcolor": "white",
           "linecolor": "white",
           "ticks": "",
           "title": {
            "standoff": 15
           },
           "zerolinecolor": "white",
           "zerolinewidth": 2
          },
          "yaxis": {
           "automargin": true,
           "gridcolor": "white",
           "linecolor": "white",
           "ticks": "",
           "title": {
            "standoff": 15
           },
           "zerolinecolor": "white",
           "zerolinewidth": 2
          }
         }
        },
        "title": {
         "font": {
          "family": "Arial",
          "size": 35
         },
         "text": "Review Sentiments for Current and Former"
        },
        "xaxis": {
         "title": {
          "text": "Sentiment Type"
         }
        },
        "yaxis": {
         "title": {
          "text": "Count"
         }
        }
       }
      },
      "text/html": [
       "<div>                            <div id=\"b220902f-7e53-47db-9f89-d5308b74855e\" class=\"plotly-graph-div\" style=\"height:525px; width:100%;\"></div>            <script type=\"text/javascript\">                require([\"plotly\"], function(Plotly) {                    window.PLOTLYENV=window.PLOTLYENV || {};                                    if (document.getElementById(\"b220902f-7e53-47db-9f89-d5308b74855e\")) {                    Plotly.newPlot(                        \"b220902f-7e53-47db-9f89-d5308b74855e\",                        [{\"name\": \"current employees\", \"text\": [\"117\", \"33\", \"7\"], \"textposition\": \"outside\", \"type\": \"bar\", \"x\": [\"positive\", \"neutral\", \"negative\"], \"y\": [117, 33, 7]}, {\"name\": \"former employees\", \"text\": [\"34\", \"30\", \"9\"], \"textposition\": \"outside\", \"type\": \"bar\", \"x\": [\"positive\", \"neutral\", \"negative\"], \"y\": [34, 30, 9]}],                        {\"barmode\": \"group\", \"template\": {\"data\": {\"bar\": [{\"error_x\": {\"color\": \"#2a3f5f\"}, \"error_y\": {\"color\": \"#2a3f5f\"}, \"marker\": {\"line\": {\"color\": \"#E5ECF6\", \"width\": 0.5}}, \"type\": \"bar\"}], \"barpolar\": [{\"marker\": {\"line\": {\"color\": \"#E5ECF6\", \"width\": 0.5}}, \"type\": \"barpolar\"}], \"carpet\": [{\"aaxis\": {\"endlinecolor\": \"#2a3f5f\", \"gridcolor\": \"white\", \"linecolor\": \"white\", \"minorgridcolor\": \"white\", \"startlinecolor\": \"#2a3f5f\"}, \"baxis\": {\"endlinecolor\": \"#2a3f5f\", \"gridcolor\": \"white\", \"linecolor\": \"white\", \"minorgridcolor\": \"white\", \"startlinecolor\": \"#2a3f5f\"}, \"type\": \"carpet\"}], \"choropleth\": [{\"colorbar\": {\"outlinewidth\": 0, \"ticks\": \"\"}, \"type\": \"choropleth\"}], \"contour\": [{\"colorbar\": {\"outlinewidth\": 0, \"ticks\": \"\"}, \"colorscale\": [[0.0, \"#0d0887\"], [0.1111111111111111, \"#46039f\"], [0.2222222222222222, \"#7201a8\"], [0.3333333333333333, \"#9c179e\"], [0.4444444444444444, \"#bd3786\"], [0.5555555555555556, \"#d8576b\"], [0.6666666666666666, \"#ed7953\"], [0.7777777777777778, \"#fb9f3a\"], [0.8888888888888888, \"#fdca26\"], [1.0, \"#f0f921\"]], \"type\": \"contour\"}], \"contourcarpet\": [{\"colorbar\": {\"outlinewidth\": 0, \"ticks\": \"\"}, \"type\": \"contourcarpet\"}], \"heatmap\": [{\"colorbar\": {\"outlinewidth\": 0, \"ticks\": \"\"}, \"colorscale\": [[0.0, \"#0d0887\"], [0.1111111111111111, \"#46039f\"], [0.2222222222222222, \"#7201a8\"], [0.3333333333333333, \"#9c179e\"], [0.4444444444444444, \"#bd3786\"], [0.5555555555555556, \"#d8576b\"], [0.6666666666666666, \"#ed7953\"], [0.7777777777777778, \"#fb9f3a\"], [0.8888888888888888, \"#fdca26\"], [1.0, \"#f0f921\"]], \"type\": \"heatmap\"}], \"heatmapgl\": [{\"colorbar\": {\"outlinewidth\": 0, \"ticks\": \"\"}, \"colorscale\": [[0.0, \"#0d0887\"], [0.1111111111111111, \"#46039f\"], [0.2222222222222222, \"#7201a8\"], [0.3333333333333333, \"#9c179e\"], [0.4444444444444444, \"#bd3786\"], [0.5555555555555556, \"#d8576b\"], [0.6666666666666666, \"#ed7953\"], [0.7777777777777778, \"#fb9f3a\"], [0.8888888888888888, \"#fdca26\"], [1.0, \"#f0f921\"]], \"type\": \"heatmapgl\"}], \"histogram\": [{\"marker\": {\"colorbar\": {\"outlinewidth\": 0, \"ticks\": \"\"}}, \"type\": \"histogram\"}], \"histogram2d\": [{\"colorbar\": {\"outlinewidth\": 0, \"ticks\": \"\"}, \"colorscale\": [[0.0, \"#0d0887\"], [0.1111111111111111, \"#46039f\"], [0.2222222222222222, \"#7201a8\"], [0.3333333333333333, \"#9c179e\"], [0.4444444444444444, \"#bd3786\"], [0.5555555555555556, \"#d8576b\"], [0.6666666666666666, \"#ed7953\"], [0.7777777777777778, \"#fb9f3a\"], [0.8888888888888888, \"#fdca26\"], [1.0, \"#f0f921\"]], \"type\": \"histogram2d\"}], \"histogram2dcontour\": [{\"colorbar\": {\"outlinewidth\": 0, \"ticks\": \"\"}, \"colorscale\": [[0.0, \"#0d0887\"], [0.1111111111111111, \"#46039f\"], [0.2222222222222222, \"#7201a8\"], [0.3333333333333333, \"#9c179e\"], [0.4444444444444444, \"#bd3786\"], [0.5555555555555556, \"#d8576b\"], [0.6666666666666666, \"#ed7953\"], [0.7777777777777778, \"#fb9f3a\"], [0.8888888888888888, \"#fdca26\"], [1.0, \"#f0f921\"]], \"type\": \"histogram2dcontour\"}], \"mesh3d\": [{\"colorbar\": {\"outlinewidth\": 0, \"ticks\": \"\"}, \"type\": \"mesh3d\"}], \"parcoords\": [{\"line\": {\"colorbar\": {\"outlinewidth\": 0, \"ticks\": \"\"}}, \"type\": \"parcoords\"}], \"pie\": [{\"automargin\": true, \"type\": \"pie\"}], \"scatter\": [{\"marker\": {\"colorbar\": {\"outlinewidth\": 0, \"ticks\": \"\"}}, \"type\": \"scatter\"}], \"scatter3d\": [{\"line\": {\"colorbar\": {\"outlinewidth\": 0, \"ticks\": \"\"}}, \"marker\": {\"colorbar\": {\"outlinewidth\": 0, \"ticks\": \"\"}}, \"type\": \"scatter3d\"}], \"scattercarpet\": [{\"marker\": {\"colorbar\": {\"outlinewidth\": 0, \"ticks\": \"\"}}, \"type\": \"scattercarpet\"}], \"scattergeo\": [{\"marker\": {\"colorbar\": {\"outlinewidth\": 0, \"ticks\": \"\"}}, \"type\": \"scattergeo\"}], \"scattergl\": [{\"marker\": {\"colorbar\": {\"outlinewidth\": 0, \"ticks\": \"\"}}, \"type\": \"scattergl\"}], \"scattermapbox\": [{\"marker\": {\"colorbar\": {\"outlinewidth\": 0, \"ticks\": \"\"}}, \"type\": \"scattermapbox\"}], \"scatterpolar\": [{\"marker\": {\"colorbar\": {\"outlinewidth\": 0, \"ticks\": \"\"}}, \"type\": \"scatterpolar\"}], \"scatterpolargl\": [{\"marker\": {\"colorbar\": {\"outlinewidth\": 0, \"ticks\": \"\"}}, \"type\": \"scatterpolargl\"}], \"scatterternary\": [{\"marker\": {\"colorbar\": {\"outlinewidth\": 0, \"ticks\": \"\"}}, \"type\": \"scatterternary\"}], \"surface\": [{\"colorbar\": {\"outlinewidth\": 0, \"ticks\": \"\"}, \"colorscale\": [[0.0, \"#0d0887\"], [0.1111111111111111, \"#46039f\"], [0.2222222222222222, \"#7201a8\"], [0.3333333333333333, \"#9c179e\"], [0.4444444444444444, \"#bd3786\"], [0.5555555555555556, \"#d8576b\"], [0.6666666666666666, \"#ed7953\"], [0.7777777777777778, \"#fb9f3a\"], [0.8888888888888888, \"#fdca26\"], [1.0, \"#f0f921\"]], \"type\": \"surface\"}], \"table\": [{\"cells\": {\"fill\": {\"color\": \"#EBF0F8\"}, \"line\": {\"color\": \"white\"}}, \"header\": {\"fill\": {\"color\": \"#C8D4E3\"}, \"line\": {\"color\": \"white\"}}, \"type\": \"table\"}]}, \"layout\": {\"annotationdefaults\": {\"arrowcolor\": \"#2a3f5f\", \"arrowhead\": 0, \"arrowwidth\": 1}, \"autotypenumbers\": \"strict\", \"coloraxis\": {\"colorbar\": {\"outlinewidth\": 0, \"ticks\": \"\"}}, \"colorscale\": {\"diverging\": [[0, \"#8e0152\"], [0.1, \"#c51b7d\"], [0.2, \"#de77ae\"], [0.3, \"#f1b6da\"], [0.4, \"#fde0ef\"], [0.5, \"#f7f7f7\"], [0.6, \"#e6f5d0\"], [0.7, \"#b8e186\"], [0.8, \"#7fbc41\"], [0.9, \"#4d9221\"], [1, \"#276419\"]], \"sequential\": [[0.0, \"#0d0887\"], [0.1111111111111111, \"#46039f\"], [0.2222222222222222, \"#7201a8\"], [0.3333333333333333, \"#9c179e\"], [0.4444444444444444, \"#bd3786\"], [0.5555555555555556, \"#d8576b\"], [0.6666666666666666, \"#ed7953\"], [0.7777777777777778, \"#fb9f3a\"], [0.8888888888888888, \"#fdca26\"], [1.0, \"#f0f921\"]], \"sequentialminus\": [[0.0, \"#0d0887\"], [0.1111111111111111, \"#46039f\"], [0.2222222222222222, \"#7201a8\"], [0.3333333333333333, \"#9c179e\"], [0.4444444444444444, \"#bd3786\"], [0.5555555555555556, \"#d8576b\"], [0.6666666666666666, \"#ed7953\"], [0.7777777777777778, \"#fb9f3a\"], [0.8888888888888888, \"#fdca26\"], [1.0, \"#f0f921\"]]}, \"colorway\": [\"#636efa\", \"#EF553B\", \"#00cc96\", \"#ab63fa\", \"#FFA15A\", \"#19d3f3\", \"#FF6692\", \"#B6E880\", \"#FF97FF\", \"#FECB52\"], \"font\": {\"color\": \"#2a3f5f\"}, \"geo\": {\"bgcolor\": \"white\", \"lakecolor\": \"white\", \"landcolor\": \"#E5ECF6\", \"showlakes\": true, \"showland\": true, \"subunitcolor\": \"white\"}, \"hoverlabel\": {\"align\": \"left\"}, \"hovermode\": \"closest\", \"mapbox\": {\"style\": \"light\"}, \"paper_bgcolor\": \"white\", \"plot_bgcolor\": \"#E5ECF6\", \"polar\": {\"angularaxis\": {\"gridcolor\": \"white\", \"linecolor\": \"white\", \"ticks\": \"\"}, \"bgcolor\": \"#E5ECF6\", \"radialaxis\": {\"gridcolor\": \"white\", \"linecolor\": \"white\", \"ticks\": \"\"}}, \"scene\": {\"xaxis\": {\"backgroundcolor\": \"#E5ECF6\", \"gridcolor\": \"white\", \"gridwidth\": 2, \"linecolor\": \"white\", \"showbackground\": true, \"ticks\": \"\", \"zerolinecolor\": \"white\"}, \"yaxis\": {\"backgroundcolor\": \"#E5ECF6\", \"gridcolor\": \"white\", \"gridwidth\": 2, \"linecolor\": \"white\", \"showbackground\": true, \"ticks\": \"\", \"zerolinecolor\": \"white\"}, \"zaxis\": {\"backgroundcolor\": \"#E5ECF6\", \"gridcolor\": \"white\", \"gridwidth\": 2, \"linecolor\": \"white\", \"showbackground\": true, \"ticks\": \"\", \"zerolinecolor\": \"white\"}}, \"shapedefaults\": {\"line\": {\"color\": \"#2a3f5f\"}}, \"ternary\": {\"aaxis\": {\"gridcolor\": \"white\", \"linecolor\": \"white\", \"ticks\": \"\"}, \"baxis\": {\"gridcolor\": \"white\", \"linecolor\": \"white\", \"ticks\": \"\"}, \"bgcolor\": \"#E5ECF6\", \"caxis\": {\"gridcolor\": \"white\", \"linecolor\": \"white\", \"ticks\": \"\"}}, \"title\": {\"x\": 0.05}, \"xaxis\": {\"automargin\": true, \"gridcolor\": \"white\", \"linecolor\": \"white\", \"ticks\": \"\", \"title\": {\"standoff\": 15}, \"zerolinecolor\": \"white\", \"zerolinewidth\": 2}, \"yaxis\": {\"automargin\": true, \"gridcolor\": \"white\", \"linecolor\": \"white\", \"ticks\": \"\", \"title\": {\"standoff\": 15}, \"zerolinecolor\": \"white\", \"zerolinewidth\": 2}}}, \"title\": {\"font\": {\"family\": \"Arial\", \"size\": 35}, \"text\": \"Review Sentiments for Current and Former\"}, \"xaxis\": {\"title\": {\"text\": \"Sentiment Type\"}}, \"yaxis\": {\"title\": {\"text\": \"Count\"}}},                        {\"responsive\": true}                    ).then(function(){\n",
       "                            \n",
       "var gd = document.getElementById('b220902f-7e53-47db-9f89-d5308b74855e');\n",
       "var x = new MutationObserver(function (mutations, observer) {{\n",
       "        var display = window.getComputedStyle(gd).display;\n",
       "        if (!display || display === 'none') {{\n",
       "            console.log([gd, 'removed!']);\n",
       "            Plotly.purge(gd);\n",
       "            observer.disconnect();\n",
       "        }}\n",
       "}});\n",
       "\n",
       "// Listen for the removal of the full notebook cells\n",
       "var notebookContainer = gd.closest('#notebook-container');\n",
       "if (notebookContainer) {{\n",
       "    x.observe(notebookContainer, {childList: true});\n",
       "}}\n",
       "\n",
       "// Listen for the clearing of the current output cell\n",
       "var outputEl = gd.closest('.output');\n",
       "if (outputEl) {{\n",
       "    x.observe(outputEl, {childList: true});\n",
       "}}\n",
       "\n",
       "                        })                };                });            </script>        </div>"
      ]
     },
     "metadata": {},
     "output_type": "display_data"
    }
   ],
   "source": [
    "trace1 = go.Bar(x = cur_x, y = cur_y, name = 'current employees', text = cur_y, textposition='outside')\n",
    "trace2 = go.Bar(x = for_x, y = for_y, name = 'former employees', text = for_y, textposition='outside')\n",
    "\n",
    "\n",
    "data = [trace1, trace2]\n",
    "\n",
    "layout = go.Layout(title='Review Sentiments for Current and Former',\n",
    "                   xaxis_title=\"Sentiment Type\",\n",
    "                   yaxis_title=\"Count\",\n",
    "                   titlefont= dict(family='Arial', size=35),\n",
    "                   barmode='group')\n",
    "\n",
    "fig = go.Figure(data = data, layout=layout)\n",
    "offline.iplot(fig)"
   ]
  },
  {
   "cell_type": "code",
   "execution_count": 53,
   "metadata": {},
   "outputs": [
    {
     "data": {
      "application/vnd.plotly.v1+json": {
       "config": {
        "linkText": "Export to plot.ly",
        "plotlyServerURL": "https://plot.ly",
        "showLink": false
       },
       "data": [
        {
         "name": "current employees",
         "text": [
          "69",
          "52",
          "27",
          "5",
          "4"
         ],
         "textposition": "outside",
         "type": "bar",
         "x": [
          4,
          5,
          3,
          1,
          2
         ],
         "y": [
          69,
          52,
          27,
          5,
          4
         ]
        },
        {
         "name": "former employees",
         "text": [
          "23",
          "19",
          "11",
          "11",
          "9"
         ],
         "textposition": "outside",
         "type": "bar",
         "x": [
          4,
          3,
          2,
          1,
          5
         ],
         "y": [
          23,
          19,
          11,
          11,
          9
         ]
        }
       ],
       "layout": {
        "barmode": "group",
        "template": {
         "data": {
          "bar": [
           {
            "error_x": {
             "color": "#2a3f5f"
            },
            "error_y": {
             "color": "#2a3f5f"
            },
            "marker": {
             "line": {
              "color": "#E5ECF6",
              "width": 0.5
             }
            },
            "type": "bar"
           }
          ],
          "barpolar": [
           {
            "marker": {
             "line": {
              "color": "#E5ECF6",
              "width": 0.5
             }
            },
            "type": "barpolar"
           }
          ],
          "carpet": [
           {
            "aaxis": {
             "endlinecolor": "#2a3f5f",
             "gridcolor": "white",
             "linecolor": "white",
             "minorgridcolor": "white",
             "startlinecolor": "#2a3f5f"
            },
            "baxis": {
             "endlinecolor": "#2a3f5f",
             "gridcolor": "white",
             "linecolor": "white",
             "minorgridcolor": "white",
             "startlinecolor": "#2a3f5f"
            },
            "type": "carpet"
           }
          ],
          "choropleth": [
           {
            "colorbar": {
             "outlinewidth": 0,
             "ticks": ""
            },
            "type": "choropleth"
           }
          ],
          "contour": [
           {
            "colorbar": {
             "outlinewidth": 0,
             "ticks": ""
            },
            "colorscale": [
             [
              0,
              "#0d0887"
             ],
             [
              0.1111111111111111,
              "#46039f"
             ],
             [
              0.2222222222222222,
              "#7201a8"
             ],
             [
              0.3333333333333333,
              "#9c179e"
             ],
             [
              0.4444444444444444,
              "#bd3786"
             ],
             [
              0.5555555555555556,
              "#d8576b"
             ],
             [
              0.6666666666666666,
              "#ed7953"
             ],
             [
              0.7777777777777778,
              "#fb9f3a"
             ],
             [
              0.8888888888888888,
              "#fdca26"
             ],
             [
              1,
              "#f0f921"
             ]
            ],
            "type": "contour"
           }
          ],
          "contourcarpet": [
           {
            "colorbar": {
             "outlinewidth": 0,
             "ticks": ""
            },
            "type": "contourcarpet"
           }
          ],
          "heatmap": [
           {
            "colorbar": {
             "outlinewidth": 0,
             "ticks": ""
            },
            "colorscale": [
             [
              0,
              "#0d0887"
             ],
             [
              0.1111111111111111,
              "#46039f"
             ],
             [
              0.2222222222222222,
              "#7201a8"
             ],
             [
              0.3333333333333333,
              "#9c179e"
             ],
             [
              0.4444444444444444,
              "#bd3786"
             ],
             [
              0.5555555555555556,
              "#d8576b"
             ],
             [
              0.6666666666666666,
              "#ed7953"
             ],
             [
              0.7777777777777778,
              "#fb9f3a"
             ],
             [
              0.8888888888888888,
              "#fdca26"
             ],
             [
              1,
              "#f0f921"
             ]
            ],
            "type": "heatmap"
           }
          ],
          "heatmapgl": [
           {
            "colorbar": {
             "outlinewidth": 0,
             "ticks": ""
            },
            "colorscale": [
             [
              0,
              "#0d0887"
             ],
             [
              0.1111111111111111,
              "#46039f"
             ],
             [
              0.2222222222222222,
              "#7201a8"
             ],
             [
              0.3333333333333333,
              "#9c179e"
             ],
             [
              0.4444444444444444,
              "#bd3786"
             ],
             [
              0.5555555555555556,
              "#d8576b"
             ],
             [
              0.6666666666666666,
              "#ed7953"
             ],
             [
              0.7777777777777778,
              "#fb9f3a"
             ],
             [
              0.8888888888888888,
              "#fdca26"
             ],
             [
              1,
              "#f0f921"
             ]
            ],
            "type": "heatmapgl"
           }
          ],
          "histogram": [
           {
            "marker": {
             "colorbar": {
              "outlinewidth": 0,
              "ticks": ""
             }
            },
            "type": "histogram"
           }
          ],
          "histogram2d": [
           {
            "colorbar": {
             "outlinewidth": 0,
             "ticks": ""
            },
            "colorscale": [
             [
              0,
              "#0d0887"
             ],
             [
              0.1111111111111111,
              "#46039f"
             ],
             [
              0.2222222222222222,
              "#7201a8"
             ],
             [
              0.3333333333333333,
              "#9c179e"
             ],
             [
              0.4444444444444444,
              "#bd3786"
             ],
             [
              0.5555555555555556,
              "#d8576b"
             ],
             [
              0.6666666666666666,
              "#ed7953"
             ],
             [
              0.7777777777777778,
              "#fb9f3a"
             ],
             [
              0.8888888888888888,
              "#fdca26"
             ],
             [
              1,
              "#f0f921"
             ]
            ],
            "type": "histogram2d"
           }
          ],
          "histogram2dcontour": [
           {
            "colorbar": {
             "outlinewidth": 0,
             "ticks": ""
            },
            "colorscale": [
             [
              0,
              "#0d0887"
             ],
             [
              0.1111111111111111,
              "#46039f"
             ],
             [
              0.2222222222222222,
              "#7201a8"
             ],
             [
              0.3333333333333333,
              "#9c179e"
             ],
             [
              0.4444444444444444,
              "#bd3786"
             ],
             [
              0.5555555555555556,
              "#d8576b"
             ],
             [
              0.6666666666666666,
              "#ed7953"
             ],
             [
              0.7777777777777778,
              "#fb9f3a"
             ],
             [
              0.8888888888888888,
              "#fdca26"
             ],
             [
              1,
              "#f0f921"
             ]
            ],
            "type": "histogram2dcontour"
           }
          ],
          "mesh3d": [
           {
            "colorbar": {
             "outlinewidth": 0,
             "ticks": ""
            },
            "type": "mesh3d"
           }
          ],
          "parcoords": [
           {
            "line": {
             "colorbar": {
              "outlinewidth": 0,
              "ticks": ""
             }
            },
            "type": "parcoords"
           }
          ],
          "pie": [
           {
            "automargin": true,
            "type": "pie"
           }
          ],
          "scatter": [
           {
            "marker": {
             "colorbar": {
              "outlinewidth": 0,
              "ticks": ""
             }
            },
            "type": "scatter"
           }
          ],
          "scatter3d": [
           {
            "line": {
             "colorbar": {
              "outlinewidth": 0,
              "ticks": ""
             }
            },
            "marker": {
             "colorbar": {
              "outlinewidth": 0,
              "ticks": ""
             }
            },
            "type": "scatter3d"
           }
          ],
          "scattercarpet": [
           {
            "marker": {
             "colorbar": {
              "outlinewidth": 0,
              "ticks": ""
             }
            },
            "type": "scattercarpet"
           }
          ],
          "scattergeo": [
           {
            "marker": {
             "colorbar": {
              "outlinewidth": 0,
              "ticks": ""
             }
            },
            "type": "scattergeo"
           }
          ],
          "scattergl": [
           {
            "marker": {
             "colorbar": {
              "outlinewidth": 0,
              "ticks": ""
             }
            },
            "type": "scattergl"
           }
          ],
          "scattermapbox": [
           {
            "marker": {
             "colorbar": {
              "outlinewidth": 0,
              "ticks": ""
             }
            },
            "type": "scattermapbox"
           }
          ],
          "scatterpolar": [
           {
            "marker": {
             "colorbar": {
              "outlinewidth": 0,
              "ticks": ""
             }
            },
            "type": "scatterpolar"
           }
          ],
          "scatterpolargl": [
           {
            "marker": {
             "colorbar": {
              "outlinewidth": 0,
              "ticks": ""
             }
            },
            "type": "scatterpolargl"
           }
          ],
          "scatterternary": [
           {
            "marker": {
             "colorbar": {
              "outlinewidth": 0,
              "ticks": ""
             }
            },
            "type": "scatterternary"
           }
          ],
          "surface": [
           {
            "colorbar": {
             "outlinewidth": 0,
             "ticks": ""
            },
            "colorscale": [
             [
              0,
              "#0d0887"
             ],
             [
              0.1111111111111111,
              "#46039f"
             ],
             [
              0.2222222222222222,
              "#7201a8"
             ],
             [
              0.3333333333333333,
              "#9c179e"
             ],
             [
              0.4444444444444444,
              "#bd3786"
             ],
             [
              0.5555555555555556,
              "#d8576b"
             ],
             [
              0.6666666666666666,
              "#ed7953"
             ],
             [
              0.7777777777777778,
              "#fb9f3a"
             ],
             [
              0.8888888888888888,
              "#fdca26"
             ],
             [
              1,
              "#f0f921"
             ]
            ],
            "type": "surface"
           }
          ],
          "table": [
           {
            "cells": {
             "fill": {
              "color": "#EBF0F8"
             },
             "line": {
              "color": "white"
             }
            },
            "header": {
             "fill": {
              "color": "#C8D4E3"
             },
             "line": {
              "color": "white"
             }
            },
            "type": "table"
           }
          ]
         },
         "layout": {
          "annotationdefaults": {
           "arrowcolor": "#2a3f5f",
           "arrowhead": 0,
           "arrowwidth": 1
          },
          "autotypenumbers": "strict",
          "coloraxis": {
           "colorbar": {
            "outlinewidth": 0,
            "ticks": ""
           }
          },
          "colorscale": {
           "diverging": [
            [
             0,
             "#8e0152"
            ],
            [
             0.1,
             "#c51b7d"
            ],
            [
             0.2,
             "#de77ae"
            ],
            [
             0.3,
             "#f1b6da"
            ],
            [
             0.4,
             "#fde0ef"
            ],
            [
             0.5,
             "#f7f7f7"
            ],
            [
             0.6,
             "#e6f5d0"
            ],
            [
             0.7,
             "#b8e186"
            ],
            [
             0.8,
             "#7fbc41"
            ],
            [
             0.9,
             "#4d9221"
            ],
            [
             1,
             "#276419"
            ]
           ],
           "sequential": [
            [
             0,
             "#0d0887"
            ],
            [
             0.1111111111111111,
             "#46039f"
            ],
            [
             0.2222222222222222,
             "#7201a8"
            ],
            [
             0.3333333333333333,
             "#9c179e"
            ],
            [
             0.4444444444444444,
             "#bd3786"
            ],
            [
             0.5555555555555556,
             "#d8576b"
            ],
            [
             0.6666666666666666,
             "#ed7953"
            ],
            [
             0.7777777777777778,
             "#fb9f3a"
            ],
            [
             0.8888888888888888,
             "#fdca26"
            ],
            [
             1,
             "#f0f921"
            ]
           ],
           "sequentialminus": [
            [
             0,
             "#0d0887"
            ],
            [
             0.1111111111111111,
             "#46039f"
            ],
            [
             0.2222222222222222,
             "#7201a8"
            ],
            [
             0.3333333333333333,
             "#9c179e"
            ],
            [
             0.4444444444444444,
             "#bd3786"
            ],
            [
             0.5555555555555556,
             "#d8576b"
            ],
            [
             0.6666666666666666,
             "#ed7953"
            ],
            [
             0.7777777777777778,
             "#fb9f3a"
            ],
            [
             0.8888888888888888,
             "#fdca26"
            ],
            [
             1,
             "#f0f921"
            ]
           ]
          },
          "colorway": [
           "#636efa",
           "#EF553B",
           "#00cc96",
           "#ab63fa",
           "#FFA15A",
           "#19d3f3",
           "#FF6692",
           "#B6E880",
           "#FF97FF",
           "#FECB52"
          ],
          "font": {
           "color": "#2a3f5f"
          },
          "geo": {
           "bgcolor": "white",
           "lakecolor": "white",
           "landcolor": "#E5ECF6",
           "showlakes": true,
           "showland": true,
           "subunitcolor": "white"
          },
          "hoverlabel": {
           "align": "left"
          },
          "hovermode": "closest",
          "mapbox": {
           "style": "light"
          },
          "paper_bgcolor": "white",
          "plot_bgcolor": "#E5ECF6",
          "polar": {
           "angularaxis": {
            "gridcolor": "white",
            "linecolor": "white",
            "ticks": ""
           },
           "bgcolor": "#E5ECF6",
           "radialaxis": {
            "gridcolor": "white",
            "linecolor": "white",
            "ticks": ""
           }
          },
          "scene": {
           "xaxis": {
            "backgroundcolor": "#E5ECF6",
            "gridcolor": "white",
            "gridwidth": 2,
            "linecolor": "white",
            "showbackground": true,
            "ticks": "",
            "zerolinecolor": "white"
           },
           "yaxis": {
            "backgroundcolor": "#E5ECF6",
            "gridcolor": "white",
            "gridwidth": 2,
            "linecolor": "white",
            "showbackground": true,
            "ticks": "",
            "zerolinecolor": "white"
           },
           "zaxis": {
            "backgroundcolor": "#E5ECF6",
            "gridcolor": "white",
            "gridwidth": 2,
            "linecolor": "white",
            "showbackground": true,
            "ticks": "",
            "zerolinecolor": "white"
           }
          },
          "shapedefaults": {
           "line": {
            "color": "#2a3f5f"
           }
          },
          "ternary": {
           "aaxis": {
            "gridcolor": "white",
            "linecolor": "white",
            "ticks": ""
           },
           "baxis": {
            "gridcolor": "white",
            "linecolor": "white",
            "ticks": ""
           },
           "bgcolor": "#E5ECF6",
           "caxis": {
            "gridcolor": "white",
            "linecolor": "white",
            "ticks": ""
           }
          },
          "title": {
           "x": 0.05
          },
          "xaxis": {
           "automargin": true,
           "gridcolor": "white",
           "linecolor": "white",
           "ticks": "",
           "title": {
            "standoff": 15
           },
           "zerolinecolor": "white",
           "zerolinewidth": 2
          },
          "yaxis": {
           "automargin": true,
           "gridcolor": "white",
           "linecolor": "white",
           "ticks": "",
           "title": {
            "standoff": 15
           },
           "zerolinecolor": "white",
           "zerolinewidth": 2
          }
         }
        },
        "title": {
         "font": {
          "family": "Arial",
          "size": 35
         },
         "text": "Star Rating for Current and Former"
        },
        "xaxis": {
         "title": {
          "text": "Star Rating"
         }
        },
        "yaxis": {
         "title": {
          "text": "Count"
         }
        }
       }
      },
      "text/html": [
       "<div>                            <div id=\"16855ffa-8a0e-443b-a578-3a658cf3844f\" class=\"plotly-graph-div\" style=\"height:525px; width:100%;\"></div>            <script type=\"text/javascript\">                require([\"plotly\"], function(Plotly) {                    window.PLOTLYENV=window.PLOTLYENV || {};                                    if (document.getElementById(\"16855ffa-8a0e-443b-a578-3a658cf3844f\")) {                    Plotly.newPlot(                        \"16855ffa-8a0e-443b-a578-3a658cf3844f\",                        [{\"name\": \"current employees\", \"text\": [\"69\", \"52\", \"27\", \"5\", \"4\"], \"textposition\": \"outside\", \"type\": \"bar\", \"x\": [4, 5, 3, 1, 2], \"y\": [69, 52, 27, 5, 4]}, {\"name\": \"former employees\", \"text\": [\"23\", \"19\", \"11\", \"11\", \"9\"], \"textposition\": \"outside\", \"type\": \"bar\", \"x\": [4, 3, 2, 1, 5], \"y\": [23, 19, 11, 11, 9]}],                        {\"barmode\": \"group\", \"template\": {\"data\": {\"bar\": [{\"error_x\": {\"color\": \"#2a3f5f\"}, \"error_y\": {\"color\": \"#2a3f5f\"}, \"marker\": {\"line\": {\"color\": \"#E5ECF6\", \"width\": 0.5}}, \"type\": \"bar\"}], \"barpolar\": [{\"marker\": {\"line\": {\"color\": \"#E5ECF6\", \"width\": 0.5}}, \"type\": \"barpolar\"}], \"carpet\": [{\"aaxis\": {\"endlinecolor\": \"#2a3f5f\", \"gridcolor\": \"white\", \"linecolor\": \"white\", \"minorgridcolor\": \"white\", \"startlinecolor\": \"#2a3f5f\"}, \"baxis\": {\"endlinecolor\": \"#2a3f5f\", \"gridcolor\": \"white\", \"linecolor\": \"white\", \"minorgridcolor\": \"white\", \"startlinecolor\": \"#2a3f5f\"}, \"type\": \"carpet\"}], \"choropleth\": [{\"colorbar\": {\"outlinewidth\": 0, \"ticks\": \"\"}, \"type\": \"choropleth\"}], \"contour\": [{\"colorbar\": {\"outlinewidth\": 0, \"ticks\": \"\"}, \"colorscale\": [[0.0, \"#0d0887\"], [0.1111111111111111, \"#46039f\"], [0.2222222222222222, \"#7201a8\"], [0.3333333333333333, \"#9c179e\"], [0.4444444444444444, \"#bd3786\"], [0.5555555555555556, \"#d8576b\"], [0.6666666666666666, \"#ed7953\"], [0.7777777777777778, \"#fb9f3a\"], [0.8888888888888888, \"#fdca26\"], [1.0, \"#f0f921\"]], \"type\": \"contour\"}], \"contourcarpet\": [{\"colorbar\": {\"outlinewidth\": 0, \"ticks\": \"\"}, \"type\": \"contourcarpet\"}], \"heatmap\": [{\"colorbar\": {\"outlinewidth\": 0, \"ticks\": \"\"}, \"colorscale\": [[0.0, \"#0d0887\"], [0.1111111111111111, \"#46039f\"], [0.2222222222222222, \"#7201a8\"], [0.3333333333333333, \"#9c179e\"], [0.4444444444444444, \"#bd3786\"], [0.5555555555555556, \"#d8576b\"], [0.6666666666666666, \"#ed7953\"], [0.7777777777777778, \"#fb9f3a\"], [0.8888888888888888, \"#fdca26\"], [1.0, \"#f0f921\"]], \"type\": \"heatmap\"}], \"heatmapgl\": [{\"colorbar\": {\"outlinewidth\": 0, \"ticks\": \"\"}, \"colorscale\": [[0.0, \"#0d0887\"], [0.1111111111111111, \"#46039f\"], [0.2222222222222222, \"#7201a8\"], [0.3333333333333333, \"#9c179e\"], [0.4444444444444444, \"#bd3786\"], [0.5555555555555556, \"#d8576b\"], [0.6666666666666666, \"#ed7953\"], [0.7777777777777778, \"#fb9f3a\"], [0.8888888888888888, \"#fdca26\"], [1.0, \"#f0f921\"]], \"type\": \"heatmapgl\"}], \"histogram\": [{\"marker\": {\"colorbar\": {\"outlinewidth\": 0, \"ticks\": \"\"}}, \"type\": \"histogram\"}], \"histogram2d\": [{\"colorbar\": {\"outlinewidth\": 0, \"ticks\": \"\"}, \"colorscale\": [[0.0, \"#0d0887\"], [0.1111111111111111, \"#46039f\"], [0.2222222222222222, \"#7201a8\"], [0.3333333333333333, \"#9c179e\"], [0.4444444444444444, \"#bd3786\"], [0.5555555555555556, \"#d8576b\"], [0.6666666666666666, \"#ed7953\"], [0.7777777777777778, \"#fb9f3a\"], [0.8888888888888888, \"#fdca26\"], [1.0, \"#f0f921\"]], \"type\": \"histogram2d\"}], \"histogram2dcontour\": [{\"colorbar\": {\"outlinewidth\": 0, \"ticks\": \"\"}, \"colorscale\": [[0.0, \"#0d0887\"], [0.1111111111111111, \"#46039f\"], [0.2222222222222222, \"#7201a8\"], [0.3333333333333333, \"#9c179e\"], [0.4444444444444444, \"#bd3786\"], [0.5555555555555556, \"#d8576b\"], [0.6666666666666666, \"#ed7953\"], [0.7777777777777778, \"#fb9f3a\"], [0.8888888888888888, \"#fdca26\"], [1.0, \"#f0f921\"]], \"type\": \"histogram2dcontour\"}], \"mesh3d\": [{\"colorbar\": {\"outlinewidth\": 0, \"ticks\": \"\"}, \"type\": \"mesh3d\"}], \"parcoords\": [{\"line\": {\"colorbar\": {\"outlinewidth\": 0, \"ticks\": \"\"}}, \"type\": \"parcoords\"}], \"pie\": [{\"automargin\": true, \"type\": \"pie\"}], \"scatter\": [{\"marker\": {\"colorbar\": {\"outlinewidth\": 0, \"ticks\": \"\"}}, \"type\": \"scatter\"}], \"scatter3d\": [{\"line\": {\"colorbar\": {\"outlinewidth\": 0, \"ticks\": \"\"}}, \"marker\": {\"colorbar\": {\"outlinewidth\": 0, \"ticks\": \"\"}}, \"type\": \"scatter3d\"}], \"scattercarpet\": [{\"marker\": {\"colorbar\": {\"outlinewidth\": 0, \"ticks\": \"\"}}, \"type\": \"scattercarpet\"}], \"scattergeo\": [{\"marker\": {\"colorbar\": {\"outlinewidth\": 0, \"ticks\": \"\"}}, \"type\": \"scattergeo\"}], \"scattergl\": [{\"marker\": {\"colorbar\": {\"outlinewidth\": 0, \"ticks\": \"\"}}, \"type\": \"scattergl\"}], \"scattermapbox\": [{\"marker\": {\"colorbar\": {\"outlinewidth\": 0, \"ticks\": \"\"}}, \"type\": \"scattermapbox\"}], \"scatterpolar\": [{\"marker\": {\"colorbar\": {\"outlinewidth\": 0, \"ticks\": \"\"}}, \"type\": \"scatterpolar\"}], \"scatterpolargl\": [{\"marker\": {\"colorbar\": {\"outlinewidth\": 0, \"ticks\": \"\"}}, \"type\": \"scatterpolargl\"}], \"scatterternary\": [{\"marker\": {\"colorbar\": {\"outlinewidth\": 0, \"ticks\": \"\"}}, \"type\": \"scatterternary\"}], \"surface\": [{\"colorbar\": {\"outlinewidth\": 0, \"ticks\": \"\"}, \"colorscale\": [[0.0, \"#0d0887\"], [0.1111111111111111, \"#46039f\"], [0.2222222222222222, \"#7201a8\"], [0.3333333333333333, \"#9c179e\"], [0.4444444444444444, \"#bd3786\"], [0.5555555555555556, \"#d8576b\"], [0.6666666666666666, \"#ed7953\"], [0.7777777777777778, \"#fb9f3a\"], [0.8888888888888888, \"#fdca26\"], [1.0, \"#f0f921\"]], \"type\": \"surface\"}], \"table\": [{\"cells\": {\"fill\": {\"color\": \"#EBF0F8\"}, \"line\": {\"color\": \"white\"}}, \"header\": {\"fill\": {\"color\": \"#C8D4E3\"}, \"line\": {\"color\": \"white\"}}, \"type\": \"table\"}]}, \"layout\": {\"annotationdefaults\": {\"arrowcolor\": \"#2a3f5f\", \"arrowhead\": 0, \"arrowwidth\": 1}, \"autotypenumbers\": \"strict\", \"coloraxis\": {\"colorbar\": {\"outlinewidth\": 0, \"ticks\": \"\"}}, \"colorscale\": {\"diverging\": [[0, \"#8e0152\"], [0.1, \"#c51b7d\"], [0.2, \"#de77ae\"], [0.3, \"#f1b6da\"], [0.4, \"#fde0ef\"], [0.5, \"#f7f7f7\"], [0.6, \"#e6f5d0\"], [0.7, \"#b8e186\"], [0.8, \"#7fbc41\"], [0.9, \"#4d9221\"], [1, \"#276419\"]], \"sequential\": [[0.0, \"#0d0887\"], [0.1111111111111111, \"#46039f\"], [0.2222222222222222, \"#7201a8\"], [0.3333333333333333, \"#9c179e\"], [0.4444444444444444, \"#bd3786\"], [0.5555555555555556, \"#d8576b\"], [0.6666666666666666, \"#ed7953\"], [0.7777777777777778, \"#fb9f3a\"], [0.8888888888888888, \"#fdca26\"], [1.0, \"#f0f921\"]], \"sequentialminus\": [[0.0, \"#0d0887\"], [0.1111111111111111, \"#46039f\"], [0.2222222222222222, \"#7201a8\"], [0.3333333333333333, \"#9c179e\"], [0.4444444444444444, \"#bd3786\"], [0.5555555555555556, \"#d8576b\"], [0.6666666666666666, \"#ed7953\"], [0.7777777777777778, \"#fb9f3a\"], [0.8888888888888888, \"#fdca26\"], [1.0, \"#f0f921\"]]}, \"colorway\": [\"#636efa\", \"#EF553B\", \"#00cc96\", \"#ab63fa\", \"#FFA15A\", \"#19d3f3\", \"#FF6692\", \"#B6E880\", \"#FF97FF\", \"#FECB52\"], \"font\": {\"color\": \"#2a3f5f\"}, \"geo\": {\"bgcolor\": \"white\", \"lakecolor\": \"white\", \"landcolor\": \"#E5ECF6\", \"showlakes\": true, \"showland\": true, \"subunitcolor\": \"white\"}, \"hoverlabel\": {\"align\": \"left\"}, \"hovermode\": \"closest\", \"mapbox\": {\"style\": \"light\"}, \"paper_bgcolor\": \"white\", \"plot_bgcolor\": \"#E5ECF6\", \"polar\": {\"angularaxis\": {\"gridcolor\": \"white\", \"linecolor\": \"white\", \"ticks\": \"\"}, \"bgcolor\": \"#E5ECF6\", \"radialaxis\": {\"gridcolor\": \"white\", \"linecolor\": \"white\", \"ticks\": \"\"}}, \"scene\": {\"xaxis\": {\"backgroundcolor\": \"#E5ECF6\", \"gridcolor\": \"white\", \"gridwidth\": 2, \"linecolor\": \"white\", \"showbackground\": true, \"ticks\": \"\", \"zerolinecolor\": \"white\"}, \"yaxis\": {\"backgroundcolor\": \"#E5ECF6\", \"gridcolor\": \"white\", \"gridwidth\": 2, \"linecolor\": \"white\", \"showbackground\": true, \"ticks\": \"\", \"zerolinecolor\": \"white\"}, \"zaxis\": {\"backgroundcolor\": \"#E5ECF6\", \"gridcolor\": \"white\", \"gridwidth\": 2, \"linecolor\": \"white\", \"showbackground\": true, \"ticks\": \"\", \"zerolinecolor\": \"white\"}}, \"shapedefaults\": {\"line\": {\"color\": \"#2a3f5f\"}}, \"ternary\": {\"aaxis\": {\"gridcolor\": \"white\", \"linecolor\": \"white\", \"ticks\": \"\"}, \"baxis\": {\"gridcolor\": \"white\", \"linecolor\": \"white\", \"ticks\": \"\"}, \"bgcolor\": \"#E5ECF6\", \"caxis\": {\"gridcolor\": \"white\", \"linecolor\": \"white\", \"ticks\": \"\"}}, \"title\": {\"x\": 0.05}, \"xaxis\": {\"automargin\": true, \"gridcolor\": \"white\", \"linecolor\": \"white\", \"ticks\": \"\", \"title\": {\"standoff\": 15}, \"zerolinecolor\": \"white\", \"zerolinewidth\": 2}, \"yaxis\": {\"automargin\": true, \"gridcolor\": \"white\", \"linecolor\": \"white\", \"ticks\": \"\", \"title\": {\"standoff\": 15}, \"zerolinecolor\": \"white\", \"zerolinewidth\": 2}}}, \"title\": {\"font\": {\"family\": \"Arial\", \"size\": 35}, \"text\": \"Star Rating for Current and Former\"}, \"xaxis\": {\"title\": {\"text\": \"Star Rating\"}}, \"yaxis\": {\"title\": {\"text\": \"Count\"}}},                        {\"responsive\": true}                    ).then(function(){\n",
       "                            \n",
       "var gd = document.getElementById('16855ffa-8a0e-443b-a578-3a658cf3844f');\n",
       "var x = new MutationObserver(function (mutations, observer) {{\n",
       "        var display = window.getComputedStyle(gd).display;\n",
       "        if (!display || display === 'none') {{\n",
       "            console.log([gd, 'removed!']);\n",
       "            Plotly.purge(gd);\n",
       "            observer.disconnect();\n",
       "        }}\n",
       "}});\n",
       "\n",
       "// Listen for the removal of the full notebook cells\n",
       "var notebookContainer = gd.closest('#notebook-container');\n",
       "if (notebookContainer) {{\n",
       "    x.observe(notebookContainer, {childList: true});\n",
       "}}\n",
       "\n",
       "// Listen for the clearing of the current output cell\n",
       "var outputEl = gd.closest('.output');\n",
       "if (outputEl) {{\n",
       "    x.observe(outputEl, {childList: true});\n",
       "}}\n",
       "\n",
       "                        })                };                });            </script>        </div>"
      ]
     },
     "metadata": {},
     "output_type": "display_data"
    }
   ],
   "source": [
    "current_emp_df = df5[df5['emp type'] == 'Current Employee']\n",
    "current_emp_df.head(2)\n",
    "current_star = dict(current_emp_df['star'].value_counts())\n",
    "cur_x = [key for key,value in current_star.items()]\n",
    "cur_y = [value for key,value in current_star.items()]\n",
    "\n",
    "\n",
    "former_emp_df = df5[df5['emp type'] == 'Former Employee']\n",
    "former_emp_df.head(2)\n",
    "former_star = dict(former_emp_df['star'].value_counts())\n",
    "for_x = [key for key,value in former_star.items()]\n",
    "for_y = [value for key,value in former_star.items()]\n",
    "\n",
    "trace1 = go.Bar(x = cur_x, y = cur_y, name = 'current employees', text = cur_y, textposition='outside')\n",
    "trace2 = go.Bar(x = for_x, y = for_y, name = 'former employees', text = for_y, textposition='outside')\n",
    "\n",
    "\n",
    "data = [trace1, trace2]\n",
    "\n",
    "layout = go.Layout(title='Star Rating for Current and Former',\n",
    "                   xaxis_title=\"Star Rating\",\n",
    "                   yaxis_title=\"Count\",\n",
    "                   titlefont= dict(family='Arial', size=35),\n",
    "                   barmode='group')\n",
    "\n",
    "fig = go.Figure(data = data, layout=layout)\n",
    "offline.iplot(fig)"
   ]
  },
  {
   "cell_type": "markdown",
   "metadata": {},
   "source": [
    "# Scatter Plot"
   ]
  },
  {
   "cell_type": "code",
   "execution_count": 66,
   "metadata": {},
   "outputs": [],
   "source": [
    "scatter_df = df5[['exp_years','emp type','star','review sentiment']].copy()"
   ]
  },
  {
   "cell_type": "code",
   "execution_count": 70,
   "metadata": {},
   "outputs": [],
   "source": [
    "emptype =scatter_df['emp type'].tolist()"
   ]
  },
  {
   "cell_type": "code",
   "execution_count": 71,
   "metadata": {},
   "outputs": [
    {
     "data": {
      "text/plain": [
       "'Current Employee'"
      ]
     },
     "execution_count": 71,
     "metadata": {},
     "output_type": "execute_result"
    }
   ],
   "source": [
    "emptype[0]"
   ]
  },
  {
   "cell_type": "code",
   "execution_count": 72,
   "metadata": {},
   "outputs": [],
   "source": [
    "for n, i in enumerate(emptype):\n",
    "    if i == 'Current Employee':\n",
    "        emptype[n] = 20\n",
    "    else:\n",
    "        emptype[n] = 10"
   ]
  },
  {
   "cell_type": "code",
   "execution_count": 74,
   "metadata": {},
   "outputs": [],
   "source": [
    "scatter_df['emp_type_size'] = emptype"
   ]
  },
  {
   "cell_type": "code",
   "execution_count": 67,
   "metadata": {},
   "outputs": [],
   "source": [
    "starlist = scatter_df['star'].tolist() \n",
    "starlist = [int(i) for i in starlist]\n",
    "scatter_df['star'] = starlist\n",
    "\n"
   ]
  },
  {
   "cell_type": "code",
   "execution_count": 83,
   "metadata": {},
   "outputs": [
    {
     "data": {
      "application/vnd.plotly.v1+json": {
       "config": {
        "plotlyServerURL": "https://plot.ly"
       },
       "data": [
        {
         "hovertemplate": "review sentiment=positive<br>exp_years=%{x}<br>star=%{y}<br>emp_type_size=%{marker.size}<extra></extra>",
         "legendgroup": "positive",
         "marker": {
          "color": "#636efa",
          "size": [
           20,
           10,
           20,
           20,
           20,
           10,
           10,
           20,
           20,
           20,
           10,
           10,
           10,
           10,
           20,
           20,
           10,
           20,
           20,
           10,
           20,
           20,
           20,
           20,
           10,
           10,
           20,
           20,
           20,
           20,
           20,
           20,
           20,
           20,
           20,
           20,
           20,
           10,
           20,
           20,
           20,
           20,
           20,
           20,
           20,
           20,
           20,
           20,
           20,
           20,
           20,
           20,
           10,
           20,
           20,
           20,
           20,
           20,
           20,
           20,
           10,
           20,
           20,
           20,
           20,
           20,
           20,
           20,
           20,
           20,
           20,
           20,
           20,
           20,
           20,
           20,
           20,
           20,
           10,
           10,
           20,
           10,
           20,
           20,
           20,
           20,
           20,
           20,
           20,
           20,
           10,
           20,
           20,
           20,
           20,
           20,
           20,
           20,
           10,
           20,
           10,
           20,
           10,
           10,
           20,
           20,
           10,
           10,
           20,
           20,
           20,
           10,
           10,
           20,
           20,
           20,
           20,
           20,
           20,
           20,
           10,
           20,
           20,
           20,
           20,
           20,
           20,
           10,
           20,
           10,
           20,
           20,
           10,
           20,
           20,
           20,
           20,
           20,
           20,
           10,
           20,
           20,
           20,
           20,
           10,
           10,
           20,
           20,
           10,
           20,
           20
          ],
          "sizemode": "area",
          "sizeref": 0.05,
          "symbol": "circle"
         },
         "mode": "markers",
         "name": "positive",
         "orientation": "v",
         "showlegend": true,
         "type": "scatter",
         "x": [
          3,
          3,
          3,
          5,
          0,
          10,
          5,
          1,
          5,
          0,
          0,
          1,
          1,
          1,
          1,
          3,
          3,
          0,
          1,
          5,
          1,
          3,
          3,
          0,
          3,
          0,
          0,
          3,
          3,
          3,
          0,
          3,
          1,
          5,
          1,
          0,
          5,
          3,
          3,
          0,
          0,
          1,
          0,
          3,
          10,
          0,
          3,
          1,
          3,
          1,
          1,
          1,
          1,
          0,
          1,
          8,
          1,
          1,
          0,
          3,
          1,
          1,
          0,
          5,
          1,
          3,
          0,
          0,
          0,
          1,
          1,
          0,
          0,
          0,
          3,
          1,
          1,
          0,
          0,
          1,
          0,
          10,
          1,
          0,
          1,
          1,
          0,
          0,
          1,
          3,
          1,
          0,
          0,
          1,
          1,
          1,
          1,
          1,
          0,
          0,
          0,
          0,
          0,
          1,
          1,
          0,
          1,
          0,
          0,
          3,
          5,
          3,
          0,
          0,
          0,
          1,
          0,
          0,
          1,
          3,
          1,
          0,
          0,
          3,
          1,
          5,
          0,
          0,
          1,
          1,
          5,
          3,
          3,
          0,
          1,
          0,
          0,
          1,
          3,
          0,
          1,
          0,
          0,
          0,
          0,
          1,
          0,
          3,
          1,
          0,
          0
         ],
         "xaxis": "x",
         "y": [
          5,
          4,
          4,
          3,
          4,
          5,
          4,
          4,
          4,
          4,
          3,
          4,
          4,
          3,
          4,
          4,
          3,
          4,
          4,
          3,
          4,
          4,
          3,
          4,
          3,
          3,
          4,
          3,
          4,
          3,
          5,
          4,
          3,
          5,
          4,
          5,
          4,
          3,
          5,
          5,
          5,
          4,
          4,
          5,
          5,
          4,
          5,
          5,
          4,
          5,
          4,
          5,
          5,
          4,
          4,
          4,
          4,
          5,
          4,
          5,
          5,
          4,
          5,
          4,
          5,
          5,
          4,
          4,
          4,
          4,
          3,
          5,
          4,
          3,
          3,
          5,
          4,
          5,
          3,
          2,
          5,
          4,
          3,
          4,
          5,
          4,
          4,
          5,
          5,
          5,
          5,
          5,
          4,
          4,
          4,
          5,
          5,
          4,
          4,
          5,
          4,
          5,
          4,
          5,
          4,
          4,
          5,
          4,
          5,
          3,
          3,
          3,
          1,
          3,
          3,
          5,
          5,
          4,
          4,
          5,
          5,
          4,
          3,
          4,
          5,
          4,
          4,
          5,
          4,
          4,
          4,
          5,
          5,
          5,
          4,
          5,
          5,
          5,
          4,
          4,
          4,
          3,
          5,
          5,
          2,
          4,
          5,
          5,
          4,
          4,
          3
         ],
         "yaxis": "y"
        },
        {
         "hovertemplate": "review sentiment=neutral<br>exp_years=%{x}<br>star=%{y}<br>emp_type_size=%{marker.size}<extra></extra>",
         "legendgroup": "neutral",
         "marker": {
          "color": "#EF553B",
          "size": [
           10,
           20,
           10,
           10,
           20,
           20,
           20,
           20,
           20,
           20,
           20,
           20,
           10,
           20,
           20,
           10,
           10,
           20,
           20,
           10,
           20,
           20,
           20,
           20,
           10,
           10,
           10,
           20,
           10,
           20,
           10,
           10,
           20,
           10,
           20,
           10,
           20,
           20,
           10,
           20,
           10,
           10,
           20,
           20,
           10,
           20,
           20,
           20,
           20,
           10,
           10,
           10,
           10,
           10,
           10,
           10,
           10,
           10,
           20,
           20,
           20,
           10,
           10
          ],
          "sizemode": "area",
          "sizeref": 0.05,
          "symbol": "circle"
         },
         "mode": "markers",
         "name": "neutral",
         "orientation": "v",
         "showlegend": true,
         "type": "scatter",
         "x": [
          1,
          1,
          0,
          0,
          0,
          3,
          5,
          1,
          1,
          0,
          1,
          0,
          0,
          1,
          5,
          0,
          3,
          3,
          0,
          1,
          0,
          1,
          1,
          1,
          0,
          1,
          1,
          3,
          0,
          1,
          1,
          1,
          5,
          3,
          0,
          0,
          5,
          1,
          0,
          3,
          0,
          3,
          0,
          0,
          1,
          1,
          0,
          3,
          0,
          0,
          1,
          0,
          0,
          3,
          3,
          0,
          8,
          1,
          1,
          1,
          3,
          0,
          0
         ],
         "xaxis": "x",
         "y": [
          3,
          4,
          3,
          3,
          3,
          4,
          4,
          5,
          3,
          2,
          5,
          4,
          3,
          4,
          4,
          1,
          4,
          4,
          3,
          4,
          4,
          4,
          3,
          5,
          3,
          3,
          2,
          3,
          4,
          5,
          4,
          3,
          5,
          4,
          4,
          4,
          2,
          5,
          2,
          3,
          4,
          1,
          4,
          3,
          2,
          3,
          1,
          3,
          3,
          3,
          1,
          3,
          3,
          2,
          2,
          1,
          4,
          2,
          5,
          4,
          4,
          4,
          4
         ],
         "yaxis": "y"
        },
        {
         "hovertemplate": "review sentiment=negative<br>exp_years=%{x}<br>star=%{y}<br>emp_type_size=%{marker.size}<extra></extra>",
         "legendgroup": "negative",
         "marker": {
          "color": "#00cc96",
          "size": [
           20,
           20,
           10,
           20,
           10,
           20,
           10,
           10,
           10,
           10,
           10,
           20,
           10,
           20,
           20,
           10
          ],
          "sizemode": "area",
          "sizeref": 0.05,
          "symbol": "circle"
         },
         "mode": "markers",
         "name": "negative",
         "orientation": "v",
         "showlegend": true,
         "type": "scatter",
         "x": [
          3,
          1,
          1,
          1,
          1,
          1,
          1,
          1,
          1,
          1,
          1,
          5,
          3,
          1,
          0,
          1
         ],
         "xaxis": "x",
         "y": [
          1,
          1,
          1,
          1,
          1,
          2,
          1,
          1,
          2,
          1,
          1,
          3,
          2,
          2,
          1,
          2
         ],
         "yaxis": "y"
        }
       ],
       "layout": {
        "legend": {
         "itemsizing": "constant",
         "title": {
          "text": "review sentiment"
         },
         "tracegroupgap": 0
        },
        "margin": {
         "t": 60
        },
        "template": {
         "data": {
          "bar": [
           {
            "error_x": {
             "color": "#2a3f5f"
            },
            "error_y": {
             "color": "#2a3f5f"
            },
            "marker": {
             "line": {
              "color": "#E5ECF6",
              "width": 0.5
             }
            },
            "type": "bar"
           }
          ],
          "barpolar": [
           {
            "marker": {
             "line": {
              "color": "#E5ECF6",
              "width": 0.5
             }
            },
            "type": "barpolar"
           }
          ],
          "carpet": [
           {
            "aaxis": {
             "endlinecolor": "#2a3f5f",
             "gridcolor": "white",
             "linecolor": "white",
             "minorgridcolor": "white",
             "startlinecolor": "#2a3f5f"
            },
            "baxis": {
             "endlinecolor": "#2a3f5f",
             "gridcolor": "white",
             "linecolor": "white",
             "minorgridcolor": "white",
             "startlinecolor": "#2a3f5f"
            },
            "type": "carpet"
           }
          ],
          "choropleth": [
           {
            "colorbar": {
             "outlinewidth": 0,
             "ticks": ""
            },
            "type": "choropleth"
           }
          ],
          "contour": [
           {
            "colorbar": {
             "outlinewidth": 0,
             "ticks": ""
            },
            "colorscale": [
             [
              0,
              "#0d0887"
             ],
             [
              0.1111111111111111,
              "#46039f"
             ],
             [
              0.2222222222222222,
              "#7201a8"
             ],
             [
              0.3333333333333333,
              "#9c179e"
             ],
             [
              0.4444444444444444,
              "#bd3786"
             ],
             [
              0.5555555555555556,
              "#d8576b"
             ],
             [
              0.6666666666666666,
              "#ed7953"
             ],
             [
              0.7777777777777778,
              "#fb9f3a"
             ],
             [
              0.8888888888888888,
              "#fdca26"
             ],
             [
              1,
              "#f0f921"
             ]
            ],
            "type": "contour"
           }
          ],
          "contourcarpet": [
           {
            "colorbar": {
             "outlinewidth": 0,
             "ticks": ""
            },
            "type": "contourcarpet"
           }
          ],
          "heatmap": [
           {
            "colorbar": {
             "outlinewidth": 0,
             "ticks": ""
            },
            "colorscale": [
             [
              0,
              "#0d0887"
             ],
             [
              0.1111111111111111,
              "#46039f"
             ],
             [
              0.2222222222222222,
              "#7201a8"
             ],
             [
              0.3333333333333333,
              "#9c179e"
             ],
             [
              0.4444444444444444,
              "#bd3786"
             ],
             [
              0.5555555555555556,
              "#d8576b"
             ],
             [
              0.6666666666666666,
              "#ed7953"
             ],
             [
              0.7777777777777778,
              "#fb9f3a"
             ],
             [
              0.8888888888888888,
              "#fdca26"
             ],
             [
              1,
              "#f0f921"
             ]
            ],
            "type": "heatmap"
           }
          ],
          "heatmapgl": [
           {
            "colorbar": {
             "outlinewidth": 0,
             "ticks": ""
            },
            "colorscale": [
             [
              0,
              "#0d0887"
             ],
             [
              0.1111111111111111,
              "#46039f"
             ],
             [
              0.2222222222222222,
              "#7201a8"
             ],
             [
              0.3333333333333333,
              "#9c179e"
             ],
             [
              0.4444444444444444,
              "#bd3786"
             ],
             [
              0.5555555555555556,
              "#d8576b"
             ],
             [
              0.6666666666666666,
              "#ed7953"
             ],
             [
              0.7777777777777778,
              "#fb9f3a"
             ],
             [
              0.8888888888888888,
              "#fdca26"
             ],
             [
              1,
              "#f0f921"
             ]
            ],
            "type": "heatmapgl"
           }
          ],
          "histogram": [
           {
            "marker": {
             "colorbar": {
              "outlinewidth": 0,
              "ticks": ""
             }
            },
            "type": "histogram"
           }
          ],
          "histogram2d": [
           {
            "colorbar": {
             "outlinewidth": 0,
             "ticks": ""
            },
            "colorscale": [
             [
              0,
              "#0d0887"
             ],
             [
              0.1111111111111111,
              "#46039f"
             ],
             [
              0.2222222222222222,
              "#7201a8"
             ],
             [
              0.3333333333333333,
              "#9c179e"
             ],
             [
              0.4444444444444444,
              "#bd3786"
             ],
             [
              0.5555555555555556,
              "#d8576b"
             ],
             [
              0.6666666666666666,
              "#ed7953"
             ],
             [
              0.7777777777777778,
              "#fb9f3a"
             ],
             [
              0.8888888888888888,
              "#fdca26"
             ],
             [
              1,
              "#f0f921"
             ]
            ],
            "type": "histogram2d"
           }
          ],
          "histogram2dcontour": [
           {
            "colorbar": {
             "outlinewidth": 0,
             "ticks": ""
            },
            "colorscale": [
             [
              0,
              "#0d0887"
             ],
             [
              0.1111111111111111,
              "#46039f"
             ],
             [
              0.2222222222222222,
              "#7201a8"
             ],
             [
              0.3333333333333333,
              "#9c179e"
             ],
             [
              0.4444444444444444,
              "#bd3786"
             ],
             [
              0.5555555555555556,
              "#d8576b"
             ],
             [
              0.6666666666666666,
              "#ed7953"
             ],
             [
              0.7777777777777778,
              "#fb9f3a"
             ],
             [
              0.8888888888888888,
              "#fdca26"
             ],
             [
              1,
              "#f0f921"
             ]
            ],
            "type": "histogram2dcontour"
           }
          ],
          "mesh3d": [
           {
            "colorbar": {
             "outlinewidth": 0,
             "ticks": ""
            },
            "type": "mesh3d"
           }
          ],
          "parcoords": [
           {
            "line": {
             "colorbar": {
              "outlinewidth": 0,
              "ticks": ""
             }
            },
            "type": "parcoords"
           }
          ],
          "pie": [
           {
            "automargin": true,
            "type": "pie"
           }
          ],
          "scatter": [
           {
            "marker": {
             "colorbar": {
              "outlinewidth": 0,
              "ticks": ""
             }
            },
            "type": "scatter"
           }
          ],
          "scatter3d": [
           {
            "line": {
             "colorbar": {
              "outlinewidth": 0,
              "ticks": ""
             }
            },
            "marker": {
             "colorbar": {
              "outlinewidth": 0,
              "ticks": ""
             }
            },
            "type": "scatter3d"
           }
          ],
          "scattercarpet": [
           {
            "marker": {
             "colorbar": {
              "outlinewidth": 0,
              "ticks": ""
             }
            },
            "type": "scattercarpet"
           }
          ],
          "scattergeo": [
           {
            "marker": {
             "colorbar": {
              "outlinewidth": 0,
              "ticks": ""
             }
            },
            "type": "scattergeo"
           }
          ],
          "scattergl": [
           {
            "marker": {
             "colorbar": {
              "outlinewidth": 0,
              "ticks": ""
             }
            },
            "type": "scattergl"
           }
          ],
          "scattermapbox": [
           {
            "marker": {
             "colorbar": {
              "outlinewidth": 0,
              "ticks": ""
             }
            },
            "type": "scattermapbox"
           }
          ],
          "scatterpolar": [
           {
            "marker": {
             "colorbar": {
              "outlinewidth": 0,
              "ticks": ""
             }
            },
            "type": "scatterpolar"
           }
          ],
          "scatterpolargl": [
           {
            "marker": {
             "colorbar": {
              "outlinewidth": 0,
              "ticks": ""
             }
            },
            "type": "scatterpolargl"
           }
          ],
          "scatterternary": [
           {
            "marker": {
             "colorbar": {
              "outlinewidth": 0,
              "ticks": ""
             }
            },
            "type": "scatterternary"
           }
          ],
          "surface": [
           {
            "colorbar": {
             "outlinewidth": 0,
             "ticks": ""
            },
            "colorscale": [
             [
              0,
              "#0d0887"
             ],
             [
              0.1111111111111111,
              "#46039f"
             ],
             [
              0.2222222222222222,
              "#7201a8"
             ],
             [
              0.3333333333333333,
              "#9c179e"
             ],
             [
              0.4444444444444444,
              "#bd3786"
             ],
             [
              0.5555555555555556,
              "#d8576b"
             ],
             [
              0.6666666666666666,
              "#ed7953"
             ],
             [
              0.7777777777777778,
              "#fb9f3a"
             ],
             [
              0.8888888888888888,
              "#fdca26"
             ],
             [
              1,
              "#f0f921"
             ]
            ],
            "type": "surface"
           }
          ],
          "table": [
           {
            "cells": {
             "fill": {
              "color": "#EBF0F8"
             },
             "line": {
              "color": "white"
             }
            },
            "header": {
             "fill": {
              "color": "#C8D4E3"
             },
             "line": {
              "color": "white"
             }
            },
            "type": "table"
           }
          ]
         },
         "layout": {
          "annotationdefaults": {
           "arrowcolor": "#2a3f5f",
           "arrowhead": 0,
           "arrowwidth": 1
          },
          "autotypenumbers": "strict",
          "coloraxis": {
           "colorbar": {
            "outlinewidth": 0,
            "ticks": ""
           }
          },
          "colorscale": {
           "diverging": [
            [
             0,
             "#8e0152"
            ],
            [
             0.1,
             "#c51b7d"
            ],
            [
             0.2,
             "#de77ae"
            ],
            [
             0.3,
             "#f1b6da"
            ],
            [
             0.4,
             "#fde0ef"
            ],
            [
             0.5,
             "#f7f7f7"
            ],
            [
             0.6,
             "#e6f5d0"
            ],
            [
             0.7,
             "#b8e186"
            ],
            [
             0.8,
             "#7fbc41"
            ],
            [
             0.9,
             "#4d9221"
            ],
            [
             1,
             "#276419"
            ]
           ],
           "sequential": [
            [
             0,
             "#0d0887"
            ],
            [
             0.1111111111111111,
             "#46039f"
            ],
            [
             0.2222222222222222,
             "#7201a8"
            ],
            [
             0.3333333333333333,
             "#9c179e"
            ],
            [
             0.4444444444444444,
             "#bd3786"
            ],
            [
             0.5555555555555556,
             "#d8576b"
            ],
            [
             0.6666666666666666,
             "#ed7953"
            ],
            [
             0.7777777777777778,
             "#fb9f3a"
            ],
            [
             0.8888888888888888,
             "#fdca26"
            ],
            [
             1,
             "#f0f921"
            ]
           ],
           "sequentialminus": [
            [
             0,
             "#0d0887"
            ],
            [
             0.1111111111111111,
             "#46039f"
            ],
            [
             0.2222222222222222,
             "#7201a8"
            ],
            [
             0.3333333333333333,
             "#9c179e"
            ],
            [
             0.4444444444444444,
             "#bd3786"
            ],
            [
             0.5555555555555556,
             "#d8576b"
            ],
            [
             0.6666666666666666,
             "#ed7953"
            ],
            [
             0.7777777777777778,
             "#fb9f3a"
            ],
            [
             0.8888888888888888,
             "#fdca26"
            ],
            [
             1,
             "#f0f921"
            ]
           ]
          },
          "colorway": [
           "#636efa",
           "#EF553B",
           "#00cc96",
           "#ab63fa",
           "#FFA15A",
           "#19d3f3",
           "#FF6692",
           "#B6E880",
           "#FF97FF",
           "#FECB52"
          ],
          "font": {
           "color": "#2a3f5f"
          },
          "geo": {
           "bgcolor": "white",
           "lakecolor": "white",
           "landcolor": "#E5ECF6",
           "showlakes": true,
           "showland": true,
           "subunitcolor": "white"
          },
          "hoverlabel": {
           "align": "left"
          },
          "hovermode": "closest",
          "mapbox": {
           "style": "light"
          },
          "paper_bgcolor": "white",
          "plot_bgcolor": "#E5ECF6",
          "polar": {
           "angularaxis": {
            "gridcolor": "white",
            "linecolor": "white",
            "ticks": ""
           },
           "bgcolor": "#E5ECF6",
           "radialaxis": {
            "gridcolor": "white",
            "linecolor": "white",
            "ticks": ""
           }
          },
          "scene": {
           "xaxis": {
            "backgroundcolor": "#E5ECF6",
            "gridcolor": "white",
            "gridwidth": 2,
            "linecolor": "white",
            "showbackground": true,
            "ticks": "",
            "zerolinecolor": "white"
           },
           "yaxis": {
            "backgroundcolor": "#E5ECF6",
            "gridcolor": "white",
            "gridwidth": 2,
            "linecolor": "white",
            "showbackground": true,
            "ticks": "",
            "zerolinecolor": "white"
           },
           "zaxis": {
            "backgroundcolor": "#E5ECF6",
            "gridcolor": "white",
            "gridwidth": 2,
            "linecolor": "white",
            "showbackground": true,
            "ticks": "",
            "zerolinecolor": "white"
           }
          },
          "shapedefaults": {
           "line": {
            "color": "#2a3f5f"
           }
          },
          "ternary": {
           "aaxis": {
            "gridcolor": "white",
            "linecolor": "white",
            "ticks": ""
           },
           "baxis": {
            "gridcolor": "white",
            "linecolor": "white",
            "ticks": ""
           },
           "bgcolor": "#E5ECF6",
           "caxis": {
            "gridcolor": "white",
            "linecolor": "white",
            "ticks": ""
           }
          },
          "title": {
           "x": 0.05
          },
          "xaxis": {
           "automargin": true,
           "gridcolor": "white",
           "linecolor": "white",
           "ticks": "",
           "title": {
            "standoff": 15
           },
           "zerolinecolor": "white",
           "zerolinewidth": 2
          },
          "yaxis": {
           "automargin": true,
           "gridcolor": "white",
           "linecolor": "white",
           "ticks": "",
           "title": {
            "standoff": 15
           },
           "zerolinecolor": "white",
           "zerolinewidth": 2
          }
         }
        },
        "xaxis": {
         "anchor": "y",
         "domain": [
          0,
          1
         ],
         "title": {
          "text": "exp_years"
         }
        },
        "yaxis": {
         "anchor": "x",
         "domain": [
          0,
          1
         ],
         "title": {
          "text": "star"
         }
        }
       }
      },
      "text/html": [
       "<div>                            <div id=\"ee8696aa-de42-4b6c-ad17-04db6c83a770\" class=\"plotly-graph-div\" style=\"height:525px; width:100%;\"></div>            <script type=\"text/javascript\">                require([\"plotly\"], function(Plotly) {                    window.PLOTLYENV=window.PLOTLYENV || {};                                    if (document.getElementById(\"ee8696aa-de42-4b6c-ad17-04db6c83a770\")) {                    Plotly.newPlot(                        \"ee8696aa-de42-4b6c-ad17-04db6c83a770\",                        [{\"hovertemplate\": \"review sentiment=positive<br>exp_years=%{x}<br>star=%{y}<br>emp_type_size=%{marker.size}<extra></extra>\", \"legendgroup\": \"positive\", \"marker\": {\"color\": \"#636efa\", \"size\": [20, 10, 20, 20, 20, 10, 10, 20, 20, 20, 10, 10, 10, 10, 20, 20, 10, 20, 20, 10, 20, 20, 20, 20, 10, 10, 20, 20, 20, 20, 20, 20, 20, 20, 20, 20, 20, 10, 20, 20, 20, 20, 20, 20, 20, 20, 20, 20, 20, 20, 20, 20, 10, 20, 20, 20, 20, 20, 20, 20, 10, 20, 20, 20, 20, 20, 20, 20, 20, 20, 20, 20, 20, 20, 20, 20, 20, 20, 10, 10, 20, 10, 20, 20, 20, 20, 20, 20, 20, 20, 10, 20, 20, 20, 20, 20, 20, 20, 10, 20, 10, 20, 10, 10, 20, 20, 10, 10, 20, 20, 20, 10, 10, 20, 20, 20, 20, 20, 20, 20, 10, 20, 20, 20, 20, 20, 20, 10, 20, 10, 20, 20, 10, 20, 20, 20, 20, 20, 20, 10, 20, 20, 20, 20, 10, 10, 20, 20, 10, 20, 20], \"sizemode\": \"area\", \"sizeref\": 0.05, \"symbol\": \"circle\"}, \"mode\": \"markers\", \"name\": \"positive\", \"orientation\": \"v\", \"showlegend\": true, \"type\": \"scatter\", \"x\": [3, 3, 3, 5, 0, 10, 5, 1, 5, 0, 0, 1, 1, 1, 1, 3, 3, 0, 1, 5, 1, 3, 3, 0, 3, 0, 0, 3, 3, 3, 0, 3, 1, 5, 1, 0, 5, 3, 3, 0, 0, 1, 0, 3, 10, 0, 3, 1, 3, 1, 1, 1, 1, 0, 1, 8, 1, 1, 0, 3, 1, 1, 0, 5, 1, 3, 0, 0, 0, 1, 1, 0, 0, 0, 3, 1, 1, 0, 0, 1, 0, 10, 1, 0, 1, 1, 0, 0, 1, 3, 1, 0, 0, 1, 1, 1, 1, 1, 0, 0, 0, 0, 0, 1, 1, 0, 1, 0, 0, 3, 5, 3, 0, 0, 0, 1, 0, 0, 1, 3, 1, 0, 0, 3, 1, 5, 0, 0, 1, 1, 5, 3, 3, 0, 1, 0, 0, 1, 3, 0, 1, 0, 0, 0, 0, 1, 0, 3, 1, 0, 0], \"xaxis\": \"x\", \"y\": [5, 4, 4, 3, 4, 5, 4, 4, 4, 4, 3, 4, 4, 3, 4, 4, 3, 4, 4, 3, 4, 4, 3, 4, 3, 3, 4, 3, 4, 3, 5, 4, 3, 5, 4, 5, 4, 3, 5, 5, 5, 4, 4, 5, 5, 4, 5, 5, 4, 5, 4, 5, 5, 4, 4, 4, 4, 5, 4, 5, 5, 4, 5, 4, 5, 5, 4, 4, 4, 4, 3, 5, 4, 3, 3, 5, 4, 5, 3, 2, 5, 4, 3, 4, 5, 4, 4, 5, 5, 5, 5, 5, 4, 4, 4, 5, 5, 4, 4, 5, 4, 5, 4, 5, 4, 4, 5, 4, 5, 3, 3, 3, 1, 3, 3, 5, 5, 4, 4, 5, 5, 4, 3, 4, 5, 4, 4, 5, 4, 4, 4, 5, 5, 5, 4, 5, 5, 5, 4, 4, 4, 3, 5, 5, 2, 4, 5, 5, 4, 4, 3], \"yaxis\": \"y\"}, {\"hovertemplate\": \"review sentiment=neutral<br>exp_years=%{x}<br>star=%{y}<br>emp_type_size=%{marker.size}<extra></extra>\", \"legendgroup\": \"neutral\", \"marker\": {\"color\": \"#EF553B\", \"size\": [10, 20, 10, 10, 20, 20, 20, 20, 20, 20, 20, 20, 10, 20, 20, 10, 10, 20, 20, 10, 20, 20, 20, 20, 10, 10, 10, 20, 10, 20, 10, 10, 20, 10, 20, 10, 20, 20, 10, 20, 10, 10, 20, 20, 10, 20, 20, 20, 20, 10, 10, 10, 10, 10, 10, 10, 10, 10, 20, 20, 20, 10, 10], \"sizemode\": \"area\", \"sizeref\": 0.05, \"symbol\": \"circle\"}, \"mode\": \"markers\", \"name\": \"neutral\", \"orientation\": \"v\", \"showlegend\": true, \"type\": \"scatter\", \"x\": [1, 1, 0, 0, 0, 3, 5, 1, 1, 0, 1, 0, 0, 1, 5, 0, 3, 3, 0, 1, 0, 1, 1, 1, 0, 1, 1, 3, 0, 1, 1, 1, 5, 3, 0, 0, 5, 1, 0, 3, 0, 3, 0, 0, 1, 1, 0, 3, 0, 0, 1, 0, 0, 3, 3, 0, 8, 1, 1, 1, 3, 0, 0], \"xaxis\": \"x\", \"y\": [3, 4, 3, 3, 3, 4, 4, 5, 3, 2, 5, 4, 3, 4, 4, 1, 4, 4, 3, 4, 4, 4, 3, 5, 3, 3, 2, 3, 4, 5, 4, 3, 5, 4, 4, 4, 2, 5, 2, 3, 4, 1, 4, 3, 2, 3, 1, 3, 3, 3, 1, 3, 3, 2, 2, 1, 4, 2, 5, 4, 4, 4, 4], \"yaxis\": \"y\"}, {\"hovertemplate\": \"review sentiment=negative<br>exp_years=%{x}<br>star=%{y}<br>emp_type_size=%{marker.size}<extra></extra>\", \"legendgroup\": \"negative\", \"marker\": {\"color\": \"#00cc96\", \"size\": [20, 20, 10, 20, 10, 20, 10, 10, 10, 10, 10, 20, 10, 20, 20, 10], \"sizemode\": \"area\", \"sizeref\": 0.05, \"symbol\": \"circle\"}, \"mode\": \"markers\", \"name\": \"negative\", \"orientation\": \"v\", \"showlegend\": true, \"type\": \"scatter\", \"x\": [3, 1, 1, 1, 1, 1, 1, 1, 1, 1, 1, 5, 3, 1, 0, 1], \"xaxis\": \"x\", \"y\": [1, 1, 1, 1, 1, 2, 1, 1, 2, 1, 1, 3, 2, 2, 1, 2], \"yaxis\": \"y\"}],                        {\"legend\": {\"itemsizing\": \"constant\", \"title\": {\"text\": \"review sentiment\"}, \"tracegroupgap\": 0}, \"margin\": {\"t\": 60}, \"template\": {\"data\": {\"bar\": [{\"error_x\": {\"color\": \"#2a3f5f\"}, \"error_y\": {\"color\": \"#2a3f5f\"}, \"marker\": {\"line\": {\"color\": \"#E5ECF6\", \"width\": 0.5}}, \"type\": \"bar\"}], \"barpolar\": [{\"marker\": {\"line\": {\"color\": \"#E5ECF6\", \"width\": 0.5}}, \"type\": \"barpolar\"}], \"carpet\": [{\"aaxis\": {\"endlinecolor\": \"#2a3f5f\", \"gridcolor\": \"white\", \"linecolor\": \"white\", \"minorgridcolor\": \"white\", \"startlinecolor\": \"#2a3f5f\"}, \"baxis\": {\"endlinecolor\": \"#2a3f5f\", \"gridcolor\": \"white\", \"linecolor\": \"white\", \"minorgridcolor\": \"white\", \"startlinecolor\": \"#2a3f5f\"}, \"type\": \"carpet\"}], \"choropleth\": [{\"colorbar\": {\"outlinewidth\": 0, \"ticks\": \"\"}, \"type\": \"choropleth\"}], \"contour\": [{\"colorbar\": {\"outlinewidth\": 0, \"ticks\": \"\"}, \"colorscale\": [[0.0, \"#0d0887\"], [0.1111111111111111, \"#46039f\"], [0.2222222222222222, \"#7201a8\"], [0.3333333333333333, \"#9c179e\"], [0.4444444444444444, \"#bd3786\"], [0.5555555555555556, \"#d8576b\"], [0.6666666666666666, \"#ed7953\"], [0.7777777777777778, \"#fb9f3a\"], [0.8888888888888888, \"#fdca26\"], [1.0, \"#f0f921\"]], \"type\": \"contour\"}], \"contourcarpet\": [{\"colorbar\": {\"outlinewidth\": 0, \"ticks\": \"\"}, \"type\": \"contourcarpet\"}], \"heatmap\": [{\"colorbar\": {\"outlinewidth\": 0, \"ticks\": \"\"}, \"colorscale\": [[0.0, \"#0d0887\"], [0.1111111111111111, \"#46039f\"], [0.2222222222222222, \"#7201a8\"], [0.3333333333333333, \"#9c179e\"], [0.4444444444444444, \"#bd3786\"], [0.5555555555555556, \"#d8576b\"], [0.6666666666666666, \"#ed7953\"], [0.7777777777777778, \"#fb9f3a\"], [0.8888888888888888, \"#fdca26\"], [1.0, \"#f0f921\"]], \"type\": \"heatmap\"}], \"heatmapgl\": [{\"colorbar\": {\"outlinewidth\": 0, \"ticks\": \"\"}, \"colorscale\": [[0.0, \"#0d0887\"], [0.1111111111111111, \"#46039f\"], [0.2222222222222222, \"#7201a8\"], [0.3333333333333333, \"#9c179e\"], [0.4444444444444444, \"#bd3786\"], [0.5555555555555556, \"#d8576b\"], [0.6666666666666666, \"#ed7953\"], [0.7777777777777778, \"#fb9f3a\"], [0.8888888888888888, \"#fdca26\"], [1.0, \"#f0f921\"]], \"type\": \"heatmapgl\"}], \"histogram\": [{\"marker\": {\"colorbar\": {\"outlinewidth\": 0, \"ticks\": \"\"}}, \"type\": \"histogram\"}], \"histogram2d\": [{\"colorbar\": {\"outlinewidth\": 0, \"ticks\": \"\"}, \"colorscale\": [[0.0, \"#0d0887\"], [0.1111111111111111, \"#46039f\"], [0.2222222222222222, \"#7201a8\"], [0.3333333333333333, \"#9c179e\"], [0.4444444444444444, \"#bd3786\"], [0.5555555555555556, \"#d8576b\"], [0.6666666666666666, \"#ed7953\"], [0.7777777777777778, \"#fb9f3a\"], [0.8888888888888888, \"#fdca26\"], [1.0, \"#f0f921\"]], \"type\": \"histogram2d\"}], \"histogram2dcontour\": [{\"colorbar\": {\"outlinewidth\": 0, \"ticks\": \"\"}, \"colorscale\": [[0.0, \"#0d0887\"], [0.1111111111111111, \"#46039f\"], [0.2222222222222222, \"#7201a8\"], [0.3333333333333333, \"#9c179e\"], [0.4444444444444444, \"#bd3786\"], [0.5555555555555556, \"#d8576b\"], [0.6666666666666666, \"#ed7953\"], [0.7777777777777778, \"#fb9f3a\"], [0.8888888888888888, \"#fdca26\"], [1.0, \"#f0f921\"]], \"type\": \"histogram2dcontour\"}], \"mesh3d\": [{\"colorbar\": {\"outlinewidth\": 0, \"ticks\": \"\"}, \"type\": \"mesh3d\"}], \"parcoords\": [{\"line\": {\"colorbar\": {\"outlinewidth\": 0, \"ticks\": \"\"}}, \"type\": \"parcoords\"}], \"pie\": [{\"automargin\": true, \"type\": \"pie\"}], \"scatter\": [{\"marker\": {\"colorbar\": {\"outlinewidth\": 0, \"ticks\": \"\"}}, \"type\": \"scatter\"}], \"scatter3d\": [{\"line\": {\"colorbar\": {\"outlinewidth\": 0, \"ticks\": \"\"}}, \"marker\": {\"colorbar\": {\"outlinewidth\": 0, \"ticks\": \"\"}}, \"type\": \"scatter3d\"}], \"scattercarpet\": [{\"marker\": {\"colorbar\": {\"outlinewidth\": 0, \"ticks\": \"\"}}, \"type\": \"scattercarpet\"}], \"scattergeo\": [{\"marker\": {\"colorbar\": {\"outlinewidth\": 0, \"ticks\": \"\"}}, \"type\": \"scattergeo\"}], \"scattergl\": [{\"marker\": {\"colorbar\": {\"outlinewidth\": 0, \"ticks\": \"\"}}, \"type\": \"scattergl\"}], \"scattermapbox\": [{\"marker\": {\"colorbar\": {\"outlinewidth\": 0, \"ticks\": \"\"}}, \"type\": \"scattermapbox\"}], \"scatterpolar\": [{\"marker\": {\"colorbar\": {\"outlinewidth\": 0, \"ticks\": \"\"}}, \"type\": \"scatterpolar\"}], \"scatterpolargl\": [{\"marker\": {\"colorbar\": {\"outlinewidth\": 0, \"ticks\": \"\"}}, \"type\": \"scatterpolargl\"}], \"scatterternary\": [{\"marker\": {\"colorbar\": {\"outlinewidth\": 0, \"ticks\": \"\"}}, \"type\": \"scatterternary\"}], \"surface\": [{\"colorbar\": {\"outlinewidth\": 0, \"ticks\": \"\"}, \"colorscale\": [[0.0, \"#0d0887\"], [0.1111111111111111, \"#46039f\"], [0.2222222222222222, \"#7201a8\"], [0.3333333333333333, \"#9c179e\"], [0.4444444444444444, \"#bd3786\"], [0.5555555555555556, \"#d8576b\"], [0.6666666666666666, \"#ed7953\"], [0.7777777777777778, \"#fb9f3a\"], [0.8888888888888888, \"#fdca26\"], [1.0, \"#f0f921\"]], \"type\": \"surface\"}], \"table\": [{\"cells\": {\"fill\": {\"color\": \"#EBF0F8\"}, \"line\": {\"color\": \"white\"}}, \"header\": {\"fill\": {\"color\": \"#C8D4E3\"}, \"line\": {\"color\": \"white\"}}, \"type\": \"table\"}]}, \"layout\": {\"annotationdefaults\": {\"arrowcolor\": \"#2a3f5f\", \"arrowhead\": 0, \"arrowwidth\": 1}, \"autotypenumbers\": \"strict\", \"coloraxis\": {\"colorbar\": {\"outlinewidth\": 0, \"ticks\": \"\"}}, \"colorscale\": {\"diverging\": [[0, \"#8e0152\"], [0.1, \"#c51b7d\"], [0.2, \"#de77ae\"], [0.3, \"#f1b6da\"], [0.4, \"#fde0ef\"], [0.5, \"#f7f7f7\"], [0.6, \"#e6f5d0\"], [0.7, \"#b8e186\"], [0.8, \"#7fbc41\"], [0.9, \"#4d9221\"], [1, \"#276419\"]], \"sequential\": [[0.0, \"#0d0887\"], [0.1111111111111111, \"#46039f\"], [0.2222222222222222, \"#7201a8\"], [0.3333333333333333, \"#9c179e\"], [0.4444444444444444, \"#bd3786\"], [0.5555555555555556, \"#d8576b\"], [0.6666666666666666, \"#ed7953\"], [0.7777777777777778, \"#fb9f3a\"], [0.8888888888888888, \"#fdca26\"], [1.0, \"#f0f921\"]], \"sequentialminus\": [[0.0, \"#0d0887\"], [0.1111111111111111, \"#46039f\"], [0.2222222222222222, \"#7201a8\"], [0.3333333333333333, \"#9c179e\"], [0.4444444444444444, \"#bd3786\"], [0.5555555555555556, \"#d8576b\"], [0.6666666666666666, \"#ed7953\"], [0.7777777777777778, \"#fb9f3a\"], [0.8888888888888888, \"#fdca26\"], [1.0, \"#f0f921\"]]}, \"colorway\": [\"#636efa\", \"#EF553B\", \"#00cc96\", \"#ab63fa\", \"#FFA15A\", \"#19d3f3\", \"#FF6692\", \"#B6E880\", \"#FF97FF\", \"#FECB52\"], \"font\": {\"color\": \"#2a3f5f\"}, \"geo\": {\"bgcolor\": \"white\", \"lakecolor\": \"white\", \"landcolor\": \"#E5ECF6\", \"showlakes\": true, \"showland\": true, \"subunitcolor\": \"white\"}, \"hoverlabel\": {\"align\": \"left\"}, \"hovermode\": \"closest\", \"mapbox\": {\"style\": \"light\"}, \"paper_bgcolor\": \"white\", \"plot_bgcolor\": \"#E5ECF6\", \"polar\": {\"angularaxis\": {\"gridcolor\": \"white\", \"linecolor\": \"white\", \"ticks\": \"\"}, \"bgcolor\": \"#E5ECF6\", \"radialaxis\": {\"gridcolor\": \"white\", \"linecolor\": \"white\", \"ticks\": \"\"}}, \"scene\": {\"xaxis\": {\"backgroundcolor\": \"#E5ECF6\", \"gridcolor\": \"white\", \"gridwidth\": 2, \"linecolor\": \"white\", \"showbackground\": true, \"ticks\": \"\", \"zerolinecolor\": \"white\"}, \"yaxis\": {\"backgroundcolor\": \"#E5ECF6\", \"gridcolor\": \"white\", \"gridwidth\": 2, \"linecolor\": \"white\", \"showbackground\": true, \"ticks\": \"\", \"zerolinecolor\": \"white\"}, \"zaxis\": {\"backgroundcolor\": \"#E5ECF6\", \"gridcolor\": \"white\", \"gridwidth\": 2, \"linecolor\": \"white\", \"showbackground\": true, \"ticks\": \"\", \"zerolinecolor\": \"white\"}}, \"shapedefaults\": {\"line\": {\"color\": \"#2a3f5f\"}}, \"ternary\": {\"aaxis\": {\"gridcolor\": \"white\", \"linecolor\": \"white\", \"ticks\": \"\"}, \"baxis\": {\"gridcolor\": \"white\", \"linecolor\": \"white\", \"ticks\": \"\"}, \"bgcolor\": \"#E5ECF6\", \"caxis\": {\"gridcolor\": \"white\", \"linecolor\": \"white\", \"ticks\": \"\"}}, \"title\": {\"x\": 0.05}, \"xaxis\": {\"automargin\": true, \"gridcolor\": \"white\", \"linecolor\": \"white\", \"ticks\": \"\", \"title\": {\"standoff\": 15}, \"zerolinecolor\": \"white\", \"zerolinewidth\": 2}, \"yaxis\": {\"automargin\": true, \"gridcolor\": \"white\", \"linecolor\": \"white\", \"ticks\": \"\", \"title\": {\"standoff\": 15}, \"zerolinecolor\": \"white\", \"zerolinewidth\": 2}}}, \"xaxis\": {\"anchor\": \"y\", \"domain\": [0.0, 1.0], \"title\": {\"text\": \"exp_years\"}}, \"yaxis\": {\"anchor\": \"x\", \"domain\": [0.0, 1.0], \"title\": {\"text\": \"star\"}}},                        {\"responsive\": true}                    ).then(function(){\n",
       "                            \n",
       "var gd = document.getElementById('ee8696aa-de42-4b6c-ad17-04db6c83a770');\n",
       "var x = new MutationObserver(function (mutations, observer) {{\n",
       "        var display = window.getComputedStyle(gd).display;\n",
       "        if (!display || display === 'none') {{\n",
       "            console.log([gd, 'removed!']);\n",
       "            Plotly.purge(gd);\n",
       "            observer.disconnect();\n",
       "        }}\n",
       "}});\n",
       "\n",
       "// Listen for the removal of the full notebook cells\n",
       "var notebookContainer = gd.closest('#notebook-container');\n",
       "if (notebookContainer) {{\n",
       "    x.observe(notebookContainer, {childList: true});\n",
       "}}\n",
       "\n",
       "// Listen for the clearing of the current output cell\n",
       "var outputEl = gd.closest('.output');\n",
       "if (outputEl) {{\n",
       "    x.observe(outputEl, {childList: true});\n",
       "}}\n",
       "\n",
       "                        })                };                });            </script>        </div>"
      ]
     },
     "metadata": {},
     "output_type": "display_data"
    }
   ],
   "source": [
    "import plotly.express as px\n",
    "df = scatter_df\n",
    "fig = px.scatter(df, x=\"exp_years\", y=\"star\", color=\"review sentiment\",\n",
    "                 size='emp_type_size')\n",
    "\n",
    "fig.show()"
   ]
  },
  {
   "cell_type": "markdown",
   "metadata": {},
   "source": [
    "# Finding Keywords & Clustering (For Pros and Cons)"
   ]
  },
  {
   "cell_type": "code",
   "execution_count": 91,
   "metadata": {},
   "outputs": [],
   "source": [
    "import pandas as pd\n",
    "import numpy as np\n",
    "from nltk.stem import PorterStemmer\n",
    "from nltk.corpus import stopwords\n",
    "from sklearn.feature_extraction.text import TfidfVectorizer\n",
    "from sklearn import cluster\n",
    "\n",
    "# Create Stemmer Instance\n",
    "stemmer = PorterStemmer()\n",
    "\n",
    "pros_list = df5['pros'].tolist()\n",
    "cons_list = df5['cons'].tolist()\n",
    "\n",
    "sw = stopwords.words('english')\n",
    "\n",
    "def tokenizer(word):\n",
    "    return [stemmer.stem(w) for w in word.split(' ')]\n",
    "\n",
    "tfidf = TfidfVectorizer(tokenizer=tokenizer,stop_words=sw)\n",
    "\n",
    "pros_array = tfidf.fit_transform(pros_list).toarray()\n",
    "pros_df = pd.DataFrame(pros_array, index=pros_list, columns=tfidf.get_feature_names())\n",
    "\n",
    "c = cluster.KMeans()\n",
    "\n",
    "pros_cluster = c.fit_predict(pros_df)\n",
    "pro_check = set(pros_cluster)\n",
    "len(pro_check)\n",
    "\n",
    "cons_array = tfidf.fit_transform(cons_list).toarray()\n",
    "cons_df = pd.DataFrame(cons_array, index=cons_list, columns=tfidf.get_feature_names())\n",
    "\n",
    "c = cluster.AffinityPropagation()\n",
    "\n",
    "cons_cluster = c.fit_predict(cons_df)\n",
    "con_check = set(cons_cluster)\n",
    "len(con_check)"
   ]
  },
  {
   "cell_type": "markdown",
   "metadata": {},
   "source": [
    "# N Grams Model of Generating Words"
   ]
  },
  {
   "cell_type": "code",
   "execution_count": 144,
   "metadata": {},
   "outputs": [],
   "source": [
    "from sklearn.feature_extraction.text import CountVectorizer\n",
    "pros_list = df5['pros'].tolist()\n",
    "cons_list = df5['cons'].tolist()"
   ]
  },
  {
   "cell_type": "code",
   "execution_count": 160,
   "metadata": {},
   "outputs": [],
   "source": [
    "ngram_vec = CountVectorizer(ngram_range=(3,4))"
   ]
  },
  {
   "cell_type": "code",
   "execution_count": null,
   "metadata": {},
   "outputs": [],
   "source": [
    "transform_vector = ngram_vec.fit_transform(pros_list)"
   ]
  },
  {
   "cell_type": "code",
   "execution_count": 147,
   "metadata": {},
   "outputs": [
    {
     "data": {
      "text/plain": [
       "array([1, 1, 1, ..., 1, 1, 1], dtype=int64)"
      ]
     },
     "execution_count": 147,
     "metadata": {},
     "output_type": "execute_result"
    }
   ],
   "source": [
    "# Pros List\n",
    "word_count = transform_vector.toarray().sum(axis=0)\n",
    "\n",
    "word_count"
   ]
  },
  {
   "cell_type": "code",
   "execution_count": 149,
   "metadata": {},
   "outputs": [],
   "source": [
    "vocab = ngram_vec.vocabulary_"
   ]
  },
  {
   "cell_type": "code",
   "execution_count": 150,
   "metadata": {
    "collapsed": true
   },
   "outputs": [
    {
     "data": {
      "text/plain": [
       "dict_items([('flexible work', 2167), ('work hours', 6942), ('hours cooperative', 3048), ('cooperative environment', 1432), ('environment appreciate', 1842), ('appreciate work', 546), ('flexible work hours', 2170), ('work hours cooperative', 6943), ('hours cooperative environment', 3049), ('cooperative environment appreciate', 1433), ('environment appreciate work', 1843), ('work life', 6952), ('life balance', 3708), ('balance canteen', 838), ('canteen facility', 1118), ('facility lots', 2083), ('lots of', 3830), ('of fun', 4301), ('fun activities', 2386), ('activities conducted', 57), ('conducted by', 1401), ('by hr', 1066), ('hr team', 3074), ('work life balance', 6953), ('life balance canteen', 3712), ('balance canteen facility', 839), ('canteen facility lots', 1119), ('facility lots of', 2084), ('lots of fun', 3832), ('of fun activities', 4302), ('fun activities conducted', 2388), ('activities conducted by', 58), ('conducted by hr', 1402), ('by hr team', 1067), ('balance is', 855), ('is very', 3420), ('very good', 6521), ('life balance is', 3720), ('balance is very', 859), ('is very good', 3422), ('new technologies', 4156), ('technologies good', 5713), ('good cultural', 2559), ('cultural programs', 1459), ('programs you', 4978), ('you will', 7180), ('will learn', 6776), ('learn lot', 3629), ('new technologies good', 4158), ('technologies good cultural', 5714), ('good cultural programs', 2560), ('cultural programs you', 1460), ('programs you will', 4979), ('you will learn', 7182), ('will learn lot', 6777), ('latest technology', 3600), ('technology stack', 5742), ('stack in', 5502), ('in most', 3170), ('most projects', 4043), ('projects many', 5023), ('many avenues', 3953), ('avenues to', 802), ('to learn', 6263), ('learn and', 3619), ('and grow', 316), ('grow company', 2799), ('company focus', 1313), ('focus on', 2182), ('on employees', 4453), ('employees technical', 1784), ('technical growth', 5693), ('latest technology stack', 3602), ('technology stack in', 5743), ('stack in most', 5503), ('in most projects', 3171), ('most projects many', 4044), ('projects many avenues', 5024), ('many avenues to', 3954), ('avenues to learn', 803), ('to learn and', 6264), ('learn and grow', 3621), ('and grow company', 319), ('grow company focus', 2800), ('company focus on', 1314), ('focus on employees', 2183), ('on employees technical', 4454), ('employees technical growth', 1785), ('learn new', 3632), ('new technology', 4160), ('technology dynamic', 5734), ('dynamic environment', 1719), ('environment good', 1854), ('good work', 2701), ('work culture', 6898), ('learn new technology', 3635), ('new technology dynamic', 4163), ('technology dynamic environment', 5735), ('dynamic environment good', 1720), ('environment good work', 1861), ('good work culture', 2703), ('culture work', 1539), ('work culture work', 6909), ('culture work life', 1540), ('company had', 1327), ('had very', 2854), ('culture upgrades', 1523), ('upgrades to', 6437), ('to new', 6283), ('technologies employee', 5711), ('employee friendly', 1748), ('friendly culture', 2320), ('culture good', 1476), ('good management', 2611), ('management team', 3921), ('team lead', 5648), ('lead by', 3606), ('by very', 1076), ('good leader', 2594), ('leader good', 3608), ('good for', 2580), ('for learning', 2246), ('learning long', 3660), ('long term', 3807), ('term career', 5749), ('career aspirations', 1125), ('company had very', 1328), ('had very good', 2855), ('very good work', 6531), ('work culture upgrades', 6908), ('culture upgrades to', 1524), ('upgrades to new', 6438), ('to new technologies', 6284), ('new technologies employee', 4157), ('technologies employee friendly', 5712), ('employee friendly culture', 1749), ('friendly culture good', 2321), ('culture good management', 1478), ('good management team', 2614), ('management team lead', 3923), ('team lead by', 5649), ('lead by very', 3607), ('by very good', 1077), ('very good leader', 6524), ('good leader good', 2595), ('leader good for', 3609), ('good for learning', 2582), ('for learning long', 2247), ('learning long term', 3661), ('long term career', 3808), ('term career aspirations', 5750), ('good working', 2707), ('working env', 7012), ('env opportunities', 1830), ('opportunities to', 4570), ('to work', 6333), ('work on', 6962), ('on new', 4469), ('good working env', 2709), ('working env opportunities', 7013), ('env opportunities to', 1831), ('opportunities to work', 4576), ('to work on', 6342), ('work on new', 6966), ('on new technology', 4470), ('working culture', 7008), ('culture withh', 1537), ('withh great', 6872), ('great learning', 2753), ('learning opportunity', 3674), ('good working culture', 2708), ('working culture withh', 7011), ('culture withh great', 1538), ('withh great learning', 6873), ('great learning opportunity', 2755), ('culture and', 1463), ('and management', 381), ('management peoples', 3917), ('peoples are', 4791), ('are also', 561), ('also good', 123), ('work culture and', 6899), ('culture and management', 1466), ('and management peoples', 383), ('management peoples are', 3918), ('peoples are also', 4792), ('are also good', 562), ('very cooperative', 6507), ('cooperative people', 1434), ('people and', 4735), ('and culture', 248), ('culture of', 1505), ('of this', 4369), ('this company', 6099), ('company fun', 1319), ('fun working', 2404), ('working here', 7023), ('here with', 3013), ('with lot', 6833), ('lot of', 3816), ('of opportunities', 4333), ('to grow', 6232), ('grow together', 2808), ('very cooperative people', 6509), ('cooperative people and', 1435), ('people and culture', 4737), ('and culture of', 250), ('culture of this', 1507), ('of this company', 4370), ('this company fun', 6101), ('company fun working', 1320), ('fun working here', 2406), ('working here with', 7024), ('here with lot', 3014), ('with lot of', 6834), ('lot of opportunities', 3823), ('of opportunities to', 4335), ('opportunities to grow', 4572), ('to grow together', 6235), ('great place', 2765), ('place to', 4845), ('work for', 6929), ('for good', 2225), ('good culture', 2561), ('great place to', 2767), ('place to work', 4848), ('to work for', 6337), ('work for good', 6931), ('for good culture', 2226), ('all latest', 97), ('latest tech', 3593), ('tech stack', 5680), ('stack to', 5506), ('work you', 6996), ('will get', 6771), ('get enough', 2441), ('enough exposure', 1818), ('exposure to', 2068), ('all latest tech', 98), ('latest tech stack', 3594), ('tech stack to', 5682), ('stack to work', 5507), ('to work you', 6346), ('work you will', 6999), ('you will get', 7181), ('will get enough', 6773), ('get enough exposure', 2442), ('enough exposure to', 1819), ('exposure to grow', 2069), ('management is', 3906), ('is good', 3354), ('culture is', 1492), ('management is good', 3910), ('is good work', 3363), ('work culture is', 6903), ('culture is good', 1496), ('culture management', 1499), ('is supportive', 3408), ('supportive good', 5579), ('for freshers', 2223), ('work culture management', 6904), ('culture management is', 1500), ('management is supportive', 3913), ('is supportive good', 3409), ('supportive good for', 5580), ('good for freshers', 2581), ('too many', 6357), ('many processes', 3967), ('processes which', 4952), ('which deviate', 6722), ('deviate the', 1626), ('the team', 5958), ('team from', 5636), ('from main', 2364), ('main product', 3859), ('product development', 4958), ('development for', 1620), ('for cmmi', 2203), ('cmmi level', 1241), ('level its', 3694), ('its ok', 3484), ('ok however', 4432), ('however company', 3064), ('company needs', 1349), ('needs to', 4124), ('to understand', 6321), ('understand to', 6419), ('to be', 6176), ('be adaptive', 904), ('adaptive there', 65), ('there and', 6008), ('and work', 512), ('work as', 6883), ('as team', 696), ('team not', 5655), ('not in', 4242), ('in hierarchy', 3157), ('too many processes', 6359), ('many processes which', 3968), ('processes which deviate', 4953), ('which deviate the', 6723), ('deviate the team', 1627), ('the team from', 5960), ('team from main', 5637), ('from main product', 2365), ('main product development', 3860), ('product development for', 4959), ('development for cmmi', 1621), ('for cmmi level', 2204), ('cmmi level its', 1242), ('level its ok', 3695), ('its ok however', 3485), ('ok however company', 4433), ('however company needs', 3065), ('company needs to', 1350), ('needs to understand', 4125), ('to understand to', 6322), ('understand to be', 6420), ('to be adaptive', 6177), ('be adaptive there', 905), ('adaptive there and', 66), ('there and work', 6009), ('and work as', 513), ('work as team', 6886), ('as team not', 697), ('team not in', 5656), ('not in hierarchy', 4243), ('flexible working', 2172), ('working hours', 7025), ('hours good', 3054), ('flexible working hours', 2173), ('working hours good', 7026), ('hours good work', 3055), ('good work life', 2705), ('really good', 5147), ('good place', 2636), ('really good place', 5150), ('good place to', 2639), ('place people', 4843), ('people management', 4775), ('management etc', 3894), ('good place people', 2638), ('place people management', 4844), ('people management etc', 4776), ('good company', 2549), ('company culture', 1308), ('culture individual', 1490), ('individual project', 3237), ('project culture', 4990), ('culture can', 1472), ('can vary', 1111), ('vary they', 6493), ('they conduct', 6031), ('conduct various', 1399), ('various event', 6479), ('event and', 1934), ('and outings', 410), ('outings from', 4662), ('from time', 2374), ('time to', 6151), ('to time', 6317), ('to keep', 6257), ('keep things', 3532), ('things interesting', 6087), ('interesting offices', 3280), ('offices at', 4430), ('at various', 777), ('various location', 6485), ('location could', 3779), ('could be', 1441), ('be potential', 918), ('potential pro', 4908), ('pro depending', 4924), ('depending on', 1600), ('on the', 4486), ('the project', 5924), ('project you', 5011), ('you are', 7096), ('are in', 609), ('in they', 3211), ('they also', 6025), ('also have', 127), ('have fair', 2904), ('fair amount', 2091), ('amount of', 185), ('of projects', 4341), ('projects with', 5035), ('with varying', 6858), ('varying technologies', 6497), ('good company culture', 2550), ('company culture individual', 1311), ('culture individual project', 1491), ('individual project culture', 3238), ('project culture can', 4991), ('culture can vary', 1473), ('can vary they', 1112), ('vary they conduct', 6494), ('they conduct various', 6033), ('conduct various event', 1400), ('various event and', 6480), ('event and outings', 1935), ('and outings from', 411), ('outings from time', 4663), ('from time to', 2375), ('time to time', 6155), ('to time to', 6318), ('time to keep', 6153), ('to keep things', 6259), ('keep things interesting', 3533), ('things interesting offices', 6088), ('interesting offices at', 3281), ('offices at various', 4431), ('at various location', 778), ('various location could', 6486), ('location could be', 3780), ('could be potential', 1442), ('be potential pro', 919), ('potential pro depending', 4909), ('pro depending on', 4925), ('depending on the', 1602), ('on the project', 4489), ('the project you', 5927), ('project you are', 5012), ('you are in', 7100), ('are in they', 611), ('in they also', 3212), ('they also have', 6026), ('also have fair', 128), ('have fair amount', 2905), ('fair amount of', 2092), ('amount of projects', 186), ('of projects with', 4344), ('projects with varying', 5036), ('with varying technologies', 6859), ('good salary', 2659), ('salary latest', 5287), ('technology projects', 5740), ('projects emphasis', 5019), ('emphasis on', 1739), ('on learning', 4465), ('learning and', 3645), ('and implementation', 349), ('implementation of', 3125), ('of new', 4330), ('new things', 4168), ('good salary latest', 2663), ('salary latest technology', 5288), ('latest technology projects', 3601), ('technology projects emphasis', 5741), ('projects emphasis on', 5020), ('emphasis on learning', 1740), ('on learning and', 4466), ('learning and implementation', 3646), ('and implementation of', 350), ('implementation of new', 3126), ('of new things', 4331), ('balance is good', 856), ('opportunities to learn', 4573), ('overall it', 4675), ('it good', 3445), ('company to', 1367), ('you get', 7133), ('get good', 2450), ('good exposure', 2577), ('work at', 6887), ('at project', 768), ('project as', 4984), ('as well', 706), ('well as', 6659), ('as company', 660), ('company level', 1345), ('level if', 3692), ('if you', 3106), ('you prove', 7159), ('prove yourself', 5056), ('yourself salary', 7229), ('salary and', 5275), ('and increments', 351), ('increments is', 3225), ('is not', 3381), ('not concern', 4232), ('concern it', 1395), ('it one', 3464), ('one of', 4524), ('of the', 4357), ('the reliable', 5934), ('reliable workplaces', 5191), ('workplaces to', 7035), ('overall it good', 4676), ('it good company', 3446), ('good company to', 2556), ('company to work', 1369), ('work you get', 6998), ('you get good', 7137), ('get good exposure', 2451), ('good exposure to', 2579), ('exposure to work', 2070), ('to work at', 6336), ('work at project', 6888), ('at project as', 769), ('project as well', 4985), ('as well as', 707), ('well as company', 6660), ('as company level', 661), ('company level if', 1346), ('level if you', 3693), ('if you prove', 3113), ('you prove yourself', 7160), ('prove yourself salary', 5057), ('yourself salary and', 7230), ('salary and increments', 5276), ('and increments is', 352), ('increments is not', 3226), ('is not concern', 3382), ('not concern it', 4233), ('concern it one', 1396), ('it one of', 3465), ('one of the', 4525), ('of the reliable', 4366), ('the reliable workplaces', 5935), ('reliable workplaces to', 5192), ('workplaces to work', 7036), ('company nice', 1351), ('nice culture', 4179), ('good company nice', 2553), ('company nice culture', 1352), ('nice culture good', 4180), ('culture good work', 1479), ('as fresher', 665), ('fresher as', 2305), ('as experienced', 664), ('to work as', 6335), ('work as fresher', 6884), ('as fresher as', 667), ('fresher as well', 2306), ('well as experienced', 6661), ('stack is', 5504), ('good but', 2541), ('but depends', 1037), ('depends on', 1603), ('on project', 4472), ('project overall', 5000), ('overall good', 4670), ('tech stack is', 5681), ('stack is good', 5505), ('is good but', 3357), ('good but depends', 2542), ('but depends on', 1038), ('depends on project', 1604), ('on project overall', 4475), ('project overall good', 5001), ('overall good culture', 4671), ('balance learning', 862), ('opportunity depends', 4581), ('life balance learning', 3722), ('balance learning opportunity', 863), ('learning opportunity depends', 3675), ('opportunity depends on', 4582), ('work environment', 6913), ('environment and', 1832), ('and helpful', 335), ('helpful colleagues', 2967), ('good work environment', 2704), ('work environment and', 6914), ('environment and helpful', 1837), ('and helpful colleagues', 337), ('some of', 5458), ('the practices', 5922), ('practices are', 4912), ('are good', 591), ('good like', 2605), ('like digipods', 3739), ('digipods essentials', 1642), ('essentials etc', 1905), ('etc many', 1920), ('many of', 3963), ('of technical', 4353), ('technical leaders', 5696), ('leaders will', 3614), ('will encourage', 6769), ('encourage you', 1792), ('you to', 7167), ('to enhance', 6201), ('enhance over', 1810), ('over technology', 4666), ('technology growth', 5736), ('growth good', 2823), ('good at', 2531), ('at license', 764), ('license provision', 3706), ('provision like', 5069), ('like pluralsight', 3751), ('pluralsight account', 4864), ('account azure', 43), ('azure account', 816), ('account aws', 41), ('aws account', 814), ('account etc', 45), ('some of the', 5459), ('of the practices', 4365), ('the practices are', 5923), ('practices are good', 4913), ('are good like', 595), ('good like digipods', 2606), ('like digipods essentials', 3740), ('digipods essentials etc', 1643), ('essentials etc many', 1906), ('etc many of', 1921), ('many of technical', 3964), ('of technical leaders', 4354), ('technical leaders will', 5697), ('leaders will encourage', 3615), ('will encourage you', 6770), ('encourage you to', 1793), ('you to enhance', 7168), ('to enhance over', 6202), ('enhance over technology', 1811), ('over technology growth', 4667), ('technology growth good', 5737), ('growth good at', 2824), ('good at license', 2534), ('at license provision', 765), ('license provision like', 3707), ('provision like pluralsight', 5070), ('like pluralsight account', 3752), ('pluralsight account azure', 4865), ('account azure account', 44), ('azure account aws', 817), ('account aws account', 42), ('aws account etc', 815), ('well defined', 6666), ('defined wfh', 1586), ('wfh policy', 6687), ('policy company', 4878), ('company compensate', 1306), ('compensate internet', 1382), ('internet payment', 3286), ('payment also', 4727), ('also given', 121), ('given one', 2493), ('one time', 4526), ('time amount', 6132), ('amount for', 183), ('for infrastructure', 2238), ('infrastructure set', 3247), ('set up', 5351), ('up at', 6427), ('at home', 759), ('well defined wfh', 6667), ('defined wfh policy', 1587), ('wfh policy company', 6688), ('policy company compensate', 4879), ('company compensate internet', 1307), ('compensate internet payment', 1383), ('internet payment also', 3287), ('payment also given', 4728), ('also given one', 122), ('given one time', 2494), ('one time amount', 4527), ('time amount for', 6133), ('amount for infrastructure', 184), ('for infrastructure set', 2239), ('infrastructure set up', 3248), ('set up at', 5352), ('up at home', 6428), ('balance opportunities', 870), ('life balance opportunities', 3726), ('balance opportunities to', 871), ('to learn new', 6268), ('learn new technologies', 3634), ('have joined', 2921), ('joined and', 3498), ('and it', 356), ('it is', 3453), ('good best', 2537), ('best support', 983), ('support from', 5566), ('from seniors', 2368), ('seniors and', 5338), ('is awesome', 3327), ('have joined and', 2922), ('joined and it', 3499), ('and it is', 359), ('it is good', 3455), ('is good best', 3356), ('good best support', 2538), ('best support from', 984), ('support from seniors', 5567), ('from seniors and', 2369), ('seniors and work', 5340), ('and work culture', 514), ('culture is awesome', 1494), ('good learning', 2598), ('learning opportunities', 3666), ('opportunities na', 4563), ('very good learning', 6525), ('good learning opportunities', 2601), ('learning opportunities na', 3670), ('good people', 2628), ('people around', 4746), ('around ceo', 648), ('ceo is', 1162), ('is cool', 3334), ('cool and', 1421), ('and takes', 467), ('takes good', 5609), ('good decisions', 2567), ('good people around', 2630), ('people around ceo', 4747), ('around ceo is', 649), ('ceo is cool', 1164), ('is cool and', 3335), ('cool and takes', 1422), ('and takes good', 468), ('takes good decisions', 5610), ('good team', 2676), ('team with', 5664), ('with great', 6821), ('great knowledge', 2751), ('knowledge and', 3549), ('and support', 463), ('support new', 5568), ('new learnings', 4148), ('learnings every', 3678), ('every day', 1958), ('day exciting', 1561), ('exciting events', 2011), ('good team with', 2677), ('team with great', 5665), ('with great knowledge', 6823), ('great knowledge and', 2752), ('knowledge and support', 3550), ('and support new', 464), ('support new learnings', 5569), ('new learnings every', 4149), ('learnings every day', 3679), ('every day exciting', 1959), ('day exciting events', 1562), ('good pay', 2621), ('pay colleagues', 4706), ('colleagues are', 1255), ('are technically', 633), ('technically strong', 5705), ('strong and', 5543), ('and helpfull', 338), ('good pay colleagues', 2622), ('pay colleagues are', 4707), ('colleagues are technically', 1257), ('are technically strong', 634), ('technically strong and', 5706), ('strong and helpfull', 5544), ('ample of', 189), ('of learning', 4315), ('opportunities good', 4559), ('good compensations', 2557), ('compensations and', 1386), ('and revisions', 443), ('revisions if', 5219), ('are great', 598), ('great at', 2724), ('at what', 779), ('what you', 6697), ('you do', 7122), ('do then', 1668), ('then leave', 6004), ('leave the', 3684), ('the rest', 5938), ('rest to', 5208), ('to organization', 6285), ('organization it', 4627), ('it will', 3482), ('will definitely', 6767), ('definitely recognize', 1590), ('recognize your', 5164), ('your efforts', 7200), ('ample of learning', 190), ('of learning opportunities', 4316), ('learning opportunities good', 3668), ('opportunities good compensations', 4560), ('good compensations and', 2558), ('compensations and revisions', 1387), ('and revisions if', 444), ('revisions if you', 5220), ('if you are', 3107), ('you are great', 7098), ('are great at', 599), ('great at what', 2725), ('at what you', 780), ('what you do', 6698), ('you do then', 7124), ('do then leave', 1669), ('then leave the', 6005), ('leave the rest', 3685), ('the rest to', 5939), ('rest to organization', 5209), ('to organization it', 6286), ('organization it will', 4628), ('it will definitely', 3483), ('will definitely recognize', 6768), ('definitely recognize your', 1591), ('recognize your efforts', 5165), ('the colleagues', 5823), ('are so', 626), ('so helpful', 5427), ('helpful and', 2960), ('and understanding', 495), ('understanding specially', 6421), ('specially the', 5484), ('the hrs', 5877), ('hrs mainly', 3078), ('mainly deepti', 3861), ('deepti wadhwa', 1584), ('wadhwa are', 6580), ('so supportive', 5432), ('supportive and', 5572), ('and reachable', 435), ('reachable haven', 5139), ('haven seen', 2936), ('seen this', 5321), ('this much', 6112), ('much of', 4056), ('of friendly', 4297), ('friendly environment', 2325), ('environment in', 1869), ('in any', 3139), ('any organization', 525), ('organization loving', 4629), ('loving it', 3846), ('the colleagues are', 5824), ('colleagues are so', 1256), ('are so helpful', 627), ('so helpful and', 5428), ('helpful and understanding', 2962), ('and understanding specially', 496), ('understanding specially the', 6422), ('specially the hrs', 5485), ('the hrs mainly', 5878), ('hrs mainly deepti', 3079), ('mainly deepti wadhwa', 3862), ('deepti wadhwa are', 1585), ('wadhwa are so', 6581), ('are so supportive', 628), ('so supportive and', 5433), ('supportive and reachable', 5576), ('and reachable haven', 436), ('reachable haven seen', 5140), ('haven seen this', 2937), ('seen this much', 5322), ('this much of', 6113), ('much of friendly', 4058), ('of friendly environment', 4298), ('friendly environment in', 2327), ('environment in any', 1870), ('in any organization', 3140), ('any organization loving', 526), ('organization loving it', 4630), ('cares employees', 1139), ('employees good', 1769), ('good appraisal', 2527), ('appraisal friendly', 541), ('friendly leadership', 2328), ('leadership team', 3616), ('team including', 5644), ('including ceo', 3221), ('ceo work', 1173), ('balance many', 866), ('many committees', 3955), ('committees and', 1276), ('and groups', 314), ('groups to', 2792), ('to have', 6236), ('have fun', 2910), ('fun at', 2391), ('at work', 781), ('cares employees good', 1140), ('employees good appraisal', 1770), ('good appraisal friendly', 2528), ('appraisal friendly leadership', 542), ('friendly leadership team', 2329), ('leadership team including', 3618), ('team including ceo', 5645), ('including ceo work', 3222), ('ceo work life', 1174), ('life balance many', 3724), ('balance many committees', 867), ('many committees and', 3956), ('committees and groups', 1277), ('and groups to', 315), ('groups to have', 2793), ('to have fun', 6237), ('have fun at', 2911), ('fun at work', 2392), ('not good', 4240), ('company hired', 1333), ('hired for', 3027), ('for automation', 2194), ('not good company', 4241), ('good company hired', 2552), ('company hired for', 1334), ('hired for automation', 3028), ('the interview', 5879), ('interview process', 3290), ('process here', 4944), ('here is', 3009), ('very smooth', 6556), ('smooth and', 5418), ('and fair', 284), ('fair at', 2093), ('at first', 757), ('first they', 2145), ('they take', 6067), ('take written', 5605), ('written test', 7047), ('test then', 5755), ('then technical', 6006), ('technical interviews', 5694), ('interviews l1', 3292), ('l1 and', 3554), ('and l2', 368), ('l2 after', 3556), ('after that', 79), ('that one', 5777), ('one managerial', 4522), ('managerial round', 3939), ('round and', 5251), ('and the', 478), ('the last', 5883), ('last one', 3569), ('one is', 4516), ('is hr', 3370), ('hr round', 3072), ('round my', 5253), ('my experience', 4085), ('experience here', 2029), ('here was', 3011), ('was really', 6619), ('really nice', 5155), ('nice the', 4194), ('the panel', 5913), ('panel was', 4685), ('was soft', 6622), ('soft spoken', 5440), ('spoken was', 5492), ('was treated', 6626), ('treated well', 6405), ('well the', 6672), ('the interviews', 5881), ('interviews took', 3294), ('took place', 6362), ('place on', 4841), ('the scheduled', 5948), ('scheduled time', 5306), ('time would', 6157), ('would rate', 7045), ('rate the', 5129), ('the overall', 5911), ('overall interview', 4673), ('interview experience', 3288), ('experience as', 2025), ('as star', 691), ('the interview process', 5880), ('interview process here', 3291), ('process here is', 4945), ('here is very', 3010), ('is very smooth', 3426), ('very smooth and', 6557), ('smooth and fair', 5419), ('and fair at', 285), ('fair at first', 2094), ('at first they', 758), ('first they take', 2146), ('they take written', 6068), ('take written test', 5606), ('written test then', 7048), ('test then technical', 5756), ('then technical interviews', 6007), ('technical interviews l1', 5695), ('interviews l1 and', 3293), ('l1 and l2', 3555), ('and l2 after', 369), ('l2 after that', 3557), ('after that one', 80), ('that one managerial', 5778), ('one managerial round', 4523), ('managerial round and', 3940), ('round and the', 5252), ('and the last', 481), ('the last one', 5884), ('last one is', 3570), ('one is hr', 4517), ('is hr round', 3371), ('hr round my', 3073), ('round my experience', 5254), ('my experience here', 4086), ('experience here was', 2030), ('here was really', 3012), ('was really nice', 6621), ('really nice the', 5157), ('nice the panel', 4195), ('the panel was', 5914), ('panel was soft', 4686), ('was soft spoken', 6623), ('soft spoken was', 5441), ('spoken was treated', 5493), ('was treated well', 6627), ('treated well the', 6406), ('well the interviews', 6673), ('the interviews took', 5882), ('interviews took place', 3295), ('took place on', 6363), ('place on the', 4842), ('on the scheduled', 4490), ('the scheduled time', 5949), ('scheduled time would', 5307), ('time would rate', 6158), ('would rate the', 7046), ('rate the overall', 5130), ('the overall interview', 5912), ('overall interview experience', 4674), ('interview experience as', 3289), ('experience as star', 2026), ('have been', 2900), ('been working', 939), ('working with', 7033), ('with xpanxion', 6863), ('xpanxion from', 7055), ('from 2013', 2346), ('2013 this', 10), ('this is', 6106), ('is an', 3318), ('an excellent', 199), ('excellent company', 1988), ('to join', 6253), ('join since', 3494), ('since 2013', 5369), ('2013 company', 8), ('company has', 1329), ('has ramped', 2892), ('ramped up', 5121), ('up from', 6429), ('from handfull', 2354), ('handfull of', 2858), ('of employees', 4283), ('employees to', 1788), ('to hundreds', 6242), ('hundreds and', 3086), ('and still', 461), ('still growing', 5529), ('growing it', 2818), ('it because', 3432), ('because of', 930), ('of good', 4303), ('management good', 3897), ('good environment', 2574), ('and decent', 251), ('decent salary', 1581), ('salary as', 5277), ('as per', 682), ('per your', 4798), ('your role', 7217), ('role recommend', 5239), ('recommend everyone', 5166), ('everyone to', 1968), ('join this', 3496), ('company for', 1315), ('for better', 2197), ('better future', 989), ('future below', 2415), ('below are', 958), ('are few', 585), ('few pros', 2133), ('pros excellent', 5052), ('excellent work', 1998), ('balance xpanxion', 888), ('xpanxion gives', 7058), ('gives opportunities', 2504), ('to showcase', 6304), ('showcase new', 5361), ('new ideas', 4138), ('ideas globally', 3090), ('globally and', 2512), ('and rewards', 445), ('rewards for', 5221), ('for ideas', 2232), ('ideas inhouse', 3094), ('inhouse and', 3249), ('and external', 282), ('external experts', 2075), ('experts for', 2050), ('for upskilling', 2276), ('upskilling and', 6443), ('and training', 491), ('training on', 6392), ('on latest', 4461), ('latest technologies', 3596), ('technologies balanced', 5709), ('balanced ratio', 892), ('ratio of', 5131), ('of male', 4322), ('male and', 3877), ('and female', 288), ('female secure', 2125), ('secure and', 5315), ('and respectful', 441), ('respectful environment', 5206), ('environment for', 1852), ('for females', 2217), ('females fun', 2127), ('fun filled', 2399), ('filled events', 2139), ('events and', 1936), ('and health', 331), ('health full', 2940), ('full events', 2380), ('events like', 1941), ('like trekking', 3756), ('trekking biking', 6409), ('biking photography', 1015), ('photography camping', 4829), ('camping etc', 1080), ('etc best', 1912), ('best of', 979), ('of all', 4266), ('all if', 93), ('you ever', 7126), ('ever have', 1954), ('have problem', 2927), ('problem you', 4932), ('are heard', 603), ('heard and', 2944), ('and problems', 427), ('problems are', 4934), ('are resolved', 624), ('resolved good', 5196), ('good projects', 2652), ('projects and', 5014), ('and technologies', 473), ('have been working', 2901), ('been working with', 940), ('working with xpanxion', 7034), ('with xpanxion from', 6865), ('xpanxion from 2013', 7056), ('from 2013 this', 2347), ('2013 this is', 11), ('this is an', 6107), ('is an excellent', 3319), ('an excellent company', 200), ('excellent company to', 1989), ('company to join', 1368), ('to join since', 6255), ('join since 2013', 3495), ('since 2013 company', 5370), ('2013 company has', 9), ('company has ramped', 1331), ('has ramped up', 2893), ('ramped up from', 5122), ('up from handfull', 6430), ('from handfull of', 2355), ('handfull of employees', 2859), ('of employees to', 4284), ('employees to hundreds', 1789), ('to hundreds and', 6243), ('hundreds and still', 3087), ('and still growing', 462), ('still growing it', 5530), ('growing it because', 2819), ('it because of', 3433), ('because of good', 931), ('of good management', 4304), ('good management good', 2612), ('management good culture', 3898), ('good culture good', 2563), ('culture good environment', 1477), ('good environment and', 2575), ('environment and decent', 1835), ('and decent salary', 252), ('decent salary as', 1582), ('salary as per', 5278), ('as per your', 684), ('per your role', 4800), ('your role recommend', 7218), ('role recommend everyone', 5240), ('recommend everyone to', 5167), ('everyone to join', 1969), ('to join this', 6256), ('join this company', 3497), ('this company for', 6100), ('company for better', 1316), ('for better future', 2198), ('better future below', 990), ('future below are', 2416), ('below are few', 959), ('are few pros', 586), ('few pros excellent', 2134), ('pros excellent work', 5053), ('excellent work life', 2000), ('life balance xpanxion', 3733), ('balance xpanxion gives', 889), ('xpanxion gives opportunities', 7059), ('gives opportunities to', 2505), ('opportunities to showcase', 4575), ('to showcase new', 6305), ('showcase new ideas', 5362), ('new ideas globally', 4139), ('ideas globally and', 3091), ('globally and rewards', 2513), ('and rewards for', 446), ('rewards for ideas', 5222), ('for ideas inhouse', 2233), ('ideas inhouse and', 3095), ('inhouse and external', 3250), ('and external experts', 283), ('external experts for', 2076), ('experts for upskilling', 2051), ('for upskilling and', 2277), ('upskilling and training', 6444), ('and training on', 492), ('training on latest', 6393), ('on latest technologies', 4464), ('latest technologies balanced', 3597), ('technologies balanced ratio', 5710), ('balanced ratio of', 893), ('ratio of male', 5132), ('of male and', 4323), ('male and female', 3878), ('and female secure', 289), ('female secure and', 2126), ('secure and respectful', 5316), ('and respectful environment', 442), ('respectful environment for', 5207), ('environment for females', 1853), ('for females fun', 2218), ('females fun filled', 2128), ('fun filled events', 2401), ('filled events and', 2140), ('events and health', 1937), ('and health full', 332), ('health full events', 2941), ('full events like', 2381), ('events like trekking', 1942), ('like trekking biking', 3757), ('trekking biking photography', 6410), ('biking photography camping', 1016), ('photography camping etc', 4830), ('camping etc best', 1081), ('etc best of', 1913), ('best of all', 980), ('of all if', 4267), ('all if you', 94), ('if you ever', 3109), ('you ever have', 7127), ('ever have problem', 1955), ('have problem you', 2928), ('problem you are', 4933), ('you are heard', 7099), ('are heard and', 604), ('heard and problems', 2945), ('and problems are', 428), ('problems are resolved', 4935), ('are resolved good', 625), ('resolved good projects', 5197), ('good projects and', 2653), ('projects and technologies', 5015), ('nice work', 4197), ('nice work environment', 4198), ('environment and culture', 1834), ('you can', 7108), ('can switch', 1107), ('switch to', 5593), ('to any', 6169), ('any new', 523), ('technology and', 5729), ('and can', 237), ('can change', 1087), ('change your', 1191), ('your profile', 7211), ('profile as', 4970), ('well which', 6674), ('which companies', 6720), ('companies rarely', 1294), ('rarely allow', 5128), ('you can switch', 7116), ('can switch to', 1108), ('switch to any', 5594), ('to any new', 6170), ('any new technology', 524), ('new technology and', 4161), ('technology and can', 5731), ('and can change', 238), ('can change your', 1088), ('change your profile', 1192), ('your profile as', 7212), ('profile as well', 4971), ('as well which', 709), ('well which companies', 6675), ('which companies rarely', 6721), ('companies rarely allow', 1295), ('nice people', 4187), ('and lovely', 377), ('lovely work', 3844), ('work enivironment', 6911), ('enivironment they', 1815), ('also perform', 135), ('perform various', 4803), ('various fun', 6483), ('activities and', 54), ('and have', 328), ('have good', 2913), ('learning cure', 3651), ('cure for', 1545), ('for employees', 2215), ('nice people and', 4188), ('people and lovely', 4739), ('and lovely work', 378), ('lovely work enivironment', 3845), ('work enivironment they', 6912), ('enivironment they also', 1816), ('they also perform', 6027), ('also perform various', 136), ('perform various fun', 4804), ('various fun activities', 6484), ('fun activities and', 2387), ('activities and have', 55), ('and have good', 329), ('have good learning', 2915), ('good learning cure', 2599), ('learning cure for', 3652), ('cure for employees', 1546), ('company positive', 1361), ('positive environment', 4901), ('environment work', 1894), ('good company positive', 2555), ('company positive environment', 1362), ('positive environment work', 4903), ('environment work life', 1896), ('environment helpful', 1864), ('helpful collegues', 2968), ('collegues good', 1260), ('good environment helpful', 2576), ('environment helpful collegues', 1865), ('helpful collegues good', 2969), ('collegues good learning', 1261), ('explored lot', 2058), ('lot learning', 3814), ('explored lot learning', 2059), ('lot learning opportunities', 3815), ('and environment', 268), ('good vibes', 2696), ('culture and environment', 1464), ('and environment good', 269), ('environment good vibes', 1860), ('joined year', 3506), ('year back', 7080), ('back and', 818), ('and right', 447), ('right from', 5225), ('from day', 2348), ('day one', 1565), ('one kind', 4520), ('kind of', 3538), ('of liked', 4320), ('liked the', 3758), ('the friendly', 5867), ('friendly team', 2338), ('team and', 5629), ('and very', 501), ('very helping', 6541), ('helping manager', 2988), ('manager but', 3931), ('but then', 1052), ('then got', 6002), ('got to', 2721), ('to know', 6260), ('know it', 3547), ('is there', 3416), ('there in', 6013), ('in every', 3148), ('every team', 1964), ('team they', 5657), ('they pay', 6061), ('pay special', 4721), ('special important', 5480), ('important to', 3129), ('to caring', 6181), ('caring of', 1141), ('of people', 4338), ('people lot', 4771), ('of trainings', 4373), ('trainings too', 6399), ('too and', 6353), ('and learning', 373), ('learning is', 3657), ('very important', 6543), ('important as', 3127), ('as much', 673), ('much as', 4049), ('as your', 715), ('your project', 7213), ('project have', 4994), ('fun festivals', 2397), ('festivals special', 2129), ('special like', 5482), ('like to', 3754), ('to mention', 6279), ('mention family', 4000), ('family day', 2095), ('day and', 1559), ('the trek', 5971), ('trek was', 6407), ('was very', 6630), ('very very', 6560), ('very relaxing', 6552), ('relaxing made', 5187), ('made lot', 3857), ('of friends', 4299), ('friends there', 2344), ('there senior', 6023), ('senior techies', 5336), ('techies are', 5685), ('are helpful', 605), ('helpful hope', 2970), ('hope they', 3042), ('they continue', 6034), ('continue like', 1415), ('like same', 3753), ('joined year back', 3507), ('year back and', 7081), ('back and right', 820), ('and right from', 448), ('right from day', 5226), ('from day one', 2349), ('day one kind', 1566), ('one kind of', 4521), ('kind of liked', 3539), ('of liked the', 4321), ('liked the friendly', 3759), ('the friendly team', 5868), ('friendly team and', 2339), ('team and very', 5631), ('and very helping', 503), ('very helping manager', 6542), ('helping manager but', 2989), ('manager but then', 3932), ('but then got', 1053), ('then got to', 6003), ('got to know', 2723), ('to know it', 6262), ('know it is', 3548), ('it is there', 3459), ('is there in', 3417), ('there in every', 6014), ('in every team', 3149), ('every team they', 1965), ('team they pay', 5658), ('they pay special', 6062), ('pay special important', 4722), ('special important to', 5481), ('important to caring', 3130), ('to caring of', 6182), ('caring of people', 1142), ('of people lot', 4339), ('people lot of', 4772), ('lot of trainings', 3826), ('of trainings too', 4374), ('trainings too and', 6400), ('too and learning', 6354), ('and learning is', 374), ('learning is very', 3659), ('is very important', 3423), ('very important as', 6544), ('important as much', 3128), ('as much as', 674), ('much as your', 4050), ('as your project', 716), ('your project have', 7214), ('project have fun', 4995), ('have fun festivals', 2912), ('fun festivals special', 2398), ('festivals special like', 2130), ('special like to', 5483), ('like to mention', 3755), ('to mention family', 6280), ('mention family day', 4001), ('family day and', 2096), ('day and the', 1560), ('and the trek', 484), ('the trek was', 5972), ('trek was very', 6408), ('was very very', 6631), ('very very relaxing', 6561), ('very relaxing made', 6553), ('relaxing made lot', 5188), ('made lot of', 3858), ('lot of friends', 3821), ('of friends there', 4300), ('friends there senior', 2345), ('there senior techies', 6024), ('senior techies are', 5337), ('techies are helpful', 5686), ('are helpful hope', 606), ('helpful hope they', 2971), ('hope they continue', 3043), ('they continue like', 6035), ('continue like same', 1416), ('balance this', 882), ('is my', 3379), ('my 4th', 4076), ('4th company', 22), ('company and', 1298), ('and am', 222), ('am enjoying', 167), ('enjoying it', 1817), ('life balance this', 3730), ('balance this is', 883), ('this is my', 6110), ('is my 4th', 3380), ('my 4th company', 4077), ('4th company and', 23), ('company and am', 1299), ('and am enjoying', 224), ('am enjoying it', 168), ('super cool', 5558), ('cool work', 1428), ('culture higher', 1488), ('higher management', 3020), ('management as', 3884), ('well hr', 6668), ('hr quite', 3070), ('quite approachable', 5114), ('super cool work', 5559), ('cool work culture', 1429), ('work culture higher', 6902), ('culture higher management', 1489), ('higher management as', 3021), ('management as well', 3885), ('as well hr', 708), ('well hr quite', 6669), ('hr quite approachable', 3071), ('good clients', 2545), ('clients list', 1227), ('list care', 3764), ('care for', 1120), ('employees offer', 1776), ('offer opportunity', 4397), ('opportunity for', 4583), ('for growth', 2228), ('growth learning', 2825), ('good clients list', 2546), ('clients list care', 1228), ('list care for', 3765), ('care for employees', 1121), ('for employees offer', 2216), ('employees offer opportunity', 1777), ('offer opportunity for', 4398), ('opportunity for growth', 4584), ('for growth learning', 2229), ('only good', 4530), ('good if', 2587), ('if looking', 3096), ('looking for', 3811), ('for counter', 2209), ('counter offer', 1446), ('only good if', 4531), ('good if looking', 2588), ('if looking for', 3097), ('looking for counter', 3812), ('for counter offer', 2210), ('balance management', 864), ('is open', 3389), ('open to', 4548), ('to suggestions', 6312), ('suggestions encouragement', 5556), ('encouragement to', 1798), ('life balance management', 3723), ('balance management is', 865), ('management is open', 3911), ('is open to', 3390), ('open to suggestions', 4550), ('to suggestions encouragement', 6313), ('suggestions encouragement to', 5557), ('encouragement to learn', 1799), ('technologies good work', 5716), ('company gives', 1321), ('gives good', 2499), ('good platform', 2640), ('platform to', 4853), ('grow your', 2811), ('your work', 7225), ('work gets', 6934), ('gets appreciated', 2475), ('appreciated by', 547), ('by some', 1072), ('some or', 5460), ('or the', 4615), ('the other', 5909), ('other way', 4648), ('way nice', 6632), ('nice and', 4174), ('and flexible', 293), ('environment which', 1889), ('which has', 6724), ('has helped', 2888), ('helped to', 2958), ('keep overall', 3530), ('overall work', 4677), ('balance and', 830), ('and to', 487), ('to put', 6293), ('put in', 5088), ('in time', 3213), ('time for', 6139), ('for other', 2254), ('other activities', 4644), ('activities have', 61), ('have always', 2898), ('always got', 151), ('got support', 2717), ('support and', 5562), ('and guidance', 324), ('guidance from', 2841), ('and reporting', 439), ('reporting manger', 5193), ('company gives good', 1322), ('gives good platform', 2500), ('good platform to', 2641), ('platform to learn', 4854), ('and grow your', 321), ('grow your work', 2813), ('your work gets', 7226), ('work gets appreciated', 6935), ('gets appreciated by', 2476), ('appreciated by some', 548), ('by some or', 1073), ('some or the', 5461), ('or the other', 4616), ('the other way', 5910), ('other way nice', 4649), ('way nice and', 6633), ('nice and flexible', 4175), ('and flexible work', 294), ('flexible work environment', 2169), ('work environment which', 6923), ('environment which has', 1890), ('which has helped', 6725), ('has helped to', 2889), ('helped to keep', 2959), ('to keep overall', 6258), ('keep overall work', 3531), ('overall work life', 4678), ('life balance and', 3709), ('balance and to', 832), ('and to put', 488), ('to put in', 6294), ('put in time', 5090), ('in time for', 3214), ('time for other', 6140), ('for other activities', 2255), ('other activities have', 4645), ('activities have always', 62), ('have always got', 2899), ('always got support', 152), ('got support and', 2718), ('support and guidance', 5563), ('and guidance from', 325), ('guidance from seniors', 2842), ('seniors and reporting', 5339), ('and reporting manger', 440), ('is too', 3418), ('too good', 6355), ('good in', 2590), ('in xpanxion', 3218), ('balance is too', 858), ('is too good', 3419), ('too good in', 6356), ('good in xpanxion', 2591), ('list is', 3766), ('is huge', 3372), ('huge but', 3082), ('but the', 1050), ('the critical', 5837), ('critical ones', 1455), ('ones are', 4528), ('are real', 622), ('real sense', 5145), ('sense of', 5341), ('of agile', 4264), ('agile culture', 83), ('culture where', 1531), ('where one', 6714), ('one has', 4512), ('has all', 2874), ('all the', 106), ('the opportunity', 5906), ('opportunity to', 4590), ('grow if', 2801), ('if they', 3102), ('they have', 6044), ('have the', 2931), ('the will', 5977), ('will the', 6784), ('the senior', 5950), ('senior leadership', 5330), ('team has', 5640), ('has ensured', 2882), ('ensured transparency', 1822), ('transparency to', 6401), ('to all', 6167), ('the associates', 5799), ('associates irrespective', 743), ('irrespective of', 3308), ('the band', 5804), ('band you', 894), ('are working', 642), ('working for', 7020), ('for we', 2278), ('we value', 6653), ('value associates', 6460), ('associates has', 741), ('has been', 2878), ('been the', 937), ('the focus', 5861), ('focus area', 2176), ('area and', 644), ('and has', 326), ('has always', 2876), ('always adhered', 143), ('adhered to', 69), ('to it', 6251), ('it great', 3447), ('great working', 2777), ('culture helpful', 1484), ('helpful associates', 2963), ('associates vivid', 745), ('vivid knowledgeable', 6576), ('knowledgeable seniors', 3553), ('list is huge', 3767), ('is huge but', 3373), ('huge but the', 3083), ('but the critical', 1051), ('the critical ones', 5838), ('critical ones are', 1456), ('ones are real', 4529), ('are real sense', 623), ('real sense of', 5146), ('sense of agile', 5342), ('of agile culture', 4265), ('agile culture where', 84), ('culture where one', 1532), ('where one has', 6715), ('one has all', 4513), ('has all the', 2875), ('all the opportunity', 110), ('the opportunity to', 5908), ('opportunity to grow', 4592), ('to grow if', 6234), ('grow if they', 2802), ('if they have', 3103), ('they have the', 6048), ('have the will', 2933), ('the will the', 5978), ('will the senior', 6786), ('the senior leadership', 5951), ('senior leadership team', 5331), ('leadership team has', 3617), ('team has ensured', 5641), ('has ensured transparency', 2883), ('ensured transparency to', 1823), ('transparency to all', 6402), ('to all the', 6168), ('all the associates', 107), ('the associates irrespective', 5801), ('associates irrespective of', 744), ('irrespective of the', 3309), ('of the band', 4358), ('the band you', 5805), ('band you are', 895), ('you are working', 7105), ('are working for', 643), ('working for we', 7022), ('for we value', 2279), ('we value associates', 6654), ('value associates has', 6461), ('associates has been', 742), ('has been the', 2879), ('been the focus', 938), ('the focus area', 5862), ('focus area and', 2177), ('area and has', 645), ('and has always', 327), ('has always adhered', 2877), ('always adhered to', 144), ('adhered to it', 70), ('to it great', 6252), ('it great working', 3448), ('great working culture', 2778), ('working culture helpful', 7009), ('culture helpful associates', 1485), ('helpful associates vivid', 2964), ('associates vivid knowledgeable', 746), ('vivid knowledgeable seniors', 6577), ('every fresher', 1960), ('fresher on', 2309), ('on joining', 4459), ('joining company', 3515), ('has dream', 2880), ('dream of', 1696), ('of what', 4379), ('what will', 6695), ('the company', 5827), ('company like', 1347), ('like in', 3748), ('in terms', 3200), ('terms of', 5751), ('of work', 4382), ('work events', 6925), ('events outings', 1945), ('outings ceremonial', 4660), ('ceremonial functions', 1175), ('functions etc', 2407), ('etc etc', 1914), ('etc joined', 1918), ('joined as', 3500), ('fresher here', 2307), ('here and', 3002), ('and all', 213), ('the dreams', 5841), ('dreams came', 1698), ('came true', 1078), ('true the', 6411), ('the work', 5979), ('balance at', 834), ('at xpanxion', 783), ('xpanxion is', 7062), ('is great', 3364), ('great it', 2749), ('it the', 3476), ('the exact', 5853), ('exact thing', 1980), ('thing that', 6081), ('that we', 5792), ('we all', 6638), ('all expect', 91), ('expect to', 2018), ('be open', 916), ('open culture', 4540), ('culture you', 1543), ('can walk', 1113), ('walk in', 6584), ('in at', 3141), ('at any', 749), ('any time', 531), ('time and', 6134), ('can talk', 1109), ('talk to', 5623), ('to whom', 6331), ('whom so', 6759), ('so ever', 5425), ('ever you', 1956), ('you want', 7174), ('every fresher on', 1961), ('fresher on joining', 2310), ('on joining company', 4460), ('joining company has', 3516), ('company has dream', 1330), ('has dream of', 2881), ('dream of what', 1697), ('of what will', 4381), ('what will the', 6696), ('will the company', 6785), ('the company like', 5832), ('company like in', 1348), ('like in terms', 3750), ('in terms of', 3201), ('terms of work', 5752), ('of work events', 4383), ('work events outings', 6926), ('events outings ceremonial', 1946), ('outings ceremonial functions', 4661), ('ceremonial functions etc', 1176), ('functions etc etc', 2408), ('etc etc joined', 1915), ('etc joined as', 1919), ('joined as fresher', 3501), ('as fresher here', 668), ('fresher here and', 2308), ('here and all', 3003), ('and all the', 214), ('all the dreams', 108), ('the dreams came', 5842), ('dreams came true', 1699), ('came true the', 1079), ('true the work', 6412), ('the work life', 5981), ('life balance at', 3710), ('balance at xpanxion', 835), ('at xpanxion is', 784), ('xpanxion is great', 7064), ('is great it', 3367), ('great it the', 2750), ('it the exact', 3477), ('the exact thing', 5854), ('exact thing that', 1981), ('thing that we', 6082), ('that we all', 5793), ('we all expect', 6639), ('all expect to', 92), ('expect to be', 2019), ('to be open', 6180), ('be open culture', 917), ('open culture you', 4544), ('culture you can', 1544), ('you can walk', 7117), ('can walk in', 1114), ('walk in at', 6585), ('in at any', 3142), ('at any time', 750), ('any time and', 532), ('time and can', 6135), ('and can talk', 240), ('can talk to', 1110), ('talk to whom', 5624), ('to whom so', 6332), ('whom so ever', 6760), ('so ever you', 5426), ('ever you want', 1957), ('the best', 5806), ('best minds', 977), ('minds in', 4023), ('in product', 3182), ('product and', 4954), ('and test', 474), ('test engineering', 5753), ('engineering space', 1808), ('space got', 5478), ('got an', 2711), ('an idea', 203), ('idea go', 3088), ('go and', 2514), ('and implement', 347), ('implement culture', 3123), ('culture heavy', 1482), ('heavy emphasis', 2948), ('on skill', 4478), ('skill building', 5381), ('building activities', 1027), ('activities on', 63), ('latest and', 3591), ('and niche', 391), ('niche skills', 4200), ('skills employee', 5395), ('employee oriented', 1756), ('oriented and', 4639), ('and open', 400), ('open door', 4545), ('door policies', 1688), ('policies great', 4874), ('great work', 2774), ('balance projects', 872), ('projects on', 5025), ('tech stacks', 5683), ('stacks with', 5510), ('with in', 6829), ('in house', 3158), ('house frameworks', 3062), ('frameworks across', 2288), ('across platforms', 50), ('platforms ambitious', 4855), ('ambitious organization', 179), ('organization with', 4633), ('with phenomenal', 6841), ('phenomenal growth', 4827), ('growth prospects', 2834), ('of the best', 4359), ('the best minds', 5809), ('best minds in', 978), ('minds in product', 4024), ('in product and', 3183), ('product and test', 4955), ('and test engineering', 475), ('test engineering space', 5754), ('engineering space got', 1809), ('space got an', 5479), ('got an idea', 2712), ('an idea go', 204), ('idea go and', 3089), ('go and implement', 2515), ('and implement culture', 348), ('implement culture heavy', 3124), ('culture heavy emphasis', 1483), ('heavy emphasis on', 2949), ('emphasis on skill', 1741), ('on skill building', 4479), ('skill building activities', 5382), ('building activities on', 1028), ('activities on latest', 64), ('on latest and', 4462), ('latest and niche', 3592), ('and niche skills', 392), ('niche skills employee', 4201), ('skills employee oriented', 5396), ('employee oriented and', 1757), ('oriented and open', 4640), ('and open door', 401), ('open door policies', 4546), ('door policies great', 1689), ('policies great work', 4875), ('great work life', 2776), ('life balance projects', 3727), ('balance projects on', 873), ('projects on latest', 5026), ('on latest tech', 4463), ('latest tech stacks', 3595), ('tech stacks with', 5684), ('stacks with in', 5511), ('with in house', 6830), ('in house frameworks', 3159), ('house frameworks across', 3063), ('frameworks across platforms', 2289), ('across platforms ambitious', 51), ('platforms ambitious organization', 4856), ('ambitious organization with', 180), ('organization with phenomenal', 4634), ('with phenomenal growth', 6842), ('phenomenal growth prospects', 4828), ('great environment', 2743), ('good skilled', 2666), ('skilled people', 5387), ('people niche', 4778), ('great environment good', 2744), ('environment good skilled', 1858), ('good skilled people', 2667), ('skilled people niche', 5388), ('balance but', 836), ('on which', 4504), ('which project', 6734), ('get central', 2437), ('central location', 1153), ('location offices', 3792), ('life balance but', 3711), ('balance but depends', 837), ('depends on which', 1606), ('on which project', 4505), ('which project you', 6735), ('project you get', 5013), ('you get central', 7135), ('get central location', 2438), ('central location offices', 1156), ('helping environment', 2984), ('environment you', 1899), ('can work', 1116), ('work with', 6985), ('with all', 6794), ('senior people', 5334), ('people in', 4766), ('in the', 3202), ('company interaction', 1337), ('interaction with', 3274), ('with ceo', 6805), ('ceo to', 1169), ('the managers', 5890), ('managers is', 3947), ('is at', 3325), ('at ease', 755), ('ease the', 1729), ('the on', 5902), ('on boarding', 4445), ('boarding process', 1021), ('process is', 4946), ('good where', 2699), ('where we', 6716), ('we come', 6642), ('come to', 1266), ('know about', 3543), ('about the', 34), ('company on', 1357), ('the first', 5859), ('first day', 2143), ('day itself', 1563), ('itself overall', 3486), ('good start', 2668), ('start strongly', 5517), ('strongly recommended', 5545), ('recommended as', 5168), ('as it', 669), ('is employee', 3343), ('employee centric', 1742), ('centric org', 1159), ('helping environment you', 2985), ('environment you can', 1900), ('you can work', 7118), ('can work with', 1117), ('work with all', 6986), ('with all the', 6795), ('all the senior', 111), ('the senior people', 5952), ('senior people in', 5335), ('people in the', 4768), ('in the company', 3204), ('the company interaction', 5830), ('company interaction with', 1338), ('interaction with ceo', 3275), ('with ceo to', 6806), ('ceo to all', 1170), ('all the managers', 109), ('the managers is', 5891), ('managers is at', 3948), ('is at ease', 3326), ('at ease the', 756), ('ease the on', 1730), ('the on boarding', 5903), ('on boarding process', 4446), ('boarding process is', 1022), ('process is very', 4947), ('very good where', 6530), ('good where we', 2700), ('where we come', 6717), ('we come to', 6643), ('come to know', 1267), ('to know about', 6261), ('know about the', 3544), ('about the company', 35), ('the company on', 5833), ('company on the', 1358), ('on the first', 4487), ('the first day', 5860), ('first day itself', 2144), ('day itself overall', 1564), ('itself overall good', 3487), ('overall good start', 4672), ('good start strongly', 2669), ('start strongly recommended', 5518), ('strongly recommended as', 5546), ('recommended as it', 5169), ('as it is', 670), ('it is employee', 3454), ('is employee centric', 3344), ('employee centric org', 1743), ('am working', 173), ('from last', 2361), ('last years', 3577), ('years am', 7086), ('am very', 171), ('very happy', 6532), ('happy with', 2868), ('with the', 6855), ('the experience', 5855), ('experience which', 2043), ('which have', 6726), ('have have', 2919), ('have multiple', 2923), ('multiple things', 4072), ('things which', 6095), ('which can', 6718), ('can be', 1084), ('be definitely', 908), ('definitely considered', 1588), ('considered as', 1409), ('as an', 656), ('an advantage', 191), ('advantage very', 71), ('culture supportive', 1517), ('supportive people', 5583), ('people very', 4787), ('good hr', 2585), ('team best', 5632), ('best managers', 974), ('managers best', 3943), ('best technical', 987), ('technical employees', 5691), ('employees scope', 1782), ('scope for', 5308), ('learning multiple', 3662), ('multiple opportunities', 4070), ('opportunities you', 4577), ('get based', 2435), ('based on', 900), ('on your', 4506), ('your skills', 7219), ('am working with', 174), ('xpanxion from last', 7057), ('from last years', 2363), ('last years am', 3578), ('years am very', 7087), ('am very happy', 172), ('very happy with', 6533), ('happy with the', 2869), ('with the experience', 6856), ('the experience which', 5856), ('experience which have', 2044), ('which have have', 6727), ('have have multiple', 2920), ('have multiple things', 2924), ('multiple things which', 4073), ('things which can', 6096), ('which can be', 6719), ('can be definitely', 1085), ('be definitely considered', 909), ('definitely considered as', 1589), ('considered as an', 1410), ('as an advantage', 657), ('an advantage very', 192), ('advantage very good', 72), ('work culture supportive', 6907), ('culture supportive people', 1518), ('supportive people very', 5584), ('people very good', 4788), ('very good hr', 6523), ('good hr team', 2586), ('hr team best', 3076), ('team best managers', 5633), ('best managers best', 975), ('managers best technical', 3944), ('best technical employees', 988), ('technical employees scope', 5692), ('employees scope for', 1783), ('scope for learning', 5310), ('for learning multiple', 2248), ('learning multiple opportunities', 3663), ('multiple opportunities you', 4071), ('opportunities you will', 4580), ('will get based', 6772), ('get based on', 2436), ('based on your', 901), ('on your skills', 4509), ('all depends', 89), ('project good', 4992), ('good values', 2693), ('all depends on', 90), ('on project good', 4474), ('project good values', 4993), ('and good', 309), ('good people and', 2629), ('people and good', 4738), ('and good culture', 310), ('culture people', 1508), ('management guidance', 3902), ('guidance are', 2839), ('are perfect', 620), ('perfect to', 4801), ('to fit', 6215), ('fit in', 2147), ('in pros', 3184), ('culture people management', 1510), ('people management guidance', 4777), ('management guidance are', 3903), ('guidance are perfect', 2840), ('are perfect to', 621), ('perfect to fit', 4802), ('to fit in', 6216), ('fit in pros', 2148), ('company is', 1341), ('is taking', 3410), ('taking care', 5613), ('care of', 1122), ('of individuals', 4307), ('individuals aspirations', 3241), ('aspirations more', 729), ('more focus', 4033), ('focus is', 2180), ('is on', 3384), ('on individual', 4457), ('individual growth', 3233), ('growth and', 2820), ('and new', 389), ('new learning', 4146), ('learning as', 3647), ('per market', 4793), ('market standard', 3971), ('standard hr', 5515), ('and managers', 384), ('managers are', 3941), ('are very', 635), ('very co', 6503), ('co operative', 1243), ('operative and', 4551), ('and approachable', 227), ('approachable people', 557), ('people are', 4742), ('cooperative employee', 1430), ('friendly policies', 2334), ('company is taking', 1342), ('is taking care', 3411), ('taking care of', 5614), ('care of individuals', 1124), ('of individuals aspirations', 4308), ('individuals aspirations more', 3242), ('aspirations more focus', 730), ('more focus is', 4034), ('focus is on', 2181), ('is on individual', 3386), ('on individual growth', 4458), ('individual growth and', 3234), ('growth and new', 2821), ('and new learning', 390), ('new learning as', 4147), ('learning as per', 3648), ('as per market', 683), ('per market standard', 4794), ('market standard hr', 3972), ('standard hr team', 5516), ('hr team and', 3075), ('team and managers', 5630), ('and managers are', 385), ('managers are very', 3942), ('are very co', 636), ('very co operative', 6504), ('co operative and', 1244), ('operative and approachable', 4552), ('and approachable people', 228), ('approachable people are', 558), ('people are very', 4745), ('are very cooperative', 637), ('very cooperative employee', 6508), ('cooperative employee friendly', 1431), ('employee friendly policies', 1751), ('began career', 941), ('career with', 1137), ('xpanxion as', 7049), ('as trainee', 704), ('trainee the', 6382), ('the handholding', 5875), ('handholding done', 2860), ('done by', 1682), ('by mentors', 1070), ('mentors was', 4005), ('was good', 6602), ('good taught', 2674), ('taught me', 5625), ('me the', 3990), ('the technical', 5962), ('technical as', 5687), ('as non', 678), ('non technical', 4225), ('technical aspects', 5689), ('aspects of', 723), ('of being', 4270), ('being an', 951), ('an it', 207), ('it professional', 3468), ('professional even', 4966), ('even though', 1932), ('though was', 6122), ('was new', 6611), ('new everyone', 4132), ('everyone treated', 1970), ('treated me', 6403), ('me as', 3988), ('as equal', 662), ('began career with', 942), ('career with xpanxion', 1138), ('with xpanxion as', 6864), ('xpanxion as trainee', 7050), ('as trainee the', 705), ('trainee the handholding', 6383), ('the handholding done', 5876), ('handholding done by', 2861), ('done by mentors', 1683), ('by mentors was', 1071), ('mentors was good', 4006), ('was good taught', 6603), ('good taught me', 2675), ('taught me the', 5626), ('me the technical', 3992), ('the technical as', 5963), ('technical as well', 5688), ('well as non', 6662), ('as non technical', 679), ('non technical aspects', 4226), ('technical aspects of', 5690), ('aspects of being', 724), ('of being an', 4271), ('being an it', 953), ('an it professional', 208), ('it professional even', 3469), ('professional even though', 4967), ('even though was', 1933), ('though was new', 6123), ('was new everyone', 6612), ('new everyone treated', 4133), ('everyone treated me', 1971), ('treated me as', 6404), ('me as equal', 3989), ('gender diversity', 2427), ('diversity ample', 1652), ('ample learning', 187), ('opportunities great', 4561), ('good leaders', 2596), ('leaders and', 3612), ('managers to', 3949), ('to mentor', 6282), ('gender diversity ample', 2428), ('diversity ample learning', 1653), ('ample learning opportunities', 188), ('learning opportunities great', 3669), ('opportunities great work', 4562), ('great work environment', 2775), ('work environment good', 6917), ('environment good leaders', 1856), ('good leaders and', 2597), ('leaders and managers', 3613), ('and managers to', 386), ('managers to mentor', 3950), ('best location', 970), ('location good', 3785), ('salary compensation', 5281), ('compensation good', 1384), ('balance independent', 853), ('independent work', 3229), ('work is', 6949), ('is recognised', 3402), ('recognised management', 5162), ('is approachable', 3321), ('approachable and', 551), ('and helping', 339), ('helping you', 2992), ('can approach', 1082), ('approach hrs', 549), ('hrs managers', 3080), ('managers dm', 3945), ('dm or', 1658), ('or even', 4605), ('even ceo', 1928), ('ceo at', 1160), ('and share', 455), ('share your', 5355), ('your thoughts', 7223), ('thoughts or', 6124), ('or put', 4609), ('put your', 5091), ('your point', 7209), ('point career', 4868), ('career growth', 1130), ('growth till', 2837), ('till team', 6128), ('team leader', 5650), ('leader position', 3610), ('position overall', 4899), ('overall best', 4668), ('best company', 968), ('best location good', 971), ('location good salary', 3786), ('good salary compensation', 2661), ('salary compensation good', 5282), ('compensation good work', 1385), ('life balance independent', 3719), ('balance independent work', 854), ('independent work is', 3230), ('work is recognised', 6951), ('is recognised management', 3403), ('recognised management is', 5163), ('management is approachable', 3907), ('is approachable and', 3322), ('approachable and helping', 552), ('and helping you', 340), ('helping you can', 2993), ('you can approach', 7109), ('can approach hrs', 1083), ('approach hrs managers', 550), ('hrs managers dm', 3081), ('managers dm or', 3946), ('dm or even', 1659), ('or even ceo', 4606), ('even ceo at', 1929), ('ceo at any', 1161), ('time and share', 6136), ('and share your', 456), ('share your thoughts', 5356), ('your thoughts or', 7224), ('thoughts or put', 6125), ('or put your', 4610), ('put your point', 5092), ('your point career', 7210), ('point career growth', 4869), ('career growth till', 1131), ('growth till team', 2838), ('till team leader', 6129), ('team leader position', 5651), ('leader position overall', 3611), ('position overall best', 4900), ('overall best company', 4669), ('best company to', 969), ('as new', 676), ('new joinee', 4142), ('joinee you', 3508), ('enough time', 1820), ('to get', 6221), ('get acquainted', 2431), ('acquainted with', 48), ('with company', 6809), ('culture along', 1461), ('along with', 118), ('with some', 6849), ('some mentor', 5456), ('mentor help', 4003), ('help latest', 2950), ('technologies to', 5723), ('work upon', 6981), ('upon commute', 6439), ('commute is', 1285), ('great due', 2741), ('due to', 1713), ('to central', 6183), ('location flexible', 3783), ('as new joinee', 677), ('new joinee you', 4143), ('joinee you get', 3509), ('you get enough', 7136), ('get enough time', 2443), ('enough time to', 1821), ('time to get', 6152), ('to get acquainted', 6222), ('get acquainted with', 2432), ('acquainted with company', 49), ('with company culture', 6810), ('company culture along', 1309), ('culture along with', 1462), ('along with some', 119), ('with some mentor', 6850), ('some mentor help', 5457), ('mentor help latest', 4004), ('help latest technologies', 2951), ('latest technologies to', 3599), ('technologies to work', 5724), ('to work upon', 6343), ('work upon commute', 6982), ('upon commute is', 6440), ('commute is great', 1286), ('is great due', 3366), ('great due to', 2742), ('due to central', 1714), ('to central location', 6184), ('central location flexible', 1154), ('location flexible work', 3784), ('learning environment', 3653), ('environment great', 1862), ('great culture', 2737), ('great learning environment', 2754), ('learning environment great', 3654), ('environment great culture', 1863), ('balance good', 846), ('freshers got', 2313), ('got so', 2715), ('so many', 5429), ('many opportunities', 3965), ('learn staff', 3641), ('staff is', 5512), ('very friendly', 6517), ('friendly and', 2315), ('helpful be', 2965), ('be it', 912), ('it new', 3460), ('new joiner', 4144), ('joiner or', 3510), ('or executive', 4607), ('executive level', 2012), ('level not', 3696), ('not just', 4244), ('just company', 3526), ('company but', 1304), ('but family', 1039), ('life balance good', 3716), ('balance good for', 847), ('for freshers got', 2224), ('freshers got so', 2314), ('got so many', 2716), ('so many opportunities', 5430), ('many opportunities to', 3966), ('to learn staff', 6271), ('learn staff is', 3642), ('staff is very', 5513), ('is very friendly', 3421), ('very friendly and', 6518), ('friendly and helpful', 2316), ('and helpful be', 336), ('helpful be it', 2966), ('be it new', 913), ('it new joiner', 3461), ('new joiner or', 4145), ('joiner or executive', 3511), ('or executive level', 4608), ('executive level not', 2013), ('level not just', 3697), ('not just company', 4245), ('just company but', 3527), ('company but family', 1305), ('technology to', 5747), ('work happy', 6938), ('happy and', 2866), ('and friendly', 301), ('good talent', 2672), ('talent here', 5615), ('here helping', 3007), ('helping people', 2990), ('people if', 4764), ('you stuck', 7165), ('stuck somewhere', 5549), ('somewhere salary', 5472), ('salary on', 5292), ('on time', 4493), ('time polices', 6146), ('polices are', 4870), ('are employee', 583), ('employee specific', 1760), ('specific flexible', 5486), ('work timing', 6979), ('latest technology to', 3603), ('technology to work', 5748), ('to work happy', 6338), ('work happy and', 6939), ('happy and friendly', 2867), ('and friendly environment', 303), ('friendly environment good', 2326), ('environment good talent', 1859), ('good talent here', 2673), ('talent here helping', 5616), ('here helping people', 3008), ('helping people if', 2991), ('people if you', 4765), ('if you stuck', 3115), ('you stuck somewhere', 7166), ('stuck somewhere salary', 5550), ('somewhere salary on', 5473), ('salary on time', 5293), ('on time polices', 4495), ('time polices are', 6147), ('polices are employee', 4871), ('are employee specific', 584), ('employee specific flexible', 1761), ('specific flexible work', 5487), ('flexible work timing', 2171), ('last months', 3567), ('months nice', 4029), ('nice place', 4190), ('technology as', 5732), ('as sessions', 689), ('sessions are', 5347), ('are arranged', 567), ('arranged on', 652), ('new topics', 4170), ('topics hr', 6368), ('hr faculty', 3066), ('faculty always', 2089), ('always ready', 159), ('ready to', 5141), ('to solve', 6306), ('solve any', 5446), ('any queries', 529), ('queries flexible', 5106), ('from last months', 2362), ('last months nice', 3568), ('months nice place', 4030), ('nice place to', 4191), ('place to learn', 4846), ('new technology as', 4162), ('technology as sessions', 5733), ('as sessions are', 690), ('sessions are arranged', 5348), ('are arranged on', 568), ('arranged on new', 653), ('on new topics', 4471), ('new topics hr', 4171), ('topics hr faculty', 6369), ('hr faculty always', 3067), ('faculty always ready', 2090), ('always ready to', 160), ('ready to solve', 5142), ('to solve any', 6307), ('solve any queries', 5447), ('any queries flexible', 530), ('queries flexible work', 5107), ('values based', 6466), ('based driven', 898), ('driven organisation', 1711), ('organisation good', 4619), ('place for', 4837), ('for you', 2282), ('to settle', 6302), ('settle and', 5353), ('grow it', 2804), ('it organization', 3466), ('organization full', 4623), ('full of', 2382), ('opportunities the', 4566), ('is outstanding', 3393), ('outstanding and', 4664), ('is friendly', 3349), ('friendly employee', 2323), ('oriented company', 4641), ('company good', 1323), ('good training', 2691), ('training and', 6386), ('and enhancement', 264), ('enhancement programs', 1814), ('values based driven', 6467), ('based driven organisation', 899), ('driven organisation good', 1712), ('organisation good place', 4620), ('good place for', 2637), ('place for you', 4840), ('for you to', 2283), ('you to settle', 7169), ('to settle and', 6303), ('settle and grow', 5354), ('and grow it', 320), ('grow it organization', 2805), ('it organization full', 3467), ('organization full of', 4624), ('full of opportunities', 2383), ('of opportunities the', 4334), ('opportunities the work', 4567), ('balance is outstanding', 857), ('is outstanding and', 3394), ('outstanding and management', 4665), ('and management is', 382), ('management is friendly', 3909), ('is friendly employee', 3350), ('friendly employee oriented', 2324), ('employee oriented company', 1758), ('oriented company good', 4642), ('company good training', 1324), ('good training and', 2692), ('training and enhancement', 6389), ('and enhancement programs', 265), ('work from', 6932), ('from home', 2356), ('home friendly', 3036), ('friendly people', 2330), ('people self', 4779), ('self growth', 5323), ('growth opportunity', 2833), ('work from home', 6933), ('from home friendly', 2359), ('home friendly people', 3037), ('friendly people self', 2333), ('people self growth', 4780), ('self growth opportunity', 5324), ('huge scope', 3084), ('scope to', 5311), ('grow and', 2794), ('and learn', 370), ('learn more', 3630), ('more very', 4039), ('very helpful', 6534), ('huge scope to', 3085), ('scope to grow', 5312), ('to grow and', 6233), ('grow and learn', 2797), ('and learn more', 371), ('learn more very', 3631), ('more very helpful', 4040), ('very helpful associates', 6536), ('culture lots', 1497), ('can directly', 1089), ('directly interact', 1648), ('interact with', 3270), ('with your', 6869), ('your ceo', 7194), ('ceo top', 1171), ('top management', 6366), ('management flexible', 3895), ('flexible timings', 2159), ('working culture lots', 7010), ('culture lots of', 1498), ('lots of learning', 3833), ('learning opportunities you', 3672), ('opportunities you can', 4578), ('you can directly', 7110), ('can directly interact', 1090), ('directly interact with', 1649), ('interact with your', 3271), ('with your ceo', 6870), ('your ceo top', 7195), ('ceo top management', 1172), ('top management flexible', 6367), ('management flexible timings', 3896), ('xpanxion is good', 7063), ('is good place', 3360), ('work lofe', 6960), ('lofe balance', 3803), ('balance quality', 874), ('quality work', 5104), ('work better', 6894), ('better people', 992), ('home depends', 3033), ('project open', 4998), ('and you', 518), ('can reach', 1103), ('reach out', 5137), ('out to', 4656), ('to anyone', 6171), ('anyone very', 535), ('very easily', 6510), ('easily good', 1731), ('good leave', 2603), ('leave policy', 3682), ('policy flexible', 4880), ('flexible hours', 2154), ('hours and', 3044), ('and much', 387), ('much more', 4055), ('work lofe balance', 6961), ('lofe balance quality', 3804), ('balance quality work', 875), ('quality work better', 5105), ('work better people', 6895), ('better people and', 993), ('people and work', 4741), ('and work environment', 515), ('work environment work', 6924), ('environment work from', 1895), ('from home depends', 2357), ('home depends on', 3034), ('depends on the', 1605), ('the project open', 5925), ('project open culture', 4999), ('open culture and', 4541), ('culture and you', 1469), ('and you can', 519), ('you can reach', 7114), ('can reach out', 1104), ('reach out to', 5138), ('out to anyone', 4657), ('to anyone very', 6173), ('anyone very easily', 536), ('very easily good', 6511), ('easily good leave', 1732), ('good leave policy', 2604), ('leave policy flexible', 3683), ('policy flexible hours', 4881), ('flexible hours and', 2155), ('hours and much', 3045), ('and much more', 388), ('timings approachable', 6161), ('approachable management', 555), ('management great', 3900), ('great opportunity', 2760), ('learn no', 3637), ('no complex', 4204), ('complex hierarchy', 1393), ('hierarchy structure', 3017), ('flexible timings approachable', 2160), ('timings approachable management', 6162), ('approachable management great', 556), ('management great opportunity', 3901), ('great opportunity to', 2761), ('opportunity to learn', 4594), ('to learn no', 6269), ('learn no complex', 3638), ('no complex hierarchy', 4205), ('complex hierarchy structure', 1394), ('and working', 516), ('working environment', 7014), ('environment supportive', 1881), ('supportive management', 5581), ('balance and working', 833), ('and working environment', 517), ('working environment supportive', 7017), ('environment supportive management', 1882), ('you know', 7153), ('know each', 3545), ('each and', 1721), ('and every', 272), ('every one', 1962), ('one in', 4514), ('will get good', 6775), ('get good learning', 2452), ('opportunities you know', 4579), ('you know each', 7154), ('know each and', 3546), ('each and every', 1722), ('and every one', 273), ('every one in', 1963), ('one in the', 4515), ('everyone make', 1966), ('make you', 3871), ('you feel', 7128), ('feel like', 2115), ('like home', 3747), ('everyone make you', 1967), ('make you feel', 3872), ('you feel like', 7129), ('feel like home', 2116), ('good technologies', 2681), ('on various', 4498), ('various focus', 6481), ('focus groups', 2178), ('groups and', 2790), ('and essentials', 270), ('essentials programs', 1907), ('programs are', 4974), ('are conducted', 577), ('conducted to', 1403), ('to help', 6238), ('help the', 2954), ('the employees', 5845), ('salary great', 5283), ('great company', 2732), ('for fresher', 2221), ('fresher to', 2311), ('to start', 6309), ('start the', 5519), ('the career', 5815), ('good technologies to', 2683), ('work on various', 6968), ('on various focus', 4500), ('various focus groups', 6482), ('focus groups and', 2179), ('groups and essentials', 2791), ('and essentials programs', 271), ('essentials programs are', 1908), ('programs are conducted', 4975), ('are conducted to', 578), ('conducted to help', 1404), ('to help the', 6239), ('help the employees', 2955), ('the employees good', 5847), ('employees good salary', 1771), ('good salary great', 2662), ('salary great company', 5284), ('great company for', 2734), ('company for fresher', 1317), ('for fresher to', 2222), ('fresher to start', 2312), ('to start the', 6310), ('start the career', 5520), ('the career with', 5816), ('worked around', 7000), ('around years', 650), ('years and', 7088), ('and not', 393), ('not observed', 4251), ('observed any', 4260), ('any pro', 527), ('pro to', 4930), ('mention here', 4002), ('worked around years', 7001), ('around years and', 651), ('years and not', 7089), ('and not observed', 395), ('not observed any', 4252), ('observed any pro', 4261), ('any pro to', 528), ('pro to mention', 4931), ('to mention here', 6281), ('environment less', 1873), ('less politics', 3688), ('politics opportunities', 4890), ('work environment less', 6918), ('environment less politics', 1874), ('less politics opportunities', 3689), ('politics opportunities to', 4891), ('excellent environment', 1990), ('work and', 6880), ('grow career', 2798), ('excellent environment good', 1991), ('environment good place', 1857), ('to work and', 6334), ('work and grow', 6881), ('and grow career', 318), ('get plenty', 2463), ('plenty of', 4861), ('you get plenty', 7140), ('get plenty of', 2464), ('plenty of opportunities', 4863), ('nothing have', 4256), ('have found', 2908), ('found as', 2286), ('as such', 692), ('nothing have found', 4257), ('have found as', 2909), ('found as such', 2287), ('takes care', 5607), ('of employee', 4281), ('employee open', 1754), ('culture various', 1525), ('various opportunities', 6489), ('to explore', 6208), ('explore new', 2052), ('takes care of', 5608), ('care of employee', 1123), ('of employee open', 4282), ('employee open culture', 1755), ('open culture various', 4543), ('culture various opportunities', 1526), ('various opportunities to', 6490), ('opportunities to explore', 4571), ('to explore new', 6209), ('explore new technologies', 2053), ('nice office', 4183), ('office love', 4420), ('love to', 3842), ('to see', 6300), ('see you', 5317), ('you again', 7094), ('again need', 81), ('need one', 4106), ('one chance', 4510), ('chance more', 1186), ('nice office love', 4184), ('office love to', 4421), ('love to see', 3843), ('to see you', 6301), ('see you again', 5318), ('you again need', 7095), ('again need one', 82), ('need one chance', 4107), ('one chance more', 4511), ('environment liberal', 1875), ('liberal working', 3704), ('working shifts', 7032), ('work environment liberal', 6919), ('environment liberal working', 1876), ('liberal working shifts', 3705), ('and compensation', 245), ('balance and compensation', 831), ('excellent working', 2001), ('exposure ability', 2062), ('ability to', 24), ('enhance skills', 1812), ('skills excellent', 5397), ('excellent management', 1994), ('management and', 3881), ('and growing', 322), ('growing company', 2816), ('company office', 1355), ('office locations', 4418), ('locations are', 3797), ('are central', 573), ('central as', 1151), ('which makes', 6732), ('makes commute', 3873), ('commute very', 1289), ('very easy', 6512), ('easy core', 1733), ('core values', 1436), ('values are', 6464), ('are imbibed', 607), ('imbibed at', 3121), ('at all', 747), ('all levels', 101), ('excellent working environment', 2002), ('working environment good', 7015), ('environment good exposure', 1855), ('good exposure ability', 2578), ('exposure ability to', 2063), ('ability to enhance', 25), ('to enhance skills', 6203), ('enhance skills excellent', 1813), ('skills excellent management', 5398), ('excellent management and', 1995), ('management and growing', 3882), ('and growing company', 323), ('growing company office', 2817), ('company office locations', 1356), ('office locations are', 4419), ('locations are central', 3798), ('are central as', 574), ('central as well', 1152), ('well which makes', 6676), ('which makes commute', 6733), ('makes commute very', 3874), ('commute very easy', 1290), ('very easy core', 6513), ('easy core values', 1734), ('core values are', 1438), ('values are imbibed', 6465), ('are imbibed at', 608), ('imbibed at all', 3122), ('at all levels', 748), ('new thing', 4166), ('thing to', 6083), ('learn for', 3625), ('for beginners', 2195), ('beginners as', 943), ('new thing to', 4167), ('thing to learn', 6084), ('to learn for', 6266), ('learn for beginners', 3626), ('for beginners as', 2196), ('beginners as well', 944), ('get freedom', 2448), ('freedom to', 2298), ('explore opportunities', 2056), ('and flexibility', 290), ('flexibility and', 2149), ('and supportive', 465), ('supportive environment', 5578), ('get freedom to', 2449), ('freedom to explore', 2299), ('to explore opportunities', 6210), ('explore opportunities to', 2057), ('and grow and', 317), ('grow and flexibility', 2796), ('and flexibility and', 291), ('flexibility and friendly', 2151), ('and friendly and', 302), ('friendly and supportive', 2317), ('and supportive environment', 466), ('company with', 1376), ('of activities', 4262), ('and trainings', 493), ('trainings provided', 6398), ('oriented company with', 4643), ('company with lot', 1378), ('lot of activities', 3817), ('of activities and', 4263), ('activities and trainings', 56), ('and trainings provided', 494), ('nice salary', 4192), ('salary snacks', 5294), ('snacks available', 5420), ('available good', 798), ('nice salary snacks', 4193), ('salary snacks available', 5295), ('snacks available good', 5421), ('available good culture', 799), ('work location', 6958), ('location in', 3787), ('in aundh', 3143), ('good work location', 2706), ('work location in', 6959), ('location in aundh', 3788), ('culture small', 1515), ('small group', 5407), ('group scope', 2788), ('for individual', 2236), ('individual career', 3231), ('open culture small', 4542), ('culture small group', 1516), ('small group scope', 5408), ('group scope for', 2789), ('scope for individual', 5309), ('for individual career', 2237), ('individual career growth', 3232), ('pay flexible', 4708), ('hours depending', 3050), ('good pay flexible', 2623), ('pay flexible hours', 4709), ('flexible hours depending', 2156), ('hours depending on', 3051), ('salary 25', 5273), ('25 35', 14), ('35 hike', 18), ('hike while', 3025), ('while joining', 6745), ('joining learn', 3518), ('and explore', 280), ('technology opportunity', 5738), ('to take', 6314), ('take ownership', 5601), ('ownership of', 4681), ('of your', 4390), ('work propose', 6973), ('propose new', 5045), ('new innovative', 4140), ('innovative solutions', 3257), ('solutions ideas', 5444), ('ideas good', 3092), ('good coe', 2547), ('coe group', 1253), ('group initiatives', 2786), ('initiatives work', 3253), ('work personal', 6969), ('personal life', 4818), ('balance nice', 868), ('work floor', 6927), ('floor and', 2174), ('and infra', 353), ('good salary 25', 2660), ('salary 25 35', 5274), ('25 35 hike', 15), ('35 hike while', 19), ('hike while joining', 3026), ('while joining learn', 6746), ('joining learn and', 3519), ('learn and explore', 3620), ('and explore new', 281), ('explore new technology', 2054), ('new technology opportunity', 4164), ('technology opportunity to', 5739), ('opportunity to take', 4595), ('to take ownership', 6315), ('take ownership of', 5602), ('ownership of your', 4682), ('of your work', 4392), ('your work propose', 7228), ('work propose new', 6974), ('propose new innovative', 5046), ('new innovative solutions', 4141), ('innovative solutions ideas', 3258), ('solutions ideas good', 5445), ('ideas good coe', 3093), ('good coe group', 2548), ('coe group initiatives', 1254), ('group initiatives work', 2787), ('initiatives work personal', 3254), ('work personal life', 6970), ('personal life balance', 4819), ('life balance nice', 3725), ('balance nice work', 869), ('nice work floor', 4199), ('work floor and', 6928), ('floor and infra', 2175), ('pay work', 4723), ('home facility', 3035), ('good pay work', 2627), ('pay work from', 4724), ('from home facility', 2358), ('only pro', 4535), ('pro is', 4926), ('is their', 3414), ('their location', 5988), ('in pune', 3185), ('only pro is', 4536), ('pro is their', 4927), ('is their location', 3415), ('their location in', 5989), ('location in pune', 3789), ('and values', 499), ('values talent', 6470), ('work and values', 6882), ('and values talent', 500), ('learning new', 3664), ('technologies they', 5721), ('good policies', 2642), ('policies for', 4872), ('good company for', 2551), ('company for learning', 1318), ('for learning new', 2249), ('learning new technologies', 3665), ('new technologies they', 4159), ('technologies they have', 5722), ('they have good', 6046), ('have good policies', 2916), ('good policies for', 2643), ('policies for employees', 4873), ('this review', 6118), ('review is', 5215), ('is specific', 3406), ('specific to', 5488), ('to xpanxion', 6347), ('xpanxion pune', 7072), ('pune office', 5085), ('office good', 4412), ('at intermediate', 760), ('intermediate level', 3282), ('level of', 3698), ('of experience', 4287), ('experience with', 2045), ('the variety', 5975), ('variety of', 6475), ('projects technologies', 5027), ('technologies xpanxion', 5727), ('xpanxion provides', 7070), ('provides good', 5062), ('for professionals', 2262), ('professionals in', 4968), ('in mid', 3168), ('mid experience', 4017), ('experience level', 2033), ('level some', 3700), ('some very', 5464), ('in good', 3154), ('and people', 414), ('people interaction', 4769), ('interaction hr', 3272), ('team is', 5646), ('is really', 3399), ('at creating', 753), ('creating nice', 1453), ('and fun', 304), ('filled environment', 2137), ('and at', 229), ('at time', 775), ('time succeeds', 6148), ('succeeds to', 5551), ('to ease', 6199), ('ease out', 1727), ('out the', 4654), ('the stress', 5956), ('stress of', 5539), ('this review is', 6119), ('review is specific', 5216), ('is specific to', 3407), ('specific to xpanxion', 5489), ('to xpanxion pune', 6348), ('xpanxion pune office', 7073), ('pune office good', 5086), ('office good at', 4413), ('good at intermediate', 2533), ('at intermediate level', 761), ('intermediate level of', 3283), ('level of experience', 3699), ('of experience with', 4290), ('experience with the', 2047), ('with the variety', 6857), ('the variety of', 5976), ('variety of projects', 6476), ('of projects technologies', 4342), ('projects technologies xpanxion', 5028), ('technologies xpanxion provides', 5728), ('xpanxion provides good', 7071), ('provides good learning', 5063), ('good learning opportunity', 2602), ('learning opportunity for', 3676), ('opportunity for professionals', 4585), ('for professionals in', 2263), ('professionals in mid', 4969), ('in mid experience', 3169), ('mid experience level', 4018), ('experience level some', 2034), ('level some very', 3701), ('some very good', 5465), ('very good projects', 6529), ('projects and very', 5016), ('and very good', 502), ('very good people', 6527), ('good people in', 2633), ('people in good', 4767), ('in good culture', 3155), ('good culture and', 2562), ('culture and people', 1467), ('and people interaction', 415), ('people interaction hr', 4770), ('interaction hr team', 3273), ('hr team is', 3077), ('team is really', 5647), ('is really good', 3400), ('really good at', 5148), ('good at creating', 2532), ('at creating nice', 754), ('creating nice and', 1454), ('nice and fun', 4176), ('and fun filled', 305), ('fun filled environment', 2400), ('filled environment and', 2138), ('environment and at', 1833), ('and at time', 230), ('at time succeeds', 776), ('time succeeds to', 6149), ('succeeds to ease', 5552), ('to ease out', 6200), ('ease out the', 1728), ('out the stress', 4655), ('the stress of', 5957), ('stress of employees', 5540), ('company that', 1363), ('that values', 5790), ('values people', 6468), ('and always', 219), ('always keeps', 155), ('keeps the', 3536), ('the needs', 5896), ('needs of', 4120), ('employees on', 1778), ('the forefront', 5863), ('forefront had', 2284), ('had joined', 2851), ('joined this', 3504), ('this organization', 6114), ('organization as', 4621), ('fresher and', 2303), ('can gladly', 1093), ('gladly say', 2510), ('say that', 5302), ('that this', 5788), ('is the', 3412), ('company there', 1365), ('there are', 6010), ('are mulitple', 614), ('mulitple reasons', 4063), ('reasons for', 5158), ('for me', 2250), ('me to', 3993), ('to continue', 6193), ('continue to', 1417), ('be associated', 906), ('associated with', 737), ('xpanxion it', 7066), ('it gives', 3442), ('gives me', 2502), ('the freedom', 5865), ('freedom and', 2292), ('flexibility to', 2152), ('to voice', 6327), ('voice my', 6578), ('my opinion', 4093), ('opinion with', 4555), ('with sr', 6851), ('sr mgmt', 5498), ('mgmt and', 4011), ('have personally', 2925), ('personally seen', 4825), ('seen my', 5319), ('my feedback', 4088), ('feedback and', 2113), ('and opinion', 402), ('opinion being', 4553), ('being acted', 949), ('acted upon', 52), ('upon positively', 6441), ('positively have', 4904), ('have got', 2917), ('got exposure', 2713), ('exposure as', 2064), ('as support', 694), ('support to', 5570), ('various niche', 6487), ('niche technologies', 4202), ('technologies and', 5707), ('has very', 2894), ('good policy', 2644), ('policy of', 4884), ('of allocating', 4268), ('allocating hours', 112), ('hours of', 3058), ('work time', 6977), ('for personal', 2258), ('personal and', 4814), ('and professional', 429), ('professional development', 4964), ('development per', 1622), ('per week', 4796), ('week was', 6657), ('was able', 6592), ('able to', 27), ('to upgrade', 6323), ('upgrade my', 6435), ('my skills', 4095), ('skills and', 5389), ('am currently', 165), ('currently working', 1547), ('working on', 7029), ('on some', 4480), ('some cool', 5454), ('cool features', 1426), ('features for', 2109), ('for product', 2260), ('product company', 4956), ('company who', 1374), ('who is', 6751), ('is our', 3391), ('our esteemed', 4650), ('esteemed client', 1910), ('client get', 1209), ('get to', 2467), ('to interact', 6247), ('interact directly', 3268), ('directly with', 1650), ('with client', 6807), ('client which', 1217), ('which provides', 6736), ('provides me', 5065), ('me an', 3986), ('an opportunity', 209), ('to hone', 6240), ('hone my', 3040), ('my client', 4080), ('client facing', 1207), ('facing skills', 2085), ('skills as', 5393), ('as aspire', 658), ('aspire to', 731), ('get into', 2454), ('into technical', 3296), ('technical project', 5698), ('project manager', 4996), ('manager role', 3933), ('role eventually', 5237), ('eventually the', 1950), ('the management', 5886), ('management takes', 3919), ('takes serious', 5611), ('serious view', 5343), ('view on', 6568), ('on teams', 4482), ('teams sitting', 5672), ('sitting late', 5377), ('late and', 3581), ('and ensures', 266), ('ensures that', 1824), ('that the', 5781), ('associates are', 739), ('are able', 559), ('to maintain', 6273), ('maintain better', 3863), ('better work', 999), ('balance think', 880), ('think the', 6097), ('the greatest', 5871), ('greatest example', 2782), ('example can', 1982), ('can quote', 1101), ('quote about', 5117), ('the greatness', 5873), ('greatness of', 2784), ('is where', 3428), ('where employees', 6710), ('employees quit', 1780), ('quit xpanxion', 5112), ('xpanxion but', 7051), ('but returned', 1046), ('returned back', 5213), ('back to', 823), ('join as', 3492), ('as they', 700), ('they felt', 6038), ('felt that', 2121), ('that they', 5783), ('they missed', 6053), ('missed the', 4025), ('the personal', 5920), ('personal touch', 4823), ('touch in', 6370), ('the new', 5898), ('new organization', 4152), ('organization they', 4631), ('they had', 6042), ('joined got', 3502), ('to go', 6228), ('go now', 2518), ('now as', 4258), ('as am', 654), ('am preparing', 169), ('preparing for', 4914), ('for demo', 2211), ('demo and', 1594), ('and pretty', 425), ('pretty excited', 4916), ('excited about', 2009), ('about conducting', 32), ('conducting this', 1405), ('this demo', 6104), ('demo for', 1596), ('for the', 2268), ('the client', 5821), ('company that values', 1364), ('that values people', 5791), ('values people and', 6469), ('people and always', 4736), ('and always keeps', 221), ('always keeps the', 156), ('keeps the needs', 3537), ('the needs of', 5897), ('needs of the', 4122), ('of the employees', 4360), ('the employees on', 5849), ('employees on the', 1779), ('on the forefront', 4488), ('the forefront had', 5864), ('forefront had joined', 2285), ('had joined this', 2853), ('joined this organization', 3505), ('this organization as', 6115), ('organization as fresher', 4622), ('as fresher and', 666), ('fresher and can', 2304), ('and can gladly', 239), ('can gladly say', 1094), ('gladly say that', 2511), ('say that this', 5303), ('that this is', 5789), ('this is the', 6111), ('is the company', 3413), ('the company there', 5834), ('company there are', 1366), ('there are mulitple', 6012), ('are mulitple reasons', 615), ('mulitple reasons for', 4064), ('reasons for me', 5159), ('for me to', 2251), ('me to continue', 3994), ('to continue to', 6194), ('continue to be', 1418), ('to be associated', 6178), ('be associated with', 907), ('associated with xpanxion', 738), ('with xpanxion it', 6866), ('xpanxion it gives', 7067), ('it gives me', 3443), ('gives me the', 2503), ('me the freedom', 3991), ('the freedom and', 5866), ('freedom and flexibility', 2293), ('and flexibility to', 292), ('flexibility to voice', 2153), ('to voice my', 6328), ('voice my opinion', 6579), ('my opinion with', 4094), ('opinion with sr', 4556), ('with sr mgmt', 6852), ('sr mgmt and', 5499), ('mgmt and have', 4012), ('and have personally', 330), ('have personally seen', 2926), ('personally seen my', 4826), ('seen my feedback', 5320), ('my feedback and', 4089), ('feedback and opinion', 2114), ('and opinion being', 403), ('opinion being acted', 4554), ('being acted upon', 950), ('acted upon positively', 53), ('upon positively have', 6442), ('positively have got', 4905), ('have got exposure', 2918), ('got exposure as', 2714), ('exposure as well', 2065), ('well as support', 6663), ('as support to', 695), ('support to work', 5571), ('on various niche', 4501), ('various niche technologies', 6488), ('niche technologies and', 4203), ('technologies and the', 5708), ('and the company', 480), ('the company has', 5829), ('company has very', 1332), ('has very good', 2895), ('very good policy', 6528), ('good policy of', 2645), ('policy of allocating', 4885), ('of allocating hours', 4269), ('allocating hours of', 113), ('hours of work', 3059), ('of work time', 4385), ('work time for', 6978), ('time for personal', 6141), ('for personal and', 2259), ('personal and professional', 4815), ('and professional development', 430), ('professional development per', 4965), ('development per week', 1623), ('per week was', 4797), ('week was able', 6658), ('was able to', 6593), ('able to upgrade', 29), ('to upgrade my', 6324), ('upgrade my skills', 6436), ('my skills and', 4096), ('skills and am', 5391), ('and am currently', 223), ('am currently working', 166), ('currently working on', 1548), ('working on some', 7030), ('on some cool', 4481), ('some cool features', 5455), ('cool features for', 1427), ('features for product', 2110), ('for product company', 2261), ('product company who', 4957), ('company who is', 1375), ('who is our', 6752), ('is our esteemed', 3392), ('our esteemed client', 4651), ('esteemed client get', 1911), ('client get to', 1210), ('get to interact', 2468), ('to interact directly', 6248), ('interact directly with', 3269), ('directly with client', 1651), ('with client which', 6808), ('client which provides', 1218), ('which provides me', 6737), ('provides me an', 5066), ('me an opportunity', 3987), ('an opportunity to', 210), ('opportunity to hone', 4593), ('to hone my', 6241), ('hone my client', 3041), ('my client facing', 4081), ('client facing skills', 1208), ('facing skills as', 2086), ('skills as aspire', 5394), ('as aspire to', 659), ('aspire to get', 732), ('to get into', 6223), ('get into technical', 2455), ('into technical project', 3297), ('technical project manager', 5699), ('project manager role', 4997), ('manager role eventually', 3934), ('role eventually the', 5238), ('eventually the management', 1951), ('the management takes', 5887), ('management takes serious', 3920), ('takes serious view', 5612), ('serious view on', 5344), ('view on teams', 6569), ('on teams sitting', 4483), ('teams sitting late', 5673), ('sitting late and', 5378), ('late and ensures', 3582), ('and ensures that', 267), ('ensures that the', 1825), ('that the associates', 5782), ('the associates are', 5800), ('associates are able', 740), ('are able to', 560), ('able to maintain', 28), ('to maintain better', 6274), ('maintain better work', 3864), ('better work life', 1000), ('life balance think', 3729), ('balance think the', 881), ('think the greatest', 6098), ('the greatest example', 5872), ('greatest example can', 2783), ('example can quote', 1983), ('can quote about', 1102), ('quote about the', 5118), ('about the greatness', 36), ('the greatness of', 5874), ('greatness of this', 2785), ('this company is', 6103), ('company is where', 1344), ('is where employees', 3429), ('where employees quit', 6711), ('employees quit xpanxion', 1781), ('quit xpanxion but', 5113), ('xpanxion but returned', 7052), ('but returned back', 1047), ('returned back to', 5214), ('back to join', 825), ('to join as', 6254), ('join as they', 3493), ('as they felt', 702), ('they felt that', 6039), ('felt that they', 2122), ('that they missed', 5784), ('they missed the', 6054), ('missed the personal', 4026), ('the personal touch', 5921), ('personal touch in', 4824), ('touch in the', 6371), ('in the new', 3205), ('the new organization', 5900), ('new organization they', 4153), ('organization they had', 4632), ('they had joined', 6043), ('had joined got', 2852), ('joined got to', 3503), ('got to go', 2722), ('to go now', 6229), ('go now as', 2519), ('now as am', 4259), ('as am preparing', 655), ('am preparing for', 170), ('preparing for demo', 4915), ('for demo and', 2212), ('demo and pretty', 1595), ('and pretty excited', 426), ('pretty excited about', 4917), ('excited about conducting', 2010), ('about conducting this', 33), ('conducting this demo', 1406), ('this demo for', 6105), ('demo for the', 1597), ('for the client', 2269), ('is for', 3347), ('the pune', 5930), ('office if', 4414), ('get opportunity', 2461), ('on things', 4491), ('things that', 6091), ('that you', 5794), ('want management', 6588), ('management encourages', 3892), ('encourages you', 1800), ('take risks', 5603), ('risks and', 5233), ('and helps', 341), ('helps you', 2996), ('you grow', 7145), ('grow with', 2809), ('with constant', 6811), ('constant encouragement', 1413), ('encouragement and', 1796), ('the right', 5940), ('right kind', 5227), ('work the', 6975), ('the resource', 5936), ('resource management', 5198), ('team works', 5666), ('works to', 7039), ('to find', 6213), ('find you', 2141), ('you work', 7187), ('your aspirations', 7189), ('aspirations and', 725), ('it relatively', 3470), ('relatively fast', 5176), ('fast when', 2107), ('when project', 6700), ('project change', 4988), ('change is', 1189), ('is asked', 3323), ('asked for', 719), ('for if', 2234), ('feel your', 2117), ('aspirations are', 727), ('are different', 579), ('different like', 1634), ('in my', 3175), ('my case', 4078), ('case wanted', 1145), ('wanted to', 6590), ('to manage', 6277), ('manage teams', 3879), ('teams than', 5674), ('than be', 5759), ('be on', 914), ('on tech', 4484), ('tech got', 5678), ('got the', 2719), ('opportunity they', 4588), ('they are', 6028), ('are growing', 601), ('growing and', 2814), ('it evident', 3438), ('evident that', 1978), ('that thier', 5786), ('thier employees', 6075), ('employees are', 1766), ('are part', 618), ('part of', 4689), ('of that', 4355), ('that growth', 5775), ('growth story', 2835), ('story because', 5531), ('because people', 933), ('people from', 4752), ('from delivery', 2350), ('delivery are', 1592), ('also involved', 131), ('involved in', 3304), ('in strategy', 3198), ('strategy fast', 5533), ('fast track', 2104), ('track promotions', 6376), ('promotions even', 5043), ('even back', 1926), ('to back', 6174), ('back if', 821), ('do well', 1670), ('well management', 6670), ('management doesn', 3888), ('doesn look', 1676), ('look at', 3809), ('at the', 772), ('the years', 5984), ('years of', 7092), ('experience but', 2027), ('but skill', 1048), ('skill when', 5385), ('when promoting', 6702), ('promoting fun', 5041), ('fun place', 2402), ('at sometimes', 770), ('sometimes too', 5470), ('many cultural', 3957), ('cultural events', 1457), ('events people', 1947), ('are driven', 581), ('driven here', 1709), ('and focussed', 295), ('focussed management', 2186), ('is empathetic', 3341), ('empathetic towards', 1737), ('towards the', 6372), ('employees learning', 1774), ('good as', 2529), ('conduct lot', 1397), ('of sessions', 4351), ('sessions from', 5349), ('from technology', 2370), ('and behaviourial', 233), ('behaviourial aspect', 947), ('aspect aundh', 721), ('aundh location', 792), ('location is', 3790), ('good lots', 2609), ('of restaurants', 4347), ('restaurants around', 5210), ('this is for', 6108), ('is for the', 3348), ('for the pune', 2271), ('the pune office', 5931), ('pune office if', 5087), ('office if you', 4415), ('you are good', 7097), ('are good at', 593), ('good at work', 2535), ('at work you', 782), ('you get opportunity', 7139), ('get opportunity to', 2462), ('opportunity to work', 4596), ('work on things', 6967), ('on things that', 4492), ('things that you', 6092), ('that you want', 5796), ('you want management', 7175), ('want management encourages', 6589), ('management encourages you', 3893), ('encourages you to', 1801), ('you to take', 7171), ('to take risks', 6316), ('take risks and', 5604), ('risks and helps', 5234), ('and helps you', 342), ('helps you grow', 2997), ('you grow with', 7146), ('grow with constant', 2810), ('with constant encouragement', 6812), ('constant encouragement and', 1414), ('encouragement and the', 1797), ('and the right', 483), ('the right kind', 5941), ('right kind of', 5228), ('kind of work', 3540), ('of work the', 4384), ('work the resource', 6976), ('the resource management', 5937), ('resource management team', 5199), ('management team works', 3924), ('team works to', 5667), ('works to find', 7040), ('to find you', 6214), ('find you work', 2142), ('you work as', 7188), ('work as per', 6885), ('per your aspirations', 4799), ('your aspirations and', 7190), ('aspirations and it', 726), ('and it relatively', 360), ('it relatively fast', 3471), ('relatively fast when', 5177), ('fast when project', 2108), ('when project change', 6701), ('project change is', 4989), ('change is asked', 1190), ('is asked for', 3324), ('asked for if', 720), ('for if you', 2235), ('if you feel', 3110), ('you feel your', 7130), ('feel your aspirations', 2118), ('your aspirations are', 7191), ('aspirations are different', 728), ('are different like', 580), ('different like in', 1635), ('like in my', 3749), ('in my case', 3176), ('my case wanted', 4079), ('case wanted to', 1146), ('wanted to manage', 6591), ('to manage teams', 6278), ('manage teams than', 3880), ('teams than be', 5675), ('than be on', 5760), ('be on tech', 915), ('on tech got', 4485), ('tech got the', 5679), ('got the opportunity', 2720), ('the opportunity they', 5907), ('opportunity they are', 4589), ('they are growing', 6030), ('are growing and', 602), ('growing and it', 2815), ('and it evident', 357), ('it evident that', 3439), ('evident that thier', 1979), ('that thier employees', 5787), ('thier employees are', 6076), ('employees are part', 1768), ('are part of', 619), ('part of that', 4691), ('of that growth', 4356), ('that growth story', 5776), ('growth story because', 2836), ('story because people', 5532), ('because people from', 934), ('people from delivery', 4753), ('from delivery are', 2351), ('delivery are also', 1593), ('are also involved', 563), ('also involved in', 132), ('involved in strategy', 3305), ('in strategy fast', 3199), ('strategy fast track', 5534), ('fast track promotions', 2106), ('track promotions even', 6377), ('promotions even back', 5044), ('even back to', 1927), ('back to back', 824), ('to back if', 6175), ('back if you', 822), ('if you do', 3108), ('you do well', 7125), ('do well management', 1671), ('well management doesn', 6671), ('management doesn look', 3889), ('doesn look at', 1677), ('look at the', 3810), ('at the years', 774), ('the years of', 5985), ('years of experience', 7093), ('of experience but', 4289), ('experience but skill', 2028), ('but skill when', 1049), ('skill when promoting', 5386), ('when promoting fun', 6703), ('promoting fun place', 5042), ('fun place to', 2403), ('work at sometimes', 6889), ('at sometimes too', 771), ('sometimes too many', 5471), ('too many cultural', 6358), ('many cultural events', 3958), ('cultural events people', 1458), ('events people are', 1948), ('people are driven', 4743), ('are driven here', 582), ('driven here and', 1710), ('here and focussed', 3004), ('and focussed management', 296), ('focussed management is', 2187), ('management is empathetic', 3908), ('is empathetic towards', 3342), ('empathetic towards the', 1738), ('towards the employees', 6373), ('the employees learning', 5848), ('employees learning is', 1775), ('learning is good', 3658), ('is good as', 3355), ('good as they', 2530), ('as they conduct', 701), ('they conduct lot', 6032), ('conduct lot of', 1398), ('lot of sessions', 3825), ('of sessions from', 4352), ('sessions from technology', 5350), ('from technology and', 2371), ('technology and behaviourial', 5730), ('and behaviourial aspect', 234), ('behaviourial aspect aundh', 948), ('aspect aundh location', 722), ('aundh location is', 793), ('location is good', 3791), ('is good lots', 3359), ('good lots of', 2610), ('lots of restaurants', 3836), ('of restaurants around', 4348), ('the biggest', 5811), ('biggest strength', 1013), ('strength of', 5535), ('of xpanxion', 4386), ('is people', 3395), ('people also', 4733), ('also work', 141), ('is challenging', 3332), ('challenging and', 1181), ('and one', 396), ('one keeps', 4518), ('keeps learning', 3534), ('learning continuously', 3649), ('continuously the', 1419), ('is also', 3312), ('also very', 137), ('the biggest strength', 5812), ('biggest strength of', 1014), ('strength of xpanxion', 5536), ('of xpanxion is', 4387), ('xpanxion is people', 7065), ('is people also', 3396), ('people also work', 4734), ('also work is', 142), ('work is challenging', 6950), ('is challenging and', 3333), ('challenging and one', 1182), ('and one keeps', 397), ('one keeps learning', 4519), ('keeps learning continuously', 3535), ('learning continuously the', 3650), ('continuously the work', 1420), ('the work culture', 5980), ('culture is also', 1493), ('is also very', 3314), ('also very good', 138), ('good technical', 2678), ('technical work', 5703), ('work in', 6944), ('in fact', 3150), ('fact better', 2087), ('better than', 996), ('than many', 5763), ('many large', 3961), ('large organizations', 3561), ('organizations challenging', 4635), ('challenging assignments', 1183), ('assignments and', 735), ('and hence', 343), ('hence there', 2998), ('there is', 6015), ('is lot', 3374), ('lot to', 3828), ('and sharpen', 457), ('sharpen the', 5357), ('the skills', 5953), ('good technical work', 2680), ('technical work in', 5704), ('work in fact', 6945), ('in fact better', 3151), ('fact better than', 2088), ('better than many', 997), ('than many large', 5764), ('many large organizations', 3962), ('large organizations challenging', 3562), ('organizations challenging assignments', 4636), ('challenging assignments and', 1184), ('assignments and hence', 736), ('and hence there', 344), ('hence there is', 2999), ('there is lot', 6017), ('is lot to', 3376), ('lot to learn', 3829), ('learn and sharpen', 3622), ('and sharpen the', 458), ('sharpen the skills', 5358), ('they offer', 6057), ('offer best', 4393), ('best salary', 981), ('salary at', 5279), ('the time', 5966), ('time of', 6144), ('of joining', 4313), ('joining new', 3520), ('stack work', 5508), ('balance depending', 844), ('project appraisals', 4982), ('appraisals are', 543), ('are average', 569), ('average some', 806), ('some cases', 5452), ('cases you', 1147), ('get more', 2459), ('more than', 4037), ('than expectation', 5761), ('expectation no', 2020), ('no politics', 4214), ('politics gifts', 4888), ('gifts on', 2485), ('on diwali', 4451), ('diwali and', 1654), ('and other', 408), ('other functions', 4646), ('functions like', 2409), ('like family', 3743), ('day outing', 1567), ('outing sport', 4658), ('sport events', 5494), ('events training', 1949), ('they offer best', 6058), ('offer best salary', 4394), ('best salary at', 982), ('salary at the', 5280), ('at the time', 773), ('the time of', 5967), ('time of joining', 6145), ('of joining new', 4314), ('joining new technology', 3521), ('new technology stack', 4165), ('technology stack work', 5744), ('stack work life', 5509), ('life balance depending', 3715), ('balance depending on', 845), ('depending on project', 1601), ('on project appraisals', 4473), ('project appraisals are', 4983), ('appraisals are average', 544), ('are average some', 570), ('average some cases', 807), ('some cases you', 5453), ('cases you get', 1148), ('you get more', 7138), ('get more than', 2460), ('more than expectation', 4038), ('than expectation no', 5762), ('expectation no politics', 2021), ('no politics gifts', 4216), ('politics gifts on', 4889), ('gifts on diwali', 2487), ('on diwali and', 4452), ('diwali and other', 1655), ('and other functions', 409), ('other functions like', 4647), ('functions like family', 2410), ('like family day', 3744), ('family day outing', 2097), ('day outing sport', 1568), ('outing sport events', 4659), ('sport events training', 5495), ('on providing', 4476), ('providing an', 5067), ('an environment', 197), ('environment that', 1883), ('that gives', 5773), ('focus on providing', 2184), ('on providing an', 4477), ('providing an environment', 5068), ('an environment that', 198), ('environment that gives', 1884), ('that gives good', 5774), ('gives good work', 2501), ('projects which', 5033), ('which require', 6738), ('require good', 5194), ('technical skills', 5700), ('skills good', 5399), ('good increments', 2592), ('increments overall', 3227), ('overall working', 4679), ('good projects which', 2655), ('projects which require', 5034), ('which require good', 6739), ('require good technical', 5195), ('good technical skills', 2679), ('technical skills good', 5701), ('skills good management', 5400), ('management good increments', 3899), ('good increments overall', 2593), ('increments overall working', 3228), ('overall working environment', 4680), ('walk out', 6586), ('anyone and', 533), ('and talk', 469), ('talk about', 5621), ('about your', 37), ('your query', 7215), ('query and', 5108), ('and help', 333), ('help will', 2956), ('will be', 6763), ('be within', 926), ('within no', 6874), ('no time', 4221), ('time given', 6142), ('given to', 2497), ('to you', 6349), ('you friendly', 7131), ('friendly work', 2340), ('environment events', 1850), ('events happening', 1939), ('happening so', 2864), ('so that', 5434), ('can showcase', 1105), ('showcase your', 5363), ('your talent', 7221), ('talent super', 5617), ('super work', 5560), ('balance you', 890), ('are open', 616), ('learn anything', 3623), ('anything which', 537), ('which you', 6743), ('you desire', 7121), ('can walk out', 1115), ('walk out to', 6587), ('to anyone and', 6172), ('anyone and talk', 534), ('and talk about', 470), ('talk about your', 5622), ('about your query', 38), ('your query and', 7216), ('query and help', 5109), ('and help will', 334), ('help will be', 2957), ('will be within', 6764), ('be within no', 927), ('within no time', 6875), ('no time given', 4222), ('time given to', 6143), ('given to you', 2498), ('to you friendly', 6350), ('you friendly work', 7132), ('friendly work environment', 2341), ('work environment events', 6916), ('environment events happening', 1851), ('events happening so', 1940), ('happening so that', 2865), ('so that you', 5435), ('that you can', 5795), ('you can showcase', 7115), ('can showcase your', 1106), ('showcase your talent', 5364), ('your talent super', 7222), ('talent super work', 5618), ('super work life', 5561), ('life balance you', 3734), ('balance you are', 891), ('you are open', 7102), ('are open to', 617), ('open to learn', 4549), ('to learn anything', 6265), ('learn anything which', 3624), ('anything which you', 538), ('which you desire', 6744), ('initial qa', 3251), ('qa projects', 5099), ('projects were', 5031), ('were extremely', 6681), ('extremely good', 2077), ('good my', 2617), ('my last', 4090), ('last project', 3571), ('project was', 5006), ('was led', 6607), ('led by', 3686), ('by female', 1064), ('female qa', 2123), ('qa manager', 5097), ('manager worst', 3937), ('worst experience', 7043), ('experience of', 2037), ('of my', 4326), ('my entire', 4083), ('entire career', 1828), ('career at', 1126), ('xpanxion so', 7074), ('many rules', 3969), ('rules were', 5255), ('were enforced', 6679), ('enforced for', 1802), ('for that', 2266), ('that team', 5779), ('team too', 5659), ('too much', 6360), ('much micro', 4053), ('micro management', 4013), ('and tracking', 489), ('tracking late', 6378), ('late fee', 3583), ('fee for', 2111), ('for coming', 2205), ('coming after', 1272), ('after 10', 73), ('10 30', 2), ('30 even', 16), ('even if', 1930), ('if we', 3104), ('we sit', 6651), ('sit late', 5375), ('late after', 3579), ('after pm', 77), ('pm it', 4866), ('not considered', 4234), ('considered unwanted', 1411), ('unwanted personal', 6425), ('life questions', 3735), ('questions and', 5110), ('and taunts', 471), ('taunts she', 5627), ('she trying', 5359), ('trying to', 6413), ('to gain', 6219), ('gain sympathy', 2417), ('sympathy of', 5595), ('of her', 4305), ('her personal', 3000), ('personal problems', 4822), ('initial qa projects', 3252), ('qa projects were', 5101), ('projects were extremely', 5032), ('were extremely good', 6682), ('extremely good my', 2078), ('good my last', 2618), ('my last project', 4092), ('last project was', 3572), ('project was led', 5007), ('was led by', 6608), ('led by female', 3687), ('by female qa', 1065), ('female qa manager', 2124), ('qa manager worst', 5098), ('manager worst experience', 3938), ('worst experience of', 7044), ('experience of my', 2038), ('of my entire', 4327), ('my entire career', 4084), ('entire career at', 1829), ('career at xpanxion', 1127), ('at xpanxion so', 785), ('xpanxion so many', 7075), ('so many rules', 5431), ('many rules were', 3970), ('rules were enforced', 5256), ('were enforced for', 6680), ('enforced for that', 1803), ('for that team', 2267), ('that team too', 5780), ('team too much', 5660), ('too much micro', 6361), ('much micro management', 4054), ('micro management and', 4014), ('management and tracking', 3883), ('and tracking late', 490), ('tracking late fee', 6379), ('late fee for', 3584), ('fee for coming', 2112), ('for coming after', 2206), ('coming after 10', 1273), ('after 10 30', 74), ('10 30 even', 3), ('30 even if', 17), ('even if we', 1931), ('if we sit', 3105), ('we sit late', 6652), ('sit late after', 5376), ('late after pm', 3580), ('after pm it', 78), ('pm it is', 4867), ('it is not', 3457), ('is not considered', 3383), ('not considered unwanted', 4235), ('considered unwanted personal', 1412), ('unwanted personal life', 6426), ('personal life questions', 4820), ('life questions and', 3736), ('questions and taunts', 5111), ('and taunts she', 472), ('taunts she trying', 5628), ('she trying to', 5360), ('trying to gain', 6414), ('to gain sympathy', 6220), ('gain sympathy of', 2418), ('sympathy of her', 5596), ('of her personal', 4306), ('her personal problems', 3001), ('friendly atmosphere', 2318), ('atmosphere good', 786), ('good employee', 2572), ('policies project', 4876), ('project allocation', 4980), ('allocation status', 114), ('status checked', 5525), ('checked frequently', 1197), ('frequently skill', 2301), ('skill development', 5383), ('development engagement', 1618), ('engagement given', 1806), ('given priority', 2495), ('priority peers', 4922), ('peers are', 4731), ('good to', 2688), ('work within', 6994), ('within the', 6876), ('work place', 6971), ('very friendly atmosphere', 6519), ('friendly atmosphere good', 2319), ('atmosphere good employee', 787), ('good employee friendly', 2573), ('friendly policies project', 2335), ('policies project allocation', 4877), ('project allocation status', 4981), ('allocation status checked', 115), ('status checked frequently', 5526), ('checked frequently skill', 1198), ('frequently skill development', 2302), ('skill development engagement', 5384), ('development engagement given', 1619), ('engagement given priority', 1807), ('given priority peers', 2496), ('priority peers are', 4923), ('peers are good', 4732), ('are good to', 596), ('good to work', 2689), ('to work within', 6345), ('work within the', 6995), ('within the work', 6877), ('the work place', 5982), ('work like', 6954), ('like full', 3745), ('full stack', 2384), ('stack developer', 5500), ('developer on', 1616), ('on all', 4436), ('all layers', 99), ('layers may', 3604), ('may vary', 3983), ('vary bit', 6491), ('bit per', 1019), ('per project', 4795), ('you get to', 7142), ('get to work', 2470), ('to work like', 6341), ('work like full', 6955), ('like full stack', 3746), ('full stack developer', 2385), ('stack developer on', 5501), ('developer on all', 1617), ('on all layers', 4437), ('all layers may', 100), ('layers may vary', 3605), ('may vary bit', 3984), ('vary bit per', 6492), ('bit per project', 1020), ('available in', 800), ('in pantry', 3180), ('pantry for', 4687), ('for free', 2219), ('free always', 2290), ('always good', 149), ('good location', 2607), ('location employees', 3781), ('are given', 589), ('given gifts', 2491), ('on birthdays', 4443), ('birthdays and', 1017), ('and joining', 362), ('joining anniversary', 3514), ('snacks available in', 5422), ('available in pantry', 801), ('in pantry for', 3181), ('pantry for free', 4688), ('for free always', 2220), ('free always good', 2291), ('always good location', 150), ('good location employees', 2608), ('location employees are', 3782), ('employees are given', 1767), ('are given gifts', 590), ('given gifts on', 2492), ('gifts on birthdays', 2486), ('on birthdays and', 4444), ('birthdays and joining', 1018), ('and joining anniversary', 363), ('timing open', 6159), ('door policy', 1690), ('policy get', 4882), ('get chance', 2439), ('chance to', 1187), ('things management', 6089), ('good managers', 2615), ('not biased', 4231), ('work timing open', 6980), ('timing open door', 6160), ('open door policy', 4547), ('door policy get', 1691), ('policy get chance', 4883), ('get chance to', 2440), ('chance to learn', 1188), ('learn new things', 3636), ('new things management', 4169), ('things management is', 6090), ('management is very', 3914), ('very good managers', 6526), ('good managers are', 2616), ('are very helpful', 638), ('very helpful and', 6535), ('helpful and not', 2961), ('and not biased', 394), ('they will', 6069), ('will promise', 6782), ('promise to', 5039), ('to give', 6226), ('give you', 2489), ('you joining', 7151), ('joining will', 3522), ('will offer', 6780), ('offer descent', 4395), ('descent salary', 1610), ('salary will', 5296), ('will behave', 6765), ('behave with', 945), ('with you', 6867), ('you well', 7176), ('well but', 6664), ('but will', 1058), ('will not', 6778), ('not give', 4238), ('give joining', 2488), ('they will promise', 6070), ('will promise to', 6783), ('promise to give', 5040), ('to give you', 6227), ('give you joining', 2490), ('you joining will', 7152), ('joining will offer', 3523), ('will offer descent', 6781), ('offer descent salary', 4396), ('descent salary will', 1611), ('salary will behave', 5297), ('will behave with', 6766), ('behave with you', 946), ('with you well', 6868), ('you well but', 7177), ('well but will', 6665), ('but will not', 1059), ('will not give', 6779), ('not give joining', 4239), ('of integrity', 4311), ('integrity and', 3266), ('and innovation', 354), ('innovation approachable', 3255), ('approachable higher', 553), ('management interesting', 3904), ('interesting employee', 3278), ('employee engagement', 1744), ('engagement activities', 1804), ('activities greater', 59), ('greater growth', 2780), ('growth opportunities', 2831), ('opportunities since', 4564), ('since organization', 5371), ('organization is', 4625), ('on fast', 4455), ('track growth', 6374), ('growth mode', 2828), ('culture of integrity', 1506), ('of integrity and', 4312), ('integrity and innovation', 3267), ('and innovation approachable', 355), ('innovation approachable higher', 3256), ('approachable higher management', 554), ('higher management interesting', 3022), ('management interesting employee', 3905), ('interesting employee engagement', 3279), ('employee engagement activities', 1745), ('engagement activities greater', 1805), ('activities greater growth', 60), ('greater growth opportunities', 2781), ('growth opportunities since', 2832), ('opportunities since organization', 4565), ('since organization is', 5372), ('organization is on', 4626), ('is on fast', 3385), ('on fast track', 4456), ('fast track growth', 2105), ('track growth mode', 6375), ('culture nice', 1501), ('people good', 4754), ('work challenging', 6896), ('challenging stuff', 1185), ('good culture nice', 2565), ('culture nice people', 1502), ('nice people good', 4189), ('people good work', 4759), ('good work challenging', 2702), ('work challenging stuff', 6897), ('very nice', 6547), ('nice company', 4177), ('with environment', 6815), ('is quite', 3397), ('quite supportive', 5115), ('very nice company', 6548), ('nice company to', 4178), ('to work with', 6344), ('work with environment', 6989), ('with environment and', 6816), ('environment and work', 1841), ('is also good', 3313), ('also good management', 124), ('good management is', 2613), ('management is quite', 3912), ('is quite supportive', 3398), ('quite supportive and', 5116), ('supportive and approachable', 5573), ('pay freedom', 4713), ('to express', 6211), ('express your', 2071), ('your knowledge', 7203), ('to work in', 6340), ('work in good', 6946), ('in good pay', 3156), ('good pay freedom', 2625), ('pay freedom to', 4714), ('freedom to express', 2300), ('to express your', 6212), ('express your knowledge', 2072), ('new skills', 4154), ('and almost', 215), ('almost all', 116), ('all senior', 104), ('senior are', 5328), ('are best', 571), ('best mentor', 976), ('learn new skills', 3633), ('new skills and', 4155), ('skills and almost', 5390), ('and almost all', 216), ('almost all senior', 117), ('all senior are', 105), ('senior are best', 5329), ('are best mentor', 572), ('with and', 6796), ('very good company', 6522), ('work with and', 6987), ('with and learn', 6798), ('and learn new', 372), ('culture with', 1535), ('with core', 6813), ('values all', 6462), ('all departments', 87), ('departments are', 1598), ('are supportive', 629), ('and prompt', 432), ('friendly culture with', 2322), ('culture with core', 1536), ('with core values', 6814), ('core values all', 1437), ('values all departments', 6463), ('all departments are', 88), ('departments are supportive', 1599), ('are supportive and', 630), ('supportive and prompt', 5575), ('and vibrant', 504), ('vibrant culture', 6564), ('environment and vibrant', 1839), ('and vibrant culture', 505), ('opportunities down', 4557), ('down to', 1692), ('to earth', 6197), ('earth senior', 1725), ('senior management', 5332), ('management employee', 3890), ('learning opportunities down', 3667), ('opportunities down to', 4558), ('down to earth', 1693), ('to earth senior', 6198), ('earth senior management', 1726), ('senior management employee', 5333), ('management employee friendly', 3891), ('employee friendly environment', 1750), ('for work', 2280), ('work good', 6936), ('culture professional', 1511), ('professional culture', 4962), ('culture training', 1521), ('place for work', 4839), ('for work good', 2281), ('work good work', 6937), ('work culture professional', 6906), ('culture professional culture', 1512), ('professional culture training', 4963), ('really good company', 5149), ('with and explore', 6797), ('explore new things', 2055), ('culture no', 1503), ('politics appraisals', 4886), ('good and', 2524), ('and performance', 417), ('performance based', 4805), ('work culture no', 6905), ('culture no politics', 1504), ('no politics appraisals', 4215), ('politics appraisals are', 4887), ('appraisals are good', 545), ('are good and', 592), ('good and performance', 2525), ('and performance based', 418), ('xpanxion carried', 7053), ('carried culture', 1143), ('culture which', 1533), ('which was', 6740), ('was it', 6605), ('it strength', 3472), ('strength surely', 5537), ('surely it', 5589), ('it has', 3449), ('has lost', 2890), ('lost it', 3813), ('xpanxion carried culture', 7054), ('carried culture which', 1144), ('culture which was', 1534), ('which was it', 6741), ('was it strength', 6606), ('it strength surely', 3473), ('strength surely it', 5538), ('surely it has', 5590), ('it has lost', 3450), ('has lost it', 2891), ('sure join', 5587), ('company if', 1335), ('you have', 7149), ('the offer', 5901), ('sure join this', 5588), ('this company if', 6102), ('company if you', 1336), ('if you have', 3112), ('you have the', 7150), ('have the offer', 2932), ('pay master', 4717), ('master for', 3973), ('for lateral', 2241), ('lateral hires', 3585), ('hires good', 3029), ('opportunities they', 4568), ('have started', 2929), ('started dev', 5523), ('dev essentials', 1614), ('essentials and', 1903), ('and qa', 433), ('qa essentials', 5095), ('programs to', 4976), ('to improve', 6244), ('improve technical', 3131), ('skills of', 5403), ('of their', 4367), ('their employees', 5986), ('good pay master', 2626), ('pay master for', 4718), ('master for lateral', 3974), ('for lateral hires', 2242), ('lateral hires good', 3586), ('hires good learning', 3030), ('learning opportunities they', 3671), ('opportunities they have', 4569), ('they have started', 6047), ('have started dev', 2930), ('started dev essentials', 5524), ('dev essentials and', 1615), ('essentials and qa', 1904), ('and qa essentials', 434), ('qa essentials programs', 5096), ('essentials programs to', 1909), ('programs to improve', 4977), ('to improve technical', 6245), ('improve technical skills', 3132), ('technical skills of', 5702), ('skills of their', 5404), ('of their employees', 4368), ('helpful learning', 2972), ('learning opportunitites', 3673), ('good culture people', 2566), ('culture people are', 1509), ('very helpful learning', 6537), ('helpful learning opportunitites', 2973), ('timings good', 6165), ('salary working', 5298), ('environment is', 1871), ('is best', 3328), ('best awesome', 966), ('awesome colleagues', 810), ('colleagues helpful', 1258), ('helpful team', 2978), ('team leads', 5652), ('flexible timings good', 2162), ('timings good salary', 6166), ('good salary working', 2665), ('salary working environment', 5299), ('working environment is', 7016), ('environment is best', 1872), ('is best awesome', 3329), ('best awesome colleagues', 967), ('awesome colleagues helpful', 811), ('colleagues helpful team', 1259), ('helpful team leads', 2979), ('environment working', 1897), ('various different', 6477), ('different technologies', 1638), ('technologies salary', 5719), ('time flexible', 6137), ('timings fun', 6163), ('good working environment', 2710), ('working environment working', 7019), ('environment working on', 1898), ('working on various', 7031), ('on various different', 4499), ('various different technologies', 6478), ('different technologies salary', 1639), ('technologies salary on', 5720), ('on time flexible', 4494), ('time flexible timings', 6138), ('flexible timings fun', 2161), ('timings fun activities', 6164), ('good development', 2570), ('development practices', 1624), ('practices and', 4910), ('and if', 345), ('if lucky', 3098), ('lucky then', 3851), ('then good', 6000), ('good project', 2650), ('project but', 4986), ('but those', 1056), ('those for', 6120), ('for net', 2252), ('net only', 4128), ('only no', 4533), ('no java', 4208), ('java data', 3488), ('data base', 1555), ('base etl', 896), ('etl dw', 1924), ('dw bi', 1717), ('bi big', 1003), ('big data', 1007), ('data they', 1557), ('they dont', 6036), ('dont exist', 1686), ('exist for', 2014), ('for them', 2273), ('them management', 5994), ('very laid', 6545), ('laid back', 3558), ('and conservative', 246), ('conservative in', 1407), ('in last', 3162), ('last year', 3575), ('year only', 7082), ('only qa', 4538), ('projects are', 5017), ('are coming', 575), ('coming to', 1274), ('to company', 6191), ('company not', 1353), ('not much', 4248), ('of dev', 4278), ('good development practices', 2571), ('development practices and', 1625), ('practices and if', 4911), ('and if lucky', 346), ('if lucky then', 3099), ('lucky then good', 3852), ('then good project', 6001), ('good project but', 2651), ('project but those', 4987), ('but those for', 1057), ('those for net', 6121), ('for net only', 2253), ('net only no', 4129), ('only no java', 4534), ('no java data', 4209), ('java data base', 3489), ('data base etl', 1556), ('base etl dw', 897), ('etl dw bi', 1925), ('dw bi big', 1718), ('bi big data', 1004), ('big data they', 1008), ('data they dont', 1558), ('they dont exist', 6037), ('dont exist for', 1687), ('exist for them', 2015), ('for them management', 2274), ('them management is', 5995), ('is very laid', 3424), ('very laid back', 6546), ('laid back and', 3559), ('back and conservative', 819), ('and conservative in', 247), ('conservative in last', 1408), ('in last year', 3163), ('last year only', 3576), ('year only qa', 7083), ('only qa projects', 4539), ('qa projects are', 5100), ('projects are coming', 5018), ('are coming to', 576), ('coming to company', 1275), ('to company not', 6192), ('company not much', 1354), ('not much of', 4249), ('much of dev', 4057), ('cool environment', 1424), ('environment better', 1848), ('better process', 994), ('process followed', 4942), ('followed good', 2188), ('cool environment better', 1425), ('environment better process', 1849), ('better process followed', 995), ('process followed good', 4943), ('followed good work', 2189), ('environment the', 1885), ('new office', 4150), ('office location', 4416), ('good too', 2690), ('work environment the', 6921), ('environment the new', 1886), ('the new office', 5899), ('new office location', 4151), ('office location is', 4417), ('is good too', 3362), ('balance great', 849), ('helpful management', 2974), ('management nice', 3915), ('life balance great', 3717), ('balance great environment', 850), ('great environment helpful', 2745), ('environment helpful management', 1866), ('helpful management nice', 2975), ('management nice people', 3916), ('environment and good', 1836), ('and good projects', 311), ('good brand', 2539), ('brand to', 1023), ('good brand to', 2540), ('brand to work', 1024), ('pays little', 4729), ('little more', 3768), ('more as', 4031), ('good funding', 2583), ('funding from', 2413), ('from ust', 2376), ('ust global', 6451), ('pays little more', 4730), ('little more as', 3769), ('more as they', 4032), ('as they have', 703), ('have good funding', 2914), ('good funding from', 2584), ('funding from ust', 2414), ('from ust global', 2377), ('can maintain', 1099), ('maintain work', 3865), ('balance here', 852), ('you can maintain', 7113), ('can maintain work', 1100), ('maintain work life', 3866), ('life balance here', 3718), ('team good', 5638), ('good process', 2646), ('process and', 4940), ('and following', 297), ('following all', 2190), ('all processes', 102), ('processes cmm', 4950), ('cmm level', 1239), ('level company', 3690), ('and deserve', 253), ('deserve for', 1612), ('for this', 2275), ('work culture good', 6900), ('management team good', 3922), ('team good process', 5639), ('good process and', 2647), ('process and following', 4941), ('and following all', 298), ('following all processes', 2191), ('all processes cmm', 103), ('processes cmm level', 4951), ('cmm level company', 1240), ('level company and', 3691), ('company and deserve', 1300), ('and deserve for', 254), ('deserve for this', 1613), ('no pros', 4217), ('pros as', 5047), ('as of', 680), ('of now', 4332), ('no pros as', 4218), ('pros as of', 5048), ('as of now', 681), ('get exposure', 2446), ('exposure on', 2066), ('will get exposure', 6774), ('get exposure on', 2447), ('exposure on latest', 2067), ('latest technologies good', 3598), ('pay for', 4710), ('lateral joiners', 3587), ('joiners central', 3512), ('pune lot', 5081), ('opportunity if', 4586), ('if your', 3117), ('your not', 7206), ('not deployed', 4236), ('deployed to', 1608), ('to client', 6185), ('client location', 1211), ('location snacks', 3795), ('snacks facility', 5423), ('facility is', 2081), ('good pay for', 2624), ('pay for lateral', 4711), ('for lateral joiners', 2243), ('lateral joiners central', 3588), ('joiners central location', 3513), ('central location in', 1155), ('in pune lot', 3186), ('pune lot of', 5082), ('lot of learning', 3822), ('of learning opportunity', 4317), ('learning opportunity if', 3677), ('opportunity if your', 4587), ('if your not', 3118), ('your not deployed', 7207), ('not deployed to', 4237), ('deployed to client', 1609), ('to client location', 6186), ('client location snacks', 1212), ('location snacks facility', 3796), ('snacks facility is', 5424), ('facility is good', 2082), ('such to', 5553), ('to say', 6299), ('pros as such', 5049), ('as such to', 693), ('such to say', 5555), ('balance varies', 884), ('varies from', 6473), ('from project', 2366), ('project to', 5002), ('to project', 6291), ('project very', 5004), ('culture works', 1541), ('works in', 7037), ('in latest', 3164), ('life balance varies', 3731), ('balance varies from', 885), ('varies from project', 6474), ('from project to', 2367), ('project to project', 5003), ('to project very', 6292), ('project very good', 5005), ('work culture works', 6910), ('culture works in', 1542), ('works in latest', 7038), ('in latest technologies', 3165), ('technologies good pay', 5715), ('please do', 4859), ('do not', 1664), ('not apply', 4227), ('apply their', 539), ('their not', 5990), ('not at', 4229), ('please do not', 4860), ('do not apply', 1665), ('not apply their', 4228), ('apply their not', 540), ('their not at', 5991), ('not at all', 4230), ('diwali gift', 1656), ('gift no', 2483), ('no dress', 4206), ('dress coat', 1700), ('coat no', 1247), ('no work', 4223), ('diwali gift no', 1657), ('gift no dress', 2484), ('no dress coat', 4207), ('dress coat no', 1701), ('coat no work', 1248), ('pros beware', 5050), ('beware they', 1001), ('they might', 6051), ('might lure', 4021), ('lure you', 3853), ('you with', 7185), ('with good', 6819), ('good package', 2619), ('package but', 4683), ('but they', 1054), ('they wont', 6071), ('wont provide', 6878), ('provide joining', 5058), ('joining later', 3517), ('no pros beware', 4219), ('pros beware they', 5051), ('beware they might', 1002), ('they might lure', 6052), ('might lure you', 4022), ('lure you with', 3854), ('you with good', 7186), ('with good package', 6820), ('good package but', 2620), ('package but they', 4684), ('but they wont', 1055), ('they wont provide', 6072), ('wont provide joining', 6879), ('provide joining later', 5059), ('much the', 4061), ('the good', 5869), ('people to', 4785), ('with have', 6825), ('have already', 2896), ('already left', 120), ('not much the', 4250), ('much the good', 4062), ('the good people', 5870), ('good people to', 2634), ('people to work', 4786), ('work with have', 6990), ('with have already', 6826), ('have already left', 2897), ('good depends', 2568), ('your manager', 7204), ('manager as', 3929), ('as everywhere', 663), ('culture is friendly', 1495), ('is friendly people', 3351), ('friendly people are', 2331), ('people are good', 4744), ('are good depends', 594), ('good depends on', 2569), ('depends on your', 1607), ('on your manager', 4507), ('your manager as', 7205), ('manager as everywhere', 3930), ('the technology', 5964), ('technology they', 5745), ('they worked', 6073), ('worked on', 7002), ('on and', 4440), ('and salary', 451), ('salary is', 5285), ('is god', 3352), ('god that', 2522), ('that all', 5767), ('the technology they', 5965), ('technology they worked', 5746), ('they worked on', 6074), ('worked on and', 7003), ('on and salary', 4441), ('and salary is', 452), ('salary is god', 5286), ('is god that', 3353), ('god that all', 2523), ('good processes', 2648), ('processes but', 4948), ('but not', 1044), ('not matured', 4246), ('matured yet', 3980), ('good processes but', 2649), ('processes but not', 4949), ('but not matured', 1045), ('not matured yet', 4247), ('balance technology', 878), ('life balance technology', 3728), ('balance technology projects', 879), ('healthy work', 2942), ('place environment', 4835), ('and optimal', 406), ('optimal work', 4597), ('healthy work place', 2943), ('work place environment', 6972), ('place environment and', 4836), ('environment and optimal', 1838), ('and optimal work', 407), ('optimal work life', 4598), ('if performance', 3100), ('performance is', 4806), ('good then', 2684), ('then get', 5998), ('good perks', 2635), ('is good if', 3358), ('good if performance', 2589), ('if performance is', 3101), ('performance is good', 4807), ('is good then', 3361), ('good then get', 2685), ('then get good', 5999), ('get good perks', 2453), ('pros they', 5054), ('they may', 6049), ('may offer', 3981), ('offer you', 4399), ('you good', 7143), ('no pros they', 4220), ('pros they may', 5055), ('they may offer', 6050), ('may offer you', 3982), ('offer you good', 4400), ('you good package', 7144), ('nothing as', 4254), ('nothing as such', 4255), ('such to mention', 5554), ('great benefits', 2726), ('benefits company', 962), ('culture reliable', 1513), ('reliable management', 5189), ('management that', 3925), ('that cares', 5770), ('great benefits company', 2727), ('benefits company culture', 963), ('company culture reliable', 1312), ('culture reliable management', 1514), ('reliable management that', 5190), ('management that cares', 3926), ('learn grow', 3627), ('and expand', 276), ('expand your', 2016), ('your career', 7192), ('is great place', 3368), ('to learn grow', 6267), ('learn grow and', 3628), ('grow and expand', 2795), ('and expand your', 277), ('expand your career', 2017), ('and opportunity', 404), ('people and opportunity', 4740), ('and opportunity for', 405), ('the people', 5917), ('people co', 4748), ('co workers', 1245), ('workers are', 7006), ('the people co', 5918), ('people co workers', 4749), ('co workers are', 1246), ('workers are great', 7007), ('has good', 2884), ('good pto', 2656), ('pto system', 5077), ('system also', 5597), ('also has', 125), ('has 401k', 2872), ('401k matching', 20), ('has good pto', 2885), ('good pto system', 2657), ('pto system also', 5078), ('system also has', 5598), ('also has 401k', 126), ('has 401k matching', 2873), ('working in', 7027), ('in small', 3194), ('small town', 5409), ('working in small', 7028), ('in small town', 3195), ('team was', 5661), ('was under', 6628), ('under had', 6417), ('had great', 2847), ('great charisma', 2728), ('charisma and', 1195), ('always had', 153), ('had clear', 2845), ('clear line', 1203), ('line of', 3762), ('of communication', 4276), ('communication of', 1278), ('what was', 6693), ('was needed', 6609), ('needed and', 4112), ('and when', 508), ('when they', 6706), ('they spent', 6065), ('spent the', 5490), ('to ramp', 6295), ('ramp you', 5119), ('you up', 7172), ('up to', 6433), ('learn the', 3643), ('the business', 5813), ('business the', 1033), ('the recruiting', 5932), ('recruiting team', 5170), ('was by', 6594), ('by far', 1062), ('far the', 2102), ('best team', 985), ('team have', 5642), ('have ever', 2902), ('ever been', 1952), ('been on', 935), ('you couldn', 7119), ('couldn ask', 1444), ('ask more', 717), ('more out', 4035), ('out of', 4652), ('the manager', 5888), ('manager who', 3935), ('who ran', 6755), ('ran the', 5123), ('team completly', 5634), ('completly phenomenal', 1392), ('the team was', 5961), ('team was under', 5663), ('was under had', 6629), ('under had great', 6418), ('had great charisma', 2848), ('great charisma and', 2729), ('charisma and always', 1196), ('and always had', 220), ('always had clear', 154), ('had clear line', 2846), ('clear line of', 1204), ('line of communication', 3763), ('of communication of', 4277), ('communication of what', 1279), ('of what was', 4380), ('what was needed', 6694), ('was needed and', 6610), ('needed and when', 4113), ('and when they', 509), ('when they spent', 6707), ('they spent the', 6066), ('spent the time', 5491), ('the time to', 5968), ('time to ramp', 6154), ('to ramp you', 6296), ('ramp you up', 5120), ('you up to', 7173), ('up to learn', 6434), ('to learn the', 6272), ('learn the business', 3644), ('the business the', 5814), ('business the recruiting', 1034), ('the recruiting team', 5933), ('recruiting team was', 5171), ('team was by', 5662), ('was by far', 6595), ('by far the', 1063), ('far the best', 2103), ('the best team', 5810), ('best team have', 986), ('team have ever', 5643), ('have ever been', 2903), ('ever been on', 1953), ('been on and', 936), ('on and you', 4442), ('and you couldn', 520), ('you couldn ask', 7120), ('couldn ask more', 1445), ('ask more out', 718), ('more out of', 4036), ('out of the', 4653), ('of the manager', 4363), ('the manager who', 5889), ('manager who ran', 3936), ('who ran the', 6756), ('ran the team', 5124), ('the team completly', 5959), ('team completly phenomenal', 5635), ('experience and', 2022), ('and different', 255), ('different projects', 1636), ('projects to', 5029), ('plenty of experience', 4862), ('of experience and', 4288), ('experience and different', 2023), ('and different projects', 256), ('different projects to', 1637), ('projects to work', 5030), ('fun environment', 2393), ('environment nice', 1877), ('nice employees', 4181), ('employees and', 1762), ('different types', 1640), ('types of', 6415), ('fun environment nice', 2395), ('environment nice employees', 1878), ('nice employees and', 4182), ('employees and different', 1764), ('and different types', 257), ('different types of', 1641), ('types of work', 6416), ('xpanxion works', 7076), ('works with', 7041), ('with big', 6799), ('big name', 1009), ('name clients', 4099), ('clients who', 1233), ('who need', 6753), ('need you', 4110), ('solve real', 5450), ('real problems', 5143), ('problems the', 4938), ('the atmosphere', 5802), ('atmosphere is', 788), ('very relaxed', 6549), ('relaxed and', 5178), ('the pto', 5928), ('pto is', 5075), ('is above', 3310), ('above average', 39), ('average the', 808), ('the equipment', 5851), ('equipment provided', 1901), ('provided is', 5060), ('is decent', 3336), ('decent and', 1575), ('xpanxion works with', 7077), ('works with big', 7042), ('with big name', 6800), ('big name clients', 1010), ('name clients who', 4101), ('clients who need', 1234), ('who need you', 6754), ('need you to', 4111), ('you to solve', 7170), ('to solve real', 6308), ('solve real problems', 5451), ('real problems the', 5144), ('problems the atmosphere', 4939), ('the atmosphere is', 5803), ('atmosphere is very', 789), ('is very relaxed', 3425), ('very relaxed and', 6550), ('relaxed and the', 5179), ('and the pto', 482), ('the pto is', 5929), ('pto is above', 5076), ('is above average', 3311), ('above average the', 40), ('average the equipment', 809), ('the equipment provided', 5852), ('equipment provided is', 1902), ('provided is decent', 5061), ('is decent and', 3337), ('decent and new', 1576), ('back work', 828), ('environment no', 1879), ('no micromanaging', 4212), ('micromanaging good', 4015), ('good benefits', 2536), ('laid back work', 3560), ('back work environment', 829), ('work environment no', 6920), ('environment no micromanaging', 1880), ('no micromanaging good', 4213), ('micromanaging good benefits', 4016), ('great office', 2758), ('office culture', 4409), ('balance great office', 851), ('great office culture', 2759), ('fantastic and', 2098), ('and relaxed', 437), ('relaxed culture', 5180), ('culture we', 1529), ('we re', 6649), ('re all', 5133), ('all bunch', 85), ('bunch of', 1031), ('of nerds', 4328), ('nerds and', 4126), ('and we', 506), ('we have', 6646), ('have very', 2934), ('relaxed dress', 5183), ('dress code', 1702), ('code it', 1251), ('for company', 2207), ('company where', 1372), ('where can', 6708), ('can dress', 1091), ('dress in', 1705), ('in way', 3215), ('way that', 6634), ('that am', 5768), ('am comfortable', 163), ('comfortable and', 1270), ('and that', 476), ('that expresses', 5771), ('expresses who', 2073), ('who am', 6749), ('am as', 161), ('as person', 685), ('person for', 4810), ('the most', 5892), ('most part', 4041), ('part the', 4692), ('the community', 5825), ('community and', 1282), ('culture are', 1470), ('very supportive', 6558), ('and there', 485), ('there lot', 6021), ('to make', 6275), ('make friends', 3867), ('friends of', 2342), ('your coworkers', 7196), ('coworkers we', 1449), ('we get', 6644), ('get lot', 2457), ('of pto', 4345), ('pto and', 5071), ('it very', 3478), ('very flexible', 6514), ('flexible in', 2157), ('in general', 3152), ('general this', 2429), ('this pto', 6116), ('pto can', 5073), ('be used', 922), ('used for', 6449), ('for either', 2213), ('either vacation', 1735), ('vacation or', 6456), ('or sick', 4613), ('sick days', 5365), ('days which', 1573), ('which love', 6730), ('love because', 3838), ('because it', 928), ('it helps', 3451), ('helps meet', 2994), ('meet the', 3995), ('of different', 4279), ('different kinds', 1632), ('kinds of', 3541), ('people this', 4783), ('very willing', 6562), ('willing to', 6787), ('your individual', 7201), ('individual needs', 3235), ('needs and', 4118), ('and direct', 258), ('direct management', 1646), ('management at', 3886), ('at least', 762), ('least makes', 3680), ('makes it', 3875), ('it clear', 3434), ('clear that', 1205), ('they respect', 6063), ('respect you', 5204), ('you as', 7106), ('as professional', 687), ('professional and', 4960), ('and an', 225), ('an individual', 205), ('individual we', 3239), ('we are', 6640), ('are getting', 587), ('getting 401k', 2479), ('matching soon', 3976), ('soon which', 5474), ('was one', 6617), ('last things', 3573), ('things was', 6093), ('really missing', 5153), ('missing from', 4027), ('from this', 2372), ('fantastic and relaxed', 2099), ('and relaxed culture', 438), ('relaxed culture we', 5182), ('culture we re', 1530), ('we re all', 6650), ('re all bunch', 5134), ('all bunch of', 86), ('bunch of nerds', 1032), ('of nerds and', 4329), ('nerds and we', 4127), ('and we have', 507), ('we have very', 6647), ('have very relaxed', 2935), ('very relaxed dress', 6551), ('relaxed dress code', 5184), ('dress code it', 1704), ('code it is', 1252), ('it is great', 3456), ('is great working', 3369), ('great working for', 2779), ('working for company', 7021), ('for company where', 2208), ('company where can', 1373), ('where can dress', 6709), ('can dress in', 1092), ('dress in way', 1706), ('in way that', 3216), ('way that am', 6635), ('that am comfortable', 5769), ('am comfortable and', 164), ('comfortable and that', 1271), ('and that expresses', 477), ('that expresses who', 5772), ('expresses who am', 2074), ('who am as', 6750), ('am as person', 162), ('as person for', 686), ('person for the', 4811), ('for the most', 2270), ('the most part', 5893), ('most part the', 4042), ('part the community', 4693), ('the community and', 5826), ('community and culture', 1283), ('and culture are', 249), ('culture are very', 1471), ('are very supportive', 639), ('very supportive and', 6559), ('supportive and there', 5577), ('and there lot', 486), ('there lot of', 6022), ('opportunities to make', 4574), ('to make friends', 6276), ('make friends of', 3868), ('friends of your', 2343), ('of your coworkers', 4391), ('your coworkers we', 7197), ('coworkers we get', 1450), ('we get lot', 6645), ('get lot of', 2458), ('lot of pto', 3824), ('of pto and', 4346), ('pto and it', 5072), ('and it very', 361), ('it very flexible', 3479), ('very flexible in', 6515), ('flexible in general', 2158), ('in general this', 3153), ('general this pto', 2430), ('this pto can', 6117), ('pto can be', 5074), ('can be used', 1086), ('be used for', 923), ('used for either', 6450), ('for either vacation', 2214), ('either vacation or', 1736), ('vacation or sick', 6457), ('or sick days', 4614), ('sick days which', 5366), ('days which love', 1574), ('which love because', 6731), ('love because it', 3839), ('because it helps', 929), ('it helps meet', 3452), ('helps meet the', 2995), ('meet the needs', 3997), ('needs of different', 4121), ('of different kinds', 4280), ('different kinds of', 1633), ('kinds of people', 3542), ('of people this', 4340), ('people this company', 4784), ('company is very', 1343), ('is very willing', 3427), ('very willing to', 6563), ('willing to work', 6789), ('work with your', 6993), ('with your individual', 6871), ('your individual needs', 7202), ('individual needs and', 3236), ('needs and direct', 4119), ('and direct management', 259), ('direct management at', 1647), ('management at least', 3887), ('at least makes', 763), ('least makes it', 3681), ('makes it clear', 3876), ('it clear that', 3435), ('clear that they', 1206), ('that they respect', 5785), ('they respect you', 6064), ('respect you as', 5205), ('you as professional', 7107), ('as professional and', 688), ('professional and an', 4961), ('and an individual', 226), ('an individual we', 206), ('individual we are', 3240), ('we are getting', 6641), ('are getting 401k', 588), ('getting 401k matching', 2480), ('401k matching soon', 21), ('matching soon which', 3977), ('soon which was', 5475), ('which was one', 6742), ('was one of', 6618), ('of the last', 4362), ('the last things', 5885), ('last things was', 3574), ('things was really', 6094), ('was really missing', 6620), ('really missing from', 5154), ('missing from this', 4028), ('from this company', 2373), ('balance work', 886), ('home good', 3038), ('salary no', 5290), ('in weekends', 3217), ('life balance work', 3732), ('balance work from', 887), ('from home good', 2360), ('home good salary', 3039), ('good salary no', 2664), ('salary no work', 5291), ('no work in', 4224), ('work in weekends', 6948), ('culture great', 1480), ('great team', 2768), ('team lots', 5653), ('great culture great', 2739), ('culture great team', 1481), ('great team lots', 2769), ('team lots of', 5654), ('lots of opportunities', 3834), ('and fellow', 286), ('fellow devs', 2119), ('devs were', 1630), ('were nice', 6683), ('was on', 6615), ('on was', 4502), ('was decent', 6598), ('decent for', 1577), ('good stretch', 2670), ('stretch of', 5541), ('of time', 4371), ('time 22', 6130), ('22 days', 12), ('days of', 1571), ('of vacation', 4375), ('vacation with', 6458), ('with caveat', 6803), ('caveat pretty', 1149), ('pretty fun', 4918), ('environment if', 1867), ('you were', 7178), ('were part', 6685), ('of clique', 4274), ('clique experience', 1237), ('experience varies', 2041), ('varies based', 6471), ('your personality', 7208), ('the employees and', 5846), ('employees and fellow', 1765), ('and fellow devs', 287), ('fellow devs were', 2120), ('devs were nice', 1631), ('were nice the', 6684), ('nice the project', 4196), ('the project was', 5926), ('project was on', 5008), ('was on was', 6616), ('on was decent', 4503), ('was decent for', 6599), ('decent for good', 1578), ('for good stretch', 2227), ('good stretch of', 2671), ('stretch of time', 5542), ('of time 22', 4372), ('time 22 days', 6131), ('22 days of', 13), ('days of vacation', 1572), ('of vacation with', 4376), ('vacation with caveat', 6459), ('with caveat pretty', 6804), ('caveat pretty fun', 1150), ('pretty fun environment', 4919), ('fun environment if', 2394), ('environment if you', 1868), ('if you were', 3116), ('you were part', 7179), ('were part of', 6686), ('part of clique', 4690), ('of clique experience', 4275), ('clique experience varies', 1238), ('experience varies based', 2042), ('varies based on', 6472), ('on your personality', 4508), ('of room', 4349), ('room to', 5245), ('lots of room', 3837), ('of room to', 4350), ('room to grow', 5246), ('great experience', 2746), ('clients competitive', 1223), ('competitive pay', 1388), ('pay rewards', 4719), ('rewards performance', 5223), ('performance relaxed', 4808), ('code and', 1249), ('and atmosphere', 231), ('atmosphere with', 790), ('with game', 6817), ('game rooms', 2421), ('rooms vending', 5247), ('vending machines', 6499), ('machines ping', 3855), ('ping pong', 4831), ('pong etc', 4894), ('etc regular', 1922), ('regular social', 5174), ('social functions', 5438), ('functions pot', 2411), ('pot lucks', 4906), ('lucks sporting', 3849), ('sporting events', 5496), ('events office', 1943), ('office olympics', 4422), ('olympics gift', 4434), ('gift exchanges', 2481), ('exchanges payday', 2007), ('payday breakfast', 4725), ('breakfast excellent', 1025), ('excellent insurance', 1992), ('insurance options', 3262), ('options organized', 4603), ('organized hr', 4637), ('hr portal', 3068), ('portal personable', 4897), ('personable visionary', 4812), ('visionary direct', 6574), ('direct inspiring', 1644), ('inspiring ceo', 3259), ('ceo rapid', 1167), ('rapid growth', 5125), ('growth offices', 2829), ('offices added', 4426), ('added in', 67), ('in ames', 3137), ('ames ft', 181), ('ft collins', 2378), ('collins manhattan', 1262), ('manhattan and', 3951), ('and lincoln', 375), ('lincoln in', 3760), ('the past', 5915), ('past years', 4696), ('years new', 7090), ('new facilities', 4134), ('facilities being', 2079), ('being planned', 956), ('planned and', 4851), ('and built', 235), ('built excellent', 1029), ('excellent publicity', 1996), ('publicity and', 5079), ('and community', 243), ('community perception', 1284), ('great experience with', 2747), ('experience with big', 2046), ('name clients competitive', 4100), ('clients competitive pay', 1224), ('competitive pay rewards', 1389), ('pay rewards performance', 4720), ('rewards performance relaxed', 5224), ('performance relaxed dress', 4809), ('dress code and', 1703), ('code and atmosphere', 1250), ('and atmosphere with', 232), ('atmosphere with game', 791), ('with game rooms', 6818), ('game rooms vending', 2422), ('rooms vending machines', 5248), ('vending machines ping', 6500), ('machines ping pong', 3856), ('ping pong etc', 4833), ('pong etc regular', 4895), ('etc regular social', 1923), ('regular social functions', 5175), ('social functions pot', 5439), ('functions pot lucks', 2412), ('pot lucks sporting', 4907), ('lucks sporting events', 3850), ('sporting events office', 5497), ('events office olympics', 1944), ('office olympics gift', 4423), ('olympics gift exchanges', 4435), ('gift exchanges payday', 2482), ('exchanges payday breakfast', 2008), ('payday breakfast excellent', 4726), ('breakfast excellent insurance', 1026), ('excellent insurance options', 1993), ('insurance options organized', 3263), ('options organized hr', 4604), ('organized hr portal', 4638), ('hr portal personable', 3069), ('portal personable visionary', 4898), ('personable visionary direct', 4813), ('visionary direct inspiring', 6575), ('direct inspiring ceo', 1645), ('inspiring ceo rapid', 3260), ('ceo rapid growth', 1168), ('rapid growth offices', 5127), ('growth offices added', 2830), ('offices added in', 4427), ('added in ames', 68), ('in ames ft', 3138), ('ames ft collins', 182), ('ft collins manhattan', 2379), ('collins manhattan and', 1263), ('manhattan and lincoln', 3952), ('and lincoln in', 376), ('lincoln in the', 3761), ('in the past', 3206), ('the past years', 5916), ('past years new', 4697), ('years new facilities', 7091), ('new facilities being', 4135), ('facilities being planned', 2080), ('being planned and', 957), ('planned and built', 4852), ('and built excellent', 236), ('built excellent publicity', 1030), ('excellent publicity and', 1997), ('publicity and community', 5080), ('and community perception', 244), ('offers good', 4407), ('for laterals', 2244), ('laterals yearly', 3589), ('yearly hike', 7084), ('hike is', 3023), ('decent on', 1579), ('on an', 4438), ('an average', 193), ('average 10', 804), ('10 15', 0), ('15 helpful', 4), ('helpful supportive', 2976), ('supportive teammates', 5585), ('teammates if', 5668), ('get stuck', 2465), ('stuck in', 5547), ('in your', 3219), ('work located', 6956), ('located at', 3775), ('at aundh', 751), ('aundh one', 794), ('best locations', 972), ('locations in', 3801), ('the city', 5819), ('city supportive', 1199), ('management work', 3927), ('work wise', 6983), ('wise they', 6792), ('have few', 2906), ('few good', 2131), ('projects in', 5021), ('in qa', 3188), ('qa automation', 5093), ('automation annual', 796), ('annual bash', 521), ('bash is', 902), ('offers good pay', 4408), ('pay for laterals', 4712), ('for laterals yearly', 2245), ('laterals yearly hike', 3590), ('yearly hike is', 7085), ('hike is decent', 3024), ('is decent on', 3338), ('decent on an', 1580), ('on an average', 4439), ('an average 10', 194), ('average 10 15', 805), ('10 15 helpful', 1), ('15 helpful supportive', 5), ('helpful supportive teammates', 2977), ('supportive teammates if', 5586), ('teammates if you', 5669), ('if you get', 3111), ('you get stuck', 7141), ('get stuck in', 2466), ('stuck in your', 5548), ('in your work', 3220), ('your work located', 7227), ('work located at', 6957), ('located at aundh', 3776), ('at aundh one', 752), ('aundh one of', 795), ('the best locations', 5808), ('best locations in', 973), ('locations in the', 3802), ('in the city', 3203), ('the city supportive', 5820), ('city supportive management', 1200), ('supportive management work', 5582), ('management work wise', 3928), ('work wise they', 6984), ('wise they have', 6793), ('they have few', 6045), ('have few good', 2907), ('few good projects', 2132), ('good projects in', 2654), ('projects in qa', 5022), ('in qa automation', 3189), ('qa automation annual', 5094), ('automation annual bash', 797), ('annual bash is', 522), ('bash is very', 903), ('of focus', 4293), ('on training', 4496), ('and achieving', 211), ('achieving certifications', 46), ('certifications there', 1179), ('there isn', 6019), ('isn always', 3430), ('always lot', 157), ('of bench', 4272), ('bench time', 960), ('to train', 6319), ('train but', 6380), ('but if', 1040), ('you re', 7163), ('re self', 5135), ('self motivated', 5325), ('motivated there', 4047), ('is solid', 3404), ('solid career', 5442), ('career training', 1135), ('training path', 6394), ('path since', 4700), ('since xpanxion', 5373), ('xpanxion meets', 7068), ('meets you', 3998), ('you halfway', 7147), ('halfway the', 2856), ('the rural', 5944), ('rural teams', 5271), ('teams in', 5670), ('in iowa', 3160), ('iowa nebraska', 3306), ('nebraska colorado', 4104), ('colorado and', 1264), ('and kansas', 364), ('kansas are', 3528), ('good way', 2697), ('way to', 6636), ('to enter', 6204), ('enter the', 1826), ('company as', 1301), ('as tester', 698), ('tester or', 5757), ('or sdet', 4611), ('sdet and', 5313), ('and get', 306), ('get exposed', 2444), ('exposed to', 2060), ('to good', 6230), ('technologies like', 5717), ('like devops', 3737), ('devops docker', 1628), ('docker etc', 1672), ('etc it', 1916), ('it does', 3436), ('does sort', 1674), ('sort of', 5476), ('of matter', 4324), ('matter what', 3978), ('what projects', 6689), ('projects you', 5037), ('you wind', 7183), ('wind up', 6790), ('up on', 6431), ('on but', 4447), ('but being', 1035), ('being good', 954), ('and self', 453), ('motivated is', 4045), ('is big', 3330), ('big asset', 1005), ('asset here', 733), ('here you', 3015), ('you need', 7157), ('need to', 4108), ('work hard', 6940), ('hard be', 2870), ('be smart', 920), ('smart and', 5412), ('and do', 260), ('do the', 1666), ('right thing', 5231), ('thing by', 6079), ('by the', 1074), ('the customer', 5839), ('customer like', 1549), ('like everywhere', 3741), ('everywhere but', 1976), ('but it', 1042), ('it not', 3462), ('not sweatshop', 4253), ('is lot of', 3375), ('lot of focus', 3820), ('of focus on', 4294), ('focus on training', 2185), ('on training and', 4497), ('training and achieving', 6387), ('and achieving certifications', 212), ('achieving certifications there', 47), ('certifications there isn', 1180), ('there isn always', 6020), ('isn always lot', 3431), ('always lot of', 158), ('lot of bench', 3818), ('of bench time', 4273), ('bench time to', 961), ('time to train', 6156), ('to train but', 6320), ('train but if', 6381), ('but if you', 1041), ('if you re', 3114), ('you re self', 7164), ('re self motivated', 5136), ('self motivated there', 5327), ('motivated there is', 4048), ('there is solid', 6018), ('is solid career', 3405), ('solid career training', 5443), ('career training path', 1136), ('training path since', 6395), ('path since xpanxion', 4701), ('since xpanxion meets', 5374), ('xpanxion meets you', 7069), ('meets you halfway', 3999), ('you halfway the', 7148), ('halfway the rural', 2857), ('the rural teams', 5945), ('rural teams in', 5272), ('teams in iowa', 5671), ('in iowa nebraska', 3161), ('iowa nebraska colorado', 3307), ('nebraska colorado and', 4105), ('colorado and kansas', 1265), ('and kansas are', 365), ('kansas are good', 3529), ('are good way', 597), ('good way to', 2698), ('way to enter', 6637), ('to enter the', 6205), ('enter the company', 1827), ('the company as', 5828), ('company as tester', 1302), ('as tester or', 699), ('tester or sdet', 5758), ('or sdet and', 4612), ('sdet and get', 5314), ('and get exposed', 307), ('get exposed to', 2445), ('exposed to good', 2061), ('to good technologies', 6231), ('good technologies like', 2682), ('technologies like devops', 5718), ('like devops docker', 3738), ('devops docker etc', 1629), ('docker etc it', 1673), ('etc it does', 1917), ('it does sort', 3437), ('does sort of', 1675), ('sort of matter', 5477), ('of matter what', 4325), ('matter what projects', 3979), ('what projects you', 6690), ('projects you wind', 5038), ('you wind up', 7184), ('wind up on', 6791), ('up on but', 6432), ('on but being', 4448), ('but being good', 1036), ('being good and', 955), ('good and self', 2526), ('and self motivated', 454), ('self motivated is', 5326), ('motivated is big', 4046), ('is big asset', 3331), ('big asset here', 1006), ('asset here you', 734), ('here you need', 3016), ('you need to', 7158), ('need to work', 4109), ('to work hard', 6339), ('work hard be', 6941), ('hard be smart', 2871), ('be smart and', 921), ('smart and do', 5413), ('and do the', 261), ('do the right', 1667), ('the right thing', 5943), ('right thing by', 5232), ('thing by the', 6080), ('by the customer', 1075), ('the customer like', 5840), ('customer like everywhere', 1550), ('like everywhere but', 3742), ('everywhere but it', 1977), ('but it not', 1043), ('it not sweatshop', 3463), ('of flexibility', 4291), ('and freedom', 299), ('freedom in', 2296), ('in completing', 3144), ('completing your', 1390), ('your daily', 7198), ('daily work', 1551), ('are surrounded', 631), ('surrounded by', 5591), ('by lot', 1068), ('of very', 4377), ('very smart', 6554), ('smart people', 5416), ('people that', 4781), ('can go', 1095), ('go to', 2520), ('to for', 6217), ('for help', 2230), ('help or', 2952), ('or to', 4617), ('learn something', 3639), ('something new', 5466), ('new from', 4136), ('from fun', 2352), ('environment with', 1891), ('with lots', 6835), ('of options', 4336), ('options for', 4601), ('the sometimes', 5954), ('sometimes needed', 5468), ('needed downtime', 4114), ('downtime netflix', 1694), ('netflix video', 4130), ('video games', 6565), ('games ping', 2423), ('pong darts', 4892), ('darts room', 1553), ('are willing', 640), ('to wait', 6329), ('wait for', 6582), ('for results', 2264), ('results and', 5211), ('and don', 262), ('don except', 1680), ('except instant', 2003), ('instant advancements', 3261), ('lot of flexibility', 3819), ('of flexibility and', 4292), ('flexibility and freedom', 2150), ('and freedom in', 300), ('freedom in completing', 2297), ('in completing your', 3145), ('completing your daily', 1391), ('your daily work', 7199), ('daily work you', 1552), ('work you are', 6997), ('you are surrounded', 7103), ('are surrounded by', 632), ('surrounded by lot', 5592), ('by lot of', 1069), ('lot of very', 3827), ('of very smart', 4378), ('very smart people', 6555), ('smart people that', 5417), ('people that you', 4782), ('you can go', 7111), ('can go to', 1096), ('go to for', 2521), ('to for help', 6218), ('for help or', 2231), ('help or to', 2953), ('or to learn', 4618), ('to learn something', 6270), ('learn something new', 3640), ('something new from', 5467), ('new from fun', 4137), ('from fun environment', 2353), ('fun environment with', 2396), ('environment with lots', 1892), ('with lots of', 6836), ('lots of options', 3835), ('of options for', 4337), ('options for the', 4602), ('for the sometimes', 2272), ('the sometimes needed', 5955), ('sometimes needed downtime', 5469), ('needed downtime netflix', 4115), ('downtime netflix video', 1695), ('netflix video games', 4131), ('video games ping', 6566), ('games ping pong', 2424), ('ping pong darts', 4832), ('pong darts room', 4893), ('darts room to', 1554), ('grow if you', 2803), ('you are willing', 7104), ('are willing to', 641), ('willing to wait', 6788), ('to wait for', 6330), ('wait for results', 6583), ('for results and', 2265), ('results and don', 5212), ('and don except', 263), ('don except instant', 1681), ('except instant advancements', 2004), ('an exceptional', 201), ('exceptional salesman', 2005), ('salesman with', 5300), ('great vision', 2772), ('vision of', 6572), ('of leveraging', 4318), ('leveraging rural', 3702), ('rural it', 5261), ('it talent', 3474), ('talent very', 5619), ('and positive', 422), ('environment as', 1844), ('much room', 4059), ('room as', 5241), ('as you', 712), ('can imagine', 1097), ('imagine to', 3119), ('to invent', 6249), ('invent grow', 3300), ('and solve', 459), ('solve problems', 5448), ('problems as', 4936), ('as long', 671), ('long as', 3805), ('you meet', 7155), ('client needs', 1213), ('needs talented', 4123), ('ceo is an', 1163), ('is an exceptional', 3320), ('an exceptional salesman', 202), ('exceptional salesman with', 2006), ('salesman with great', 5301), ('with great vision', 6824), ('great vision of', 2773), ('vision of leveraging', 6573), ('of leveraging rural', 4319), ('leveraging rural it', 3703), ('rural it talent', 5262), ('it talent very', 3475), ('talent very supportive', 5620), ('supportive and positive', 5574), ('and positive environment', 423), ('positive environment as', 4902), ('environment as much', 1845), ('as much room', 675), ('much room as', 4060), ('room as you', 5242), ('as you can', 713), ('you can imagine', 7112), ('can imagine to', 1098), ('imagine to invent', 3120), ('to invent grow', 6250), ('invent grow your', 3301), ('grow your skills', 2812), ('your skills and', 7220), ('skills and solve', 5392), ('and solve problems', 460), ('solve problems as', 5449), ('problems as long', 4937), ('as long as', 672), ('long as you', 3806), ('as you meet', 714), ('you meet the', 7156), ('meet the client', 3996), ('the client needs', 5822), ('client needs talented', 1214), ('the only', 5904), ('good thing', 2686), ('thing about', 6077), ('about being', 30), ('an employee', 195), ('employee of', 1752), ('of xpaxion', 4388), ('xpaxion was', 7078), ('was the', 6624), ('the vacation', 5973), ('vacation hours', 6452), ('hours they', 3060), ('they offered', 6059), ('offered with', 4401), ('with sick', 6847), ('sick hours', 5367), ('hours had', 3056), ('had 196', 2843), ('196 hours', 6), ('hours best', 3046), ('best and', 964), ('and only', 398), ('pro they', 4928), ('the only good', 5905), ('only good thing', 4532), ('good thing about', 2687), ('thing about being', 6078), ('about being an', 31), ('being an employee', 952), ('an employee of', 196), ('employee of xpaxion', 1753), ('of xpaxion was', 4389), ('xpaxion was the', 7079), ('was the vacation', 6625), ('the vacation hours', 5974), ('vacation hours they', 6453), ('hours they offered', 3061), ('they offered with', 6060), ('offered with sick', 4402), ('with sick hours', 6848), ('sick hours had', 5368), ('hours had 196', 3057), ('had 196 hours', 2844), ('196 hours best', 7), ('hours best and', 3047), ('best and only', 965), ('and only pro', 399), ('only pro they', 4537), ('pro they had', 4929), ('with very', 6860), ('very cool', 6505), ('and unique', 497), ('unique service', 6423), ('service offering', 5345), ('offering for', 4403), ('for clients', 2201), ('clients with', 1235), ('with rural', 6845), ('rural offices', 5267), ('offices and', 4428), ('and rural', 449), ('rural resources', 5269), ('resources at', 5200), ('at lower', 766), ('lower cost', 3847), ('cost to', 1439), ('to clients', 6187), ('clients in', 1225), ('in metro', 3166), ('metro areas', 4009), ('areas the', 646), ('company invest', 1339), ('invest in', 3302), ('in their', 3209), ('and also', 217), ('also helping', 129), ('helping grow', 2986), ('grow many', 2806), ('many junior', 3959), ('junior resources', 3524), ('resources with', 5202), ('with offering', 6839), ('offering them', 4405), ('them training', 5996), ('and certification', 241), ('certification classes', 1177), ('classes they', 1201), ('for people', 2256), ('people with', 4789), ('with it', 6831), ('it experience', 3440), ('experience to', 2039), ('to come', 6189), ('come work', 1268), ('work because', 6892), ('the multiple', 5894), ('multiple clients', 4065), ('clients technologies', 1229), ('technologies tools', 5725), ('tools they', 6364), ('they get', 6040), ('to use', 6325), ('use in', 6447), ('in multitude', 3173), ('multitude of', 4074), ('of industries', 4309), ('industries great', 3245), ('and experiencing', 278), ('experiencing rapid', 2048), ('growth love', 2826), ('love my', 3840), ('my company', 4082), ('this is great', 6109), ('is great company', 3365), ('great company with', 2736), ('company with very', 1379), ('with very cool', 6861), ('very cool and', 6506), ('cool and unique', 1423), ('and unique service', 498), ('unique service offering', 6424), ('service offering for', 5346), ('offering for clients', 4404), ('for clients with', 2202), ('clients with rural', 1236), ('with rural offices', 6846), ('rural offices and', 5268), ('offices and rural', 4429), ('and rural resources', 450), ('rural resources at', 5270), ('resources at lower', 5201), ('at lower cost', 767), ('lower cost to', 3848), ('cost to clients', 1440), ('to clients in', 6188), ('clients in metro', 1226), ('in metro areas', 3167), ('metro areas the', 4010), ('areas the company', 647), ('the company invest', 5831), ('company invest in', 1340), ('invest in their', 3303), ('in their employees', 3210), ('their employees and', 5987), ('employees and also', 1763), ('and also helping', 218), ('also helping grow', 130), ('helping grow many', 2987), ('grow many junior', 2807), ('many junior resources', 3960), ('junior resources with', 3525), ('resources with offering', 5203), ('with offering them', 6840), ('offering them training', 4406), ('them training and', 5997), ('training and certification', 6388), ('and certification classes', 242), ('certification classes they', 1178), ('classes they are', 1202), ('they are great', 6029), ('are great place', 600), ('great place for', 2766), ('place for people', 4838), ('for people with', 2257), ('people with it', 4790), ('with it experience', 6832), ('it experience to', 3441), ('experience to come', 2040), ('to come work', 6190), ('come work because', 1269), ('work because of', 6893), ('because of the', 932), ('of the multiple', 4364), ('the multiple clients', 5895), ('multiple clients technologies', 4067), ('clients technologies tools', 1230), ('technologies tools they', 5726), ('tools they get', 6365), ('they get to', 6041), ('get to use', 2469), ('to use in', 6326), ('use in multitude', 6448), ('in multitude of', 3174), ('multitude of industries', 4075), ('of industries great', 4310), ('industries great company', 3246), ('great company culture', 2733), ('company culture and', 1310), ('culture and experiencing', 1465), ('and experiencing rapid', 279), ('experiencing rapid growth', 2049), ('rapid growth love', 5126), ('growth love my', 2827), ('love my company', 3841), ('people here', 4762), ('here are', 3005), ('are amazing', 565), ('amazing the', 177), ('the schedule', 5946), ('schedule is', 5304), ('is flexible', 3345), ('flexible which', 2163), ('which is', 6728), ('nice pay', 4185), ('pay is', 4715), ('is much', 3377), ('much better', 4051), ('than my', 5765), ('last job', 3565), ('job and', 3490), ('and great', 312), ('great vacation', 2770), ('vacation no', 6454), ('no matching', 4210), ('matching 401k', 3975), ('the people here', 5919), ('people here are', 4763), ('here are amazing', 3006), ('are amazing the', 566), ('amazing the schedule', 178), ('the schedule is', 5947), ('schedule is flexible', 5305), ('is flexible which', 3346), ('flexible which is', 2164), ('which is really', 6729), ('is really nice', 3401), ('really nice pay', 5156), ('nice pay is', 4186), ('pay is much', 4716), ('is much better', 3378), ('much better than', 4052), ('better than my', 998), ('than my last', 5766), ('my last job', 4091), ('last job and', 3566), ('job and great', 3491), ('and great vacation', 313), ('great vacation no', 2771), ('vacation no matching', 6455), ('no matching 401k', 4211), ('of freedom', 4295), ('freedom having', 2294), ('having game', 2938), ('game room', 2419), ('room rocks', 5243), ('rocks what', 5235), ('do changes', 1660), ('changes so', 1193), ('so there', 5436), ('is always', 3315), ('always an', 145), ('good culture lots', 2564), ('lots of freedom', 3831), ('of freedom having', 4296), ('freedom having game', 2295), ('having game room', 2939), ('game room rocks', 2420), ('room rocks what', 5244), ('rocks what you', 5236), ('you do changes', 7123), ('do changes so', 1661), ('changes so there', 1194), ('so there is', 5437), ('there is always', 6016), ('is always an', 3316), ('always an opportunity', 146), ('is one', 3387), ('the few', 5857), ('few tech', 2135), ('tech companies', 5676), ('companies in', 1291), ('in rural', 3191), ('rural nebraska', 5265), ('nebraska and', 4102), ('it is one', 3458), ('is one of', 3388), ('of the few', 4361), ('the few tech', 5858), ('few tech companies', 2136), ('tech companies in', 5677), ('companies in rural', 1292), ('in rural nebraska', 3193), ('rural nebraska and', 5266), ('nebraska and kansas', 4103), ('fantastic career', 2100), ('career path', 1132), ('path options', 4698), ('options all', 4599), ('all integrated', 95), ('integrated into', 3264), ('into their', 3298), ('their review', 5992), ('review system', 5217), ('system excellent', 5599), ('excellent clientele', 1986), ('clientele tons', 1219), ('tons of', 6351), ('of excellent', 4285), ('excellent and', 1984), ('and knowledgeable', 366), ('knowledgeable individuals', 3551), ('individuals in', 3243), ('in each', 3146), ('each office', 1723), ('office very', 4424), ('flexible with', 2165), ('with regards', 6843), ('regards to', 5172), ('to personal', 6287), ('personal needs', 4821), ('fantastic career path', 2101), ('career path options', 1133), ('path options all', 4699), ('options all integrated', 4600), ('all integrated into', 96), ('integrated into their', 3265), ('into their review', 3299), ('their review system', 5993), ('review system excellent', 5218), ('system excellent clientele', 5600), ('excellent clientele tons', 1987), ('clientele tons of', 1220), ('tons of excellent', 6352), ('of excellent and', 4286), ('excellent and knowledgeable', 1985), ('and knowledgeable individuals', 367), ('knowledgeable individuals in', 3552), ('individuals in each', 3244), ('in each office', 3147), ('each office very', 1724), ('office very flexible', 4425), ('very flexible with', 6516), ('flexible with regards', 2166), ('with regards to', 6844), ('regards to personal', 5173), ('to personal needs', 6288), ('the ceo', 5817), ('ceo paul', 1165), ('paul really', 4704), ('really had', 5151), ('had his', 2849), ('his heart', 3031), ('heart in', 2946), ('right place', 5229), ('place when', 4849), ('when the', 6704), ('company was', 1370), ('was created', 6596), ('created in', 1451), ('in office', 3178), ('culture was', 1527), ('was fun', 6600), ('fun and', 2389), ('and everyone', 274), ('everyone worked', 1974), ('worked to', 7004), ('get what', 2473), ('what they', 6691), ('they needed', 6055), ('needed to', 4116), ('to do', 6195), ('do done', 1662), ('done we', 1684), ('we were', 6655), ('were encouraged', 6677), ('encouraged to', 1794), ('get involved', 2456), ('the ceo paul', 5818), ('ceo paul really', 1166), ('paul really had', 4705), ('really had his', 5152), ('had his heart', 2850), ('his heart in', 3032), ('heart in the', 2947), ('in the right', 3207), ('the right place', 5942), ('right place when', 5230), ('place when the', 4850), ('when the company', 6705), ('the company was', 5835), ('company was created', 1371), ('was created in', 6597), ('created in office', 1452), ('in office culture', 3179), ('office culture was', 4411), ('culture was fun', 1528), ('was fun and', 6601), ('fun and everyone', 2390), ('and everyone worked', 275), ('everyone worked to', 1975), ('worked to get', 7005), ('to get what', 6225), ('get what they', 2474), ('what they needed', 6692), ('they needed to', 6056), ('needed to do', 4117), ('to do done', 6196), ('do done we', 1663), ('done we were', 1685), ('we were encouraged', 6656), ('were encouraged to', 6678), ('encouraged to get', 1795), ('to get involved', 6224), ('culture there', 1519), ('always drive', 147), ('drive to', 1707), ('improve the', 3133), ('the employee', 5843), ('employee experience', 1746), ('gives us', 2506), ('us the', 6445), ('employees the', 1786), ('the ability', 5797), ('for bigger', 2199), ('bigger companies', 1011), ('companies while', 1296), ('while staying', 6747), ('staying in', 5527), ('in smaller', 3196), ('smaller communities', 5410), ('communities we', 1280), ('we love', 6648), ('company with great', 1377), ('with great culture', 6822), ('great culture there', 2740), ('culture there is', 1520), ('is always drive', 3317), ('always drive to', 148), ('drive to improve', 1708), ('to improve the', 6246), ('improve the employee', 3134), ('the employee experience', 5844), ('employee experience and', 1747), ('experience and it', 2024), ('and it gives', 358), ('it gives us', 3444), ('gives us the', 2507), ('us the employees', 6446), ('the employees the', 5850), ('employees the ability', 1787), ('the ability to', 5798), ('ability to work', 26), ('work for bigger', 6930), ('for bigger companies', 2200), ('bigger companies while', 1012), ('companies while staying', 1297), ('while staying in', 6748), ('staying in smaller', 5528), ('in smaller communities', 3197), ('smaller communities we', 5411), ('communities we love', 1281), ('start your', 5521), ('career good', 1128), ('friendly rural', 2336), ('rural employment', 5257), ('employment support', 1790), ('support for', 5564), ('for initiative', 2240), ('place to start', 4847), ('to start your', 6311), ('start your career', 5522), ('your career good', 7193), ('career good people', 1129), ('work with very', 6992), ('with very friendly', 6862), ('very friendly rural', 6520), ('friendly rural employment', 2337), ('rural employment support', 5258), ('employment support for', 1791), ('support for initiative', 5565), ('great people', 2762), ('good variety', 2694), ('on multiple', 4467), ('multiple locations', 4068), ('locations if', 3799), ('are interested', 612), ('interested in', 3276), ('in moving', 3172), ('great people good', 2763), ('people good variety', 4758), ('good variety of', 2695), ('of projects to', 4343), ('work on multiple', 6965), ('on multiple locations', 4468), ('multiple locations if', 4069), ('locations if you', 3800), ('you are interested', 7101), ('are interested in', 613), ('interested in moving', 3277), ('great clients', 2730), ('clients to', 1231), ('to rotate', 6297), ('rotate through', 5249), ('through local', 6126), ('local companies', 3772), ('companies only', 1293), ('great clients to', 2731), ('clients to rotate', 1232), ('to rotate through', 6298), ('rotate through local', 5250), ('through local companies', 6127), ('local companies only', 3773), ('balance large', 860), ('large variety', 3563), ('on company', 4449), ('as whole', 710), ('whole is', 6757), ('is doing', 3339), ('doing great', 1678), ('great financially', 2748), ('life balance large', 3721), ('balance large variety', 861), ('large variety of', 3564), ('work on company', 6963), ('on company as', 4450), ('company as whole', 1303), ('as whole is', 711), ('whole is doing', 6758), ('is doing great', 3340), ('doing great financially', 1679), ('qa the', 5102), ('the training', 5969), ('training program', 6396), ('program could', 4972), ('be very', 924), ('helpful there', 2980), ('also video', 139), ('games to', 2425), ('to play', 6289), ('play and', 4857), ('and ping', 420), ('pong table', 4896), ('are in qa', 610), ('in qa the', 3190), ('qa the training', 5103), ('the training program', 5970), ('training program could', 6397), ('program could be', 4973), ('could be very', 1443), ('be very helpful', 925), ('very helpful there', 6538), ('helpful there are', 2981), ('there are also', 6011), ('are also video', 564), ('also video games', 140), ('video games to', 6567), ('games to play', 2426), ('to play and', 6290), ('play and ping', 4858), ('and ping pong', 421), ('ping pong table', 4834), ('work balance', 6890), ('balance recently', 876), ('recently better', 5160), ('better insurance', 991), ('flexible work balance', 2168), ('work balance recently', 6891), ('balance recently better', 877), ('recently better insurance', 5161), ('be go', 910), ('go getter', 2516), ('getter and', 2477), ('and make', 379), ('make things', 3869), ('things happen', 6085), ('happen in', 2862), ('company you', 1380), ('get back', 2433), ('back what', 826), ('you put', 7161), ('rural location', 5263), ('location small', 3793), ('small commute', 5405), ('commute relaxed', 1287), ('relaxed work', 5185), ('opportunity to be', 4591), ('to be go', 6179), ('be go getter', 911), ('go getter and', 2517), ('getter and make', 2478), ('and make things', 380), ('make things happen', 3870), ('things happen in', 6086), ('happen in the', 2863), ('the company you', 5836), ('company you get', 1381), ('you get back', 7134), ('get back what', 2434), ('back what you', 827), ('what you put', 6699), ('you put in', 7162), ('put in rural', 5089), ('in rural location', 3192), ('rural location small', 5264), ('location small commute', 3794), ('small commute relaxed', 5406), ('commute relaxed work', 1288), ('relaxed work environment', 5186), ('good client', 2543), ('client project', 1215), ('project work', 5009), ('experience may', 2035), ('vary widely', 6495), ('widely by', 6761), ('by client', 1060), ('good people good', 2632), ('people good client', 4755), ('good client project', 2544), ('client project work', 1216), ('project work in', 5010), ('work in my', 6947), ('in my experience', 3177), ('my experience may', 4087), ('experience may vary', 2036), ('may vary widely', 3985), ('vary widely by', 6496), ('widely by client', 6762), ('by client project', 1061), ('people lots', 4773), ('great culture and', 2738), ('and people lots', 416), ('people lots of', 4774), ('people great', 4760), ('training career', 6390), ('path versatility', 4702), ('versatility and', 6501), ('and promotion', 431), ('great people great', 2764), ('people great office', 4761), ('office culture training', 4410), ('culture training career', 1522), ('training career path', 6391), ('career path versatility', 1134), ('path versatility and', 4703), ('versatility and promotion', 6502), ('rural environment', 5259), ('and where', 510), ('where lived', 6712), ('lived was', 3770), ('was nice', 6613), ('nice also', 4172), ('also met', 133), ('met some', 4007), ('some pretty', 5462), ('pretty good', 4920), ('people during', 4750), ('during my', 1715), ('my time', 4097), ('time there', 6150), ('rural environment and', 5260), ('environment and where', 1840), ('and where lived', 511), ('where lived was', 6713), ('lived was nice', 3771), ('was nice also', 6614), ('nice also met', 4173), ('also met some', 134), ('met some pretty', 4008), ('some pretty good', 5463), ('pretty good people', 4921), ('good people during', 2631), ('people during my', 4751), ('during my time', 1716), ('my time there', 4098), ('amazing company', 175), ('with by', 6801), ('amazing company culture', 176), ('culture and the', 1468), ('and the best', 479), ('the best company', 5807), ('work with by', 6988), ('with by far', 6802), ('balance decent', 842), ('salary location', 5289), ('life balance decent', 3714), ('balance decent salary', 843), ('decent salary location', 1583), ('company great', 1325), ('learning experience', 3655), ('experience it', 2031), ('it was', 3480), ('with multiple', 6837), ('clients and', 1221), ('get vast', 2471), ('vast experience', 6498), ('great company great', 2735), ('company great people', 1326), ('people good learning', 4757), ('good learning experience', 2600), ('learning experience it', 3656), ('experience it was', 2032), ('it was good', 3481), ('was good to', 6604), ('work with multiple', 6991), ('with multiple clients', 6838), ('multiple clients and', 4066), ('clients and get', 1222), ('and get vast', 308), ('get vast experience', 2472), ('environment awesome', 1846), ('awesome coworkers', 812), ('coworkers internal', 1447), ('internal training', 3284), ('training after', 6384), ('after hours', 75), ('hours events', 3052), ('and parties', 412), ('parties food', 4694), ('food days', 2192), ('days and', 1569), ('and potlucks', 424), ('work environment awesome', 6915), ('environment awesome coworkers', 1847), ('awesome coworkers internal', 813), ('coworkers internal training', 1448), ('internal training after', 3285), ('training after hours', 6385), ('after hours events', 76), ('hours events and', 3053), ('events and parties', 1938), ('and parties food', 413), ('parties food days', 4695), ('food days and', 2193), ('days and potlucks', 1570), ('xpanxion has', 7060), ('has great', 2886), ('xpanxion has great', 7061), ('has great culture', 2887), ('environment very', 1887), ('very helpfull', 6539), ('helpfull with', 2982), ('with improving', 6827), ('improving skills', 3135), ('skills in', 5401), ('the workplace', 5983), ('excellent work environment', 1999), ('work environment very', 6922), ('environment very helpfull', 1888), ('very helpfull with', 6540), ('helpfull with improving', 2983), ('with improving skills', 6828), ('improving skills in', 3136), ('skills in the', 5402), ('in the workplace', 3208), ('good salaries', 2658), ('work on latest', 6964), ('balance good salaries', 848), ('culture friendly', 1474), ('relaxed culture friendly', 5181), ('culture friendly people', 1475), ('friendly people good', 2332), ('people good environment', 4756), ('incredibly smart', 3223), ('smart employees', 5414), ('employees great', 1772), ('great local', 2756), ('local management', 3774), ('incredibly smart employees', 3224), ('smart employees great', 5415), ('employees great local', 1773), ('great local management', 2757), ('with standard', 6853), ('standard hours', 5514), ('fun working environment', 2405), ('working environment with', 7018), ('environment with standard', 1893), ('with standard hours', 6854), ('company personal', 1359), ('personal growth', 4816), ('and perks', 419), ('good company personal', 2554), ('company personal growth', 1360), ('personal growth and', 4817), ('growth and perks', 2822), ('balance centrally', 840), ('centrally located', 1157), ('located in', 3777), ('pune mid', 5083), ('mid size', 4019), ('size gives', 5379), ('gives visibility', 2508), ('visibility to', 6570), ('to everyone', 6206), ('everyone very', 1972), ('culture high', 1486), ('high employee', 3018), ('employee retention', 1759), ('provides good work', 5064), ('life balance centrally', 3713), ('balance centrally located', 841), ('centrally located in', 1158), ('located in pune', 3778), ('in pune mid', 3187), ('pune mid size', 5084), ('mid size gives', 4020), ('size gives visibility', 5380), ('gives visibility to', 2509), ('visibility to everyone', 6571), ('to everyone very', 6207), ('everyone very good', 1973), ('work culture high', 6901), ('culture high employee', 1487), ('high employee retention', 3019)])"
      ]
     },
     "execution_count": 150,
     "metadata": {},
     "output_type": "execute_result"
    }
   ],
   "source": [
    "vocab.items()"
   ]
  },
  {
   "cell_type": "code",
   "execution_count": 152,
   "metadata": {},
   "outputs": [],
   "source": [
    "sorted_word_list = sorted([(word_count[i],ngram) for ngram,i in vocab.items()], reverse = True)"
   ]
  },
  {
   "cell_type": "code",
   "execution_count": 153,
   "metadata": {
    "collapsed": true
   },
   "outputs": [
    {
     "data": {
      "text/plain": [
       "[(40, 'life balance'),\n",
       " (39, 'work life balance'),\n",
       " (39, 'work life'),\n",
       " (35, 'to work'),\n",
       " (33, 'good work'),\n",
       " (20, 'to learn'),\n",
       " (19, 'work culture'),\n",
       " (17, 'very good'),\n",
       " (16, 'work environment'),\n",
       " (14, 'lot of'),\n",
       " (14, 'if you'),\n",
       " (13, 'good work culture'),\n",
       " (12, 'opportunities to'),\n",
       " (12, 'is good'),\n",
       " (12, 'good work life'),\n",
       " (11, 'you can'),\n",
       " (11, 'place to'),\n",
       " (10, 'you are'),\n",
       " (10, 'work with'),\n",
       " (10, 'the company'),\n",
       " (10, 'of the'),\n",
       " (10, 'learning opportunities'),\n",
       " (10, 'is very'),\n",
       " (10, 'good company'),\n",
       " (9, 'you get'),\n",
       " (9, 'to work with'),\n",
       " (9, 'management is'),\n",
       " (9, 'good culture'),\n",
       " (9, 'environment and'),\n",
       " (8, 'work on'),\n",
       " (8, 'lots of'),\n",
       " (8, 'learn new'),\n",
       " (8, 'in the'),\n",
       " (8, 'good place'),\n",
       " (8, 'good people'),\n",
       " (8, 'good pay'),\n",
       " (8, 'company to'),\n",
       " (8, 'as well'),\n",
       " (7, 'to work on'),\n",
       " (7, 'to grow'),\n",
       " (7, 'place to work'),\n",
       " (7, 'opportunity to'),\n",
       " (7, 'of opportunities'),\n",
       " (7, 'new technology'),\n",
       " (7, 'new technologies'),\n",
       " (7, 'good learning'),\n",
       " (7, 'flexible work'),\n",
       " (7, 'environment good'),\n",
       " (7, 'culture and'),\n",
       " (7, 'company to work'),\n",
       " (6, 'working environment'),\n",
       " (6, 'work culture is'),\n",
       " (6, 'to learn new'),\n",
       " (6, 'this company'),\n",
       " (6, 'there is'),\n",
       " (6, 'people and'),\n",
       " (6, 'opportunities to learn'),\n",
       " (6, 'on the'),\n",
       " (6, 'it is'),\n",
       " (6, 'is great'),\n",
       " (6, 'good work environment'),\n",
       " (6, 'good salary'),\n",
       " (6, 'depends on'),\n",
       " (6, 'culture is'),\n",
       " (6, 'are good'),\n",
       " (6, 'and the'),\n",
       " (5, 'you will'),\n",
       " (5, 'xpanxion is'),\n",
       " (5, 'with xpanxion'),\n",
       " (5, 'well as'),\n",
       " (5, 'time to'),\n",
       " (5, 'this is'),\n",
       " (5, 'they have'),\n",
       " (5, 'the employees'),\n",
       " (5, 'technologies good'),\n",
       " (5, 'supportive and'),\n",
       " (5, 'people good'),\n",
       " (5, 'one of the'),\n",
       " (5, 'one of'),\n",
       " (5, 'on latest'),\n",
       " (5, 'of opportunities to'),\n",
       " (5, 'learn and'),\n",
       " (5, 'latest technologies'),\n",
       " (5, 'if you are'),\n",
       " (5, 'great work'),\n",
       " (5, 'great place'),\n",
       " (5, 'great culture'),\n",
       " (5, 'great company'),\n",
       " (5, 'good projects'),\n",
       " (5, 'good place to'),\n",
       " (5, 'good management'),\n",
       " (5, 'company culture'),\n",
       " (5, 'as well as'),\n",
       " (5, 'are very'),\n",
       " (5, 'and it'),\n",
       " (5, 'and grow'),\n",
       " (5, 'all the'),\n",
       " (4, 'you will get'),\n",
       " (4, 'you to'),\n",
       " (4, 'work you'),\n",
       " (4, 'work in'),\n",
       " (4, 'work from home'),\n",
       " (4, 'work from'),\n",
       " (4, 'work environment and'),\n",
       " (4, 'will get'),\n",
       " (4, 'very helpful'),\n",
       " (4, 'very good work'),\n",
       " (4, 'to learn and'),\n",
       " (4, 'to get'),\n",
       " (4, 'to be'),\n",
       " (4, 'the work'),\n",
       " (4, 'the project'),\n",
       " (4, 'the best'),\n",
       " (4, 'people are'),\n",
       " (4, 'open culture'),\n",
       " (4, 'on project'),\n",
       " (4, 'of work'),\n",
       " (4, 'of projects'),\n",
       " (4, 'of learning'),\n",
       " (4, 'no pros'),\n",
       " (4, 'lot of opportunities'),\n",
       " (4, 'life balance is'),\n",
       " (4, 'learning opportunity'),\n",
       " (4, 'is very good'),\n",
       " (4, 'hr team'),\n",
       " (4, 'great place to'),\n",
       " (4, 'good working'),\n",
       " (4, 'good learning opportunities'),\n",
       " (4, 'good company to'),\n",
       " (4, 'good at'),\n",
       " (4, 'from home'),\n",
       " (4, 'for the'),\n",
       " (4, 'flexible timings'),\n",
       " (4, 'employee friendly'),\n",
       " (4, 'culture good'),\n",
       " (4, 'balance is'),\n",
       " (4, 'and work'),\n",
       " (3, 'your work'),\n",
       " (3, 'you do'),\n",
       " (3, 'xpanxion is great'),\n",
       " (3, 'xpanxion from'),\n",
       " (3, 'working with xpanxion'),\n",
       " (3, 'working with'),\n",
       " (3, 'working culture'),\n",
       " (3, 'work hours'),\n",
       " (3, 'work as'),\n",
       " (3, 'with xpanxion from'),\n",
       " (3, 'with great'),\n",
       " (3, 'what you'),\n",
       " (3, 'very friendly'),\n",
       " (3, 'variety of projects'),\n",
       " (3, 'variety of'),\n",
       " (3, 'training and'),\n",
       " (3, 'to mention'),\n",
       " (3, 'to join'),\n",
       " (3, 'there is lot'),\n",
       " (3, 'the team'),\n",
       " (3, 'the right'),\n",
       " (3, 'that you'),\n",
       " (3, 'technologies good work'),\n",
       " (3, 'skills and'),\n",
       " (3, 'really good'),\n",
       " (3, 'projects to work'),\n",
       " (3, 'projects to'),\n",
       " (3, 'place to learn'),\n",
       " (3, 'place for'),\n",
       " (3, 'ping pong'),\n",
       " (3, 'opportunity for'),\n",
       " (3, 'opportunities you'),\n",
       " (3, 'on your'),\n",
       " (3, 'on various'),\n",
       " (3, 'on the project'),\n",
       " (3, 'on latest technologies'),\n",
       " (3, 'office culture'),\n",
       " (3, 'of learning opportunities'),\n",
       " (3, 'of experience'),\n",
       " (3, 'nice work'),\n",
       " (3, 'nice people'),\n",
       " (3, 'new things'),\n",
       " (3, 'management team'),\n",
       " (3, 'location in'),\n",
       " (3, 'life balance and'),\n",
       " (3, 'learn new technology'),\n",
       " (3, 'learn new technologies'),\n",
       " (3, 'learn and grow'),\n",
       " (3, 'latest technology'),\n",
       " (3, 'latest technologies good'),\n",
       " (3, 'is lot'),\n",
       " (3, 'in the company'),\n",
       " (3, 'in pune'),\n",
       " (3, 'have good'),\n",
       " (3, 'grow and'),\n",
       " (3, 'great work life'),\n",
       " (3, 'great people'),\n",
       " (3, 'good for'),\n",
       " (3, 'good environment'),\n",
       " (3, 'get to'),\n",
       " (3, 'get good'),\n",
       " (3, 'fun environment'),\n",
       " (3, 'fun activities'),\n",
       " (3, 'friendly people'),\n",
       " (3, 'friendly environment'),\n",
       " (3, 'for learning'),\n",
       " (3, 'for employees'),\n",
       " (3, 'focus on'),\n",
       " (3, 'flexible work hours'),\n",
       " (3, 'explore new'),\n",
       " (3, 'employees and'),\n",
       " (3, 'employee oriented'),\n",
       " (3, 'depends on project'),\n",
       " (3, 'depending on'),\n",
       " (3, 'company with'),\n",
       " (3, 'company is'),\n",
       " (3, 'company has'),\n",
       " (3, 'company for'),\n",
       " (3, 'central location'),\n",
       " (3, 'balance and'),\n",
       " (3, 'as they'),\n",
       " (3, 'as such'),\n",
       " (3, 'as per'),\n",
       " (3, 'as fresher'),\n",
       " (3, 'are great'),\n",
       " (3, 'are also'),\n",
       " (3, 'and culture'),\n",
       " (3, 'and can'),\n",
       " (2, 'your skills'),\n",
       " (2, 'your career'),\n",
       " (2, 'your aspirations'),\n",
       " (2, 'you want'),\n",
       " (2, 'you feel'),\n",
       " (2, 'you can walk'),\n",
       " (2, 'you are in'),\n",
       " (2, 'xpanxion from last'),\n",
       " (2, 'working on'),\n",
       " (2, 'working for'),\n",
       " (2, 'work you get'),\n",
       " (2, 'work with and'),\n",
       " (2, 'work timing'),\n",
       " (2, 'work place'),\n",
       " (2, 'work on various'),\n",
       " (2, 'work is'),\n",
       " (2, 'work for'),\n",
       " (2, 'work at'),\n",
       " (2, 'work and'),\n",
       " (2, 'wont provide joining'),\n",
       " (2, 'wont provide'),\n",
       " (2, 'with your'),\n",
       " (2, 'with very'),\n",
       " (2, 'with the'),\n",
       " (2, 'with lot of'),\n",
       " (2, 'with lot'),\n",
       " (2, 'with big name'),\n",
       " (2, 'with big'),\n",
       " (2, 'with and'),\n",
       " (2, 'willing to'),\n",
       " (2, 'will the'),\n",
       " (2, 'which was'),\n",
       " (2, 'what you do'),\n",
       " (2, 'well which'),\n",
       " (2, 'well as experienced'),\n",
       " (2, 'was really'),\n",
       " (2, 'was good'),\n",
       " (2, 'video games'),\n",
       " (2, 'very supportive and'),\n",
       " (2, 'very supportive'),\n",
       " (2, 'very relaxed'),\n",
       " (2, 'very good people'),\n",
       " (2, 'very flexible'),\n",
       " (2, 'very cooperative'),\n",
       " (2, 'too many'),\n",
       " (2, 'to work you'),\n",
       " (2, 'to work for'),\n",
       " (2, 'to work at'),\n",
       " (2, 'to work and'),\n",
       " (2, 'to take'),\n",
       " (2, 'to start'),\n",
       " (2, 'to solve'),\n",
       " (2, 'to learn something'),\n",
       " (2, 'to know'),\n",
       " (2, 'to keep'),\n",
       " (2, 'to improve'),\n",
       " (2, 'to grow if'),\n",
       " (2, 'to explore'),\n",
       " (2, 'to enhance'),\n",
       " (2, 'to anyone'),\n",
       " (2, 'to all the'),\n",
       " (2, 'to all'),\n",
       " (2, 'time for'),\n",
       " (2, 'time and'),\n",
       " (2, 'this company is'),\n",
       " (2, 'they wont provide'),\n",
       " (2, 'they wont'),\n",
       " (2, 'they have good'),\n",
       " (2, 'they had'),\n",
       " (2, 'they conduct'),\n",
       " (2, 'they are'),\n",
       " (2, 'they also'),\n",
       " (2, 'there is always'),\n",
       " (2, 'there are'),\n",
       " (2, 'their employees'),\n",
       " (2, 'the work life'),\n",
       " (2, 'the time'),\n",
       " (2, 'the senior'),\n",
       " (2, 'the people'),\n",
       " (2, 'the opportunity'),\n",
       " (2, 'the new'),\n",
       " (2, 'the needs of'),\n",
       " (2, 'the needs'),\n",
       " (2, 'the last'),\n",
       " (2, 'the client'),\n",
       " (2, 'the associates'),\n",
       " (2, 'that you can'),\n",
       " (2, 'that they'),\n",
       " (2, 'technology stack'),\n",
       " (2, 'technology projects'),\n",
       " (2, 'technology and'),\n",
       " (2, 'technologies to work'),\n",
       " (2, 'technologies to'),\n",
       " (2, 'technical skills'),\n",
       " (2, 'tech stack'),\n",
       " (2, 'team was'),\n",
       " (2, 'team and'),\n",
       " (2, 'supportive management'),\n",
       " (2, 'such to'),\n",
       " (2, 'something new'),\n",
       " (2, 'some very good'),\n",
       " (2, 'some very'),\n",
       " (2, 'so many'),\n",
       " (2, 'snacks available'),\n",
       " (2, 'seniors and'),\n",
       " (2, 'self motivated'),\n",
       " (2, 'scope for'),\n",
       " (2, 'salary on time'),\n",
       " (2, 'salary on'),\n",
       " (2, 'room to grow'),\n",
       " (2, 'room to'),\n",
       " (2, 'relaxed dress code'),\n",
       " (2, 'relaxed dress'),\n",
       " (2, 'relaxed culture'),\n",
       " (2, 'really nice'),\n",
       " (2, 'rapid growth'),\n",
       " (2, 'qa projects'),\n",
       " (2, 'put in'),\n",
       " (2, 'pune office'),\n",
       " (2, 'provides good'),\n",
       " (2, 'provide joining later'),\n",
       " (2, 'provide joining'),\n",
       " (2, 'pros as'),\n",
       " (2, 'projects and'),\n",
       " (2, 'project you'),\n",
       " (2, 'project was'),\n",
       " (2, 'positive environment'),\n",
       " (2, 'plenty of'),\n",
       " (2, 'personal life'),\n",
       " (2, 'per your'),\n",
       " (2, 'people to work'),\n",
       " (2, 'people to'),\n",
       " (2, 'people management'),\n",
       " (2, 'people in'),\n",
       " (2, 'people are very'),\n",
       " (2, 'pay for'),\n",
       " (2, 'part of'),\n",
       " (2, 'package but they'),\n",
       " (2, 'package but'),\n",
       " (2, 'overall good'),\n",
       " (2, 'out to anyone'),\n",
       " (2, 'out to'),\n",
       " (2, 'oriented company'),\n",
       " (2, 'opportunity to learn'),\n",
       " (2, 'opportunity for growth'),\n",
       " (2, 'opportunities to grow'),\n",
       " (2, 'open to'),\n",
       " (2, 'open door'),\n",
       " (2, 'only pro'),\n",
       " (2, 'only good'),\n",
       " (2, 'on time'),\n",
       " (2, 'on new'),\n",
       " (2, 'on and'),\n",
       " (2, 'of your'),\n",
       " (2, 'of what'),\n",
       " (2, 'of this company'),\n",
       " (2, 'of this'),\n",
       " (2, 'of the best'),\n",
       " (2, 'of projects to'),\n",
       " (2, 'of people'),\n",
       " (2, 'of employees'),\n",
       " (2, 'not much'),\n",
       " (2, 'no work'),\n",
       " (2, 'no pros as'),\n",
       " (2, 'no politics'),\n",
       " (2, 'nice work environment'),\n",
       " (2, 'nice the'),\n",
       " (2, 'nice and'),\n",
       " (2, 'new technologies good'),\n",
       " (2, 'needs of'),\n",
       " (2, 'name clients'),\n",
       " (2, 'my last'),\n",
       " (2, 'my experience'),\n",
       " (2, 'multiple clients'),\n",
       " (2, 'much of'),\n",
       " (2, 'meet the'),\n",
       " (2, 'me the'),\n",
       " (2, 'may vary'),\n",
       " (2, 'managers are very'),\n",
       " (2, 'managers are'),\n",
       " (2, 'management is very'),\n",
       " (2, 'management good'),\n",
       " (2, 'management and'),\n",
       " (2, 'lots of learning'),\n",
       " (2, 'location is good'),\n",
       " (2, 'location is'),\n",
       " (2, 'location in pune'),\n",
       " (2, 'like in'),\n",
       " (2, 'life balance great'),\n",
       " (2, 'life balance good'),\n",
       " (2, 'learning opportunities you'),\n",
       " (2, 'learning is'),\n",
       " (2, 'learn something new'),\n",
       " (2, 'learn something'),\n",
       " (2, 'leadership team'),\n",
       " (2, 'latest tech'),\n",
       " (2, 'laid back'),\n",
       " (2, 'kind of'),\n",
       " (2, 'joining later'),\n",
       " (2, 'join this company'),\n",
       " (2, 'join this'),\n",
       " (2, 'it gives'),\n",
       " (2, 'is really'),\n",
       " (2, 'is on'),\n",
       " (2, 'is not'),\n",
       " (2, 'is lot of'),\n",
       " (2, 'is great company'),\n",
       " (2, 'is friendly'),\n",
       " (2, 'is decent'),\n",
       " (2, 'is an'),\n",
       " (2, 'is always'),\n",
       " (2, 'is also'),\n",
       " (2, 'in rural'),\n",
       " (2, 'in qa'),\n",
       " (2, 'in my'),\n",
       " (2, 'in good'),\n",
       " (2, 'higher management'),\n",
       " (2, 'here and'),\n",
       " (2, 'helpful associates'),\n",
       " (2, 'helpful and'),\n",
       " (2, 'have the'),\n",
       " (2, 'have fun'),\n",
       " (2, 'have been working'),\n",
       " (2, 'have been'),\n",
       " (2, 'had joined'),\n",
       " (2, 'growth and'),\n",
       " (2, 'grow your'),\n",
       " (2, 'grow if'),\n",
       " (2, 'great working'),\n",
       " (2, 'great work environment'),\n",
       " (2, 'great people good'),\n",
       " (2, 'great opportunity to'),\n",
       " (2, 'great opportunity'),\n",
       " (2, 'great office culture'),\n",
       " (2, 'great office'),\n",
       " (2, 'great learning'),\n",
       " (2, 'great environment'),\n",
       " (2, 'great company with'),\n",
       " (2, 'got to'),\n",
       " (2, 'good working culture'),\n",
       " (2, 'good to work'),\n",
       " (2, 'good to'),\n",
       " (2, 'good technologies'),\n",
       " (2, 'good technical'),\n",
       " (2, 'good projects and'),\n",
       " (2, 'good place for'),\n",
       " (2, 'good people to'),\n",
       " (2, 'good people and'),\n",
       " (2, 'good pay for'),\n",
       " (2, 'good package but'),\n",
       " (2, 'good package'),\n",
       " (2, 'good management team'),\n",
       " (2, 'good management good'),\n",
       " (2, 'good if'),\n",
       " (2, 'good for freshers'),\n",
       " (2, 'good exposure'),\n",
       " (2, 'good and'),\n",
       " (2, 'gives good'),\n",
       " (2, 'gifts on'),\n",
       " (2, 'get enough'),\n",
       " (2, 'fun working'),\n",
       " (2, 'fun filled'),\n",
       " (2, 'from seniors and'),\n",
       " (2, 'from seniors'),\n",
       " (2, 'from last'),\n",
       " (2, 'friendly policies'),\n",
       " (2, 'friendly culture'),\n",
       " (2, 'friendly and'),\n",
       " (2, 'freedom to'),\n",
       " (2, 'for lateral'),\n",
       " (2, 'for growth'),\n",
       " (2, 'for good'),\n",
       " (2, 'for freshers'),\n",
       " (2, 'flexible work timing'),\n",
       " (2, 'flexible hours'),\n",
       " (2, 'flexibility and'),\n",
       " (2, 'fast track'),\n",
       " (2, 'family day'),\n",
       " (2, 'exposure to'),\n",
       " (2, 'experience with'),\n",
       " (2, 'experience and'),\n",
       " (2, 'excellent work'),\n",
       " (2, 'events and'),\n",
       " (2, 'essentials programs'),\n",
       " (2, 'environment work'),\n",
       " (2, 'environment with'),\n",
       " (2, 'environment helpful'),\n",
       " (2, 'employees good'),\n",
       " (2, 'employees are'),\n",
       " (2, 'employee oriented company'),\n",
       " (2, 'employee friendly policies'),\n",
       " (2, 'emphasis on'),\n",
       " (2, 'dress code'),\n",
       " (2, 'depending on the'),\n",
       " (2, 'decent salary'),\n",
       " (2, 'culture training'),\n",
       " (2, 'culture people'),\n",
       " (2, 'culture of'),\n",
       " (2, 'culture lots of'),\n",
       " (2, 'culture lots'),\n",
       " (2, 'culture is good'),\n",
       " (2, 'culture is also'),\n",
       " (2, 'culture good management'),\n",
       " (2, 'culture and people'),\n",
       " (2, 'could be'),\n",
       " (2, 'core values'),\n",
       " (2, 'cool and'),\n",
       " (2, 'company culture and'),\n",
       " (2, 'company as'),\n",
       " (2, 'company and'),\n",
       " (2, 'colleagues are'),\n",
       " (2, 'client project'),\n",
       " (2, 'ceo is'),\n",
       " (2, 'career with'),\n",
       " (2, 'career path'),\n",
       " (2, 'career growth'),\n",
       " (2, 'care of'),\n",
       " (2, 'can walk'),\n",
       " (2, 'can be'),\n",
       " (2, 'by far'),\n",
       " (2, 'but they wont'),\n",
       " (2, 'but they'),\n",
       " (2, 'but depends on'),\n",
       " (2, 'but depends'),\n",
       " (2, 'big name clients'),\n",
       " (2, 'big name'),\n",
       " (2, 'better than'),\n",
       " (2, 'best company to'),\n",
       " (2, 'best company'),\n",
       " (2, 'being an'),\n",
       " (2, 'been working with'),\n",
       " (2, 'been working'),\n",
       " (2, 'because of'),\n",
       " (2, 'based on your'),\n",
       " (2, 'based on'),\n",
       " (2, 'balance great'),\n",
       " (2, 'balance good'),\n",
       " (2, 'back to'),\n",
       " (2, 'back and'),\n",
       " (2, 'at xpanxion'),\n",
       " (2, 'at work'),\n",
       " (2, 'at the'),\n",
       " (2, 'at any time'),\n",
       " (2, 'at any'),\n",
       " (2, 'at all'),\n",
       " (2, 'as you'),\n",
       " (2, 'as well which'),\n",
       " (2, 'as such to'),\n",
       " (2, 'as per your'),\n",
       " (2, 'as much'),\n",
       " (2, 'as experienced'),\n",
       " (2, 'are very helpful'),\n",
       " (2, 'are so'),\n",
       " (2, 'are in'),\n",
       " (2, 'appraisals are'),\n",
       " (2, 'any time and'),\n",
       " (2, 'any time'),\n",
       " (2, 'and you'),\n",
       " (2, 'and work culture'),\n",
       " (2, 'and very'),\n",
       " (2, 'and people'),\n",
       " (2, 'and not'),\n",
       " (2, 'and new'),\n",
       " (2, 'and managers'),\n",
       " (2, 'and management'),\n",
       " (2, 'and learn'),\n",
       " (2, 'and kansas'),\n",
       " (2, 'and helpful'),\n",
       " (2, 'and have'),\n",
       " (2, 'and good'),\n",
       " (2, 'and get'),\n",
       " (2, 'and friendly'),\n",
       " (2, 'and flexibility'),\n",
       " (2, 'and explore new'),\n",
       " (2, 'and explore'),\n",
       " (2, 'and different'),\n",
       " (2, 'and approachable'),\n",
       " (2, 'and am'),\n",
       " (2, 'and always'),\n",
       " (2, 'an opportunity to'),\n",
       " (2, 'an opportunity'),\n",
       " (2, 'also good'),\n",
       " (2, 'activities and'),\n",
       " (2, 'about the'),\n",
       " (2, 'able to'),\n",
       " (2, 'ability to'),\n",
       " (2, '401k matching'),\n",
       " (1, 'yourself salary and'),\n",
       " (1, 'yourself salary'),\n",
       " (1, 'your work propose'),\n",
       " (1, 'your work located'),\n",
       " (1, 'your work gets'),\n",
       " (1, 'your thoughts or'),\n",
       " (1, 'your thoughts'),\n",
       " (1, 'your talent super'),\n",
       " (1, 'your talent'),\n",
       " (1, 'your skills and'),\n",
       " (1, 'your role recommend'),\n",
       " (1, 'your role'),\n",
       " (1, 'your query and'),\n",
       " (1, 'your query'),\n",
       " (1, 'your project have'),\n",
       " (1, 'your project'),\n",
       " (1, 'your profile as'),\n",
       " (1, 'your profile'),\n",
       " (1, 'your point career'),\n",
       " (1, 'your point'),\n",
       " (1, 'your personality'),\n",
       " (1, 'your not deployed'),\n",
       " (1, 'your not'),\n",
       " (1, 'your manager as'),\n",
       " (1, 'your manager'),\n",
       " (1, 'your knowledge'),\n",
       " (1, 'your individual needs'),\n",
       " (1, 'your individual'),\n",
       " (1, 'your efforts'),\n",
       " (1, 'your daily work'),\n",
       " (1, 'your daily'),\n",
       " (1, 'your coworkers we'),\n",
       " (1, 'your coworkers'),\n",
       " (1, 'your ceo top'),\n",
       " (1, 'your ceo'),\n",
       " (1, 'your career good'),\n",
       " (1, 'your aspirations are'),\n",
       " (1, 'your aspirations and'),\n",
       " (1, 'you work as'),\n",
       " (1, 'you work'),\n",
       " (1, 'you with good'),\n",
       " (1, 'you with'),\n",
       " (1, 'you wind up'),\n",
       " (1, 'you wind'),\n",
       " (1, 'you will learn'),\n",
       " (1, 'you were part'),\n",
       " (1, 'you were'),\n",
       " (1, 'you well but'),\n",
       " (1, 'you well'),\n",
       " (1, 'you want management'),\n",
       " (1, 'you up to'),\n",
       " (1, 'you up'),\n",
       " (1, 'you to take'),\n",
       " (1, 'you to solve'),\n",
       " (1, 'you to settle'),\n",
       " (1, 'you to enhance'),\n",
       " (1, 'you stuck somewhere'),\n",
       " (1, 'you stuck'),\n",
       " (1, 'you re self'),\n",
       " (1, 'you re'),\n",
       " (1, 'you put in'),\n",
       " (1, 'you put'),\n",
       " (1, 'you prove yourself'),\n",
       " (1, 'you prove'),\n",
       " (1, 'you need to'),\n",
       " (1, 'you need'),\n",
       " (1, 'you meet the'),\n",
       " (1, 'you meet'),\n",
       " (1, 'you know each'),\n",
       " (1, 'you know'),\n",
       " (1, 'you joining will'),\n",
       " (1, 'you joining'),\n",
       " (1, 'you have the'),\n",
       " (1, 'you have'),\n",
       " (1, 'you halfway the'),\n",
       " (1, 'you halfway'),\n",
       " (1, 'you grow with'),\n",
       " (1, 'you grow'),\n",
       " (1, 'you good package'),\n",
       " (1, 'you good'),\n",
       " (1, 'you get to'),\n",
       " (1, 'you get stuck'),\n",
       " (1, 'you get plenty'),\n",
       " (1, 'you get opportunity'),\n",
       " (1, 'you get more'),\n",
       " (1, 'you get good'),\n",
       " (1, 'you get enough'),\n",
       " (1, 'you get central'),\n",
       " (1, 'you get back'),\n",
       " (1, 'you friendly work'),\n",
       " (1, 'you friendly'),\n",
       " (1, 'you feel your'),\n",
       " (1, 'you feel like'),\n",
       " (1, 'you ever have'),\n",
       " (1, 'you ever'),\n",
       " (1, 'you do well'),\n",
       " (1, 'you do then'),\n",
       " (1, 'you do changes'),\n",
       " (1, 'you desire'),\n",
       " (1, 'you couldn ask'),\n",
       " (1, 'you couldn'),\n",
       " (1, 'you can work'),\n",
       " (1, 'you can switch'),\n",
       " (1, 'you can showcase'),\n",
       " (1, 'you can reach'),\n",
       " (1, 'you can maintain'),\n",
       " (1, 'you can imagine'),\n",
       " (1, 'you can go'),\n",
       " (1, 'you can directly'),\n",
       " (1, 'you can approach'),\n",
       " (1, 'you as professional'),\n",
       " (1, 'you as'),\n",
       " (1, 'you are working'),\n",
       " (1, 'you are willing'),\n",
       " (1, 'you are surrounded'),\n",
       " (1, 'you are open'),\n",
       " (1, 'you are interested'),\n",
       " (1, 'you are heard'),\n",
       " (1, 'you are great'),\n",
       " (1, 'you are good'),\n",
       " (1, 'you again need'),\n",
       " (1, 'you again'),\n",
       " (1, 'years of experience'),\n",
       " (1, 'years of'),\n",
       " (1, 'years new facilities'),\n",
       " (1, 'years new'),\n",
       " (1, 'years and not'),\n",
       " (1, 'years and'),\n",
       " (1, 'years am very'),\n",
       " (1, 'years am'),\n",
       " (1, 'yearly hike is'),\n",
       " (1, 'yearly hike'),\n",
       " (1, 'year only qa'),\n",
       " (1, 'year only'),\n",
       " (1, 'year back and'),\n",
       " (1, 'year back'),\n",
       " (1, 'xpaxion was the'),\n",
       " (1, 'xpaxion was'),\n",
       " (1, 'xpanxion works with'),\n",
       " (1, 'xpanxion works'),\n",
       " (1, 'xpanxion so many'),\n",
       " (1, 'xpanxion so'),\n",
       " (1, 'xpanxion pune office'),\n",
       " (1, 'xpanxion pune'),\n",
       " (1, 'xpanxion provides good'),\n",
       " (1, 'xpanxion provides'),\n",
       " (1, 'xpanxion meets you'),\n",
       " (1, 'xpanxion meets'),\n",
       " (1, 'xpanxion it gives'),\n",
       " (1, 'xpanxion it'),\n",
       " (1, 'xpanxion is people'),\n",
       " (1, 'xpanxion is good'),\n",
       " (1, 'xpanxion has great'),\n",
       " (1, 'xpanxion has'),\n",
       " (1, 'xpanxion gives opportunities'),\n",
       " (1, 'xpanxion gives'),\n",
       " (1, 'xpanxion from 2013'),\n",
       " (1, 'xpanxion carried culture'),\n",
       " (1, 'xpanxion carried'),\n",
       " (1, 'xpanxion but returned'),\n",
       " (1, 'xpanxion but'),\n",
       " (1, 'xpanxion as trainee'),\n",
       " (1, 'xpanxion as'),\n",
       " (1, 'written test then'),\n",
       " (1, 'written test'),\n",
       " (1, 'would rate the'),\n",
       " (1, 'would rate'),\n",
       " (1, 'worst experience of'),\n",
       " (1, 'worst experience'),\n",
       " (1, 'works with big'),\n",
       " (1, 'works with'),\n",
       " (1, 'works to find'),\n",
       " (1, 'works to'),\n",
       " (1, 'works in latest'),\n",
       " (1, 'works in'),\n",
       " (1, 'workplaces to work'),\n",
       " (1, 'workplaces to'),\n",
       " (1, 'working shifts'),\n",
       " (1, 'working on various'),\n",
       " (1, 'working on some'),\n",
       " (1, 'working in small'),\n",
       " (1, 'working in'),\n",
       " (1, 'working hours good'),\n",
       " (1, 'working hours'),\n",
       " (1, 'working here with'),\n",
       " (1, 'working here'),\n",
       " (1, 'working for we'),\n",
       " (1, 'working for company'),\n",
       " (1, 'working environment working'),\n",
       " (1, 'working environment with'),\n",
       " (1, 'working environment supportive'),\n",
       " (1, 'working environment is'),\n",
       " (1, 'working environment good'),\n",
       " (1, 'working env opportunities'),\n",
       " (1, 'working env'),\n",
       " (1, 'working culture withh'),\n",
       " (1, 'working culture lots'),\n",
       " (1, 'working culture helpful'),\n",
       " (1, 'workers are great'),\n",
       " (1, 'workers are'),\n",
       " (1, 'worked to get'),\n",
       " (1, 'worked to'),\n",
       " (1, 'worked on and'),\n",
       " (1, 'worked on'),\n",
       " (1, 'worked around years'),\n",
       " (1, 'worked around'),\n",
       " (1, 'work you will'),\n",
       " (1, 'work you are'),\n",
       " (1, 'work within the'),\n",
       " (1, 'work within'),\n",
       " (1, 'work with your'),\n",
       " (1, 'work with very'),\n",
       " (1, 'work with multiple'),\n",
       " (1, 'work with have'),\n",
       " (1, 'work with environment'),\n",
       " (1, 'work with by'),\n",
       " (1, 'work with all'),\n",
       " (1, 'work wise they'),\n",
       " (1, 'work wise'),\n",
       " (1, 'work upon commute'),\n",
       " (1, 'work upon'),\n",
       " (1, 'work timing open'),\n",
       " (1, 'work time for'),\n",
       " (1, 'work time'),\n",
       " (1, 'work the resource'),\n",
       " (1, 'work the'),\n",
       " (1, 'work propose new'),\n",
       " (1, 'work propose'),\n",
       " (1, 'work place environment'),\n",
       " (1, 'work personal life'),\n",
       " (1, 'work personal'),\n",
       " (1, 'work on things'),\n",
       " (1, 'work on new'),\n",
       " (1, 'work on multiple'),\n",
       " (1, 'work on latest'),\n",
       " (1, 'work on company'),\n",
       " (1, 'work lofe balance'),\n",
       " (1, 'work lofe'),\n",
       " (1, 'work location in'),\n",
       " (1, 'work location'),\n",
       " (1, 'work located at'),\n",
       " (1, 'work located'),\n",
       " (1, 'work like full'),\n",
       " (1, 'work like'),\n",
       " (1, 'work is recognised'),\n",
       " (1, 'work is challenging'),\n",
       " (1, 'work in weekends'),\n",
       " (1, 'work in my'),\n",
       " (1, 'work in good'),\n",
       " (1, 'work in fact'),\n",
       " (1, 'work hours cooperative'),\n",
       " (1, 'work hard be'),\n",
       " (1, 'work hard'),\n",
       " (1, 'work happy and'),\n",
       " (1, 'work happy'),\n",
       " (1, 'work good work'),\n",
       " (1, 'work good'),\n",
       " (1, 'work gets appreciated'),\n",
       " (1, 'work gets'),\n",
       " (1, 'work for good'),\n",
       " (1, 'work for bigger'),\n",
       " (1, 'work floor and'),\n",
       " (1, 'work floor'),\n",
       " (1, 'work events outings'),\n",
       " (1, 'work events'),\n",
       " (1, 'work environment work'),\n",
       " (1, 'work environment which'),\n",
       " (1, 'work environment very'),\n",
       " (1, 'work environment the'),\n",
       " (1, 'work environment no'),\n",
       " (1, 'work environment liberal'),\n",
       " (1, 'work environment less'),\n",
       " (1, 'work environment good'),\n",
       " (1, 'work environment events'),\n",
       " (1, 'work environment awesome'),\n",
       " (1, 'work enivironment they'),\n",
       " (1, 'work enivironment'),\n",
       " (1, 'work culture works'),\n",
       " (1, 'work culture work'),\n",
       " (1, 'work culture upgrades'),\n",
       " (1, 'work culture supportive'),\n",
       " (1, 'work culture professional'),\n",
       " (1, 'work culture no'),\n",
       " (1, 'work culture management'),\n",
       " (1, 'work culture higher'),\n",
       " (1, 'work culture high'),\n",
       " (1, 'work culture good'),\n",
       " (1, 'work culture and'),\n",
       " (1, 'work challenging stuff'),\n",
       " (1, 'work challenging'),\n",
       " (1, 'work better people'),\n",
       " (1, 'work better'),\n",
       " (1, 'work because of'),\n",
       " (1, 'work because'),\n",
       " (1, 'work balance recently'),\n",
       " (1, 'work balance'),\n",
       " (1, 'work at sometimes'),\n",
       " (1, 'work at project'),\n",
       " (1, 'work as team'),\n",
       " (1, 'work as per'),\n",
       " (1, 'work as fresher'),\n",
       " (1, 'work and values'),\n",
       " (1, 'work and grow'),\n",
       " (1, 'within the work'),\n",
       " (1, 'within the'),\n",
       " (1, 'within no time'),\n",
       " (1, 'within no'),\n",
       " (1, 'withh great learning'),\n",
       " (1, 'withh great'),\n",
       " (1, 'with your individual'),\n",
       " (1, 'with your ceo'),\n",
       " (1, 'with you well'),\n",
       " (1, 'with you'),\n",
       " (1, 'with xpanxion it'),\n",
       " (1, 'with xpanxion as'),\n",
       " (1, 'with very friendly'),\n",
       " (1, 'with very cool'),\n",
       " (1, 'with varying technologies'),\n",
       " (1, 'with varying'),\n",
       " (1, 'with the variety'),\n",
       " (1, 'with the experience'),\n",
       " (1, 'with standard hours'),\n",
       " (1, 'with standard'),\n",
       " (1, 'with sr mgmt'),\n",
       " (1, 'with sr'),\n",
       " (1, 'with some mentor'),\n",
       " (1, 'with some'),\n",
       " (1, 'with sick hours'),\n",
       " (1, 'with sick'),\n",
       " (1, 'with rural offices'),\n",
       " (1, 'with rural'),\n",
       " (1, 'with regards to'),\n",
       " (1, 'with regards'),\n",
       " (1, 'with phenomenal growth'),\n",
       " (1, 'with phenomenal'),\n",
       " (1, 'with offering them'),\n",
       " (1, 'with offering'),\n",
       " (1, 'with multiple clients'),\n",
       " (1, 'with multiple'),\n",
       " (1, 'with lots of'),\n",
       " (1, 'with lots'),\n",
       " (1, 'with it experience'),\n",
       " (1, 'with it'),\n",
       " (1, 'with in house'),\n",
       " (1, 'with in'),\n",
       " (1, 'with improving skills'),\n",
       " (1, 'with improving'),\n",
       " (1, 'with have already'),\n",
       " (1, 'with have'),\n",
       " (1, 'with great vision'),\n",
       " (1, 'with great knowledge'),\n",
       " (1, 'with great culture'),\n",
       " (1, 'with good package'),\n",
       " (1, 'with good'),\n",
       " (1, 'with game rooms'),\n",
       " (1, 'with game'),\n",
       " (1, 'with environment and'),\n",
       " (1, 'with environment'),\n",
       " (1, 'with core values'),\n",
       " (1, 'with core'),\n",
       " (1, 'with constant encouragement'),\n",
       " (1, 'with constant'),\n",
       " (1, 'with company culture'),\n",
       " (1, 'with company'),\n",
       " (1, 'with client which'),\n",
       " (1, 'with client'),\n",
       " (1, 'with ceo to'),\n",
       " (1, 'with ceo'),\n",
       " (1, 'with caveat pretty'),\n",
       " (1, 'with caveat'),\n",
       " (1, 'with by far'),\n",
       " (1, 'with by'),\n",
       " (1, 'with and learn'),\n",
       " (1, 'with and explore'),\n",
       " (1, 'with all the'),\n",
       " (1, 'with all'),\n",
       " (1, 'wise they have'),\n",
       " (1, 'wise they'),\n",
       " (1, 'wind up on'),\n",
       " (1, 'wind up'),\n",
       " (1, 'willing to work'),\n",
       " (1, 'willing to wait'),\n",
       " (1, 'will the senior'),\n",
       " (1, 'will the company'),\n",
       " (1, 'will promise to'),\n",
       " (1, 'will promise'),\n",
       " (1, 'will offer descent'),\n",
       " (1, 'will offer'),\n",
       " ...]"
      ]
     },
     "execution_count": 153,
     "metadata": {},
     "output_type": "execute_result"
    }
   ],
   "source": [
    "sorted_word_list"
   ]
  },
  {
   "cell_type": "code",
   "execution_count": 161,
   "metadata": {
    "collapsed": true
   },
   "outputs": [
    {
     "data": {
      "text/plain": [
       "[(39, 'work life balance'),\n",
       " (13, 'good work culture'),\n",
       " (12, 'good work life balance'),\n",
       " (12, 'good work life'),\n",
       " (9, 'to work with'),\n",
       " (7, 'to work on'),\n",
       " (7, 'place to work'),\n",
       " (7, 'company to work'),\n",
       " (6, 'work culture is'),\n",
       " (6, 'to learn new'),\n",
       " (6, 'opportunities to learn'),\n",
       " (6, 'good work environment'),\n",
       " (5, 'one of the'),\n",
       " (5, 'of opportunities to'),\n",
       " (5, 'if you are'),\n",
       " (5, 'good place to'),\n",
       " (5, 'as well as'),\n",
       " (4, 'you will get'),\n",
       " (4, 'work life balance is'),\n",
       " (4, 'work from home'),\n",
       " (4, 'work environment and'),\n",
       " (4, 'very good work culture'),\n",
       " (4, 'very good work'),\n",
       " (4, 'to learn and'),\n",
       " (4, 'lot of opportunities to'),\n",
       " (4, 'lot of opportunities'),\n",
       " (4, 'life balance is'),\n",
       " (4, 'is very good'),\n",
       " (4, 'great place to'),\n",
       " (4, 'good place to work'),\n",
       " (4, 'good learning opportunities'),\n",
       " (4, 'good company to work'),\n",
       " (4, 'good company to'),\n",
       " (4, 'company to work with'),\n",
       " (3, 'xpanxion is great'),\n",
       " (3, 'working with xpanxion from'),\n",
       " (3, 'working with xpanxion'),\n",
       " (3, 'work life balance and'),\n",
       " (3, 'with xpanxion from'),\n",
       " (3, 'variety of projects'),\n",
       " (3, 'to learn and grow'),\n",
       " (3, 'there is lot'),\n",
       " (3, 'technologies good work'),\n",
       " (3, 'projects to work on'),\n",
       " (3, 'projects to work'),\n",
       " (3, 'place to learn'),\n",
       " (3, 'on the project'),\n",
       " (3, 'on latest technologies'),\n",
       " (3, 'of learning opportunities'),\n",
       " (3, 'life balance and'),\n",
       " (3, 'learn new technology'),\n",
       " (3, 'learn new technologies'),\n",
       " (3, 'learn and grow'),\n",
       " (3, 'latest technologies good'),\n",
       " (3, 'in the company'),\n",
       " (3, 'great work life balance'),\n",
       " (3, 'great work life'),\n",
       " (3, 'good work environment and'),\n",
       " (3, 'flexible work hours'),\n",
       " (3, 'depends on project'),\n",
       " (2, 'you can walk'),\n",
       " (2, 'you are in'),\n",
       " (2, 'xpanxion from last'),\n",
       " (2, 'work you get'),\n",
       " (2, 'work with and'),\n",
       " (2, 'work on various'),\n",
       " (2, 'work life balance great'),\n",
       " (2, 'work life balance good'),\n",
       " (2, 'work culture is good'),\n",
       " (2, 'work culture is also'),\n",
       " (2, 'wont provide joining later'),\n",
       " (2, 'wont provide joining'),\n",
       " (2, 'with xpanxion from last'),\n",
       " (2, 'with lot of'),\n",
       " (2, 'with big name clients'),\n",
       " (2, 'with big name'),\n",
       " (2, 'what you do'),\n",
       " (2, 'well as experienced'),\n",
       " (2, 'very supportive and'),\n",
       " (2, 'very good people'),\n",
       " (2, 'variety of projects to'),\n",
       " (2, 'to work you'),\n",
       " (2, 'to work with and'),\n",
       " (2, 'to work on various'),\n",
       " (2, 'to work for'),\n",
       " (2, 'to work at'),\n",
       " (2, 'to work and'),\n",
       " (2, 'to learn something new'),\n",
       " (2, 'to learn something'),\n",
       " (2, 'to learn new technology'),\n",
       " (2, 'to learn new technologies'),\n",
       " (2, 'to grow if'),\n",
       " (2, 'to all the'),\n",
       " (2, 'this company is'),\n",
       " (2, 'they wont provide joining'),\n",
       " (2, 'they wont provide'),\n",
       " (2, 'they have good'),\n",
       " (2, 'there is lot of'),\n",
       " (2, 'there is always'),\n",
       " (2, 'the work life balance'),\n",
       " (2, 'the work life'),\n",
       " (2, 'the needs of'),\n",
       " (2, 'that you can'),\n",
       " (2, 'technologies to work'),\n",
       " (2, 'technologies good work life'),\n",
       " (2, 'some very good'),\n",
       " (2, 'salary on time'),\n",
       " (2, 'room to grow'),\n",
       " (2, 'relaxed dress code'),\n",
       " (2, 'provide joining later'),\n",
       " (2, 'place to work and'),\n",
       " (2, 'place to learn new'),\n",
       " (2, 'people to work with'),\n",
       " (2, 'people to work'),\n",
       " (2, 'people are very'),\n",
       " (2, 'package but they wont'),\n",
       " (2, 'package but they'),\n",
       " (2, 'out to anyone'),\n",
       " (2, 'opportunity to learn'),\n",
       " (2, 'opportunity for growth'),\n",
       " (2, 'opportunities to learn new'),\n",
       " (2, 'opportunities to grow'),\n",
       " (2, 'one of the best'),\n",
       " (2, 'on latest technologies good'),\n",
       " (2, 'of this company'),\n",
       " (2, 'of the best'),\n",
       " (2, 'of projects to work'),\n",
       " (2, 'of projects to'),\n",
       " (2, 'of opportunities to learn'),\n",
       " (2, 'of opportunities to grow'),\n",
       " (2, 'no pros as'),\n",
       " (2, 'nice work environment'),\n",
       " (2, 'new technologies good'),\n",
       " (2, 'managers are very'),\n",
       " (2, 'management is very'),\n",
       " (2, 'lots of learning opportunities'),\n",
       " (2, 'lots of learning'),\n",
       " (2, 'location is good'),\n",
       " (2, 'location in pune'),\n",
       " (2, 'life balance great'),\n",
       " (2, 'life balance good'),\n",
       " (2, 'learning opportunities you'),\n",
       " (2, 'learn something new'),\n",
       " (2, 'latest technologies good work'),\n",
       " (2, 'join this company'),\n",
       " (2, 'is lot of'),\n",
       " (2, 'is great company with'),\n",
       " (2, 'is great company'),\n",
       " (2, 'have been working with'),\n",
       " (2, 'have been working'),\n",
       " (2, 'great work environment'),\n",
       " (2, 'great place to work'),\n",
       " (2, 'great people good'),\n",
       " (2, 'great opportunity to'),\n",
       " (2, 'great office culture'),\n",
       " (2, 'great company with'),\n",
       " (2, 'good working culture'),\n",
       " (2, 'good to work'),\n",
       " (2, 'good projects and'),\n",
       " (2, 'good place for'),\n",
       " (2, 'good people to work'),\n",
       " (2, 'good people to'),\n",
       " (2, 'good people and'),\n",
       " (2, 'good pay for'),\n",
       " (2, 'good package but they'),\n",
       " (2, 'good package but'),\n",
       " (2, 'good management team'),\n",
       " (2, 'good management good'),\n",
       " (2, 'good for freshers'),\n",
       " (2, 'from seniors and'),\n",
       " (2, 'flexible work timing'),\n",
       " (2, 'employee oriented company'),\n",
       " (2, 'employee friendly policies'),\n",
       " (2, 'depending on the project'),\n",
       " (2, 'depending on the'),\n",
       " (2, 'culture lots of'),\n",
       " (2, 'culture is good'),\n",
       " (2, 'culture is also'),\n",
       " (2, 'culture good management team'),\n",
       " (2, 'culture good management'),\n",
       " (2, 'culture and people'),\n",
       " (2, 'company culture and'),\n",
       " (2, 'but they wont provide'),\n",
       " (2, 'but they wont'),\n",
       " (2, 'but depends on'),\n",
       " (2, 'big name clients'),\n",
       " (2, 'best company to work'),\n",
       " (2, 'best company to'),\n",
       " (2, 'been working with xpanxion'),\n",
       " (2, 'been working with'),\n",
       " (2, 'based on your'),\n",
       " (2, 'at any time and'),\n",
       " (2, 'at any time'),\n",
       " (2, 'as well which'),\n",
       " (2, 'as well as experienced'),\n",
       " (2, 'as such to'),\n",
       " (2, 'as per your'),\n",
       " (2, 'are very helpful'),\n",
       " (2, 'any time and'),\n",
       " (2, 'and work culture is'),\n",
       " (2, 'and work culture'),\n",
       " (2, 'and explore new'),\n",
       " (2, 'an opportunity to'),\n",
       " (1, 'yourself salary and increments'),\n",
       " (1, 'yourself salary and'),\n",
       " (1, 'your work propose new'),\n",
       " (1, 'your work propose'),\n",
       " (1, 'your work located at'),\n",
       " (1, 'your work located'),\n",
       " (1, 'your work gets appreciated'),\n",
       " (1, 'your work gets'),\n",
       " (1, 'your thoughts or put'),\n",
       " (1, 'your thoughts or'),\n",
       " (1, 'your talent super work'),\n",
       " (1, 'your talent super'),\n",
       " (1, 'your skills and solve'),\n",
       " (1, 'your skills and'),\n",
       " (1, 'your role recommend everyone'),\n",
       " (1, 'your role recommend'),\n",
       " (1, 'your query and help'),\n",
       " (1, 'your query and'),\n",
       " (1, 'your project have fun'),\n",
       " (1, 'your project have'),\n",
       " (1, 'your profile as well'),\n",
       " (1, 'your profile as'),\n",
       " (1, 'your point career growth'),\n",
       " (1, 'your point career'),\n",
       " (1, 'your not deployed to'),\n",
       " (1, 'your not deployed'),\n",
       " (1, 'your manager as everywhere'),\n",
       " (1, 'your manager as'),\n",
       " (1, 'your individual needs and'),\n",
       " (1, 'your individual needs'),\n",
       " (1, 'your daily work you'),\n",
       " (1, 'your daily work'),\n",
       " (1, 'your coworkers we get'),\n",
       " (1, 'your coworkers we'),\n",
       " (1, 'your ceo top management'),\n",
       " (1, 'your ceo top'),\n",
       " (1, 'your career good people'),\n",
       " (1, 'your career good'),\n",
       " (1, 'your aspirations are different'),\n",
       " (1, 'your aspirations are'),\n",
       " (1, 'your aspirations and it'),\n",
       " (1, 'your aspirations and'),\n",
       " (1, 'you work as per'),\n",
       " (1, 'you work as'),\n",
       " (1, 'you with good package'),\n",
       " (1, 'you with good'),\n",
       " (1, 'you wind up on'),\n",
       " (1, 'you wind up'),\n",
       " (1, 'you will learn lot'),\n",
       " (1, 'you will learn'),\n",
       " (1, 'you will get good'),\n",
       " (1, 'you will get exposure'),\n",
       " (1, 'you will get enough'),\n",
       " (1, 'you will get based'),\n",
       " (1, 'you were part of'),\n",
       " (1, 'you were part'),\n",
       " (1, 'you well but will'),\n",
       " (1, 'you well but'),\n",
       " (1, 'you want management encourages'),\n",
       " (1, 'you want management'),\n",
       " (1, 'you up to learn'),\n",
       " (1, 'you up to'),\n",
       " (1, 'you to take risks'),\n",
       " (1, 'you to take'),\n",
       " (1, 'you to solve real'),\n",
       " (1, 'you to solve'),\n",
       " (1, 'you to settle and'),\n",
       " (1, 'you to settle'),\n",
       " (1, 'you to enhance over'),\n",
       " (1, 'you to enhance'),\n",
       " (1, 'you stuck somewhere salary'),\n",
       " (1, 'you stuck somewhere'),\n",
       " (1, 'you re self motivated'),\n",
       " (1, 'you re self'),\n",
       " (1, 'you put in rural'),\n",
       " (1, 'you put in'),\n",
       " (1, 'you prove yourself salary'),\n",
       " (1, 'you prove yourself'),\n",
       " (1, 'you need to work'),\n",
       " (1, 'you need to'),\n",
       " (1, 'you meet the client'),\n",
       " (1, 'you meet the'),\n",
       " (1, 'you know each and'),\n",
       " (1, 'you know each'),\n",
       " (1, 'you joining will offer'),\n",
       " (1, 'you joining will'),\n",
       " (1, 'you have the offer'),\n",
       " (1, 'you have the'),\n",
       " (1, 'you halfway the rural'),\n",
       " (1, 'you halfway the'),\n",
       " (1, 'you grow with constant'),\n",
       " (1, 'you grow with'),\n",
       " (1, 'you good package but'),\n",
       " (1, 'you good package'),\n",
       " (1, 'you get to work'),\n",
       " (1, 'you get to'),\n",
       " (1, 'you get stuck in'),\n",
       " (1, 'you get stuck'),\n",
       " (1, 'you get plenty of'),\n",
       " (1, 'you get plenty'),\n",
       " (1, 'you get opportunity to'),\n",
       " (1, 'you get opportunity'),\n",
       " (1, 'you get more than'),\n",
       " (1, 'you get more'),\n",
       " (1, 'you get good exposure'),\n",
       " (1, 'you get good'),\n",
       " (1, 'you get enough time'),\n",
       " (1, 'you get enough'),\n",
       " (1, 'you get central location'),\n",
       " (1, 'you get central'),\n",
       " (1, 'you get back what'),\n",
       " (1, 'you get back'),\n",
       " (1, 'you friendly work environment'),\n",
       " (1, 'you friendly work'),\n",
       " (1, 'you feel your aspirations'),\n",
       " (1, 'you feel your'),\n",
       " (1, 'you feel like home'),\n",
       " (1, 'you feel like'),\n",
       " (1, 'you ever have problem'),\n",
       " (1, 'you ever have'),\n",
       " (1, 'you do well management'),\n",
       " (1, 'you do well'),\n",
       " (1, 'you do then leave'),\n",
       " (1, 'you do then'),\n",
       " (1, 'you do changes so'),\n",
       " (1, 'you do changes'),\n",
       " (1, 'you couldn ask more'),\n",
       " (1, 'you couldn ask'),\n",
       " (1, 'you can work with'),\n",
       " (1, 'you can work'),\n",
       " (1, 'you can walk out'),\n",
       " (1, 'you can walk in'),\n",
       " (1, 'you can switch to'),\n",
       " (1, 'you can switch'),\n",
       " (1, 'you can showcase your'),\n",
       " (1, 'you can showcase'),\n",
       " (1, 'you can reach out'),\n",
       " (1, 'you can reach'),\n",
       " (1, 'you can maintain work'),\n",
       " (1, 'you can maintain'),\n",
       " (1, 'you can imagine to'),\n",
       " (1, 'you can imagine'),\n",
       " (1, 'you can go to'),\n",
       " (1, 'you can go'),\n",
       " (1, 'you can directly interact'),\n",
       " (1, 'you can directly'),\n",
       " (1, 'you can approach hrs'),\n",
       " (1, 'you can approach'),\n",
       " (1, 'you as professional and'),\n",
       " (1, 'you as professional'),\n",
       " (1, 'you are working for'),\n",
       " (1, 'you are working'),\n",
       " (1, 'you are willing to'),\n",
       " (1, 'you are willing'),\n",
       " (1, 'you are surrounded by'),\n",
       " (1, 'you are surrounded'),\n",
       " (1, 'you are open to'),\n",
       " (1, 'you are open'),\n",
       " (1, 'you are interested in'),\n",
       " (1, 'you are interested'),\n",
       " (1, 'you are in they'),\n",
       " (1, 'you are in qa'),\n",
       " (1, 'you are heard and'),\n",
       " (1, 'you are heard'),\n",
       " (1, 'you are great at'),\n",
       " (1, 'you are great'),\n",
       " (1, 'you are good at'),\n",
       " (1, 'you are good'),\n",
       " (1, 'you again need one'),\n",
       " (1, 'you again need'),\n",
       " (1, 'years of experience but'),\n",
       " (1, 'years of experience'),\n",
       " (1, 'years new facilities being'),\n",
       " (1, 'years new facilities'),\n",
       " (1, 'years and not observed'),\n",
       " (1, 'years and not'),\n",
       " (1, 'years am very happy'),\n",
       " (1, 'years am very'),\n",
       " (1, 'yearly hike is decent'),\n",
       " (1, 'yearly hike is'),\n",
       " (1, 'year only qa projects'),\n",
       " (1, 'year only qa'),\n",
       " (1, 'year back and right'),\n",
       " (1, 'year back and'),\n",
       " (1, 'xpaxion was the vacation'),\n",
       " (1, 'xpaxion was the'),\n",
       " (1, 'xpanxion works with big'),\n",
       " (1, 'xpanxion works with'),\n",
       " (1, 'xpanxion so many rules'),\n",
       " (1, 'xpanxion so many'),\n",
       " (1, 'xpanxion pune office good'),\n",
       " (1, 'xpanxion pune office'),\n",
       " (1, 'xpanxion provides good learning'),\n",
       " (1, 'xpanxion provides good'),\n",
       " (1, 'xpanxion meets you halfway'),\n",
       " (1, 'xpanxion meets you'),\n",
       " (1, 'xpanxion it gives me'),\n",
       " (1, 'xpanxion it gives'),\n",
       " (1, 'xpanxion is people also'),\n",
       " (1, 'xpanxion is people'),\n",
       " (1, 'xpanxion is great place'),\n",
       " (1, 'xpanxion is great it'),\n",
       " (1, 'xpanxion is great company'),\n",
       " (1, 'xpanxion is good place'),\n",
       " (1, 'xpanxion is good'),\n",
       " (1, 'xpanxion has great culture'),\n",
       " (1, 'xpanxion has great'),\n",
       " (1, 'xpanxion gives opportunities to'),\n",
       " (1, 'xpanxion gives opportunities'),\n",
       " (1, 'xpanxion from last years'),\n",
       " (1, 'xpanxion from last months'),\n",
       " (1, 'xpanxion from 2013 this'),\n",
       " (1, 'xpanxion from 2013'),\n",
       " (1, 'xpanxion carried culture which'),\n",
       " (1, 'xpanxion carried culture'),\n",
       " (1, 'xpanxion but returned back'),\n",
       " (1, 'xpanxion but returned'),\n",
       " (1, 'xpanxion as trainee the'),\n",
       " (1, 'xpanxion as trainee'),\n",
       " (1, 'written test then technical'),\n",
       " (1, 'written test then'),\n",
       " (1, 'would rate the overall'),\n",
       " (1, 'would rate the'),\n",
       " (1, 'worst experience of my'),\n",
       " (1, 'worst experience of'),\n",
       " (1, 'works with big name'),\n",
       " (1, 'works with big'),\n",
       " (1, 'works to find you'),\n",
       " (1, 'works to find'),\n",
       " (1, 'works in latest technologies'),\n",
       " (1, 'works in latest'),\n",
       " (1, 'workplaces to work'),\n",
       " (1, 'working on various different'),\n",
       " (1, 'working on various'),\n",
       " (1, 'working on some cool'),\n",
       " (1, 'working on some'),\n",
       " (1, 'working in small town'),\n",
       " (1, 'working in small'),\n",
       " (1, 'working hours good work'),\n",
       " (1, 'working hours good'),\n",
       " (1, 'working here with lot'),\n",
       " (1, 'working here with'),\n",
       " (1, 'working for we value'),\n",
       " (1, 'working for we'),\n",
       " (1, 'working for company where'),\n",
       " (1, 'working for company'),\n",
       " (1, 'working environment working on'),\n",
       " (1, 'working environment working'),\n",
       " (1, 'working environment with standard'),\n",
       " (1, 'working environment with'),\n",
       " (1, 'working environment supportive management'),\n",
       " (1, 'working environment supportive'),\n",
       " (1, 'working environment is best'),\n",
       " (1, 'working environment is'),\n",
       " (1, 'working environment good exposure'),\n",
       " (1, 'working environment good'),\n",
       " (1, 'working env opportunities to'),\n",
       " (1, 'working env opportunities'),\n",
       " (1, 'working culture withh great'),\n",
       " (1, 'working culture withh'),\n",
       " (1, 'working culture lots of'),\n",
       " (1, 'working culture lots'),\n",
       " (1, 'working culture helpful associates'),\n",
       " (1, 'working culture helpful'),\n",
       " (1, 'workers are great'),\n",
       " (1, 'worked to get what'),\n",
       " (1, 'worked to get'),\n",
       " (1, 'worked on and salary'),\n",
       " (1, 'worked on and'),\n",
       " (1, 'worked around years and'),\n",
       " (1, 'worked around years'),\n",
       " (1, 'work you will get'),\n",
       " (1, 'work you will'),\n",
       " (1, 'work you get opportunity'),\n",
       " (1, 'work you get good'),\n",
       " (1, 'work you are surrounded'),\n",
       " (1, 'work you are'),\n",
       " (1, 'work within the work'),\n",
       " (1, 'work within the'),\n",
       " (1, 'work with your individual'),\n",
       " (1, 'work with your'),\n",
       " (1, 'work with very friendly'),\n",
       " (1, 'work with very'),\n",
       " (1, 'work with multiple clients'),\n",
       " (1, 'work with multiple'),\n",
       " (1, 'work with have already'),\n",
       " (1, 'work with have'),\n",
       " (1, 'work with environment and'),\n",
       " (1, 'work with environment'),\n",
       " (1, 'work with by far'),\n",
       " (1, 'work with by'),\n",
       " (1, 'work with and learn'),\n",
       " (1, 'work with and explore'),\n",
       " (1, 'work with all the'),\n",
       " (1, 'work with all'),\n",
       " (1, 'work wise they have'),\n",
       " (1, 'work wise they'),\n",
       " (1, 'work upon commute is'),\n",
       " (1, 'work upon commute'),\n",
       " (1, 'work timing open door'),\n",
       " (1, 'work timing open'),\n",
       " (1, 'work time for personal'),\n",
       " (1, 'work time for'),\n",
       " (1, 'work the resource management'),\n",
       " (1, 'work the resource'),\n",
       " (1, 'work propose new innovative'),\n",
       " (1, 'work propose new'),\n",
       " (1, 'work place environment and'),\n",
       " (1, 'work place environment'),\n",
       " (1, 'work personal life balance'),\n",
       " (1, 'work personal life'),\n",
       " (1, 'work on various niche'),\n",
       " (1, 'work on various focus'),\n",
       " (1, 'work on things that'),\n",
       " (1, 'work on things'),\n",
       " (1, 'work on new technology'),\n",
       " (1, 'work on new'),\n",
       " (1, 'work on multiple locations'),\n",
       " (1, 'work on multiple'),\n",
       " (1, 'work on latest technologies'),\n",
       " (1, 'work on latest'),\n",
       " (1, 'work on company as'),\n",
       " (1, 'work on company'),\n",
       " (1, 'work lofe balance quality'),\n",
       " (1, 'work lofe balance'),\n",
       " (1, 'work location in aundh'),\n",
       " (1, 'work location in'),\n",
       " (1, 'work located at aundh'),\n",
       " (1, 'work located at'),\n",
       " (1, 'work like full stack'),\n",
       " (1, 'work like full'),\n",
       " (1, 'work life balance you'),\n",
       " (1, 'work life balance xpanxion'),\n",
       " (1, 'work life balance work'),\n",
       " (1, 'work life balance varies'),\n",
       " (1, 'work life balance this'),\n",
       " (1, 'work life balance think'),\n",
       " (1, 'work life balance technology'),\n",
       " (1, 'work life balance projects'),\n",
       " (1, 'work life balance opportunities'),\n",
       " (1, 'work life balance many'),\n",
       " (1, 'work life balance management'),\n",
       " (1, 'work life balance learning'),\n",
       " (1, 'work life balance large'),\n",
       " (1, 'work life balance independent'),\n",
       " (1, 'work life balance here'),\n",
       " (1, 'work life balance depending'),\n",
       " (1, 'work life balance decent'),\n",
       " (1, 'work life balance centrally'),\n",
       " (1, 'work life balance canteen'),\n",
       " (1, 'work life balance but'),\n",
       " (1, 'work life balance at'),\n",
       " (1, 'work is recognised management'),\n",
       " (1, 'work is recognised'),\n",
       " (1, 'work is challenging and'),\n",
       " (1, 'work is challenging'),\n",
       " (1, 'work in weekends'),\n",
       " (1, 'work in my experience'),\n",
       " (1, 'work in my'),\n",
       " (1, 'work in good pay'),\n",
       " (1, 'work in good'),\n",
       " (1, 'work in fact better'),\n",
       " (1, 'work in fact'),\n",
       " (1, 'work hours cooperative environment'),\n",
       " (1, 'work hours cooperative'),\n",
       " (1, 'work hard be smart'),\n",
       " (1, 'work hard be'),\n",
       " (1, 'work happy and friendly'),\n",
       " (1, 'work happy and'),\n",
       " (1, 'work good work culture'),\n",
       " (1, 'work good work'),\n",
       " (1, 'work gets appreciated by'),\n",
       " (1, 'work gets appreciated'),\n",
       " (1, 'work from home good'),\n",
       " (1, 'work from home friendly'),\n",
       " (1, 'work from home facility'),\n",
       " (1, 'work from home depends'),\n",
       " (1, 'work for good culture'),\n",
       " (1, 'work for good'),\n",
       " (1, 'work for bigger companies'),\n",
       " (1, 'work for bigger'),\n",
       " (1, 'work floor and infra'),\n",
       " (1, 'work floor and'),\n",
       " (1, 'work events outings ceremonial'),\n",
       " (1, 'work events outings'),\n",
       " (1, 'work environment work from'),\n",
       " (1, 'work environment work'),\n",
       " (1, 'work environment which has'),\n",
       " (1, 'work environment which'),\n",
       " (1, 'work environment very helpfull'),\n",
       " (1, 'work environment very'),\n",
       " (1, 'work environment the new'),\n",
       " (1, 'work environment the'),\n",
       " (1, 'work environment no micromanaging'),\n",
       " (1, 'work environment no'),\n",
       " (1, 'work environment liberal working'),\n",
       " (1, 'work environment liberal'),\n",
       " (1, 'work environment less politics'),\n",
       " (1, 'work environment less'),\n",
       " (1, 'work environment good leaders'),\n",
       " (1, 'work environment good'),\n",
       " (1, 'work environment events happening'),\n",
       " (1, 'work environment events'),\n",
       " (1, 'work environment awesome coworkers'),\n",
       " (1, 'work environment awesome'),\n",
       " (1, 'work environment and vibrant'),\n",
       " (1, 'work environment and helpful'),\n",
       " (1, 'work environment and good'),\n",
       " (1, 'work environment and culture'),\n",
       " (1, 'work enivironment they also'),\n",
       " (1, 'work enivironment they'),\n",
       " (1, 'work culture works in'),\n",
       " (1, 'work culture works'),\n",
       " (1, 'work culture work life'),\n",
       " (1, 'work culture work'),\n",
       " (1, 'work culture upgrades to'),\n",
       " (1, 'work culture upgrades'),\n",
       " (1, 'work culture supportive people'),\n",
       " (1, 'work culture supportive'),\n",
       " (1, 'work culture professional culture'),\n",
       " (1, 'work culture professional'),\n",
       " (1, 'work culture no politics'),\n",
       " (1, 'work culture no'),\n",
       " (1, 'work culture management is'),\n",
       " (1, 'work culture management'),\n",
       " (1, 'work culture is friendly'),\n",
       " (1, 'work culture is awesome'),\n",
       " (1, 'work culture higher management'),\n",
       " (1, 'work culture higher'),\n",
       " (1, 'work culture high employee'),\n",
       " (1, 'work culture high'),\n",
       " (1, 'work culture good management'),\n",
       " (1, 'work culture good'),\n",
       " (1, 'work culture and management'),\n",
       " (1, 'work culture and'),\n",
       " (1, 'work challenging stuff'),\n",
       " (1, 'work better people and'),\n",
       " (1, 'work better people'),\n",
       " (1, 'work because of the'),\n",
       " (1, 'work because of'),\n",
       " (1, 'work balance recently better'),\n",
       " (1, 'work balance recently'),\n",
       " (1, 'work at sometimes too'),\n",
       " (1, 'work at sometimes'),\n",
       " (1, 'work at project as'),\n",
       " (1, 'work at project'),\n",
       " (1, 'work as team not'),\n",
       " (1, 'work as team'),\n",
       " (1, 'work as per your'),\n",
       " (1, 'work as per'),\n",
       " (1, 'work as fresher as'),\n",
       " (1, 'work as fresher'),\n",
       " (1, 'work and values talent'),\n",
       " (1, 'work and values'),\n",
       " (1, 'work and grow career'),\n",
       " (1, 'work and grow'),\n",
       " (1, 'within the work place'),\n",
       " (1, 'within the work'),\n",
       " (1, 'within no time given'),\n",
       " (1, 'within no time'),\n",
       " (1, 'withh great learning opportunity'),\n",
       " (1, 'withh great learning'),\n",
       " (1, 'with your individual needs'),\n",
       " (1, 'with your individual'),\n",
       " (1, 'with your ceo top'),\n",
       " (1, 'with your ceo'),\n",
       " (1, 'with you well but'),\n",
       " (1, 'with you well'),\n",
       " (1, 'with xpanxion it gives'),\n",
       " (1, 'with xpanxion it'),\n",
       " (1, 'with xpanxion from 2013'),\n",
       " (1, 'with xpanxion as trainee'),\n",
       " (1, 'with xpanxion as'),\n",
       " (1, 'with very friendly rural'),\n",
       " (1, 'with very friendly'),\n",
       " (1, 'with very cool and'),\n",
       " (1, 'with very cool'),\n",
       " (1, 'with varying technologies'),\n",
       " (1, 'with the variety of'),\n",
       " (1, 'with the variety'),\n",
       " (1, 'with the experience which'),\n",
       " (1, 'with the experience'),\n",
       " (1, 'with standard hours'),\n",
       " (1, 'with sr mgmt and'),\n",
       " (1, 'with sr mgmt'),\n",
       " (1, 'with some mentor help'),\n",
       " (1, 'with some mentor'),\n",
       " (1, 'with sick hours had'),\n",
       " (1, 'with sick hours'),\n",
       " (1, 'with rural offices and'),\n",
       " (1, 'with rural offices'),\n",
       " (1, 'with regards to personal'),\n",
       " (1, 'with regards to'),\n",
       " (1, 'with phenomenal growth prospects'),\n",
       " (1, 'with phenomenal growth'),\n",
       " (1, 'with offering them training'),\n",
       " (1, 'with offering them'),\n",
       " (1, 'with multiple clients and'),\n",
       " (1, 'with multiple clients'),\n",
       " (1, 'with lots of options'),\n",
       " (1, 'with lots of'),\n",
       " (1, 'with lot of opportunities'),\n",
       " (1, 'with lot of activities'),\n",
       " (1, 'with it experience to'),\n",
       " (1, 'with it experience'),\n",
       " (1, 'with in house frameworks'),\n",
       " (1, 'with in house'),\n",
       " (1, 'with improving skills in'),\n",
       " (1, 'with improving skills'),\n",
       " (1, 'with have already left'),\n",
       " (1, 'with have already'),\n",
       " (1, 'with great vision of'),\n",
       " (1, 'with great vision'),\n",
       " (1, 'with great knowledge and'),\n",
       " (1, 'with great knowledge'),\n",
       " (1, 'with great culture there'),\n",
       " (1, 'with great culture'),\n",
       " (1, 'with good package but'),\n",
       " (1, 'with good package'),\n",
       " (1, 'with game rooms vending'),\n",
       " (1, 'with game rooms'),\n",
       " (1, 'with environment and work'),\n",
       " (1, 'with environment and'),\n",
       " (1, 'with core values all'),\n",
       " (1, 'with core values'),\n",
       " (1, 'with constant encouragement and'),\n",
       " (1, 'with constant encouragement'),\n",
       " (1, 'with company culture along'),\n",
       " (1, 'with company culture'),\n",
       " (1, 'with client which provides'),\n",
       " (1, 'with client which'),\n",
       " (1, 'with ceo to all'),\n",
       " (1, 'with ceo to'),\n",
       " (1, 'with caveat pretty fun'),\n",
       " (1, 'with caveat pretty'),\n",
       " (1, 'with by far'),\n",
       " (1, 'with and learn new'),\n",
       " (1, 'with and learn'),\n",
       " (1, 'with and explore new'),\n",
       " (1, 'with and explore'),\n",
       " (1, 'with all the senior'),\n",
       " (1, 'with all the'),\n",
       " (1, 'wise they have few'),\n",
       " (1, 'wise they have'),\n",
       " (1, 'wind up on but'),\n",
       " (1, 'wind up on'),\n",
       " (1, 'willing to work with'),\n",
       " (1, 'willing to work'),\n",
       " (1, 'willing to wait for'),\n",
       " (1, 'willing to wait'),\n",
       " (1, 'will the senior leadership'),\n",
       " (1, 'will the senior'),\n",
       " (1, 'will the company like'),\n",
       " (1, 'will the company'),\n",
       " (1, 'will promise to give'),\n",
       " (1, 'will promise to'),\n",
       " (1, 'will offer descent salary'),\n",
       " (1, 'will offer descent'),\n",
       " (1, 'will not give joining'),\n",
       " (1, 'will not give'),\n",
       " (1, 'will learn lot'),\n",
       " (1, 'will get good learning'),\n",
       " (1, 'will get good'),\n",
       " (1, 'will get exposure on'),\n",
       " (1, 'will get exposure'),\n",
       " (1, 'will get enough exposure'),\n",
       " (1, 'will get enough'),\n",
       " (1, 'will get based on'),\n",
       " (1, 'will get based'),\n",
       " (1, 'will encourage you to'),\n",
       " (1, 'will encourage you'),\n",
       " (1, 'will definitely recognize your'),\n",
       " (1, 'will definitely recognize'),\n",
       " (1, 'will behave with you'),\n",
       " (1, 'will behave with'),\n",
       " (1, 'will be within no'),\n",
       " (1, 'will be within'),\n",
       " (1, 'widely by client project'),\n",
       " (1, 'widely by client'),\n",
       " (1, 'whom so ever you'),\n",
       " (1, 'whom so ever'),\n",
       " (1, 'whole is doing great'),\n",
       " (1, 'whole is doing'),\n",
       " (1, 'who ran the team'),\n",
       " (1, 'who ran the'),\n",
       " (1, 'who need you to'),\n",
       " (1, 'who need you'),\n",
       " (1, 'who is our esteemed'),\n",
       " (1, 'who is our'),\n",
       " (1, 'who am as person'),\n",
       " (1, 'who am as'),\n",
       " (1, 'while staying in smaller'),\n",
       " (1, 'while staying in'),\n",
       " (1, 'while joining learn and'),\n",
       " (1, 'while joining learn'),\n",
       " (1, 'which you desire'),\n",
       " (1, 'which was one of'),\n",
       " (1, 'which was one'),\n",
       " (1, 'which was it strength'),\n",
       " (1, 'which was it'),\n",
       " (1, 'which require good technical'),\n",
       " (1, 'which require good'),\n",
       " (1, 'which provides me an'),\n",
       " (1, 'which provides me'),\n",
       " (1, 'which project you get'),\n",
       " (1, 'which project you'),\n",
       " (1, 'which makes commute very'),\n",
       " (1, 'which makes commute'),\n",
       " (1, 'which love because it'),\n",
       " (1, 'which love because'),\n",
       " (1, 'which is really nice'),\n",
       " (1, 'which is really'),\n",
       " (1, 'which have have multiple'),\n",
       " (1, 'which have have'),\n",
       " (1, 'which has helped to'),\n",
       " (1, 'which has helped'),\n",
       " (1, 'which deviate the team'),\n",
       " (1, 'which deviate the'),\n",
       " (1, 'which companies rarely allow'),\n",
       " (1, 'which companies rarely'),\n",
       " (1, 'which can be definitely'),\n",
       " (1, 'which can be'),\n",
       " (1, 'where we come to'),\n",
       " (1, 'where we come'),\n",
       " (1, 'where one has all'),\n",
       " (1, 'where one has'),\n",
       " (1, 'where lived was nice'),\n",
       " (1, 'where lived was'),\n",
       " (1, 'where employees quit xpanxion'),\n",
       " (1, 'where employees quit'),\n",
       " (1, 'where can dress in'),\n",
       " (1, 'where can dress'),\n",
       " (1, 'when they spent the'),\n",
       " (1, 'when they spent'),\n",
       " (1, 'when the company was'),\n",
       " (1, 'when the company'),\n",
       " (1, 'when promoting fun place'),\n",
       " (1, 'when promoting fun'),\n",
       " (1, 'when project change is'),\n",
       " (1, 'when project change'),\n",
       " (1, 'what you put in'),\n",
       " (1, 'what you put'),\n",
       " (1, 'what you do then'),\n",
       " (1, 'what you do changes'),\n",
       " (1, 'what will the company'),\n",
       " (1, 'what will the'),\n",
       " (1, 'what was needed and'),\n",
       " (1, 'what was needed'),\n",
       " (1, 'what they needed to'),\n",
       " (1, 'what they needed'),\n",
       " (1, 'what projects you wind'),\n",
       " (1, 'what projects you'),\n",
       " (1, 'wfh policy company compensate'),\n",
       " (1, 'wfh policy company'),\n",
       " (1, 'were part of clique'),\n",
       " (1, 'were part of'),\n",
       " (1, 'were nice the project'),\n",
       " (1, 'were nice the'),\n",
       " (1, 'were extremely good my'),\n",
       " (1, 'were extremely good'),\n",
       " (1, 'were enforced for that'),\n",
       " (1, 'were enforced for'),\n",
       " (1, 'were encouraged to get'),\n",
       " (1, 'were encouraged to'),\n",
       " (1, 'well which makes commute'),\n",
       " (1, 'well which makes'),\n",
       " (1, 'well which companies rarely'),\n",
       " (1, 'well which companies'),\n",
       " (1, 'well the interviews took'),\n",
       " (1, 'well the interviews'),\n",
       " (1, 'well management doesn look'),\n",
       " (1, 'well management doesn'),\n",
       " (1, 'well hr quite approachable'),\n",
       " (1, 'well hr quite'),\n",
       " (1, 'well defined wfh policy'),\n",
       " (1, 'well defined wfh'),\n",
       " (1, 'well but will not'),\n",
       " (1, 'well but will'),\n",
       " (1, 'well as support to'),\n",
       " (1, 'well as support'),\n",
       " (1, 'well as non technical'),\n",
       " (1, 'well as non'),\n",
       " (1, 'well as company level'),\n",
       " (1, 'well as company'),\n",
       " (1, 'week was able to'),\n",
       " (1, 'week was able'),\n",
       " (1, 'we were encouraged to'),\n",
       " (1, 'we were encouraged'),\n",
       " (1, 'we value associates has'),\n",
       " (1, 'we value associates'),\n",
       " (1, 'we sit late after'),\n",
       " (1, 'we sit late'),\n",
       " (1, 'we re all bunch'),\n",
       " (1, 'we re all'),\n",
       " (1, 'we have very relaxed'),\n",
       " (1, 'we have very'),\n",
       " (1, 'we get lot of'),\n",
       " (1, 'we get lot'),\n",
       " (1, 'we come to know'),\n",
       " (1, 'we come to'),\n",
       " (1, 'we are getting 401k'),\n",
       " (1, 'we are getting'),\n",
       " (1, 'we all expect to'),\n",
       " (1, 'we all expect'),\n",
       " (1, 'way to enter the'),\n",
       " (1, 'way to enter'),\n",
       " (1, 'way that am comfortable'),\n",
       " (1, 'way that am'),\n",
       " (1, 'way nice and flexible'),\n",
       " (1, 'way nice and'),\n",
       " (1, 'was very very relaxing'),\n",
       " (1, 'was very very'),\n",
       " (1, 'was under had great'),\n",
       " (1, 'was under had'),\n",
       " (1, 'was treated well the'),\n",
       " (1, 'was treated well'),\n",
       " (1, 'was the vacation hours'),\n",
       " (1, 'was the vacation'),\n",
       " (1, 'was soft spoken was'),\n",
       " (1, 'was soft spoken'),\n",
       " (1, 'was really nice the'),\n",
       " (1, 'was really nice'),\n",
       " (1, 'was really missing from'),\n",
       " (1, 'was really missing'),\n",
       " (1, 'was one of the'),\n",
       " (1, 'was one of'),\n",
       " (1, 'was on was decent'),\n",
       " (1, 'was on was'),\n",
       " (1, 'was nice also met'),\n",
       " (1, 'was nice also'),\n",
       " (1, 'was new everyone treated'),\n",
       " (1, 'was new everyone'),\n",
       " (1, 'was needed and when'),\n",
       " (1, 'was needed and'),\n",
       " (1, 'was led by female'),\n",
       " (1, 'was led by'),\n",
       " (1, 'was it strength surely'),\n",
       " (1, 'was it strength'),\n",
       " (1, 'was good to work'),\n",
       " (1, 'was good to'),\n",
       " (1, 'was good taught me'),\n",
       " (1, 'was good taught'),\n",
       " (1, 'was fun and everyone'),\n",
       " (1, 'was fun and'),\n",
       " (1, 'was decent for good'),\n",
       " (1, 'was decent for'),\n",
       " (1, 'was created in office'),\n",
       " (1, 'was created in'),\n",
       " (1, 'was by far the'),\n",
       " (1, 'was by far'),\n",
       " (1, 'was able to upgrade'),\n",
       " (1, 'was able to'),\n",
       " (1, 'wanted to manage teams'),\n",
       " (1, 'wanted to manage'),\n",
       " (1, 'want management encourages you'),\n",
       " (1, 'want management encourages'),\n",
       " (1, 'walk out to anyone'),\n",
       " (1, 'walk out to'),\n",
       " (1, 'walk in at any'),\n",
       " (1, 'walk in at'),\n",
       " (1, 'wait for results and'),\n",
       " (1, 'wait for results'),\n",
       " (1, 'wadhwa are so supportive'),\n",
       " (1, 'wadhwa are so'),\n",
       " (1, 'voice my opinion with'),\n",
       " (1, 'voice my opinion'),\n",
       " (1, 'vivid knowledgeable seniors'),\n",
       " (1, 'visionary direct inspiring ceo'),\n",
       " (1, 'visionary direct inspiring'),\n",
       " (1, 'vision of leveraging rural'),\n",
       " (1, 'vision of leveraging'),\n",
       " (1, 'visibility to everyone very'),\n",
       " (1, 'visibility to everyone'),\n",
       " (1, 'view on teams sitting'),\n",
       " (1, 'view on teams'),\n",
       " (1, 'video games to play'),\n",
       " (1, 'video games to'),\n",
       " (1, 'video games ping pong'),\n",
       " (1, 'video games ping'),\n",
       " (1, 'very willing to work'),\n",
       " (1, 'very willing to'),\n",
       " (1, 'very very relaxing made'),\n",
       " (1, 'very very relaxing'),\n",
       " (1, 'very supportive and there'),\n",
       " (1, 'very supportive and positive'),\n",
       " (1, 'very smooth and fair'),\n",
       " (1, 'very smooth and'),\n",
       " (1, 'very smart people that'),\n",
       " (1, 'very smart people'),\n",
       " (1, 'very relaxing made lot'),\n",
       " (1, 'very relaxing made'),\n",
       " (1, 'very relaxed dress code'),\n",
       " (1, 'very relaxed dress'),\n",
       " (1, 'very relaxed and the'),\n",
       " (1, 'very relaxed and'),\n",
       " (1, 'very nice company to'),\n",
       " (1, 'very nice company'),\n",
       " ...]"
      ]
     },
     "execution_count": 161,
     "metadata": {},
     "output_type": "execute_result"
    }
   ],
   "source": [
    "# Pros List\n",
    "from sklearn.feature_extraction.text import CountVectorizer\n",
    "transform_vector = ngram_vec.fit_transform(pros_list)\n",
    "word_count = transform_vector.toarray().sum(axis=0)\n",
    "vocab = ngram_vec.vocabulary_\n",
    "sorted_word_list = sorted([(word_count[i],ngram) for ngram,i in vocab.items()], reverse = True)\n",
    "sorted_word_list"
   ]
  },
  {
   "cell_type": "code",
   "execution_count": 162,
   "metadata": {},
   "outputs": [
    {
     "data": {
      "text/plain": [
       "[(8, 'work life balance'),\n",
       " (8, 'no cons as'),\n",
       " (5, 'no cons as such'),\n",
       " (5, 'if you are'),\n",
       " (5, 'cons as such'),\n",
       " (5, 'can think of'),\n",
       " (4, 'there are no'),\n",
       " (4, 'onsite opportunities are'),\n",
       " (4, 'no work life balance'),\n",
       " (4, 'no work life'),\n",
       " (4, 'most of the'),\n",
       " (4, 'is not that'),\n",
       " (4, 'as of now'),\n",
       " (3, 'you have to'),\n",
       " (3, 'us wait for'),\n",
       " (3, 'that can think of'),\n",
       " (3, 'that can think'),\n",
       " (3, 'nothing as such'),\n",
       " (3, 'none that can think'),\n",
       " (3, 'none that can'),\n",
       " (3, 'no 401k match'),\n",
       " (3, 'in terms of'),\n",
       " (3, 'even if you'),\n",
       " (3, 'can be improved'),\n",
       " (3, 'at client side'),\n",
       " (3, 'at client location'),\n",
       " (3, 'as it is'),\n",
       " (2, 'you need to'),\n",
       " (2, 'you ll have to'),\n",
       " (2, 'you ll have'),\n",
       " (2, 'you have to be'),\n",
       " (2, 'xpanxion is not'),\n",
       " (2, 'working at client location'),\n",
       " (2, 'working at client'),\n",
       " (2, 'work life balance in'),\n",
       " (2, 'work from home'),\n",
       " (2, 'wait for year'),\n",
       " (2, 'use some work'),\n",
       " (2, 'us wait for year'),\n",
       " (2, 'training on people management'),\n",
       " (2, 'training on people'),\n",
       " (2, 'too much focus on'),\n",
       " (2, 'too much focus'),\n",
       " (2, 'to those who'),\n",
       " (2, 'to think about'),\n",
       " (2, 'to the new joiners'),\n",
       " (2, 'to the new'),\n",
       " (2, 'to be on'),\n",
       " (2, 'to be in'),\n",
       " (2, 'this point of time'),\n",
       " (2, 'this point of'),\n",
       " (2, 'think of any'),\n",
       " (2, 'they gave us offer'),\n",
       " (2, 'they gave us'),\n",
       " (2, 'they don have'),\n",
       " (2, 'they do not'),\n",
       " (2, 'there is no'),\n",
       " (2, 'there is lot of'),\n",
       " (2, 'there is lot'),\n",
       " (2, 'there is always scope'),\n",
       " (2, 'there is always'),\n",
       " (2, 'there are no cons'),\n",
       " (2, 'then terminated us'),\n",
       " (2, 'the rules are'),\n",
       " (2, 'the new joiners'),\n",
       " (2, 'the fort collins office'),\n",
       " (2, 'the fort collins'),\n",
       " (2, 'the company they'),\n",
       " (2, 'the client is happy'),\n",
       " (2, 'the client is'),\n",
       " (2, 'the aundh office'),\n",
       " (2, 'the amount of'),\n",
       " (2, 'that have experienced'),\n",
       " (2, 'station is good'),\n",
       " (2, 'some projects have'),\n",
       " (2, 'some projects are'),\n",
       " (2, 'some managers are'),\n",
       " (2, 'some employees are'),\n",
       " (2, 'small scale company'),\n",
       " (2, 'reach out to'),\n",
       " (2, 'pune station is good'),\n",
       " (2, 'pune station is'),\n",
       " (2, 'point of time'),\n",
       " (2, 'pay is not'),\n",
       " (2, 'on people management'),\n",
       " (2, 'of the time'),\n",
       " (2, 'of the company'),\n",
       " (2, 'of the city'),\n",
       " (2, 'not want to'),\n",
       " (2, 'not that great'),\n",
       " (2, 'not that good'),\n",
       " (2, 'not much growth'),\n",
       " (2, 'not as such'),\n",
       " (2, 'no onsite opportunity'),\n",
       " (2, 'no job security'),\n",
       " (2, 'no empathy with'),\n",
       " (2, 'no cons as of'),\n",
       " (2, 'needs to be'),\n",
       " (2, 'need to be'),\n",
       " (2, 'my office manager'),\n",
       " (2, 'much focus on'),\n",
       " (2, 'move to different'),\n",
       " (2, 'most of the time'),\n",
       " (2, 'management needs to'),\n",
       " (2, 'making us wait for'),\n",
       " (2, 'making us wait'),\n",
       " (2, 'll have to'),\n",
       " (2, 'life balance in'),\n",
       " (2, 'last few years'),\n",
       " (2, 'lack of communication'),\n",
       " (2, 'it is not'),\n",
       " (2, 'it is in'),\n",
       " (2, 'it can be'),\n",
       " (2, 'is not that great'),\n",
       " (2, 'is not that good'),\n",
       " (2, 'is not as'),\n",
       " (2, 'is lot of'),\n",
       " (2, 'is good for'),\n",
       " (2, 'is always scope'),\n",
       " (2, 'infrastructure is not that'),\n",
       " (2, 'infrastructure is not'),\n",
       " (2, 'in the organization'),\n",
       " (2, 'in the aundh office'),\n",
       " (2, 'in the aundh'),\n",
       " (2, 'in particular is'),\n",
       " (2, 'in few projects'),\n",
       " (2, 'if your project'),\n",
       " (2, 'if you work'),\n",
       " (2, 'if you don'),\n",
       " (2, 'if the client is'),\n",
       " (2, 'if the client'),\n",
       " (2, 'have to be'),\n",
       " (2, 'gave us offer'),\n",
       " (2, 'fort collins office'),\n",
       " (2, 'for some people'),\n",
       " (2, 'find any till'),\n",
       " (2, 'everything is good'),\n",
       " (2, 'even if you work'),\n",
       " (2, 'employees no job'),\n",
       " (2, 'don have any'),\n",
       " (2, 'don care about'),\n",
       " (2, 'does not care'),\n",
       " (2, 'do not want to'),\n",
       " (2, 'do not want'),\n",
       " (2, 'do not see'),\n",
       " (2, 'could use some work'),\n",
       " (2, 'could use some'),\n",
       " (2, 'cons as of'),\n",
       " (2, 'client is happy'),\n",
       " (2, 'at this point of'),\n",
       " (2, 'at this point'),\n",
       " (2, 'as such to'),\n",
       " (2, 'as some other'),\n",
       " (2, 'as it is in'),\n",
       " (2, 'are no cons'),\n",
       " (2, 'any till date'),\n",
       " (2, 'any cons yet'),\n",
       " (2, 'and then terminated us'),\n",
       " (2, 'and then terminated'),\n",
       " (2, 'and lots of'),\n",
       " (2, 'about the project'),\n",
       " (1, 'zero onsite no big'),\n",
       " (1, 'zero onsite no'),\n",
       " (1, 'yourself the required skills'),\n",
       " (1, 'yourself the required'),\n",
       " (1, 'your working hours'),\n",
       " (1, 'your work very few'),\n",
       " (1, 'your work very'),\n",
       " (1, 'your work to get'),\n",
       " (1, 'your work to'),\n",
       " (1, 'your work life balance'),\n",
       " (1, 'your work life'),\n",
       " (1, 'your tasks you have'),\n",
       " (1, 'your tasks you'),\n",
       " (1, 'your skills and hike'),\n",
       " (1, 'your skills and'),\n",
       " (1, 'your relationship with your'),\n",
       " (1, 'your relationship with'),\n",
       " (1, 'your project sucks well'),\n",
       " (1, 'your project sucks'),\n",
       " (1, 'your project changes or'),\n",
       " (1, 'your project changes'),\n",
       " (1, 'your own pay'),\n",
       " (1, 'your own but the'),\n",
       " (1, 'your own but'),\n",
       " (1, 'your needs they really'),\n",
       " (1, 'your needs they'),\n",
       " (1, 'your mistake management will'),\n",
       " (1, 'your mistake management'),\n",
       " (1, 'your manager and senior'),\n",
       " (1, 'your manager and'),\n",
       " (1, 'your leads who are'),\n",
       " (1, 'your leads who'),\n",
       " (1, 'your greater concern xpanxion'),\n",
       " (1, 'your greater concern'),\n",
       " (1, 'your financial growth will'),\n",
       " (1, 'your financial growth'),\n",
       " (1, 'your feedback are happy'),\n",
       " (1, 'your feedback are'),\n",
       " (1, 'your experience poor management'),\n",
       " (1, 'your experience poor'),\n",
       " (1, 'your evening hours you'),\n",
       " (1, 'your evening hours'),\n",
       " (1, 'your control during this'),\n",
       " (1, 'your control during'),\n",
       " (1, 'your computer usage application'),\n",
       " (1, 'your computer usage'),\n",
       " (1, 'your clients comes online'),\n",
       " (1, 'your clients comes'),\n",
       " (1, 'your career with but'),\n",
       " (1, 'your career with'),\n",
       " (1, 'your career here'),\n",
       " (1, 'you work with'),\n",
       " (1, 'you work very hard'),\n",
       " (1, 'you work very'),\n",
       " (1, 'you work hard on'),\n",
       " (1, 'you work hard'),\n",
       " (1, 'you won be promoted'),\n",
       " (1, 'you won be'),\n",
       " (1, 'you will probably end'),\n",
       " (1, 'you will probably'),\n",
       " (1, 'you will be tested'),\n",
       " (1, 'you will be'),\n",
       " (1, 'you want lighthearted office'),\n",
       " (1, 'you want lighthearted'),\n",
       " (1, 'you unless something went'),\n",
       " (1, 'you unless something'),\n",
       " (1, 'you understand what automation'),\n",
       " (1, 'you understand what'),\n",
       " (1, 'you toes at every'),\n",
       " (1, 'you toes at'),\n",
       " (1, 'you to go to'),\n",
       " (1, 'you to go'),\n",
       " (1, 'you to come to'),\n",
       " (1, 'you to come'),\n",
       " (1, 'you to client location'),\n",
       " (1, 'you to client'),\n",
       " (1, 'you start at the'),\n",
       " (1, 'you start at'),\n",
       " (1, 'you need to work'),\n",
       " (1, 'you need to log'),\n",
       " (1, 'you must be person'),\n",
       " (1, 'you must be'),\n",
       " (1, 'you miss on all'),\n",
       " (1, 'you miss on'),\n",
       " (1, 'you min by min'),\n",
       " (1, 'you min by'),\n",
       " (1, 'you might want to'),\n",
       " (1, 'you might want'),\n",
       " (1, 'you might get stuck'),\n",
       " (1, 'you might get'),\n",
       " (1, 'you micro management depending'),\n",
       " (1, 'you micro management'),\n",
       " (1, 'you may be asked'),\n",
       " (1, 'you may be'),\n",
       " (1, 'you ll probably have'),\n",
       " (1, 'you ll probably'),\n",
       " (1, 'you ll be placed'),\n",
       " (1, 'you ll be'),\n",
       " (1, 'you like if you'),\n",
       " (1, 'you like if'),\n",
       " (1, 'you hike of which'),\n",
       " (1, 'you hike of'),\n",
       " (1, 'you have to maintain'),\n",
       " (1, 'you have done with'),\n",
       " (1, 'you have done'),\n",
       " (1, 'you had to say'),\n",
       " (1, 'you had to'),\n",
       " (1, 'you get assigned to'),\n",
       " (1, 'you get assigned'),\n",
       " (1, 'you for sure now'),\n",
       " (1, 'you for sure'),\n",
       " (1, 'you for some reason'),\n",
       " (1, 'you for some'),\n",
       " (1, 'you for sake of'),\n",
       " (1, 'you for sake'),\n",
       " (1, 'you fit their mold'),\n",
       " (1, 'you fit their'),\n",
       " (1, 'you fail in project'),\n",
       " (1, 'you fail in'),\n",
       " (1, 'you don reach out'),\n",
       " (1, 'you don reach'),\n",
       " (1, 'you don keep up'),\n",
       " (1, 'you don keep'),\n",
       " (1, 'you don have any'),\n",
       " (1, 'you don have'),\n",
       " (1, 'you do not you'),\n",
       " (1, 'you do not'),\n",
       " (1, 'you do it if'),\n",
       " (1, 'you do it'),\n",
       " (1, 'you do and how'),\n",
       " (1, 'you do and'),\n",
       " (1, 'you demotivating management no'),\n",
       " (1, 'you demotivating management'),\n",
       " (1, 'you could be placed'),\n",
       " (1, 'you could be'),\n",
       " (1, 'you can walk up'),\n",
       " (1, 'you can walk'),\n",
       " (1, 'you can really trust'),\n",
       " (1, 'you can really'),\n",
       " (1, 'you can only take'),\n",
       " (1, 'you can only'),\n",
       " (1, 'you can do about'),\n",
       " (1, 'you can do'),\n",
       " (1, 'you can be lost'),\n",
       " (1, 'you can be'),\n",
       " (1, 'you by xpanxion it'),\n",
       " (1, 'you by xpanxion'),\n",
       " (1, 'you but if the'),\n",
       " (1, 'you but if'),\n",
       " (1, 'you ask for something'),\n",
       " (1, 'you ask for'),\n",
       " (1, 'you are slave to'),\n",
       " (1, 'you are slave'),\n",
       " (1, 'you are primarily developer'),\n",
       " (1, 'you are primarily'),\n",
       " (1, 'you are placed in'),\n",
       " (1, 'you are placed'),\n",
       " (1, 'you are on your'),\n",
       " (1, 'you are on'),\n",
       " (1, 'you are following their'),\n",
       " (1, 'you are following'),\n",
       " (1, 'you are done with'),\n",
       " (1, 'you are done'),\n",
       " (1, 'you are doing ans'),\n",
       " (1, 'you are doing'),\n",
       " (1, 'you are bench for'),\n",
       " (1, 'you are bench'),\n",
       " (1, 'you are asked to'),\n",
       " (1, 'you are asked'),\n",
       " (1, 'you are an ui'),\n",
       " (1, 'you are an'),\n",
       " (1, 'you and no chances'),\n",
       " (1, 'you and no'),\n",
       " (1, 'you always have lot'),\n",
       " (1, 'you always have'),\n",
       " (1, 'yet to explore just'),\n",
       " (1, 'yet to explore'),\n",
       " (1, 'yet to experience any'),\n",
       " (1, 'yet to experience'),\n",
       " (1, 'yes to what business'),\n",
       " (1, 'yes to what'),\n",
       " (1, 'years out of college'),\n",
       " (1, 'years out of'),\n",
       " (1, 'years old company because'),\n",
       " (1, 'years old company'),\n",
       " (1, 'years management started thinking'),\n",
       " (1, 'years management started'),\n",
       " (1, 'years and imbalance in'),\n",
       " (1, 'years and imbalance'),\n",
       " (1, 'yearly bonus of about'),\n",
       " (1, 'yearly bonus of'),\n",
       " (1, 'year they cancelled the'),\n",
       " (1, 'year they cancelled'),\n",
       " (1, 'year made us wait'),\n",
       " (1, 'year made us'),\n",
       " (1, 'year and some things'),\n",
       " (1, 'year and some'),\n",
       " (1, 'year and after year'),\n",
       " (1, 'year and after'),\n",
       " (1, 'xpanxion was subject to'),\n",
       " (1, 'xpanxion was subject'),\n",
       " (1, 'xpanxion might not meet'),\n",
       " (1, 'xpanxion might not'),\n",
       " (1, 'xpanxion it not uncommon'),\n",
       " (1, 'xpanxion it not'),\n",
       " (1, 'xpanxion is to think'),\n",
       " (1, 'xpanxion is to'),\n",
       " (1, 'xpanxion is pushing back'),\n",
       " (1, 'xpanxion is pushing'),\n",
       " (1, 'xpanxion is not that'),\n",
       " (1, 'xpanxion is not perfect'),\n",
       " (1, 'xpanxion however it seems'),\n",
       " (1, 'xpanxion however it'),\n",
       " (1, 'xpanxion has lot of'),\n",
       " (1, 'xpanxion has lot'),\n",
       " (1, 'xpanxion for more than'),\n",
       " (1, 'xpanxion for more'),\n",
       " (1, 'xpanxion employees not many'),\n",
       " (1, 'xpanxion employees not'),\n",
       " (1, 'xpanxion does not care'),\n",
       " (1, 'xpanxion does not'),\n",
       " (1, 'xpanxion culture could be'),\n",
       " (1, 'xpanxion culture could'),\n",
       " (1, 'xpanxion culture and standards'),\n",
       " (1, 'xpanxion culture and'),\n",
       " (1, 'xpanxion could be great'),\n",
       " (1, 'xpanxion could be'),\n",
       " (1, 'xpanxion corporate and sales'),\n",
       " (1, 'xpanxion corporate and'),\n",
       " (1, 'xpanxion compensation is not'),\n",
       " (1, 'xpanxion compensation is'),\n",
       " (1, 'xpanxion also becomes an'),\n",
       " (1, 'xpanxion also becomes'),\n",
       " (1, 'xp is the amount'),\n",
       " (1, 'xp is the'),\n",
       " (1, 'xp employees in terms'),\n",
       " (1, 'xp employees in'),\n",
       " (1, 'wrong way local management'),\n",
       " (1, 'wrong way local'),\n",
       " (1, 'wrong state guess stuff'),\n",
       " (1, 'wrong state guess'),\n",
       " (1, 'wrong and the organization'),\n",
       " (1, 'wrong and the'),\n",
       " (1, 'would urge caution regarding'),\n",
       " (1, 'would urge caution'),\n",
       " (1, 'would rather work in'),\n",
       " (1, 'would rather work'),\n",
       " (1, 'would lure employees away'),\n",
       " (1, 'would lure employees'),\n",
       " (1, 'would get yearly bonus'),\n",
       " (1, 'would get yearly'),\n",
       " (1, 'would get about 200'),\n",
       " (1, 'would get about'),\n",
       " (1, 'would be categorized as'),\n",
       " (1, 'would be categorized'),\n",
       " (1, 'worth smaller salary but'),\n",
       " (1, 'worth smaller salary'),\n",
       " (1, 'worst work environment ceo'),\n",
       " (1, 'worst work environment'),\n",
       " (1, 'worst they should actually'),\n",
       " (1, 'worst they should'),\n",
       " (1, 'worst places you can'),\n",
       " (1, 'worst places you'),\n",
       " (1, 'worst leaders who don'),\n",
       " (1, 'worst leaders who'),\n",
       " (1, 'worst company they postponed'),\n",
       " (1, 'worst company they'),\n",
       " (1, 'works just fine those'),\n",
       " (1, 'works just fine'),\n",
       " (1, 'workplace sexual harassment for'),\n",
       " (1, 'workplace sexual harassment'),\n",
       " (1, 'workplace environment that was'),\n",
       " (1, 'workplace environment that'),\n",
       " (1, 'workplace but really just'),\n",
       " (1, 'workplace but really'),\n",
       " (1, 'working with xpanxion also'),\n",
       " (1, 'working with xpanxion'),\n",
       " (1, 'working staff satisfaction'),\n",
       " (1, 'working in xpanxion for'),\n",
       " (1, 'working in xpanxion'),\n",
       " (1, 'working in this company'),\n",
       " (1, 'working in this'),\n",
       " (1, 'working in small town'),\n",
       " (1, 'working in small'),\n",
       " (1, 'working here have worked'),\n",
       " (1, 'working here have'),\n",
       " (1, 'working for xpanxion was'),\n",
       " (1, 'working for xpanxion'),\n",
       " (1, 'working environment full of'),\n",
       " (1, 'working environment full'),\n",
       " (1, 'workforce is offshore in'),\n",
       " (1, 'workforce is offshore'),\n",
       " (1, 'worked with till now'),\n",
       " (1, 'worked with till'),\n",
       " (1, 'worked with few companies'),\n",
       " (1, 'worked with few'),\n",
       " (1, 'work very hard all'),\n",
       " (1, 'work very hard'),\n",
       " (1, 'work very few projects'),\n",
       " (1, 'work very few'),\n",
       " (1, 'work to get appraised'),\n",
       " (1, 'work to get'),\n",
       " (1, 'work startup like culture'),\n",
       " (1, 'work startup like'),\n",
       " (1, 'work on professional certifications'),\n",
       " (1, 'work on professional'),\n",
       " (1, 'work on old technology'),\n",
       " (1, 'work on old'),\n",
       " (1, 'work micromanagement is growing'),\n",
       " (1, 'work micromanagement is'),\n",
       " (1, 'work many if leadership'),\n",
       " (1, 'work many if'),\n",
       " (1, 'work managers bad work'),\n",
       " (1, 'work managers bad'),\n",
       " (1, 'work life balance sucks'),\n",
       " (1, 'work life balance poor'),\n",
       " (1, 'work life balance no'),\n",
       " (1, 'work life balance at'),\n",
       " (1, 'work less managers will'),\n",
       " (1, 'work less managers'),\n",
       " (1, 'work is performed for'),\n",
       " (1, 'work is performed'),\n",
       " (1, 'work in peaceful environment'),\n",
       " (1, 'work in peaceful'),\n",
       " (1, 'work in favor of'),\n",
       " (1, 'work in favor'),\n",
       " (1, 'work if you fit'),\n",
       " (1, 'work if you'),\n",
       " (1, 'work however this is'),\n",
       " (1, 'work however this'),\n",
       " (1, 'work hours and infrastructure'),\n",
       " (1, 'work hours and'),\n",
       " (1, 'work hard on project'),\n",
       " (1, 'work hard on'),\n",
       " (1, 'work from home long'),\n",
       " (1, 'work for them and'),\n",
       " (1, 'work for them'),\n",
       " (1, 'work for some people'),\n",
       " (1, 'work for some'),\n",
       " (1, 'work for hrs'),\n",
       " (1, 'work environment you like'),\n",
       " (1, 'work environment you'),\n",
       " (1, 'work environment xpanxion has'),\n",
       " (1, 'work environment xpanxion'),\n",
       " (1, 'work environment was good'),\n",
       " (1, 'work environment was'),\n",
       " (1, 'work environment pay is'),\n",
       " (1, 'work environment pay'),\n",
       " (1, 'work environment no place'),\n",
       " (1, 'work environment no'),\n",
       " (1, 'work environment ceo ramprasad'),\n",
       " (1, 'work environment ceo'),\n",
       " (1, 'work culture at client'),\n",
       " (1, 'work culture at'),\n",
       " (1, 'work atmosphere at xpanxion'),\n",
       " (1, 'work atmosphere at'),\n",
       " (1, 'work at some project'),\n",
       " (1, 'work at some'),\n",
       " (1, 'work at client location'),\n",
       " (1, 'work at client'),\n",
       " (1, 'work and work culture'),\n",
       " (1, 'work and work'),\n",
       " (1, 'work and the skill'),\n",
       " (1, 'work and the'),\n",
       " (1, 'work and harassing people'),\n",
       " (1, 'work and harassing'),\n",
       " (1, 'work also growth in'),\n",
       " (1, 'work also growth'),\n",
       " (1, 'work 11 ruthless client'),\n",
       " (1, 'work 11 ruthless'),\n",
       " (1, 'won be promoted to'),\n",
       " (1, 'won be promoted'),\n",
       " (1, 'without your mistake management'),\n",
       " (1, 'without your mistake'),\n",
       " (1, 'without closed contract'),\n",
       " (1, 'without any notice they'),\n",
       " (1, 'without any notice'),\n",
       " (1, 'withheld for the wrong'),\n",
       " (1, 'withheld for the'),\n",
       " (1, 'with your work very'),\n",
       " (1, 'with your work'),\n",
       " (1, 'with your leads who'),\n",
       " (1, 'with your leads'),\n",
       " (1, 'with xpanxion also becomes'),\n",
       " (1, 'with xpanxion also'),\n",
       " (1, 'with what they claim'),\n",
       " (1, 'with what they'),\n",
       " (1, 'with till now'),\n",
       " (1, 'with those things has'),\n",
       " (1, 'with those things'),\n",
       " (1, 'with their employees know'),\n",
       " (1, 'with their employees'),\n",
       " (1, 'with the employees no'),\n",
       " (1, 'with the employees'),\n",
       " (1, 'with the employee don'),\n",
       " (1, 'with the employee'),\n",
       " (1, 'with someone who comes'),\n",
       " (1, 'with someone who'),\n",
       " (1, 'with small workspaces'),\n",
       " (1, 'with nerf dart while'),\n",
       " (1, 'with nerf dart'),\n",
       " (1, 'with mncs work and'),\n",
       " (1, 'with mncs work'),\n",
       " (1, 'with me most of'),\n",
       " (1, 'with me most'),\n",
       " (1, 'with many newer or'),\n",
       " (1, 'with many newer'),\n",
       " (1, 'with location change some'),\n",
       " (1, 'with location change'),\n",
       " (1, 'with hr additionally feel'),\n",
       " (1, 'with hr additionally'),\n",
       " (1, 'with harassment and the'),\n",
       " (1, 'with harassment and'),\n",
       " (1, 'with few companies out'),\n",
       " (1, 'with few companies'),\n",
       " (1, 'with excellent tech stack'),\n",
       " (1, 'with excellent tech'),\n",
       " (1, 'with equifax communication was'),\n",
       " (1, 'with equifax communication'),\n",
       " (1, 'with employees no job'),\n",
       " (1, 'with employees no'),\n",
       " (1, 'with employee condition sickness'),\n",
       " (1, 'with employee condition'),\n",
       " (1, 'with but not good'),\n",
       " (1, 'with but not'),\n",
       " (1, 'with and was placed'),\n",
       " (1, 'with and was'),\n",
       " (1, 'with all your tasks'),\n",
       " (1, 'with all your'),\n",
       " (1, 'with all companies xpanxion'),\n",
       " (1, 'with all companies'),\n",
       " (1, 'wish they had single'),\n",
       " (1, 'wish they had'),\n",
       " (1, 'wish could have given'),\n",
       " (1, 'wish could have'),\n",
       " (1, 'willing to help the'),\n",
       " (1, 'willing to help'),\n",
       " (1, 'willing to admit when'),\n",
       " (1, 'willing to admit'),\n",
       " (1, 'will watching you min'),\n",
       " (1, 'will watching you'),\n",
       " (1, 'will throw you outside'),\n",
       " (1, 'will throw you'),\n",
       " (1, 'will straight away give'),\n",
       " (1, 'will straight away'),\n",
       " (1, 'will probably end up'),\n",
       " (1, 'will probably end'),\n",
       " (1, 'will post if found'),\n",
       " (1, 'will post if'),\n",
       " (1, 'will not support you'),\n",
       " (1, 'will not support'),\n",
       " (1, 'will make you to'),\n",
       " (1, 'will make you'),\n",
       " (1, 'will escalate you for'),\n",
       " (1, 'will escalate you'),\n",
       " (1, 'will completely change when'),\n",
       " (1, 'will completely change'),\n",
       " (1, 'will be watching your'),\n",
       " (1, 'will be watching'),\n",
       " (1, 'will be totally depends'),\n",
       " (1, 'will be totally'),\n",
       " (1, 'will be tested based'),\n",
       " (1, 'will be tested'),\n",
       " (1, 'will be great the'),\n",
       " (1, 'will be great'),\n",
       " (1, 'will be delay in'),\n",
       " (1, 'will be delay'),\n",
       " (1, 'will be deducted as'),\n",
       " (1, 'will be deducted'),\n",
       " (1, 'will be assigned to'),\n",
       " (1, 'will be assigned'),\n",
       " (1, 'will ask you to'),\n",
       " (1, 'will ask you'),\n",
       " (1, 'why don they understand'),\n",
       " (1, 'why don they'),\n",
       " (1, 'whole was terrible feel'),\n",
       " (1, 'whole was terrible'),\n",
       " (1, 'whole one year made'),\n",
       " (1, 'whole one year'),\n",
       " (1, 'whole 2017 and then'),\n",
       " (1, 'whole 2017 and'),\n",
       " (1, 'who would rather work'),\n",
       " (1, 'who would rather'),\n",
       " (1, 'who only say yes'),\n",
       " (1, 'who only say'),\n",
       " (1, 'who is good at'),\n",
       " (1, 'who is good'),\n",
       " (1, 'who have spent more'),\n",
       " (1, 'who have spent'),\n",
       " (1, 'who don support you'),\n",
       " (1, 'who don support'),\n",
       " (1, 'who don even deserve'),\n",
       " (1, 'who don even'),\n",
       " (1, 'who comes in to'),\n",
       " (1, 'who comes in'),\n",
       " (1, 'who can work for'),\n",
       " (1, 'who can work'),\n",
       " (1, 'who can do anything'),\n",
       " (1, 'who can do'),\n",
       " (1, 'who brags about what'),\n",
       " (1, 'who brags about'),\n",
       " (1, 'who are working in'),\n",
       " (1, 'who are working'),\n",
       " (1, 'while working for xpanxion'),\n",
       " (1, 'while working for'),\n",
       " (1, 'while was working in'),\n",
       " (1, 'while was working'),\n",
       " (1, 'while was there and'),\n",
       " (1, 'while was there'),\n",
       " (1, 'while trying to solve'),\n",
       " (1, 'while trying to'),\n",
       " (1, 'while some set of'),\n",
       " (1, 'while some set'),\n",
       " (1, 'while giving appraisals for'),\n",
       " (1, 'while giving appraisals'),\n",
       " (1, 'while but do not'),\n",
       " (1, 'while but do'),\n",
       " (1, 'while and never actually'),\n",
       " (1, 'while and never'),\n",
       " (1, 'which was given for'),\n",
       " (1, 'which was given'),\n",
       " (1, 'which they say is'),\n",
       " (1, 'which they say'),\n",
       " (1, 'which of course is'),\n",
       " (1, 'which of course'),\n",
       " (1, 'which leads irregular and'),\n",
       " (1, 'which leads irregular'),\n",
       " (1, 'which is negligible everybody'),\n",
       " (1, 'which is negligible'),\n",
       " (1, 'which are worst places'),\n",
       " (1, 'which are worst'),\n",
       " (1, 'which apparently wasn the'),\n",
       " (1, 'which apparently wasn'),\n",
       " (1, 'where your clients comes'),\n",
       " (1, 'where your clients'),\n",
       " (1, 'where you ll be'),\n",
       " (1, 'where you ll'),\n",
       " (1, 'where they are treated'),\n",
       " (1, 'where they are'),\n",
       " (1, 'where the company is'),\n",
       " (1, 'where the company'),\n",
       " (1, 'where reach out to'),\n",
       " (1, 'where reach out'),\n",
       " (1, 'where it is now'),\n",
       " (1, 'where it is'),\n",
       " (1, 'when working in small'),\n",
       " (1, 'when working in'),\n",
       " (1, 'when they made mistakes'),\n",
       " (1, 'when they made'),\n",
       " (1, 'when reported this to'),\n",
       " (1, 'when reported this'),\n",
       " (1, 'when initially got hired'),\n",
       " (1, 'when initially got'),\n",
       " (1, 'when compared with mncs'),\n",
       " (1, 'when compared with'),\n",
       " (1, 'when client will escalate'),\n",
       " (1, 'when client will'),\n",
       " (1, 'what you do and'),\n",
       " (1, 'what you do'),\n",
       " (1, 'what you are doing'),\n",
       " (1, 'what you are'),\n",
       " (1, 'what they claim sadly'),\n",
       " (1, 'what they claim'),\n",
       " (1, 'what their engineers actually'),\n",
       " (1, 'what their engineers'),\n",
       " (1, 'what the manager thinks'),\n",
       " (1, 'what the manager'),\n",
       " (1, 'what business says top'),\n",
       " (1, 'what business says'),\n",
       " (1, 'what automation is before'),\n",
       " (1, 'what automation is'),\n",
       " (1, 'wfh is very difficult'),\n",
       " (1, 'wfh is very'),\n",
       " (1, 'wfh for everyone'),\n",
       " (1, 'were really good good'),\n",
       " (1, 'were really good'),\n",
       " (1, 'were given lip service'),\n",
       " (1, 'were given lip'),\n",
       " (1, 'were changed on me'),\n",
       " (1, 'were changed on'),\n",
       " (1, 'went wrong and the'),\n",
       " (1, 'went wrong and'),\n",
       " (1, 'well you do it'),\n",
       " (1, 'well you do'),\n",
       " (1, 'well that too bad'),\n",
       " (1, 'well that too'),\n",
       " (1, 'well as some other'),\n",
       " (1, 'well as some'),\n",
       " (1, 'weekly no cab facility'),\n",
       " (1, 'weekly no cab'),\n",
       " (1, 'weekend they will ask'),\n",
       " (1, 'weekend they will'),\n",
       " (1, 'week or salary will'),\n",
       " (1, 'week or salary'),\n",
       " (1, 'week compulsory even if'),\n",
       " (1, 'week compulsory even'),\n",
       " (1, 'weak project you might'),\n",
       " (1, 'weak project you'),\n",
       " (1, 'weak leadership very high'),\n",
       " (1, 'weak leadership very'),\n",
       " (1, 'we can work on'),\n",
       " (1, 'we can work'),\n",
       " (1, 'ways would urge caution'),\n",
       " (1, 'ways would urge'),\n",
       " (1, 'way to move to'),\n",
       " (1, 'way to move'),\n",
       " (1, 'way to ever get'),\n",
       " (1, 'way to ever'),\n",
       " (1, 'way no structure in'),\n",
       " (1, 'way no structure'),\n",
       " (1, 'way local management has'),\n",
       " (1, 'way local management'),\n",
       " (1, 'watching your computer usage'),\n",
       " (1, 'watching your computer'),\n",
       " (1, 'watching you min by'),\n",
       " (1, 'watching you min'),\n",
       " (1, 'watch on you micro'),\n",
       " (1, 'watch on you'),\n",
       " (1, 'wasn the case since'),\n",
       " (1, 'wasn the case'),\n",
       " (1, 'was working in this'),\n",
       " (1, 'was working in'),\n",
       " (1, 'was was fine which'),\n",
       " (1, 'was was fine'),\n",
       " (1, 'was very rude and'),\n",
       " (1, 'was very rude'),\n",
       " (1, 'was told would get'),\n",
       " (1, 'was told would'),\n",
       " (1, 'was there for while'),\n",
       " (1, 'was there for'),\n",
       " (1, 'was there and they'),\n",
       " (1, 'was there and'),\n",
       " (1, 'was terrible feel like'),\n",
       " (1, 'was terrible feel'),\n",
       " (1, 'was subject to ongoing'),\n",
       " (1, 'was subject to'),\n",
       " (1, 'was selling products from'),\n",
       " (1, 'was selling products'),\n",
       " (1, 'was placed with equifax'),\n",
       " (1, 'was placed with'),\n",
       " (1, 'was my experience that'),\n",
       " (1, 'was my experience'),\n",
       " (1, 'was lack of communication'),\n",
       " (1, 'was lack of'),\n",
       " (1, 'was horrible you had'),\n",
       " (1, 'was horrible you'),\n",
       " (1, 'was heard they have'),\n",
       " (1, 'was heard they'),\n",
       " (1, 'was good managers hr'),\n",
       " (1, 'was good managers'),\n",
       " (1, 'was good but now'),\n",
       " (1, 'was good but'),\n",
       " (1, 'was given for the'),\n",
       " (1, 'was given for'),\n",
       " (1, 'was full of all'),\n",
       " (1, 'was full of'),\n",
       " (1, 'was fine which apparently'),\n",
       " (1, 'was fine which'),\n",
       " (1, 'was completely honest with'),\n",
       " (1, 'was completely honest'),\n",
       " (1, 'was barely years out'),\n",
       " (1, 'was barely years'),\n",
       " (1, 'was an on campus'),\n",
       " (1, 'was an on'),\n",
       " (1, 'want to look elsewhere'),\n",
       " (1, 'want to look'),\n",
       " (1, 'want to leave their'),\n",
       " (1, 'want to leave'),\n",
       " (1, 'want to expand business'),\n",
       " (1, 'want to expand'),\n",
       " (1, 'want lighthearted office culture'),\n",
       " (1, 'want lighthearted office'),\n",
       " (1, 'want him to do'),\n",
       " (1, 'want him to'),\n",
       " (1, 'walk up to anyone'),\n",
       " (1, 'walk up to'),\n",
       " (1, 'wait for year and'),\n",
       " (1, 'wait for the whole'),\n",
       " (1, 'wait for the'),\n",
       " (1, 'waisted our whole one'),\n",
       " (1, 'waisted our whole'),\n",
       " (1, 'vs others in industry'),\n",
       " (1, 'vs others in'),\n",
       " (1, 'video games as long'),\n",
       " (1, 'video games as'),\n",
       " (1, 'via campus interviews even'),\n",
       " (1, 'via campus interviews'),\n",
       " (1, 'very weak leadership very'),\n",
       " (1, 'very weak leadership'),\n",
       " (1, 'very unhappy my advice'),\n",
       " (1, 'very unhappy my'),\n",
       " (1, 'very rude and unprofessional'),\n",
       " (1, 'very rude and'),\n",
       " (1, 'very poor in xpanxion'),\n",
       " (1, 'very poor in'),\n",
       " (1, 'very little of what'),\n",
       " (1, 'very little of'),\n",
       " (1, 'very little hr has'),\n",
       " (1, 'very little hr'),\n",
       " (1, 'very less even if'),\n",
       " (1, 'very less even'),\n",
       " (1, 'very high attrition spineless'),\n",
       " (1, 'very high attrition'),\n",
       " (1, 'very hard all the'),\n",
       " (1, 'very hard all'),\n",
       " (1, 'very few projects with'),\n",
       " (1, 'very few projects'),\n",
       " (1, 'very few onsite positions'),\n",
       " (1, 'very few onsite'),\n",
       " (1, 'very convenient location for'),\n",
       " (1, 'very convenient location'),\n",
       " (1, 'very common and cause'),\n",
       " (1, 'very common and'),\n",
       " (1, 'very bad management they'),\n",
       " (1, 'very bad management'),\n",
       " (1, 've had great experience'),\n",
       " (1, 've had great'),\n",
       " (1, 'various locations especially for'),\n",
       " (1, 'various locations especially'),\n",
       " (1, 'various clients you could'),\n",
       " (1, 'various clients you'),\n",
       " (1, 'values fun over productivity'),\n",
       " (1, 'values fun over'),\n",
       " (1, 'value of employees worst'),\n",
       " (1, 'value of employees'),\n",
       " (1, 'value no hike no'),\n",
       " (1, 'value no hike'),\n",
       " (1, 'valuable and more intelligent'),\n",
       " (1, 'valuable and more'),\n",
       " (1, 'vacations most of the'),\n",
       " (1, 'vacations most of'),\n",
       " (1, 'utilized if the client'),\n",
       " (1, 'utilized if the'),\n",
       " (1, 'usually gets figured out'),\n",
       " (1, 'usually gets figured'),\n",
       " (1, 'usually fried snacks infrastructure'),\n",
       " (1, 'usually fried snacks'),\n",
       " (1, 'ust they are involving'),\n",
       " (1, 'ust they are'),\n",
       " (1, 'ust however there is'),\n",
       " (1, 'ust however there'),\n",
       " (1, 'ust global management it'),\n",
       " (1, 'ust global management'),\n",
       " (1, 'uses outdated technology not'),\n",
       " (1, 'uses outdated technology'),\n",
       " (1, 'use some work however'),\n",
       " (1, 'use some improvement'),\n",
       " (1, 'usage application usage and'),\n",
       " (1, 'usage application usage'),\n",
       " (1, 'usage and activity level'),\n",
       " (1, 'usage and activity'),\n",
       " (1, 'us wait for the'),\n",
       " (1, 'us via campus interviews'),\n",
       " (1, 'us via campus'),\n",
       " (1, 'us such fraud'),\n",
       " (1, 'us sign that and'),\n",
       " (1, 'us sign that'),\n",
       " (1, 'us offer postponed it'),\n",
       " (1, 'us offer postponed'),\n",
       " (1, 'us offer letter twice'),\n",
       " (1, 'us offer letter'),\n",
       " (1, 'us joining but cancelled'),\n",
       " (1, 'us joining but'),\n",
       " (1, 'us hopefully it should'),\n",
       " (1, 'us hopefully it'),\n",
       " (1, 'us do assignments and'),\n",
       " (1, 'us do assignments'),\n",
       " (1, 'us counterpart treat employees'),\n",
       " (1, 'us counterpart treat'),\n",
       " (1, 'us before the joining'),\n",
       " (1, 'us before the'),\n",
       " (1, 'urge caution regarding anything'),\n",
       " (1, 'urge caution regarding'),\n",
       " (1, 'upper management really did'),\n",
       " (1, 'upper management really'),\n",
       " (1, 'upper management has admitted'),\n",
       " (1, 'upper management has'),\n",
       " (1, 'upcoming managers who can'),\n",
       " (1, 'upcoming managers who'),\n",
       " (1, 'upcoming java technology basically'),\n",
       " (1, 'upcoming java technology'),\n",
       " (1, 'up very unhappy my'),\n",
       " (1, 'up very unhappy'),\n",
       " (1, 'up to that got'),\n",
       " (1, 'up to that'),\n",
       " (1, 'up to date yourdself'),\n",
       " (1, 'up to date'),\n",
       " (1, 'up to anyone for'),\n",
       " (1, 'up to anyone'),\n",
       " (1, 'up their tag line'),\n",
       " (1, 'up their tag'),\n",
       " (1, 'up the ladder you'),\n",
       " (1, 'up the ladder'),\n",
       " (1, 'up in meetings with'),\n",
       " (1, 'up in meetings'),\n",
       " (1, 'until you are following'),\n",
       " (1, 'until you are'),\n",
       " (1, 'unsure of direction of'),\n",
       " (1, 'unsure of direction'),\n",
       " (1, 'unprofessional work environment xpanxion'),\n",
       " (1, 'unprofessional work environment'),\n",
       " (1, 'unprofessional was selling products'),\n",
       " (1, 'unprofessional was selling'),\n",
       " (1, 'unprofessional conversations about things'),\n",
       " (1, 'unprofessional conversations about'),\n",
       " (1, 'unnecessary or irrelevant certifications'),\n",
       " (1, 'unnecessary or irrelevant'),\n",
       " (1, 'unless something went wrong'),\n",
       " (1, 'unless something went'),\n",
       " (1, 'unhappy my advice to'),\n",
       " (1, 'unhappy my advice'),\n",
       " (1, 'understand where the company'),\n",
       " (1, 'understand where the'),\n",
       " (1, 'understand what automation is'),\n",
       " (1, 'understand what automation'),\n",
       " (1, 'understand very little of'),\n",
       " (1, 'understand very little'),\n",
       " (1, 'understand that new joiners'),\n",
       " (1, 'understand that new'),\n",
       " (1, 'under utilized if the'),\n",
       " (1, 'under utilized if'),\n",
       " (1, 'under influence from the'),\n",
       " (1, 'under influence from'),\n",
       " (1, 'uncommon to be told'),\n",
       " (1, 'uncommon to be'),\n",
       " (1, 'uncertainty surrounding the start'),\n",
       " (1, 'uncertainty surrounding the'),\n",
       " (1, 'ui developer as there'),\n",
       " (1, 'ui developer as'),\n",
       " (1, 'ugh nobody cares bait'),\n",
       " (1, 'ugh nobody cares'),\n",
       " (1, 'typical service based culture'),\n",
       " (1, 'typical service based'),\n",
       " (1, 'two times making us'),\n",
       " (1, 'two times making'),\n",
       " (1, 'two sides this one'),\n",
       " (1, 'two sides this'),\n",
       " (1, 'twice they gave us'),\n",
       " (1, 'twice they gave'),\n",
       " ...]"
      ]
     },
     "execution_count": 162,
     "metadata": {},
     "output_type": "execute_result"
    }
   ],
   "source": [
    "# Cons List\n",
    "transform_vector = ngram_vec.fit_transform(cons_list)\n",
    "word_count = transform_vector.toarray().sum(axis=0)\n",
    "vocab = ngram_vec.vocabulary_\n",
    "sorted_word_list = sorted([(word_count[i],ngram) for ngram,i in vocab.items()], reverse = True)\n",
    "sorted_word_list"
   ]
  },
  {
   "cell_type": "code",
   "execution_count": 163,
   "metadata": {},
   "outputs": [],
   "source": [
    "df5.to_csv('processed.csv')"
   ]
  },
  {
   "cell_type": "code",
   "execution_count": null,
   "metadata": {},
   "outputs": [],
   "source": []
  }
 ],
 "metadata": {
  "kernelspec": {
   "display_name": "Python 3",
   "language": "python",
   "name": "python3"
  },
  "language_info": {
   "codemirror_mode": {
    "name": "ipython",
    "version": 3
   },
   "file_extension": ".py",
   "mimetype": "text/x-python",
   "name": "python",
   "nbconvert_exporter": "python",
   "pygments_lexer": "ipython3",
   "version": "3.8.5"
  }
 },
 "nbformat": 4,
 "nbformat_minor": 4
}
